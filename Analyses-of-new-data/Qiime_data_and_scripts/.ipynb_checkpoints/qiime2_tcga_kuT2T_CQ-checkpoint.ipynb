{
 "cells": [
  {
   "cell_type": "markdown",
   "metadata": {},
   "source": [
    "The following conda environment for Qiime 2 was used for these analyses:\n",
    "\n",
    ">qiime2-2022.2\n",
    "\n",
    "The following commands were run using the command line interface (CLI) of Qiime 2."
   ]
  },
  {
   "cell_type": "markdown",
   "metadata": {},
   "source": [
    "# Import Taxa table"
   ]
  },
  {
   "cell_type": "code",
   "execution_count": 1,
   "metadata": {},
   "outputs": [
    {
     "name": "stdout",
     "output_type": "stream",
     "text": [
      "\u001b[32mImported ./Qiime_input_data/ku-taxa.txt as TSVTaxonomyDirectoryFormat to kuTaxonomy.qza\u001b[0m\r\n",
      "\u001b[0m"
     ]
    }
   ],
   "source": [
    "!qiime tools import \\\n",
    " --type 'FeatureData[Taxonomy]' \\\n",
    " --input-path ./Qiime_input_data/ku-taxa.txt \\\n",
    " --output-path kuTaxonomy.qza"
   ]
  },
  {
   "cell_type": "markdown",
   "metadata": {},
   "source": [
    "# Import PT data"
   ]
  },
  {
   "cell_type": "markdown",
   "metadata": {},
   "source": [
    "### WIS"
   ]
  },
  {
   "cell_type": "code",
   "execution_count": 2,
   "metadata": {},
   "outputs": [
    {
     "name": "stdout",
     "output_type": "stream",
     "text": [
      "\u001b[32mImported ./Qiime_input_data/kuT2T_WIS/countData_WGS_PT.biom as BIOMV100Format to ./Qiime_input_data/kuT2T_WIS/countData_WGS_PT.qza\u001b[0m\r\n",
      "\u001b[0m"
     ]
    }
   ],
   "source": [
    "!qiime tools import \\\n",
    "--type 'FeatureTable[Frequency]' \\\n",
    "--input-path ./Qiime_input_data/kuT2T_WIS/countData_WGS_PT.biom \\\n",
    "--input-format BIOMV100Format \\\n",
    "--output-path ./Qiime_input_data/kuT2T_WIS/countData_WGS_PT.qza"
   ]
  },
  {
   "cell_type": "code",
   "execution_count": 3,
   "metadata": {},
   "outputs": [
    {
     "name": "stdout",
     "output_type": "stream",
     "text": [
      "\u001b[32mImported ./Qiime_input_data/kuT2T_WIS/countData_RNA_PT.biom as BIOMV100Format to ./Qiime_input_data/kuT2T_WIS/countData_RNA_PT.qza\u001b[0m\r\n",
      "\u001b[0m"
     ]
    }
   ],
   "source": [
    "!qiime tools import \\\n",
    "--type 'FeatureTable[Frequency]' \\\n",
    "--input-path ./Qiime_input_data/kuT2T_WIS/countData_RNA_PT.biom \\\n",
    "--input-format BIOMV100Format \\\n",
    "--output-path ./Qiime_input_data/kuT2T_WIS/countData_RNA_PT.qza"
   ]
  },
  {
   "cell_type": "code",
   "execution_count": 4,
   "metadata": {},
   "outputs": [
    {
     "name": "stdout",
     "output_type": "stream",
     "text": [
      "\u001b[32mImported ./Qiime_input_data/kuT2T_WIS/countData_WGS_BDN.biom as BIOMV100Format to ./Qiime_input_data/kuT2T_WIS/countData_WGS_BDN.qza\u001b[0m\r\n",
      "\u001b[0m"
     ]
    }
   ],
   "source": [
    "!qiime tools import \\\n",
    "--type 'FeatureTable[Frequency]' \\\n",
    "--input-path ./Qiime_input_data/kuT2T_WIS/countData_WGS_BDN.biom \\\n",
    "--input-format BIOMV100Format \\\n",
    "--output-path ./Qiime_input_data/kuT2T_WIS/countData_WGS_BDN.qza"
   ]
  },
  {
   "cell_type": "markdown",
   "metadata": {},
   "source": [
    "### BIO"
   ]
  },
  {
   "cell_type": "code",
   "execution_count": 5,
   "metadata": {},
   "outputs": [
    {
     "name": "stdout",
     "output_type": "stream",
     "text": [
      "\u001b[32mImported ./Qiime_input_data/kuT2T_BIO/countData_WGS_PT.biom as BIOMV100Format to ./Qiime_input_data/kuT2T_BIO/countData_WGS_PT.qza\u001b[0m\r\n",
      "\u001b[0m"
     ]
    }
   ],
   "source": [
    "!qiime tools import \\\n",
    "--type 'FeatureTable[Frequency]' \\\n",
    "--input-path ./Qiime_input_data/kuT2T_BIO/countData_WGS_PT.biom \\\n",
    "--input-format BIOMV100Format \\\n",
    "--output-path ./Qiime_input_data/kuT2T_BIO/countData_WGS_PT.qza"
   ]
  },
  {
   "cell_type": "code",
   "execution_count": 6,
   "metadata": {},
   "outputs": [
    {
     "name": "stdout",
     "output_type": "stream",
     "text": [
      "\u001b[32mImported ./Qiime_input_data/kuT2T_BIO/countData_RNA_PT.biom as BIOMV100Format to ./Qiime_input_data/kuT2T_BIO/countData_RNA_PT.qza\u001b[0m\r\n",
      "\u001b[0m"
     ]
    }
   ],
   "source": [
    "!qiime tools import \\\n",
    "--type 'FeatureTable[Frequency]' \\\n",
    "--input-path ./Qiime_input_data/kuT2T_BIO/countData_RNA_PT.biom \\\n",
    "--input-format BIOMV100Format \\\n",
    "--output-path ./Qiime_input_data/kuT2T_BIO/countData_RNA_PT.qza"
   ]
  },
  {
   "cell_type": "code",
   "execution_count": 7,
   "metadata": {
    "scrolled": true
   },
   "outputs": [
    {
     "name": "stdout",
     "output_type": "stream",
     "text": [
      "\u001b[32mImported ./Qiime_input_data/kuT2T_BIO/countData_WGS_BDN.biom as BIOMV100Format to ./Qiime_input_data/kuT2T_BIO/countData_WGS_BDN.qza\u001b[0m\r\n",
      "\u001b[0m"
     ]
    }
   ],
   "source": [
    "!qiime tools import \\\n",
    "--type 'FeatureTable[Frequency]' \\\n",
    "--input-path ./Qiime_input_data/kuT2T_BIO/countData_WGS_BDN.biom \\\n",
    "--input-format BIOMV100Format \\\n",
    "--output-path ./Qiime_input_data/kuT2T_BIO/countData_WGS_BDN.qza"
   ]
  },
  {
   "cell_type": "markdown",
   "metadata": {},
   "source": [
    "### Filt"
   ]
  },
  {
   "cell_type": "code",
   "execution_count": 8,
   "metadata": {},
   "outputs": [
    {
     "name": "stdout",
     "output_type": "stream",
     "text": [
      "\u001b[32mImported ./Qiime_input_data/kuT2T_Filt/countData_WGS_PT.biom as BIOMV100Format to ./Qiime_input_data/kuT2T_Filt/countData_WGS_PT.qza\u001b[0m\r\n",
      "\u001b[0m"
     ]
    }
   ],
   "source": [
    "!qiime tools import \\\n",
    "--type 'FeatureTable[Frequency]' \\\n",
    "--input-path ./Qiime_input_data/kuT2T_Filt/countData_WGS_PT.biom \\\n",
    "--input-format BIOMV100Format \\\n",
    "--output-path ./Qiime_input_data/kuT2T_Filt/countData_WGS_PT.qza"
   ]
  },
  {
   "cell_type": "code",
   "execution_count": 9,
   "metadata": {},
   "outputs": [
    {
     "name": "stdout",
     "output_type": "stream",
     "text": [
      "\u001b[32mImported ./Qiime_input_data/kuT2T_Filt/countData_RNA_PT.biom as BIOMV100Format to ./Qiime_input_data/kuT2T_Filt/countData_RNA_PT.qza\u001b[0m\r\n",
      "\u001b[0m"
     ]
    }
   ],
   "source": [
    "!qiime tools import \\\n",
    "--type 'FeatureTable[Frequency]' \\\n",
    "--input-path ./Qiime_input_data/kuT2T_Filt/countData_RNA_PT.biom \\\n",
    "--input-format BIOMV100Format \\\n",
    "--output-path ./Qiime_input_data/kuT2T_Filt/countData_RNA_PT.qza"
   ]
  },
  {
   "cell_type": "code",
   "execution_count": 10,
   "metadata": {},
   "outputs": [
    {
     "name": "stdout",
     "output_type": "stream",
     "text": [
      "\u001b[32mImported ./Qiime_input_data/kuT2T_Filt/countData_WGS_BDN.biom as BIOMV100Format to ./Qiime_input_data/kuT2T_Filt/countData_WGS_BDN.qza\u001b[0m\r\n",
      "\u001b[0m"
     ]
    }
   ],
   "source": [
    "!qiime tools import \\\n",
    "--type 'FeatureTable[Frequency]' \\\n",
    "--input-path ./Qiime_input_data/kuT2T_Filt/countData_WGS_BDN.biom \\\n",
    "--input-format BIOMV100Format \\\n",
    "--output-path ./Qiime_input_data/kuT2T_Filt/countData_WGS_BDN.qza"
   ]
  },
  {
   "cell_type": "markdown",
   "metadata": {},
   "source": [
    "### BIOFilt"
   ]
  },
  {
   "cell_type": "code",
   "execution_count": 11,
   "metadata": {},
   "outputs": [
    {
     "name": "stdout",
     "output_type": "stream",
     "text": [
      "\u001b[32mImported ./Qiime_input_data/kuT2T_BIOFilt/countData_WGS_PT.biom as BIOMV100Format to ./Qiime_input_data/kuT2T_BIOFilt/countData_WGS_PT.qza\u001b[0m\r\n",
      "\u001b[0m"
     ]
    }
   ],
   "source": [
    "!qiime tools import \\\n",
    "--type 'FeatureTable[Frequency]' \\\n",
    "--input-path ./Qiime_input_data/kuT2T_BIOFilt/countData_WGS_PT.biom \\\n",
    "--input-format BIOMV100Format \\\n",
    "--output-path ./Qiime_input_data/kuT2T_BIOFilt/countData_WGS_PT.qza"
   ]
  },
  {
   "cell_type": "code",
   "execution_count": 12,
   "metadata": {},
   "outputs": [
    {
     "name": "stdout",
     "output_type": "stream",
     "text": [
      "\u001b[32mImported ./Qiime_input_data/kuT2T_BIOFilt/countData_RNA_PT.biom as BIOMV100Format to ./Qiime_input_data/kuT2T_BIOFilt/countData_RNA_PT.qza\u001b[0m\n",
      "\u001b[0m"
     ]
    }
   ],
   "source": [
    "!qiime tools import \\\n",
    "--type 'FeatureTable[Frequency]' \\\n",
    "--input-path ./Qiime_input_data/kuT2T_BIOFilt/countData_RNA_PT.biom \\\n",
    "--input-format BIOMV100Format \\\n",
    "--output-path ./Qiime_input_data/kuT2T_BIOFilt/countData_RNA_PT.qza"
   ]
  },
  {
   "cell_type": "code",
   "execution_count": 13,
   "metadata": {},
   "outputs": [
    {
     "name": "stdout",
     "output_type": "stream",
     "text": [
      "\u001b[32mImported ./Qiime_input_data/kuT2T_BIOFilt/countData_WGS_BDN.biom as BIOMV100Format to ./Qiime_input_data/kuT2T_BIOFilt/countData_WGS_BDN.qza\u001b[0m\r\n",
      "\u001b[0m"
     ]
    }
   ],
   "source": [
    "!qiime tools import \\\n",
    "--type 'FeatureTable[Frequency]' \\\n",
    "--input-path ./Qiime_input_data/kuT2T_BIOFilt/countData_WGS_BDN.biom \\\n",
    "--input-format BIOMV100Format \\\n",
    "--output-path ./Qiime_input_data/kuT2T_BIOFilt/countData_WGS_BDN.qza"
   ]
  },
  {
   "cell_type": "markdown",
   "metadata": {},
   "source": [
    "# Deicode for PT (beta diversity that does not require rarefaction)\n",
    "\n",
    "Martino et al. 2019. mSystems. See the following links:\n",
    "- https://journals.asm.org/doi/10.1128/mSystems.00016-19\n",
    "- https://forum.qiime2.org/t/robust-aitchison-pca-beta-diversity-with-deicode/8333"
   ]
  },
  {
   "cell_type": "markdown",
   "metadata": {},
   "source": [
    "### WIS - WGS"
   ]
  },
  {
   "cell_type": "code",
   "execution_count": 14,
   "metadata": {
    "scrolled": true
   },
   "outputs": [
    {
     "name": "stdout",
     "output_type": "stream",
     "text": [
      "\u001b[32mSaved PCoAResults % Properties('biplot') to: ./Qiime_input_data/kuT2T_WIS/deicode_ordination_WGS_PT.qza\u001b[0m\n",
      "\u001b[32mSaved DistanceMatrix to: ./Qiime_input_data/kuT2T_WIS/deicode_distance_WGS_PT.qza\u001b[0m\n",
      "\u001b[0m"
     ]
    }
   ],
   "source": [
    "!qiime deicode rpca \\\n",
    "    --i-table ./Qiime_input_data/kuT2T_WIS/countData_WGS_PT.qza \\\n",
    "    --o-biplot ./Qiime_input_data/kuT2T_WIS/deicode_ordination_WGS_PT.qza \\\n",
    "    --p-min-sample-count 100 \\\n",
    "    --o-distance-matrix ./Qiime_input_data/kuT2T_WIS/deicode_distance_WGS_PT.qza"
   ]
  },
  {
   "cell_type": "code",
   "execution_count": 18,
   "metadata": {},
   "outputs": [
    {
     "name": "stdout",
     "output_type": "stream",
     "text": [
      "\u001b[32mSaved Visualization to: ./Qiime_input_data/kuT2T_WIS/deicode_biplot_WGS_PT.qzv\u001b[0m\r\n",
      "\u001b[0m"
     ]
    }
   ],
   "source": [
    "!qiime emperor biplot \\\n",
    "    --i-biplot ./Qiime_input_data/kuT2T_WIS/deicode_ordination_WGS_PT.qza \\\n",
    "    --m-sample-metadata-file ./Qiime_input_data/kuT2T_WIS/metaData_WGS_PT.txt \\\n",
    "    --m-feature-metadata-file kuTaxonomy.qza \\\n",
    "    --o-visualization ./Qiime_input_data/kuT2T_WIS/deicode_biplot_WGS_PT.qzv \\\n",
    "    --p-number-of-features 1"
   ]
  },
  {
   "cell_type": "code",
   "execution_count": 16,
   "metadata": {},
   "outputs": [
    {
     "name": "stdout",
     "output_type": "stream",
     "text": [
      "\u001b[32mSaved Visualization to: ./Qiime_input_data/kuT2T_WIS/deicode_adonis_WGS_PT.qzv\u001b[0m\r\n",
      "\u001b[0m"
     ]
    }
   ],
   "source": [
    "!qiime diversity adonis \\\n",
    "--i-distance-matrix ./Qiime_input_data/kuT2T_WIS/deicode_distance_WGS_PT.qza \\\n",
    "--m-metadata-file ./Qiime_input_data/kuT2T_WIS/metaData_WGS_PT.txt \\\n",
    "--p-formula \"investigation\" \\\n",
    "--p-n-jobs 8 \\\n",
    "--o-visualization ./Qiime_input_data/kuT2T_WIS/deicode_adonis_WGS_PT.qzv"
   ]
  },
  {
   "cell_type": "code",
   "execution_count": 17,
   "metadata": {},
   "outputs": [
    {
     "name": "stdout",
     "output_type": "stream",
     "text": [
      "\u001b[32mSaved Visualization to: ./Qiime_input_data/kuT2T_WIS/deicode_adonis_WGS_PT_seqcenter.qzv\u001b[0m\r\n",
      "\u001b[0m"
     ]
    }
   ],
   "source": [
    "!qiime diversity adonis \\\n",
    "--i-distance-matrix ./Qiime_input_data/kuT2T_WIS/deicode_distance_WGS_PT.qza \\\n",
    "--m-metadata-file ./Qiime_input_data/kuT2T_WIS/metaData_WGS_PT.txt \\\n",
    "--p-formula \"data_submitting_center_label\" \\\n",
    "--p-n-jobs 8 \\\n",
    "--o-visualization ./Qiime_input_data/kuT2T_WIS/deicode_adonis_WGS_PT_seqcenter.qzv"
   ]
  },
  {
   "cell_type": "markdown",
   "metadata": {},
   "source": [
    "### WIS - RNA"
   ]
  },
  {
   "cell_type": "code",
   "execution_count": 19,
   "metadata": {
    "scrolled": true
   },
   "outputs": [
    {
     "name": "stdout",
     "output_type": "stream",
     "text": [
      "\u001b[32mSaved PCoAResults % Properties('biplot') to: ./Qiime_input_data/kuT2T_WIS/deicode_ordination_RNA_PT.qza\u001b[0m\n",
      "\u001b[32mSaved DistanceMatrix to: ./Qiime_input_data/kuT2T_WIS/deicode_distance_RNA_PT.qza\u001b[0m\n",
      "\u001b[0m"
     ]
    }
   ],
   "source": [
    "!qiime deicode rpca \\\n",
    "    --i-table ./Qiime_input_data/kuT2T_WIS/countData_RNA_PT.qza \\\n",
    "    --o-biplot ./Qiime_input_data/kuT2T_WIS/deicode_ordination_RNA_PT.qza \\\n",
    "    --p-min-sample-count 100 \\\n",
    "    --o-distance-matrix ./Qiime_input_data/kuT2T_WIS/deicode_distance_RNA_PT.qza"
   ]
  },
  {
   "cell_type": "code",
   "execution_count": 20,
   "metadata": {},
   "outputs": [
    {
     "name": "stdout",
     "output_type": "stream",
     "text": [
      "\u001b[32mSaved Visualization to: ./Qiime_input_data/kuT2T_WIS/deicode_biplot_RNA_PT.qzv\u001b[0m\n",
      "\u001b[0m"
     ]
    }
   ],
   "source": [
    "!qiime emperor biplot \\\n",
    "    --i-biplot ./Qiime_input_data/kuT2T_WIS/deicode_ordination_RNA_PT.qza \\\n",
    "    --m-sample-metadata-file ./Qiime_input_data/kuT2T_WIS/metaData_RNA_PT.txt \\\n",
    "    --m-feature-metadata-file kuTaxonomy.qza \\\n",
    "    --o-visualization ./Qiime_input_data/kuT2T_WIS/deicode_biplot_RNA_PT.qzv \\\n",
    "    --p-number-of-features 1"
   ]
  },
  {
   "cell_type": "code",
   "execution_count": 21,
   "metadata": {},
   "outputs": [
    {
     "name": "stdout",
     "output_type": "stream",
     "text": [
      "\u001b[32mSaved Visualization to: ./Qiime_input_data/kuT2T_WIS/deicode_adonis_RNA_PT.qzv\u001b[0m\r\n",
      "\u001b[0m"
     ]
    }
   ],
   "source": [
    "!qiime diversity adonis \\\n",
    "--i-distance-matrix ./Qiime_input_data/kuT2T_WIS/deicode_distance_RNA_PT.qza \\\n",
    "--m-metadata-file ./Qiime_input_data/kuT2T_WIS/metaData_RNA_PT.txt \\\n",
    "--p-formula \"investigation\" \\\n",
    "--p-n-jobs 8 \\\n",
    "--o-visualization ./Qiime_input_data/kuT2T_WIS/deicode_adonis_RNA_PT.qzv"
   ]
  },
  {
   "cell_type": "code",
   "execution_count": 22,
   "metadata": {},
   "outputs": [
    {
     "name": "stdout",
     "output_type": "stream",
     "text": [
      "\u001b[32mSaved Visualization to: ./Qiime_input_data/kuT2T_WIS/deicode_adonis_RNA_PT_seqcenter.qzv\u001b[0m\r\n",
      "\u001b[0m"
     ]
    }
   ],
   "source": [
    "!qiime diversity adonis \\\n",
    "--i-distance-matrix ./Qiime_input_data/kuT2T_WIS/deicode_distance_RNA_PT.qza \\\n",
    "--m-metadata-file ./Qiime_input_data/kuT2T_WIS/metaData_RNA_PT.txt \\\n",
    "--p-formula \"data_submitting_center_label\" \\\n",
    "--p-n-jobs 8 \\\n",
    "--o-visualization ./Qiime_input_data/kuT2T_WIS/deicode_adonis_RNA_PT_seqcenter.qzv"
   ]
  },
  {
   "cell_type": "markdown",
   "metadata": {},
   "source": [
    "### BIO - WGS"
   ]
  },
  {
   "cell_type": "code",
   "execution_count": 23,
   "metadata": {
    "scrolled": true
   },
   "outputs": [
    {
     "name": "stdout",
     "output_type": "stream",
     "text": [
      "\u001b[32mSaved PCoAResults % Properties('biplot') to: ./Qiime_input_data/kuT2T_BIO/deicode_ordination_WGS_PT.qza\u001b[0m\n",
      "\u001b[32mSaved DistanceMatrix to: ./Qiime_input_data/kuT2T_BIO/deicode_distance_WGS_PT.qza\u001b[0m\n",
      "\u001b[0m"
     ]
    }
   ],
   "source": [
    "!qiime deicode rpca \\\n",
    "    --i-table ./Qiime_input_data/kuT2T_BIO/countData_WGS_PT.qza \\\n",
    "    --o-biplot ./Qiime_input_data/kuT2T_BIO/deicode_ordination_WGS_PT.qza \\\n",
    "    --p-min-sample-count 100 \\\n",
    "    --o-distance-matrix ./Qiime_input_data/kuT2T_BIO/deicode_distance_WGS_PT.qza"
   ]
  },
  {
   "cell_type": "code",
   "execution_count": 24,
   "metadata": {},
   "outputs": [
    {
     "name": "stdout",
     "output_type": "stream",
     "text": [
      "\u001b[32mSaved Visualization to: ./Qiime_input_data/kuT2T_BIO/deicode_biplot_WGS_PT.qzv\u001b[0m\n",
      "\u001b[0m"
     ]
    }
   ],
   "source": [
    "!qiime emperor biplot \\\n",
    "    --i-biplot ./Qiime_input_data/kuT2T_BIO/deicode_ordination_WGS_PT.qza \\\n",
    "    --m-sample-metadata-file ./Qiime_input_data/kuT2T_BIO/metaData_WGS_PT.txt \\\n",
    "    --m-feature-metadata-file kuTaxonomy.qza \\\n",
    "    --o-visualization ./Qiime_input_data/kuT2T_BIO/deicode_biplot_WGS_PT.qzv \\\n",
    "    --p-number-of-features 1"
   ]
  },
  {
   "cell_type": "code",
   "execution_count": 25,
   "metadata": {},
   "outputs": [
    {
     "name": "stdout",
     "output_type": "stream",
     "text": [
      "\u001b[32mSaved Visualization to: ./Qiime_input_data/kuT2T_BIO/deicode_adonis_WGS_PT.qzv\u001b[0m\r\n",
      "\u001b[0m"
     ]
    }
   ],
   "source": [
    "!qiime diversity adonis \\\n",
    "--i-distance-matrix ./Qiime_input_data/kuT2T_BIO/deicode_distance_WGS_PT.qza \\\n",
    "--m-metadata-file ./Qiime_input_data/kuT2T_BIO/metaData_WGS_PT.txt \\\n",
    "--p-formula \"investigation\" \\\n",
    "--p-n-jobs 8 \\\n",
    "--o-visualization ./Qiime_input_data/kuT2T_BIO/deicode_adonis_WGS_PT.qzv"
   ]
  },
  {
   "cell_type": "code",
   "execution_count": 26,
   "metadata": {},
   "outputs": [
    {
     "name": "stdout",
     "output_type": "stream",
     "text": [
      "\u001b[32mSaved Visualization to: ./Qiime_input_data/kuT2T_BIO/deicode_adonis_WGS_PT_seqcenter.qzv\u001b[0m\n",
      "\u001b[0m"
     ]
    }
   ],
   "source": [
    "!qiime diversity adonis \\\n",
    "--i-distance-matrix ./Qiime_input_data/kuT2T_BIO/deicode_distance_WGS_PT.qza \\\n",
    "--m-metadata-file ./Qiime_input_data/kuT2T_BIO/metaData_WGS_PT.txt \\\n",
    "--p-formula \"data_submitting_center_label\" \\\n",
    "--p-n-jobs 8 \\\n",
    "--o-visualization ./Qiime_input_data/kuT2T_BIO/deicode_adonis_WGS_PT_seqcenter.qzv"
   ]
  },
  {
   "cell_type": "markdown",
   "metadata": {},
   "source": [
    "### BIO - RNA"
   ]
  },
  {
   "cell_type": "code",
   "execution_count": 27,
   "metadata": {
    "scrolled": true
   },
   "outputs": [
    {
     "name": "stdout",
     "output_type": "stream",
     "text": [
      "\u001b[32mSaved PCoAResults % Properties('biplot') to: ./Qiime_input_data/kuT2T_BIO/deicode_ordination_RNA_PT.qza\u001b[0m\n",
      "\u001b[32mSaved DistanceMatrix to: ./Qiime_input_data/kuT2T_BIO/deicode_distance_RNA_PT.qza\u001b[0m\n",
      "\u001b[0m"
     ]
    }
   ],
   "source": [
    "!qiime deicode rpca \\\n",
    "    --i-table ./Qiime_input_data/kuT2T_BIO/countData_RNA_PT.qza \\\n",
    "    --o-biplot ./Qiime_input_data/kuT2T_BIO/deicode_ordination_RNA_PT.qza \\\n",
    "    --p-min-sample-count 100 \\\n",
    "    --o-distance-matrix ./Qiime_input_data/kuT2T_BIO/deicode_distance_RNA_PT.qza"
   ]
  },
  {
   "cell_type": "code",
   "execution_count": 28,
   "metadata": {},
   "outputs": [
    {
     "name": "stdout",
     "output_type": "stream",
     "text": [
      "\u001b[32mSaved Visualization to: ./Qiime_input_data/kuT2T_BIO/deicode_biplot_RNA_PT.qzv\u001b[0m\r\n",
      "\u001b[0m"
     ]
    }
   ],
   "source": [
    "!qiime emperor biplot \\\n",
    "    --i-biplot ./Qiime_input_data/kuT2T_BIO/deicode_ordination_RNA_PT.qza \\\n",
    "    --m-sample-metadata-file ./Qiime_input_data/kuT2T_BIO/metaData_RNA_PT.txt \\\n",
    "    --m-feature-metadata-file kuTaxonomy.qza \\\n",
    "    --o-visualization ./Qiime_input_data/kuT2T_BIO/deicode_biplot_RNA_PT.qzv \\\n",
    "    --p-number-of-features 1"
   ]
  },
  {
   "cell_type": "code",
   "execution_count": 29,
   "metadata": {},
   "outputs": [
    {
     "name": "stdout",
     "output_type": "stream",
     "text": [
      "\u001b[32mSaved Visualization to: ./Qiime_input_data/kuT2T_BIO/deicode_adonis_RNA_PT.qzv\u001b[0m\n",
      "\u001b[0m"
     ]
    }
   ],
   "source": [
    "!qiime diversity adonis \\\n",
    "--i-distance-matrix ./Qiime_input_data/kuT2T_BIO/deicode_distance_RNA_PT.qza \\\n",
    "--m-metadata-file ./Qiime_input_data/kuT2T_BIO/metaData_RNA_PT.txt \\\n",
    "--p-formula \"investigation\" \\\n",
    "--p-n-jobs 8 \\\n",
    "--o-visualization ./Qiime_input_data/kuT2T_BIO/deicode_adonis_RNA_PT.qzv"
   ]
  },
  {
   "cell_type": "code",
   "execution_count": 30,
   "metadata": {},
   "outputs": [
    {
     "name": "stdout",
     "output_type": "stream",
     "text": [
      "\u001b[32mSaved Visualization to: ./Qiime_input_data/kuT2T_BIO/deicode_adonis_RNA_PT_seqcenter.qzv\u001b[0m\r\n",
      "\u001b[0m"
     ]
    }
   ],
   "source": [
    "!qiime diversity adonis \\\n",
    "--i-distance-matrix ./Qiime_input_data/kuT2T_BIO/deicode_distance_RNA_PT.qza \\\n",
    "--m-metadata-file ./Qiime_input_data/kuT2T_BIO/metaData_RNA_PT.txt \\\n",
    "--p-formula \"data_submitting_center_label\" \\\n",
    "--p-n-jobs 8 \\\n",
    "--o-visualization ./Qiime_input_data/kuT2T_BIO/deicode_adonis_RNA_PT_seqcenter.qzv"
   ]
  },
  {
   "cell_type": "markdown",
   "metadata": {},
   "source": [
    "### Filt - WGS"
   ]
  },
  {
   "cell_type": "code",
   "execution_count": 31,
   "metadata": {
    "scrolled": true
   },
   "outputs": [
    {
     "name": "stdout",
     "output_type": "stream",
     "text": [
      "\u001b[32mSaved PCoAResults % Properties('biplot') to: ./Qiime_input_data/kuT2T_Filt/deicode_ordination_WGS_PT.qza\u001b[0m\n",
      "\u001b[32mSaved DistanceMatrix to: ./Qiime_input_data/kuT2T_Filt/deicode_distance_WGS_PT.qza\u001b[0m\n",
      "\u001b[0m"
     ]
    }
   ],
   "source": [
    "!qiime deicode rpca \\\n",
    "    --i-table ./Qiime_input_data/kuT2T_Filt/countData_WGS_PT.qza \\\n",
    "    --o-biplot ./Qiime_input_data/kuT2T_Filt/deicode_ordination_WGS_PT.qza \\\n",
    "    --p-min-sample-count 100 \\\n",
    "    --o-distance-matrix ./Qiime_input_data/kuT2T_Filt/deicode_distance_WGS_PT.qza"
   ]
  },
  {
   "cell_type": "code",
   "execution_count": 32,
   "metadata": {},
   "outputs": [
    {
     "name": "stdout",
     "output_type": "stream",
     "text": [
      "\u001b[32mSaved Visualization to: ./Qiime_input_data/kuT2T_Filt/deicode_biplot_WGS_PT.qzv\u001b[0m\r\n",
      "\u001b[0m"
     ]
    }
   ],
   "source": [
    "!qiime emperor biplot \\\n",
    "    --i-biplot ./Qiime_input_data/kuT2T_Filt/deicode_ordination_WGS_PT.qza \\\n",
    "    --m-sample-metadata-file ./Qiime_input_data/kuT2T_Filt/metaData_WGS_PT.txt \\\n",
    "    --m-feature-metadata-file kuTaxonomy.qza \\\n",
    "    --o-visualization ./Qiime_input_data/kuT2T_Filt/deicode_biplot_WGS_PT.qzv \\\n",
    "    --p-number-of-features 1"
   ]
  },
  {
   "cell_type": "code",
   "execution_count": 33,
   "metadata": {},
   "outputs": [
    {
     "name": "stdout",
     "output_type": "stream",
     "text": [
      "\u001b[32mSaved Visualization to: ./Qiime_input_data/kuT2T_Filt/deicode_adonis_WGS_PT.qzv\u001b[0m\r\n",
      "\u001b[0m"
     ]
    }
   ],
   "source": [
    "!qiime diversity adonis \\\n",
    "--i-distance-matrix ./Qiime_input_data/kuT2T_Filt/deicode_distance_WGS_PT.qza \\\n",
    "--m-metadata-file ./Qiime_input_data/kuT2T_Filt/metaData_WGS_PT.txt \\\n",
    "--p-formula \"investigation\" \\\n",
    "--p-n-jobs 8 \\\n",
    "--o-visualization ./Qiime_input_data/kuT2T_Filt/deicode_adonis_WGS_PT.qzv"
   ]
  },
  {
   "cell_type": "code",
   "execution_count": 34,
   "metadata": {},
   "outputs": [
    {
     "name": "stdout",
     "output_type": "stream",
     "text": [
      "\u001b[32mSaved Visualization to: ./Qiime_input_data/kuT2T_Filt/deicode_adonis_WGS_PT_seqcenter.qzv\u001b[0m\r\n",
      "\u001b[0m"
     ]
    }
   ],
   "source": [
    "!qiime diversity adonis \\\n",
    "--i-distance-matrix ./Qiime_input_data/kuT2T_Filt/deicode_distance_WGS_PT.qza \\\n",
    "--m-metadata-file ./Qiime_input_data/kuT2T_Filt/metaData_WGS_PT.txt \\\n",
    "--p-formula \"data_submitting_center_label\" \\\n",
    "--p-n-jobs 8 \\\n",
    "--o-visualization ./Qiime_input_data/kuT2T_Filt/deicode_adonis_WGS_PT_seqcenter.qzv"
   ]
  },
  {
   "cell_type": "markdown",
   "metadata": {},
   "source": [
    "### Filt - RNA"
   ]
  },
  {
   "cell_type": "code",
   "execution_count": 35,
   "metadata": {
    "scrolled": true
   },
   "outputs": [
    {
     "name": "stdout",
     "output_type": "stream",
     "text": [
      "\u001b[32mSaved PCoAResults % Properties('biplot') to: ./Qiime_input_data/kuT2T_Filt/deicode_ordination_RNA_PT.qza\u001b[0m\n",
      "\u001b[32mSaved DistanceMatrix to: ./Qiime_input_data/kuT2T_Filt/deicode_distance_RNA_PT.qza\u001b[0m\n",
      "\u001b[0m"
     ]
    }
   ],
   "source": [
    "!qiime deicode rpca \\\n",
    "    --i-table ./Qiime_input_data/kuT2T_Filt/countData_RNA_PT.qza \\\n",
    "    --o-biplot ./Qiime_input_data/kuT2T_Filt/deicode_ordination_RNA_PT.qza \\\n",
    "    --p-min-sample-count 100 \\\n",
    "    --o-distance-matrix ./Qiime_input_data/kuT2T_Filt/deicode_distance_RNA_PT.qza"
   ]
  },
  {
   "cell_type": "code",
   "execution_count": 36,
   "metadata": {},
   "outputs": [
    {
     "name": "stdout",
     "output_type": "stream",
     "text": [
      "\u001b[32mSaved Visualization to: ./Qiime_input_data/kuT2T_Filt/deicode_biplot_RNA_PT.qzv\u001b[0m\r\n",
      "\u001b[0m"
     ]
    }
   ],
   "source": [
    "!qiime emperor biplot \\\n",
    "    --i-biplot ./Qiime_input_data/kuT2T_Filt/deicode_ordination_RNA_PT.qza \\\n",
    "    --m-sample-metadata-file ./Qiime_input_data/kuT2T_Filt/metaData_RNA_PT.txt \\\n",
    "    --m-feature-metadata-file kuTaxonomy.qza \\\n",
    "    --o-visualization ./Qiime_input_data/kuT2T_Filt/deicode_biplot_RNA_PT.qzv \\\n",
    "    --p-number-of-features 1"
   ]
  },
  {
   "cell_type": "code",
   "execution_count": 37,
   "metadata": {},
   "outputs": [
    {
     "name": "stdout",
     "output_type": "stream",
     "text": [
      "\u001b[32mSaved Visualization to: ./Qiime_input_data/kuT2T_Filt/deicode_adonis_RNA_PT.qzv\u001b[0m\n",
      "\u001b[0m"
     ]
    }
   ],
   "source": [
    "!qiime diversity adonis \\\n",
    "--i-distance-matrix ./Qiime_input_data/kuT2T_Filt/deicode_distance_RNA_PT.qza \\\n",
    "--m-metadata-file ./Qiime_input_data/kuT2T_Filt/metaData_RNA_PT.txt \\\n",
    "--p-formula \"investigation\" \\\n",
    "--p-n-jobs 8 \\\n",
    "--o-visualization ./Qiime_input_data/kuT2T_Filt/deicode_adonis_RNA_PT.qzv"
   ]
  },
  {
   "cell_type": "code",
   "execution_count": 38,
   "metadata": {},
   "outputs": [
    {
     "name": "stdout",
     "output_type": "stream",
     "text": [
      "\u001b[32mSaved Visualization to: ./Qiime_input_data/kuT2T_Filt/deicode_adonis_RNA_PT_seqcenter.qzv\u001b[0m\r\n",
      "\u001b[0m"
     ]
    }
   ],
   "source": [
    "!qiime diversity adonis \\\n",
    "--i-distance-matrix ./Qiime_input_data/kuT2T_Filt/deicode_distance_RNA_PT.qza \\\n",
    "--m-metadata-file ./Qiime_input_data/kuT2T_Filt/metaData_RNA_PT.txt \\\n",
    "--p-formula \"data_submitting_center_label\" \\\n",
    "--p-n-jobs 8 \\\n",
    "--o-visualization ./Qiime_input_data/kuT2T_Filt/deicode_adonis_RNA_PT_seqcenter.qzv"
   ]
  },
  {
   "cell_type": "markdown",
   "metadata": {},
   "source": [
    "### BIOFilt - WGS"
   ]
  },
  {
   "cell_type": "code",
   "execution_count": 39,
   "metadata": {
    "scrolled": true
   },
   "outputs": [
    {
     "name": "stdout",
     "output_type": "stream",
     "text": [
      "\u001b[32mSaved PCoAResults % Properties('biplot') to: ./Qiime_input_data/kuT2T_BIOFilt/deicode_ordination_WGS_PT.qza\u001b[0m\n",
      "\u001b[32mSaved DistanceMatrix to: ./Qiime_input_data/kuT2T_BIOFilt/deicode_distance_WGS_PT.qza\u001b[0m\n",
      "\u001b[0m"
     ]
    }
   ],
   "source": [
    "!qiime deicode rpca \\\n",
    "    --i-table ./Qiime_input_data/kuT2T_BIOFilt/countData_WGS_PT.qza \\\n",
    "    --o-biplot ./Qiime_input_data/kuT2T_BIOFilt/deicode_ordination_WGS_PT.qza \\\n",
    "    --p-min-sample-count 100 \\\n",
    "    --o-distance-matrix ./Qiime_input_data/kuT2T_BIOFilt/deicode_distance_WGS_PT.qza"
   ]
  },
  {
   "cell_type": "code",
   "execution_count": 40,
   "metadata": {},
   "outputs": [
    {
     "name": "stdout",
     "output_type": "stream",
     "text": [
      "\u001b[32mSaved Visualization to: ./Qiime_input_data/kuT2T_BIOFilt/deicode_biplot_WGS_PT.qzv\u001b[0m\r\n",
      "\u001b[0m"
     ]
    }
   ],
   "source": [
    "!qiime emperor biplot \\\n",
    "    --i-biplot ./Qiime_input_data/kuT2T_BIOFilt/deicode_ordination_WGS_PT.qza \\\n",
    "    --m-sample-metadata-file ./Qiime_input_data/kuT2T_BIOFilt/metaData_WGS_PT.txt \\\n",
    "    --m-feature-metadata-file kuTaxonomy.qza \\\n",
    "    --o-visualization ./Qiime_input_data/kuT2T_BIOFilt/deicode_biplot_WGS_PT.qzv \\\n",
    "    --p-number-of-features 1"
   ]
  },
  {
   "cell_type": "code",
   "execution_count": 41,
   "metadata": {},
   "outputs": [
    {
     "name": "stdout",
     "output_type": "stream",
     "text": [
      "\u001b[32mSaved Visualization to: ./Qiime_input_data/kuT2T_BIOFilt/deicode_adonis_WGS_PT.qzv\u001b[0m\n",
      "\u001b[0m"
     ]
    }
   ],
   "source": [
    "!qiime diversity adonis \\\n",
    "--i-distance-matrix ./Qiime_input_data/kuT2T_BIOFilt/deicode_distance_WGS_PT.qza \\\n",
    "--m-metadata-file ./Qiime_input_data/kuT2T_BIOFilt/metaData_WGS_PT.txt \\\n",
    "--p-formula \"investigation\" \\\n",
    "--p-n-jobs 8 \\\n",
    "--o-visualization ./Qiime_input_data/kuT2T_BIOFilt/deicode_adonis_WGS_PT.qzv"
   ]
  },
  {
   "cell_type": "code",
   "execution_count": 42,
   "metadata": {},
   "outputs": [
    {
     "name": "stdout",
     "output_type": "stream",
     "text": [
      "\u001b[32mSaved Visualization to: ./Qiime_input_data/kuT2T_BIOFilt/deicode_adonis_WGS_PT_seqcenter.qzv\u001b[0m\r\n",
      "\u001b[0m"
     ]
    }
   ],
   "source": [
    "!qiime diversity adonis \\\n",
    "--i-distance-matrix ./Qiime_input_data/kuT2T_BIOFilt/deicode_distance_WGS_PT.qza \\\n",
    "--m-metadata-file ./Qiime_input_data/kuT2T_BIOFilt/metaData_WGS_PT.txt \\\n",
    "--p-formula \"data_submitting_center_label\" \\\n",
    "--p-n-jobs 8 \\\n",
    "--o-visualization ./Qiime_input_data/kuT2T_BIOFilt/deicode_adonis_WGS_PT_seqcenter.qzv"
   ]
  },
  {
   "cell_type": "markdown",
   "metadata": {},
   "source": [
    "### BIOFilt - RNA"
   ]
  },
  {
   "cell_type": "code",
   "execution_count": 43,
   "metadata": {
    "scrolled": true
   },
   "outputs": [
    {
     "name": "stdout",
     "output_type": "stream",
     "text": [
      "\u001b[32mSaved PCoAResults % Properties('biplot') to: ./Qiime_input_data/kuT2T_BIOFilt/deicode_ordination_RNA_PT.qza\u001b[0m\n",
      "\u001b[32mSaved DistanceMatrix to: ./Qiime_input_data/kuT2T_BIOFilt/deicode_distance_RNA_PT.qza\u001b[0m\n",
      "\u001b[0m"
     ]
    }
   ],
   "source": [
    "!qiime deicode rpca \\\n",
    "    --i-table ./Qiime_input_data/kuT2T_BIOFilt/countData_RNA_PT.qza \\\n",
    "    --o-biplot ./Qiime_input_data/kuT2T_BIOFilt/deicode_ordination_RNA_PT.qza \\\n",
    "    --p-min-sample-count 100 \\\n",
    "    --o-distance-matrix ./Qiime_input_data/kuT2T_BIOFilt/deicode_distance_RNA_PT.qza"
   ]
  },
  {
   "cell_type": "code",
   "execution_count": 44,
   "metadata": {},
   "outputs": [
    {
     "name": "stdout",
     "output_type": "stream",
     "text": [
      "\u001b[32mSaved Visualization to: ./Qiime_input_data/kuT2T_BIOFilt/deicode_biplot_RNA_PT.qzv\u001b[0m\r\n",
      "\u001b[0m"
     ]
    }
   ],
   "source": [
    "!qiime emperor biplot \\\n",
    "    --i-biplot ./Qiime_input_data/kuT2T_BIOFilt/deicode_ordination_RNA_PT.qza \\\n",
    "    --m-sample-metadata-file ./Qiime_input_data/kuT2T_BIOFilt/metaData_RNA_PT.txt \\\n",
    "    --m-feature-metadata-file kuTaxonomy.qza \\\n",
    "    --o-visualization ./Qiime_input_data/kuT2T_BIOFilt/deicode_biplot_RNA_PT.qzv \\\n",
    "    --p-number-of-features 1"
   ]
  },
  {
   "cell_type": "code",
   "execution_count": 45,
   "metadata": {},
   "outputs": [
    {
     "name": "stdout",
     "output_type": "stream",
     "text": [
      "\u001b[32mSaved Visualization to: ./Qiime_input_data/kuT2T_BIOFilt/deicode_adonis_RNA_PT.qzv\u001b[0m\r\n",
      "\u001b[0m"
     ]
    }
   ],
   "source": [
    "!qiime diversity adonis \\\n",
    "--i-distance-matrix ./Qiime_input_data/kuT2T_BIOFilt/deicode_distance_RNA_PT.qza \\\n",
    "--m-metadata-file ./Qiime_input_data/kuT2T_BIOFilt/metaData_RNA_PT.txt \\\n",
    "--p-formula \"investigation\" \\\n",
    "--p-n-jobs 8 \\\n",
    "--o-visualization ./Qiime_input_data/kuT2T_BIOFilt/deicode_adonis_RNA_PT.qzv"
   ]
  },
  {
   "cell_type": "code",
   "execution_count": 46,
   "metadata": {},
   "outputs": [
    {
     "name": "stdout",
     "output_type": "stream",
     "text": [
      "\u001b[32mSaved Visualization to: ./Qiime_input_data/kuT2T_BIOFilt/deicode_adonis_RNA_PT_seqcenter.qzv\u001b[0m\r\n",
      "\u001b[0m"
     ]
    }
   ],
   "source": [
    "!qiime diversity adonis \\\n",
    "--i-distance-matrix ./Qiime_input_data/kuT2T_BIOFilt/deicode_distance_RNA_PT.qza \\\n",
    "--m-metadata-file ./Qiime_input_data/kuT2T_BIOFilt/metaData_RNA_PT.txt \\\n",
    "--p-formula \"data_submitting_center_label\" \\\n",
    "--p-n-jobs 8 \\\n",
    "--o-visualization ./Qiime_input_data/kuT2T_BIOFilt/deicode_adonis_RNA_PT_seqcenter.qzv"
   ]
  },
  {
   "cell_type": "markdown",
   "metadata": {},
   "source": [
    "# Deicode for BDN (beta diversity that does not require rarefaction)\n",
    "\n",
    "Martino et al. 2019. mSystems. See the following links:\n",
    "- https://journals.asm.org/doi/10.1128/mSystems.00016-19\n",
    "- https://forum.qiime2.org/t/robust-aitchison-pca-beta-diversity-with-deicode/8333"
   ]
  },
  {
   "cell_type": "markdown",
   "metadata": {},
   "source": [
    "### WIS - WGS"
   ]
  },
  {
   "cell_type": "code",
   "execution_count": 47,
   "metadata": {
    "scrolled": true
   },
   "outputs": [
    {
     "name": "stdout",
     "output_type": "stream",
     "text": [
      "\u001b[32mSaved PCoAResults % Properties('biplot') to: ./Qiime_input_data/kuT2T_WIS/deicode_ordination_WGS_BDN.qza\u001b[0m\n",
      "\u001b[32mSaved DistanceMatrix to: ./Qiime_input_data/kuT2T_WIS/deicode_distance_WGS_BDN.qza\u001b[0m\n",
      "\u001b[0m"
     ]
    }
   ],
   "source": [
    "!qiime deicode rpca \\\n",
    "    --i-table ./Qiime_input_data/kuT2T_WIS/countData_WGS_BDN.qza \\\n",
    "    --o-biplot ./Qiime_input_data/kuT2T_WIS/deicode_ordination_WGS_BDN.qza \\\n",
    "    --p-min-sample-count 100 \\\n",
    "    --o-distance-matrix ./Qiime_input_data/kuT2T_WIS/deicode_distance_WGS_BDN.qza"
   ]
  },
  {
   "cell_type": "code",
   "execution_count": 48,
   "metadata": {},
   "outputs": [
    {
     "name": "stdout",
     "output_type": "stream",
     "text": [
      "\u001b[32mSaved Visualization to: ./Qiime_input_data/kuT2T_WIS/deicode_biplot_WGS_BDN.qzv\u001b[0m\r\n",
      "\u001b[0m"
     ]
    }
   ],
   "source": [
    "!qiime emperor biplot \\\n",
    "    --i-biplot ./Qiime_input_data/kuT2T_WIS/deicode_ordination_WGS_BDN.qza \\\n",
    "    --m-sample-metadata-file ./Qiime_input_data/kuT2T_WIS/metaData_WGS_BDN.txt \\\n",
    "    --m-feature-metadata-file kuTaxonomy.qza \\\n",
    "    --o-visualization ./Qiime_input_data/kuT2T_WIS/deicode_biplot_WGS_BDN.qzv \\\n",
    "    --p-number-of-features 1"
   ]
  },
  {
   "cell_type": "code",
   "execution_count": 49,
   "metadata": {},
   "outputs": [
    {
     "name": "stdout",
     "output_type": "stream",
     "text": [
      "\u001b[32mSaved Visualization to: ./Qiime_input_data/kuT2T_WIS/deicode_adonis_WGS_BDN.qzv\u001b[0m\n",
      "\u001b[0m"
     ]
    }
   ],
   "source": [
    "!qiime diversity adonis \\\n",
    "--i-distance-matrix ./Qiime_input_data/kuT2T_WIS/deicode_distance_WGS_BDN.qza \\\n",
    "--m-metadata-file ./Qiime_input_data/kuT2T_WIS/metaData_WGS_BDN.txt \\\n",
    "--p-formula \"investigation\" \\\n",
    "--p-n-jobs 8 \\\n",
    "--o-visualization ./Qiime_input_data/kuT2T_WIS/deicode_adonis_WGS_BDN.qzv"
   ]
  },
  {
   "cell_type": "code",
   "execution_count": 50,
   "metadata": {},
   "outputs": [
    {
     "name": "stdout",
     "output_type": "stream",
     "text": [
      "\u001b[32mSaved Visualization to: ./Qiime_input_data/kuT2T_WIS/deicode_adonis_WGS_BDN_seqcenter.qzv\u001b[0m\r\n",
      "\u001b[0m"
     ]
    }
   ],
   "source": [
    "!qiime diversity adonis \\\n",
    "--i-distance-matrix ./Qiime_input_data/kuT2T_WIS/deicode_distance_WGS_BDN.qza \\\n",
    "--m-metadata-file ./Qiime_input_data/kuT2T_WIS/metaData_WGS_BDN.txt \\\n",
    "--p-formula \"data_submitting_center_label\" \\\n",
    "--p-n-jobs 8 \\\n",
    "--o-visualization ./Qiime_input_data/kuT2T_WIS/deicode_adonis_WGS_BDN_seqcenter.qzv"
   ]
  },
  {
   "cell_type": "markdown",
   "metadata": {},
   "source": [
    "### BIO - WGS"
   ]
  },
  {
   "cell_type": "code",
   "execution_count": 51,
   "metadata": {
    "scrolled": true
   },
   "outputs": [
    {
     "name": "stdout",
     "output_type": "stream",
     "text": [
      "\u001b[32mSaved PCoAResults % Properties('biplot') to: ./Qiime_input_data/kuT2T_BIO/deicode_ordination_WGS_BDN.qza\u001b[0m\n",
      "\u001b[32mSaved DistanceMatrix to: ./Qiime_input_data/kuT2T_BIO/deicode_distance_WGS_BDN.qza\u001b[0m\n",
      "\u001b[0m"
     ]
    }
   ],
   "source": [
    "!qiime deicode rpca \\\n",
    "    --i-table ./Qiime_input_data/kuT2T_BIO/countData_WGS_BDN.qza \\\n",
    "    --o-biplot ./Qiime_input_data/kuT2T_BIO/deicode_ordination_WGS_BDN.qza \\\n",
    "    --p-min-sample-count 100 \\\n",
    "    --o-distance-matrix ./Qiime_input_data/kuT2T_BIO/deicode_distance_WGS_BDN.qza"
   ]
  },
  {
   "cell_type": "code",
   "execution_count": 52,
   "metadata": {},
   "outputs": [
    {
     "name": "stdout",
     "output_type": "stream",
     "text": [
      "\u001b[32mSaved Visualization to: ./Qiime_input_data/kuT2T_BIO/deicode_biplot_WGS_BDN.qzv\u001b[0m\r\n",
      "\u001b[0m"
     ]
    }
   ],
   "source": [
    "!qiime emperor biplot \\\n",
    "    --i-biplot ./Qiime_input_data/kuT2T_BIO/deicode_ordination_WGS_BDN.qza \\\n",
    "    --m-sample-metadata-file ./Qiime_input_data/kuT2T_BIO/metaData_WGS_BDN.txt \\\n",
    "    --m-feature-metadata-file kuTaxonomy.qza \\\n",
    "    --o-visualization ./Qiime_input_data/kuT2T_BIO/deicode_biplot_WGS_BDN.qzv \\\n",
    "    --p-number-of-features 1"
   ]
  },
  {
   "cell_type": "code",
   "execution_count": 53,
   "metadata": {},
   "outputs": [
    {
     "name": "stdout",
     "output_type": "stream",
     "text": [
      "\u001b[32mSaved Visualization to: ./Qiime_input_data/kuT2T_BIO/deicode_adonis_WGS_BDN.qzv\u001b[0m\n",
      "\u001b[0m"
     ]
    }
   ],
   "source": [
    "!qiime diversity adonis \\\n",
    "--i-distance-matrix ./Qiime_input_data/kuT2T_BIO/deicode_distance_WGS_BDN.qza \\\n",
    "--m-metadata-file ./Qiime_input_data/kuT2T_BIO/metaData_WGS_BDN.txt \\\n",
    "--p-formula \"investigation\" \\\n",
    "--p-n-jobs 8 \\\n",
    "--o-visualization ./Qiime_input_data/kuT2T_BIO/deicode_adonis_WGS_BDN.qzv"
   ]
  },
  {
   "cell_type": "code",
   "execution_count": 54,
   "metadata": {},
   "outputs": [
    {
     "name": "stdout",
     "output_type": "stream",
     "text": [
      "\u001b[32mSaved Visualization to: ./Qiime_input_data/kuT2T_BIO/deicode_adonis_WGS_BDN_seqcenter.qzv\u001b[0m\n",
      "\u001b[0m"
     ]
    }
   ],
   "source": [
    "!qiime diversity adonis \\\n",
    "--i-distance-matrix ./Qiime_input_data/kuT2T_BIO/deicode_distance_WGS_BDN.qza \\\n",
    "--m-metadata-file ./Qiime_input_data/kuT2T_BIO/metaData_WGS_BDN.txt \\\n",
    "--p-formula \"data_submitting_center_label\" \\\n",
    "--p-n-jobs 8 \\\n",
    "--o-visualization ./Qiime_input_data/kuT2T_BIO/deicode_adonis_WGS_BDN_seqcenter.qzv"
   ]
  },
  {
   "cell_type": "markdown",
   "metadata": {},
   "source": [
    "### Filt - WGS"
   ]
  },
  {
   "cell_type": "code",
   "execution_count": 55,
   "metadata": {
    "scrolled": true
   },
   "outputs": [
    {
     "name": "stdout",
     "output_type": "stream",
     "text": [
      "\u001b[32mSaved PCoAResults % Properties('biplot') to: ./Qiime_input_data/kuT2T_Filt/deicode_ordination_WGS_BDN.qza\u001b[0m\n",
      "\u001b[32mSaved DistanceMatrix to: ./Qiime_input_data/kuT2T_Filt/deicode_distance_WGS_BDN.qza\u001b[0m\n",
      "\u001b[0m"
     ]
    }
   ],
   "source": [
    "!qiime deicode rpca \\\n",
    "    --i-table ./Qiime_input_data/kuT2T_Filt/countData_WGS_BDN.qza \\\n",
    "    --o-biplot ./Qiime_input_data/kuT2T_Filt/deicode_ordination_WGS_BDN.qza \\\n",
    "    --p-min-sample-count 100 \\\n",
    "    --o-distance-matrix ./Qiime_input_data/kuT2T_Filt/deicode_distance_WGS_BDN.qza"
   ]
  },
  {
   "cell_type": "code",
   "execution_count": 56,
   "metadata": {},
   "outputs": [
    {
     "name": "stdout",
     "output_type": "stream",
     "text": [
      "\u001b[32mSaved Visualization to: ./Qiime_input_data/kuT2T_Filt/deicode_biplot_WGS_BDN.qzv\u001b[0m\r\n",
      "\u001b[0m"
     ]
    }
   ],
   "source": [
    "!qiime emperor biplot \\\n",
    "    --i-biplot ./Qiime_input_data/kuT2T_Filt/deicode_ordination_WGS_BDN.qza \\\n",
    "    --m-sample-metadata-file ./Qiime_input_data/kuT2T_Filt/metaData_WGS_BDN.txt \\\n",
    "    --m-feature-metadata-file kuTaxonomy.qza \\\n",
    "    --o-visualization ./Qiime_input_data/kuT2T_Filt/deicode_biplot_WGS_BDN.qzv \\\n",
    "    --p-number-of-features 1"
   ]
  },
  {
   "cell_type": "code",
   "execution_count": 57,
   "metadata": {},
   "outputs": [
    {
     "name": "stdout",
     "output_type": "stream",
     "text": [
      "\u001b[32mSaved Visualization to: ./Qiime_input_data/kuT2T_Filt/deicode_adonis_WGS_BDN.qzv\u001b[0m\r\n",
      "\u001b[0m"
     ]
    }
   ],
   "source": [
    "!qiime diversity adonis \\\n",
    "--i-distance-matrix ./Qiime_input_data/kuT2T_Filt/deicode_distance_WGS_BDN.qza \\\n",
    "--m-metadata-file ./Qiime_input_data/kuT2T_Filt/metaData_WGS_BDN.txt \\\n",
    "--p-formula \"investigation\" \\\n",
    "--p-n-jobs 8 \\\n",
    "--o-visualization ./Qiime_input_data/kuT2T_Filt/deicode_adonis_WGS_BDN.qzv"
   ]
  },
  {
   "cell_type": "code",
   "execution_count": 58,
   "metadata": {},
   "outputs": [
    {
     "name": "stdout",
     "output_type": "stream",
     "text": [
      "\u001b[32mSaved Visualization to: ./Qiime_input_data/kuT2T_Filt/deicode_adonis_WGS_BDN_seqcenter.qzv\u001b[0m\r\n",
      "\u001b[0m"
     ]
    }
   ],
   "source": [
    "!qiime diversity adonis \\\n",
    "--i-distance-matrix ./Qiime_input_data/kuT2T_Filt/deicode_distance_WGS_BDN.qza \\\n",
    "--m-metadata-file ./Qiime_input_data/kuT2T_Filt/metaData_WGS_BDN.txt \\\n",
    "--p-formula \"data_submitting_center_label\" \\\n",
    "--p-n-jobs 8 \\\n",
    "--o-visualization ./Qiime_input_data/kuT2T_Filt/deicode_adonis_WGS_BDN_seqcenter.qzv"
   ]
  },
  {
   "cell_type": "markdown",
   "metadata": {},
   "source": [
    "### BIOFilt - WGS"
   ]
  },
  {
   "cell_type": "code",
   "execution_count": 59,
   "metadata": {
    "scrolled": true
   },
   "outputs": [
    {
     "name": "stdout",
     "output_type": "stream",
     "text": [
      "\u001b[32mSaved PCoAResults % Properties('biplot') to: ./Qiime_input_data/kuT2T_BIOFilt/deicode_ordination_WGS_BDN.qza\u001b[0m\n",
      "\u001b[32mSaved DistanceMatrix to: ./Qiime_input_data/kuT2T_BIOFilt/deicode_distance_WGS_BDN.qza\u001b[0m\n",
      "\u001b[0m"
     ]
    }
   ],
   "source": [
    "!qiime deicode rpca \\\n",
    "    --i-table ./Qiime_input_data/kuT2T_BIOFilt/countData_WGS_BDN.qza \\\n",
    "    --o-biplot ./Qiime_input_data/kuT2T_BIOFilt/deicode_ordination_WGS_BDN.qza \\\n",
    "    --p-min-sample-count 100 \\\n",
    "    --o-distance-matrix ./Qiime_input_data/kuT2T_BIOFilt/deicode_distance_WGS_BDN.qza"
   ]
  },
  {
   "cell_type": "code",
   "execution_count": 60,
   "metadata": {},
   "outputs": [
    {
     "name": "stdout",
     "output_type": "stream",
     "text": [
      "\u001b[32mSaved Visualization to: ./Qiime_input_data/kuT2T_BIOFilt/deicode_biplot_WGS_BDN.qzv\u001b[0m\r\n",
      "\u001b[0m"
     ]
    }
   ],
   "source": [
    "!qiime emperor biplot \\\n",
    "    --i-biplot ./Qiime_input_data/kuT2T_BIOFilt/deicode_ordination_WGS_BDN.qza \\\n",
    "    --m-sample-metadata-file ./Qiime_input_data/kuT2T_BIOFilt/metaData_WGS_BDN.txt \\\n",
    "    --m-feature-metadata-file kuTaxonomy.qza \\\n",
    "    --o-visualization ./Qiime_input_data/kuT2T_BIOFilt/deicode_biplot_WGS_BDN.qzv \\\n",
    "    --p-number-of-features 1"
   ]
  },
  {
   "cell_type": "code",
   "execution_count": 61,
   "metadata": {},
   "outputs": [
    {
     "name": "stdout",
     "output_type": "stream",
     "text": [
      "\u001b[32mSaved Visualization to: ./Qiime_input_data/kuT2T_BIOFilt/deicode_adonis_WGS_BDN.qzv\u001b[0m\n",
      "\u001b[0m"
     ]
    }
   ],
   "source": [
    "!qiime diversity adonis \\\n",
    "--i-distance-matrix ./Qiime_input_data/kuT2T_BIOFilt/deicode_distance_WGS_BDN.qza \\\n",
    "--m-metadata-file ./Qiime_input_data/kuT2T_BIOFilt/metaData_WGS_BDN.txt \\\n",
    "--p-formula \"investigation\" \\\n",
    "--p-n-jobs 8 \\\n",
    "--o-visualization ./Qiime_input_data/kuT2T_BIOFilt/deicode_adonis_WGS_BDN.qzv"
   ]
  },
  {
   "cell_type": "code",
   "execution_count": 62,
   "metadata": {},
   "outputs": [
    {
     "name": "stdout",
     "output_type": "stream",
     "text": [
      "\u001b[32mSaved Visualization to: ./Qiime_input_data/kuT2T_BIOFilt/deicode_adonis_WGS_BDN_seqcenter.qzv\u001b[0m\n",
      "\u001b[0m"
     ]
    }
   ],
   "source": [
    "!qiime diversity adonis \\\n",
    "--i-distance-matrix ./Qiime_input_data/kuT2T_BIOFilt/deicode_distance_WGS_BDN.qza \\\n",
    "--m-metadata-file ./Qiime_input_data/kuT2T_BIOFilt/metaData_WGS_BDN.txt \\\n",
    "--p-formula \"data_submitting_center_label\" \\\n",
    "--p-n-jobs 8 \\\n",
    "--o-visualization ./Qiime_input_data/kuT2T_BIOFilt/deicode_adonis_WGS_BDN_seqcenter.qzv"
   ]
  },
  {
   "cell_type": "markdown",
   "metadata": {},
   "source": [
    "# Qiime 2 Core Metrics - PT\n",
    "Note: Since beta diversity was calculated above using DEICODE above, we are mostly interested in the alpha diversity results."
   ]
  },
  {
   "cell_type": "markdown",
   "metadata": {},
   "source": [
    "### WIS - WGS\n",
    "Note the following sample read distribution from R:\n",
    "```\n",
    "[1] \"WGS\"\n",
    "   Min. 1st Qu.  Median    Mean 3rd Qu.    Max. \n",
    "    289    1829    3185   38668   10445 2219770\n",
    "```"
   ]
  },
  {
   "cell_type": "code",
   "execution_count": 63,
   "metadata": {},
   "outputs": [
    {
     "name": "stdout",
     "output_type": "stream",
     "text": [
      "\u001b[32mSaved FeatureTable[Frequency] to: ./core_metrics/kuT2T_WIS/pt_WGS_R1800/rarefied_table.qza\u001b[0m\n",
      "\u001b[32mSaved SampleData[AlphaDiversity] to: ./core_metrics/kuT2T_WIS/pt_WGS_R1800/observed_features_vector.qza\u001b[0m\n",
      "\u001b[32mSaved SampleData[AlphaDiversity] to: ./core_metrics/kuT2T_WIS/pt_WGS_R1800/shannon_vector.qza\u001b[0m\n",
      "\u001b[32mSaved SampleData[AlphaDiversity] to: ./core_metrics/kuT2T_WIS/pt_WGS_R1800/evenness_vector.qza\u001b[0m\n",
      "\u001b[32mSaved DistanceMatrix to: ./core_metrics/kuT2T_WIS/pt_WGS_R1800/jaccard_distance_matrix.qza\u001b[0m\n",
      "\u001b[32mSaved DistanceMatrix to: ./core_metrics/kuT2T_WIS/pt_WGS_R1800/bray_curtis_distance_matrix.qza\u001b[0m\n",
      "\u001b[32mSaved PCoAResults to: ./core_metrics/kuT2T_WIS/pt_WGS_R1800/jaccard_pcoa_results.qza\u001b[0m\n",
      "\u001b[32mSaved PCoAResults to: ./core_metrics/kuT2T_WIS/pt_WGS_R1800/bray_curtis_pcoa_results.qza\u001b[0m\n",
      "\u001b[32mSaved Visualization to: ./core_metrics/kuT2T_WIS/pt_WGS_R1800/jaccard_emperor.qzv\u001b[0m\n",
      "\u001b[32mSaved Visualization to: ./core_metrics/kuT2T_WIS/pt_WGS_R1800/bray_curtis_emperor.qzv\u001b[0m\n",
      "\u001b[0m"
     ]
    }
   ],
   "source": [
    "!qiime diversity core-metrics \\\n",
    "--i-table ./Qiime_input_data/kuT2T_WIS/countData_WGS_PT.qza \\\n",
    "--p-sampling-depth 1800 \\\n",
    "--m-metadata-file ./Qiime_input_data/kuT2T_WIS/metaData_WGS_PT.txt \\\n",
    "--output-dir ./core_metrics/kuT2T_WIS/pt_WGS_R1800/"
   ]
  },
  {
   "cell_type": "code",
   "execution_count": 64,
   "metadata": {},
   "outputs": [
    {
     "name": "stdout",
     "output_type": "stream",
     "text": [
      "\u001b[32mSaved Visualization to: ./core_metrics/kuT2T_WIS/pt_WGS_R1800/observed_features_vector_significance.qzv\u001b[0m\n",
      "\u001b[0m\u001b[32mSaved Visualization to: ./core_metrics/kuT2T_WIS/pt_WGS_R1800/shannon_vector_significance.qzv\u001b[0m\n",
      "\u001b[0m"
     ]
    }
   ],
   "source": [
    "!qiime diversity alpha-group-significance \\\n",
    "--i-alpha-diversity ./core_metrics/kuT2T_WIS/pt_WGS_R1800/observed_features_vector.qza \\\n",
    "--m-metadata-file ./Qiime_input_data/kuT2T_WIS/metaData_WGS_PT.txt \\\n",
    "--o-visualization ./core_metrics/kuT2T_WIS/pt_WGS_R1800/observed_features_vector_significance.qzv\n",
    "\n",
    "!qiime diversity alpha-group-significance \\\n",
    "--i-alpha-diversity ./core_metrics/kuT2T_WIS/pt_WGS_R1800/shannon_vector.qza \\\n",
    "--m-metadata-file ./Qiime_input_data/kuT2T_WIS/metaData_WGS_PT.txt \\\n",
    "--o-visualization ./core_metrics/kuT2T_WIS/pt_WGS_R1800/shannon_vector_significance.qzv"
   ]
  },
  {
   "cell_type": "code",
   "execution_count": 65,
   "metadata": {},
   "outputs": [
    {
     "name": "stdout",
     "output_type": "stream",
     "text": [
      "\u001b[32mSaved Visualization to: ./core_metrics/kuT2T_WIS/pt_WGS_R1800/jaccard_distance_matrix_significance.qzv\u001b[0m\n",
      "\u001b[0m\u001b[32mSaved Visualization to: ./core_metrics/kuT2T_WIS/pt_WGS_R1800/bray_curtis_distance_matrix_significance.qzv\u001b[0m\n",
      "\u001b[0m"
     ]
    }
   ],
   "source": [
    "!qiime diversity beta-group-significance \\\n",
    "--i-distance-matrix ./core_metrics/kuT2T_WIS/pt_WGS_R1800/jaccard_distance_matrix.qza \\\n",
    "--m-metadata-file ./Qiime_input_data/kuT2T_WIS/metaData_WGS_PT.txt \\\n",
    "--m-metadata-column investigation \\\n",
    "--o-visualization ./core_metrics/kuT2T_WIS/pt_WGS_R1800/jaccard_distance_matrix_significance.qzv\n",
    "\n",
    "!qiime diversity beta-group-significance \\\n",
    "--i-distance-matrix ./core_metrics/kuT2T_WIS/pt_WGS_R1800/bray_curtis_distance_matrix.qza \\\n",
    "--m-metadata-file ./Qiime_input_data/kuT2T_WIS/metaData_WGS_PT.txt \\\n",
    "--m-metadata-column investigation \\\n",
    "--o-visualization ./core_metrics/kuT2T_WIS/pt_WGS_R1800/bray_curtis_distance_matrix_significance.qzv"
   ]
  },
  {
   "cell_type": "markdown",
   "metadata": {},
   "source": [
    "### WIS - RNA\n",
    "Note the following sample read distribution from R:\n",
    "```\n",
    "[1] \"RNA\"\n",
    "   Min. 1st Qu.  Median    Mean 3rd Qu.    Max. \n",
    "     49    2246    8694  100260   23906 2934774 \n",
    "```"
   ]
  },
  {
   "cell_type": "code",
   "execution_count": 66,
   "metadata": {},
   "outputs": [
    {
     "name": "stdout",
     "output_type": "stream",
     "text": [
      "\u001b[32mSaved FeatureTable[Frequency] to: ./core_metrics/kuT2T_WIS/pt_RNA_R2200/rarefied_table.qza\u001b[0m\n",
      "\u001b[32mSaved SampleData[AlphaDiversity] to: ./core_metrics/kuT2T_WIS/pt_RNA_R2200/observed_features_vector.qza\u001b[0m\n",
      "\u001b[32mSaved SampleData[AlphaDiversity] to: ./core_metrics/kuT2T_WIS/pt_RNA_R2200/shannon_vector.qza\u001b[0m\n",
      "\u001b[32mSaved SampleData[AlphaDiversity] to: ./core_metrics/kuT2T_WIS/pt_RNA_R2200/evenness_vector.qza\u001b[0m\n",
      "\u001b[32mSaved DistanceMatrix to: ./core_metrics/kuT2T_WIS/pt_RNA_R2200/jaccard_distance_matrix.qza\u001b[0m\n",
      "\u001b[32mSaved DistanceMatrix to: ./core_metrics/kuT2T_WIS/pt_RNA_R2200/bray_curtis_distance_matrix.qza\u001b[0m\n",
      "\u001b[32mSaved PCoAResults to: ./core_metrics/kuT2T_WIS/pt_RNA_R2200/jaccard_pcoa_results.qza\u001b[0m\n",
      "\u001b[32mSaved PCoAResults to: ./core_metrics/kuT2T_WIS/pt_RNA_R2200/bray_curtis_pcoa_results.qza\u001b[0m\n",
      "\u001b[32mSaved Visualization to: ./core_metrics/kuT2T_WIS/pt_RNA_R2200/jaccard_emperor.qzv\u001b[0m\n",
      "\u001b[32mSaved Visualization to: ./core_metrics/kuT2T_WIS/pt_RNA_R2200/bray_curtis_emperor.qzv\u001b[0m\n",
      "\u001b[0m"
     ]
    }
   ],
   "source": [
    "!qiime diversity core-metrics \\\n",
    "--i-table ./Qiime_input_data/kuT2T_WIS/countData_RNA_PT.qza \\\n",
    "--p-sampling-depth 2200 \\\n",
    "--m-metadata-file ./Qiime_input_data/kuT2T_WIS/metaData_RNA_PT.txt \\\n",
    "--output-dir ./core_metrics/kuT2T_WIS/pt_RNA_R2200/"
   ]
  },
  {
   "cell_type": "code",
   "execution_count": 67,
   "metadata": {},
   "outputs": [
    {
     "name": "stdout",
     "output_type": "stream",
     "text": [
      "\u001b[32mSaved Visualization to: ./core_metrics/kuT2T_WIS/pt_RNA_R2200/observed_features_vector_significance.qzv\u001b[0m\n",
      "\u001b[0m\u001b[32mSaved Visualization to: ./core_metrics/kuT2T_WIS/pt_RNA_R2200/shannon_vector_significance.qzv\u001b[0m\n",
      "\u001b[0m"
     ]
    }
   ],
   "source": [
    "!qiime diversity alpha-group-significance \\\n",
    "--i-alpha-diversity ./core_metrics/kuT2T_WIS/pt_RNA_R2200/observed_features_vector.qza \\\n",
    "--m-metadata-file ./Qiime_input_data/kuT2T_WIS/metaData_RNA_PT.txt \\\n",
    "--o-visualization ./core_metrics/kuT2T_WIS/pt_RNA_R2200/observed_features_vector_significance.qzv\n",
    "\n",
    "!qiime diversity alpha-group-significance \\\n",
    "--i-alpha-diversity ./core_metrics/kuT2T_WIS/pt_RNA_R2200/shannon_vector.qza \\\n",
    "--m-metadata-file ./Qiime_input_data/kuT2T_WIS/metaData_RNA_PT.txt \\\n",
    "--o-visualization ./core_metrics/kuT2T_WIS/pt_RNA_R2200/shannon_vector_significance.qzv"
   ]
  },
  {
   "cell_type": "code",
   "execution_count": 68,
   "metadata": {},
   "outputs": [
    {
     "name": "stdout",
     "output_type": "stream",
     "text": [
      "\u001b[32mSaved Visualization to: ./core_metrics/kuT2T_WIS/pt_RNA_R2200/jaccard_distance_matrix_significance.qzv\u001b[0m\n",
      "\u001b[0m\u001b[32mSaved Visualization to: ./core_metrics/kuT2T_WIS/pt_RNA_R2200/bray_curtis_distance_matrix_significance.qzv\u001b[0m\n",
      "\u001b[0m"
     ]
    }
   ],
   "source": [
    "!qiime diversity beta-group-significance \\\n",
    "--i-distance-matrix ./core_metrics/kuT2T_WIS/pt_RNA_R2200/jaccard_distance_matrix.qza \\\n",
    "--m-metadata-file ./Qiime_input_data/kuT2T_WIS/metaData_RNA_PT.txt \\\n",
    "--m-metadata-column investigation \\\n",
    "--o-visualization ./core_metrics/kuT2T_WIS/pt_RNA_R2200/jaccard_distance_matrix_significance.qzv\n",
    "\n",
    "!qiime diversity beta-group-significance \\\n",
    "--i-distance-matrix ./core_metrics/kuT2T_WIS/pt_RNA_R2200/bray_curtis_distance_matrix.qza \\\n",
    "--m-metadata-file ./Qiime_input_data/kuT2T_WIS/metaData_RNA_PT.txt \\\n",
    "--m-metadata-column investigation \\\n",
    "--o-visualization ./core_metrics/kuT2T_WIS/pt_RNA_R2200/bray_curtis_distance_matrix_significance.qzv"
   ]
  },
  {
   "cell_type": "markdown",
   "metadata": {},
   "source": [
    "### BIO - WGS\n",
    "Note the following sample read distribution from R:\n",
    "```\n",
    "[1] \"WGS\"\n",
    "   Min. 1st Qu.  Median    Mean 3rd Qu.    Max. \n",
    "    323    2245    3872   40262   13518 2258747\n",
    "```"
   ]
  },
  {
   "cell_type": "code",
   "execution_count": 69,
   "metadata": {},
   "outputs": [
    {
     "name": "stdout",
     "output_type": "stream",
     "text": [
      "\u001b[32mSaved FeatureTable[Frequency] to: ./core_metrics/kuT2T_BIO/pt_WGS_R2200/rarefied_table.qza\u001b[0m\n",
      "\u001b[32mSaved SampleData[AlphaDiversity] to: ./core_metrics/kuT2T_BIO/pt_WGS_R2200/observed_features_vector.qza\u001b[0m\n",
      "\u001b[32mSaved SampleData[AlphaDiversity] to: ./core_metrics/kuT2T_BIO/pt_WGS_R2200/shannon_vector.qza\u001b[0m\n",
      "\u001b[32mSaved SampleData[AlphaDiversity] to: ./core_metrics/kuT2T_BIO/pt_WGS_R2200/evenness_vector.qza\u001b[0m\n",
      "\u001b[32mSaved DistanceMatrix to: ./core_metrics/kuT2T_BIO/pt_WGS_R2200/jaccard_distance_matrix.qza\u001b[0m\n",
      "\u001b[32mSaved DistanceMatrix to: ./core_metrics/kuT2T_BIO/pt_WGS_R2200/bray_curtis_distance_matrix.qza\u001b[0m\n",
      "\u001b[32mSaved PCoAResults to: ./core_metrics/kuT2T_BIO/pt_WGS_R2200/jaccard_pcoa_results.qza\u001b[0m\n",
      "\u001b[32mSaved PCoAResults to: ./core_metrics/kuT2T_BIO/pt_WGS_R2200/bray_curtis_pcoa_results.qza\u001b[0m\n",
      "\u001b[32mSaved Visualization to: ./core_metrics/kuT2T_BIO/pt_WGS_R2200/jaccard_emperor.qzv\u001b[0m\n",
      "\u001b[32mSaved Visualization to: ./core_metrics/kuT2T_BIO/pt_WGS_R2200/bray_curtis_emperor.qzv\u001b[0m\n",
      "\u001b[0m"
     ]
    }
   ],
   "source": [
    "!qiime diversity core-metrics \\\n",
    "--i-table ./Qiime_input_data/kuT2T_BIO/countData_WGS_PT.qza \\\n",
    "--p-sampling-depth 2200 \\\n",
    "--m-metadata-file ./Qiime_input_data/kuT2T_BIO/metaData_WGS_PT.txt \\\n",
    "--output-dir ./core_metrics/kuT2T_BIO/pt_WGS_R2200/"
   ]
  },
  {
   "cell_type": "code",
   "execution_count": 70,
   "metadata": {},
   "outputs": [
    {
     "name": "stdout",
     "output_type": "stream",
     "text": [
      "\u001b[32mSaved Visualization to: ./core_metrics/kuT2T_BIO/pt_WGS_R2200/observed_features_vector_significance.qzv\u001b[0m\n",
      "\u001b[0m\u001b[32mSaved Visualization to: ./core_metrics/kuT2T_BIO/pt_WGS_R2200/shannon_vector_significance.qzv\u001b[0m\n",
      "\u001b[0m"
     ]
    }
   ],
   "source": [
    "!qiime diversity alpha-group-significance \\\n",
    "--i-alpha-diversity ./core_metrics/kuT2T_BIO/pt_WGS_R2200/observed_features_vector.qza \\\n",
    "--m-metadata-file ./Qiime_input_data/kuT2T_BIO/metaData_WGS_PT.txt \\\n",
    "--o-visualization ./core_metrics/kuT2T_BIO/pt_WGS_R2200/observed_features_vector_significance.qzv\n",
    "\n",
    "!qiime diversity alpha-group-significance \\\n",
    "--i-alpha-diversity ./core_metrics/kuT2T_BIO/pt_WGS_R2200/shannon_vector.qza \\\n",
    "--m-metadata-file ./Qiime_input_data/kuT2T_BIO/metaData_WGS_PT.txt \\\n",
    "--o-visualization ./core_metrics/kuT2T_BIO/pt_WGS_R2200/shannon_vector_significance.qzv"
   ]
  },
  {
   "cell_type": "code",
   "execution_count": 71,
   "metadata": {},
   "outputs": [
    {
     "name": "stdout",
     "output_type": "stream",
     "text": [
      "\u001b[32mSaved Visualization to: ./core_metrics/kuT2T_BIO/pt_WGS_R2200/jaccard_distance_matrix_significance.qzv\u001b[0m\n",
      "\u001b[0m\u001b[32mSaved Visualization to: ./core_metrics/kuT2T_BIO/pt_WGS_R2200/bray_curtis_distance_matrix_significance.qzv\u001b[0m\n",
      "\u001b[0m"
     ]
    }
   ],
   "source": [
    "!qiime diversity beta-group-significance \\\n",
    "--i-distance-matrix ./core_metrics/kuT2T_BIO/pt_WGS_R2200/jaccard_distance_matrix.qza \\\n",
    "--m-metadata-file ./Qiime_input_data/kuT2T_BIO/metaData_WGS_PT.txt \\\n",
    "--m-metadata-column investigation \\\n",
    "--o-visualization ./core_metrics/kuT2T_BIO/pt_WGS_R2200/jaccard_distance_matrix_significance.qzv\n",
    "\n",
    "!qiime diversity beta-group-significance \\\n",
    "--i-distance-matrix ./core_metrics/kuT2T_BIO/pt_WGS_R2200/bray_curtis_distance_matrix.qza \\\n",
    "--m-metadata-file ./Qiime_input_data/kuT2T_BIO/metaData_WGS_PT.txt \\\n",
    "--m-metadata-column investigation \\\n",
    "--o-visualization ./core_metrics/kuT2T_BIO/pt_WGS_R2200/bray_curtis_distance_matrix_significance.qzv"
   ]
  },
  {
   "cell_type": "markdown",
   "metadata": {},
   "source": [
    "### BIO - RNA\n",
    "Note the following sample read distribution from R:\n",
    "```\n",
    "[1] \"RNA\"\n",
    "   Min. 1st Qu.  Median    Mean 3rd Qu.    Max. \n",
    "     84    3379   12682  124713   39452 3890153\n",
    "```"
   ]
  },
  {
   "cell_type": "code",
   "execution_count": 72,
   "metadata": {},
   "outputs": [
    {
     "name": "stdout",
     "output_type": "stream",
     "text": [
      "\u001b[32mSaved FeatureTable[Frequency] to: ./core_metrics/kuT2T_BIO/pt_RNA_R3400/rarefied_table.qza\u001b[0m\n",
      "\u001b[32mSaved SampleData[AlphaDiversity] to: ./core_metrics/kuT2T_BIO/pt_RNA_R3400/observed_features_vector.qza\u001b[0m\n",
      "\u001b[32mSaved SampleData[AlphaDiversity] to: ./core_metrics/kuT2T_BIO/pt_RNA_R3400/shannon_vector.qza\u001b[0m\n",
      "\u001b[32mSaved SampleData[AlphaDiversity] to: ./core_metrics/kuT2T_BIO/pt_RNA_R3400/evenness_vector.qza\u001b[0m\n",
      "\u001b[32mSaved DistanceMatrix to: ./core_metrics/kuT2T_BIO/pt_RNA_R3400/jaccard_distance_matrix.qza\u001b[0m\n",
      "\u001b[32mSaved DistanceMatrix to: ./core_metrics/kuT2T_BIO/pt_RNA_R3400/bray_curtis_distance_matrix.qza\u001b[0m\n",
      "\u001b[32mSaved PCoAResults to: ./core_metrics/kuT2T_BIO/pt_RNA_R3400/jaccard_pcoa_results.qza\u001b[0m\n",
      "\u001b[32mSaved PCoAResults to: ./core_metrics/kuT2T_BIO/pt_RNA_R3400/bray_curtis_pcoa_results.qza\u001b[0m\n",
      "\u001b[32mSaved Visualization to: ./core_metrics/kuT2T_BIO/pt_RNA_R3400/jaccard_emperor.qzv\u001b[0m\n",
      "\u001b[32mSaved Visualization to: ./core_metrics/kuT2T_BIO/pt_RNA_R3400/bray_curtis_emperor.qzv\u001b[0m\n",
      "\u001b[0m"
     ]
    }
   ],
   "source": [
    "!qiime diversity core-metrics \\\n",
    "--i-table ./Qiime_input_data/kuT2T_BIO/countData_RNA_PT.qza \\\n",
    "--p-sampling-depth 3400 \\\n",
    "--m-metadata-file ./Qiime_input_data/kuT2T_BIO/metaData_RNA_PT.txt \\\n",
    "--output-dir ./core_metrics/kuT2T_BIO/pt_RNA_R3400/"
   ]
  },
  {
   "cell_type": "code",
   "execution_count": 73,
   "metadata": {},
   "outputs": [
    {
     "name": "stdout",
     "output_type": "stream",
     "text": [
      "\u001b[32mSaved Visualization to: ./core_metrics/kuT2T_BIO/pt_RNA_R3400/observed_features_vector_significance.qzv\u001b[0m\n",
      "\u001b[0m\u001b[32mSaved Visualization to: ./core_metrics/kuT2T_BIO/pt_RNA_R3400/shannon_vector_significance.qzv\u001b[0m\n",
      "\u001b[0m"
     ]
    }
   ],
   "source": [
    "!qiime diversity alpha-group-significance \\\n",
    "--i-alpha-diversity ./core_metrics/kuT2T_BIO/pt_RNA_R3400/observed_features_vector.qza \\\n",
    "--m-metadata-file ./Qiime_input_data/kuT2T_BIO/metaData_RNA_PT.txt \\\n",
    "--o-visualization ./core_metrics/kuT2T_BIO/pt_RNA_R3400/observed_features_vector_significance.qzv\n",
    "\n",
    "!qiime diversity alpha-group-significance \\\n",
    "--i-alpha-diversity ./core_metrics/kuT2T_BIO/pt_RNA_R3400/shannon_vector.qza \\\n",
    "--m-metadata-file ./Qiime_input_data/kuT2T_BIO/metaData_RNA_PT.txt \\\n",
    "--o-visualization ./core_metrics/kuT2T_BIO/pt_RNA_R3400/shannon_vector_significance.qzv"
   ]
  },
  {
   "cell_type": "code",
   "execution_count": 74,
   "metadata": {},
   "outputs": [
    {
     "name": "stdout",
     "output_type": "stream",
     "text": [
      "\u001b[32mSaved Visualization to: ./core_metrics/kuT2T_BIO/pt_RNA_R3400/jaccard_distance_matrix_significance.qzv\u001b[0m\n",
      "\u001b[0m\u001b[32mSaved Visualization to: ./core_metrics/kuT2T_BIO/pt_RNA_R3400/bray_curtis_distance_matrix_significance.qzv\u001b[0m\n",
      "\u001b[0m"
     ]
    }
   ],
   "source": [
    "!qiime diversity beta-group-significance \\\n",
    "--i-distance-matrix ./core_metrics/kuT2T_BIO/pt_RNA_R3400/jaccard_distance_matrix.qza \\\n",
    "--m-metadata-file ./Qiime_input_data/kuT2T_BIO/metaData_RNA_PT.txt \\\n",
    "--m-metadata-column investigation \\\n",
    "--o-visualization ./core_metrics/kuT2T_BIO/pt_RNA_R3400/jaccard_distance_matrix_significance.qzv\n",
    "\n",
    "!qiime diversity beta-group-significance \\\n",
    "--i-distance-matrix ./core_metrics/kuT2T_BIO/pt_RNA_R3400/bray_curtis_distance_matrix.qza \\\n",
    "--m-metadata-file ./Qiime_input_data/kuT2T_BIO/metaData_RNA_PT.txt \\\n",
    "--m-metadata-column investigation \\\n",
    "--o-visualization ./core_metrics/kuT2T_BIO/pt_RNA_R3400/bray_curtis_distance_matrix_significance.qzv"
   ]
  },
  {
   "cell_type": "markdown",
   "metadata": {},
   "source": [
    "### Filt - WGS\n",
    "Note the following sample read distribution from R:\n",
    "```\n",
    "[1] \"WGS\"\n",
    "   Min. 1st Qu.  Median    Mean 3rd Qu.    Max. \n",
    "    717    8788   11581   55408   18529 3164714\n",
    "```"
   ]
  },
  {
   "cell_type": "code",
   "execution_count": 75,
   "metadata": {},
   "outputs": [
    {
     "name": "stdout",
     "output_type": "stream",
     "text": [
      "\u001b[32mSaved FeatureTable[Frequency] to: ./core_metrics/kuT2T_Filt/pt_WGS_R8800/rarefied_table.qza\u001b[0m\n",
      "\u001b[32mSaved SampleData[AlphaDiversity] to: ./core_metrics/kuT2T_Filt/pt_WGS_R8800/observed_features_vector.qza\u001b[0m\n",
      "\u001b[32mSaved SampleData[AlphaDiversity] to: ./core_metrics/kuT2T_Filt/pt_WGS_R8800/shannon_vector.qza\u001b[0m\n",
      "\u001b[32mSaved SampleData[AlphaDiversity] to: ./core_metrics/kuT2T_Filt/pt_WGS_R8800/evenness_vector.qza\u001b[0m\n",
      "\u001b[32mSaved DistanceMatrix to: ./core_metrics/kuT2T_Filt/pt_WGS_R8800/jaccard_distance_matrix.qza\u001b[0m\n",
      "\u001b[32mSaved DistanceMatrix to: ./core_metrics/kuT2T_Filt/pt_WGS_R8800/bray_curtis_distance_matrix.qza\u001b[0m\n",
      "\u001b[32mSaved PCoAResults to: ./core_metrics/kuT2T_Filt/pt_WGS_R8800/jaccard_pcoa_results.qza\u001b[0m\n",
      "\u001b[32mSaved PCoAResults to: ./core_metrics/kuT2T_Filt/pt_WGS_R8800/bray_curtis_pcoa_results.qza\u001b[0m\n",
      "\u001b[32mSaved Visualization to: ./core_metrics/kuT2T_Filt/pt_WGS_R8800/jaccard_emperor.qzv\u001b[0m\n",
      "\u001b[32mSaved Visualization to: ./core_metrics/kuT2T_Filt/pt_WGS_R8800/bray_curtis_emperor.qzv\u001b[0m\n",
      "\u001b[0m"
     ]
    }
   ],
   "source": [
    "!qiime diversity core-metrics \\\n",
    "--i-table ./Qiime_input_data/kuT2T_Filt/countData_WGS_PT.qza \\\n",
    "--p-sampling-depth 8800 \\\n",
    "--m-metadata-file ./Qiime_input_data/kuT2T_Filt/metaData_WGS_PT.txt \\\n",
    "--output-dir ./core_metrics/kuT2T_Filt/pt_WGS_R8800/"
   ]
  },
  {
   "cell_type": "code",
   "execution_count": 76,
   "metadata": {},
   "outputs": [
    {
     "name": "stdout",
     "output_type": "stream",
     "text": [
      "\u001b[32mSaved Visualization to: ./core_metrics/kuT2T_Filt/pt_WGS_R8800/observed_features_vector_significance.qzv\u001b[0m\n",
      "\u001b[0m\u001b[32mSaved Visualization to: ./core_metrics/kuT2T_Filt/pt_WGS_R8800/shannon_vector_significance.qzv\u001b[0m\n",
      "\u001b[0m"
     ]
    }
   ],
   "source": [
    "!qiime diversity alpha-group-significance \\\n",
    "--i-alpha-diversity ./core_metrics/kuT2T_Filt/pt_WGS_R8800/observed_features_vector.qza \\\n",
    "--m-metadata-file ./Qiime_input_data/kuT2T_Filt/metaData_WGS_PT.txt \\\n",
    "--o-visualization ./core_metrics/kuT2T_Filt/pt_WGS_R8800/observed_features_vector_significance.qzv\n",
    "\n",
    "!qiime diversity alpha-group-significance \\\n",
    "--i-alpha-diversity ./core_metrics/kuT2T_Filt/pt_WGS_R8800/shannon_vector.qza \\\n",
    "--m-metadata-file ./Qiime_input_data/kuT2T_Filt/metaData_WGS_PT.txt \\\n",
    "--o-visualization ./core_metrics/kuT2T_Filt/pt_WGS_R8800/shannon_vector_significance.qzv"
   ]
  },
  {
   "cell_type": "code",
   "execution_count": 77,
   "metadata": {},
   "outputs": [
    {
     "name": "stdout",
     "output_type": "stream",
     "text": [
      "\u001b[32mSaved Visualization to: ./core_metrics/kuT2T_Filt/pt_WGS_R8800/jaccard_distance_matrix_significance.qzv\u001b[0m\n",
      "\u001b[0m\u001b[32mSaved Visualization to: ./core_metrics/kuT2T_Filt/pt_WGS_R8800/bray_curtis_distance_matrix_significance.qzv\u001b[0m\n",
      "\u001b[0m"
     ]
    }
   ],
   "source": [
    "!qiime diversity beta-group-significance \\\n",
    "--i-distance-matrix ./core_metrics/kuT2T_Filt/pt_WGS_R8800/jaccard_distance_matrix.qza \\\n",
    "--m-metadata-file ./Qiime_input_data/kuT2T_Filt/metaData_WGS_PT.txt \\\n",
    "--m-metadata-column investigation \\\n",
    "--o-visualization ./core_metrics/kuT2T_Filt/pt_WGS_R8800/jaccard_distance_matrix_significance.qzv\n",
    "\n",
    "!qiime diversity beta-group-significance \\\n",
    "--i-distance-matrix ./core_metrics/kuT2T_Filt/pt_WGS_R8800/bray_curtis_distance_matrix.qza \\\n",
    "--m-metadata-file ./Qiime_input_data/kuT2T_Filt/metaData_WGS_PT.txt \\\n",
    "--m-metadata-column investigation \\\n",
    "--o-visualization ./core_metrics/kuT2T_Filt/pt_WGS_R8800/bray_curtis_distance_matrix_significance.qzv"
   ]
  },
  {
   "cell_type": "markdown",
   "metadata": {},
   "source": [
    "### Filt - RNA\n",
    "Note the following sample read distribution from R:\n",
    "```\n",
    "[1] \"RNA\"\n",
    "   Min. 1st Qu.  Median    Mean 3rd Qu.    Max. \n",
    "     80    5413   13798  124841   39326 3641345 \n",
    "```"
   ]
  },
  {
   "cell_type": "code",
   "execution_count": 78,
   "metadata": {},
   "outputs": [
    {
     "name": "stdout",
     "output_type": "stream",
     "text": [
      "\u001b[32mSaved FeatureTable[Frequency] to: ./core_metrics/kuT2T_Filt/pt_RNA_R5400/rarefied_table.qza\u001b[0m\n",
      "\u001b[32mSaved SampleData[AlphaDiversity] to: ./core_metrics/kuT2T_Filt/pt_RNA_R5400/observed_features_vector.qza\u001b[0m\n",
      "\u001b[32mSaved SampleData[AlphaDiversity] to: ./core_metrics/kuT2T_Filt/pt_RNA_R5400/shannon_vector.qza\u001b[0m\n",
      "\u001b[32mSaved SampleData[AlphaDiversity] to: ./core_metrics/kuT2T_Filt/pt_RNA_R5400/evenness_vector.qza\u001b[0m\n",
      "\u001b[32mSaved DistanceMatrix to: ./core_metrics/kuT2T_Filt/pt_RNA_R5400/jaccard_distance_matrix.qza\u001b[0m\n",
      "\u001b[32mSaved DistanceMatrix to: ./core_metrics/kuT2T_Filt/pt_RNA_R5400/bray_curtis_distance_matrix.qza\u001b[0m\n",
      "\u001b[32mSaved PCoAResults to: ./core_metrics/kuT2T_Filt/pt_RNA_R5400/jaccard_pcoa_results.qza\u001b[0m\n",
      "\u001b[32mSaved PCoAResults to: ./core_metrics/kuT2T_Filt/pt_RNA_R5400/bray_curtis_pcoa_results.qza\u001b[0m\n",
      "\u001b[32mSaved Visualization to: ./core_metrics/kuT2T_Filt/pt_RNA_R5400/jaccard_emperor.qzv\u001b[0m\n",
      "\u001b[32mSaved Visualization to: ./core_metrics/kuT2T_Filt/pt_RNA_R5400/bray_curtis_emperor.qzv\u001b[0m\n",
      "\u001b[0m"
     ]
    }
   ],
   "source": [
    "!qiime diversity core-metrics \\\n",
    "--i-table ./Qiime_input_data/kuT2T_Filt/countData_RNA_PT.qza \\\n",
    "--p-sampling-depth 5400 \\\n",
    "--m-metadata-file ./Qiime_input_data/kuT2T_Filt/metaData_RNA_PT.txt \\\n",
    "--output-dir ./core_metrics/kuT2T_Filt/pt_RNA_R5400/"
   ]
  },
  {
   "cell_type": "code",
   "execution_count": 79,
   "metadata": {},
   "outputs": [
    {
     "name": "stdout",
     "output_type": "stream",
     "text": [
      "\u001b[32mSaved Visualization to: ./core_metrics/kuT2T_Filt/pt_RNA_R5400/observed_features_vector_significance.qzv\u001b[0m\n",
      "\u001b[0m\u001b[32mSaved Visualization to: ./core_metrics/kuT2T_Filt/pt_RNA_R5400/shannon_vector_significance.qzv\u001b[0m\n",
      "\u001b[0m"
     ]
    }
   ],
   "source": [
    "!qiime diversity alpha-group-significance \\\n",
    "--i-alpha-diversity ./core_metrics/kuT2T_Filt/pt_RNA_R5400/observed_features_vector.qza \\\n",
    "--m-metadata-file ./Qiime_input_data/kuT2T_Filt/metaData_RNA_PT.txt \\\n",
    "--o-visualization ./core_metrics/kuT2T_Filt/pt_RNA_R5400/observed_features_vector_significance.qzv\n",
    "\n",
    "!qiime diversity alpha-group-significance \\\n",
    "--i-alpha-diversity ./core_metrics/kuT2T_Filt/pt_RNA_R5400/shannon_vector.qza \\\n",
    "--m-metadata-file ./Qiime_input_data/kuT2T_Filt/metaData_RNA_PT.txt \\\n",
    "--o-visualization ./core_metrics/kuT2T_Filt/pt_RNA_R5400/shannon_vector_significance.qzv"
   ]
  },
  {
   "cell_type": "code",
   "execution_count": 80,
   "metadata": {},
   "outputs": [
    {
     "name": "stdout",
     "output_type": "stream",
     "text": [
      "\u001b[32mSaved Visualization to: ./core_metrics/kuT2T_Filt/pt_RNA_R5400/jaccard_distance_matrix_significance.qzv\u001b[0m\n",
      "\u001b[0m\u001b[32mSaved Visualization to: ./core_metrics/kuT2T_Filt/pt_RNA_R5400/bray_curtis_distance_matrix_significance.qzv\u001b[0m\n",
      "\u001b[0m"
     ]
    }
   ],
   "source": [
    "!qiime diversity beta-group-significance \\\n",
    "--i-distance-matrix ./core_metrics/kuT2T_Filt/pt_RNA_R5400/jaccard_distance_matrix.qza \\\n",
    "--m-metadata-file ./Qiime_input_data/kuT2T_Filt/metaData_RNA_PT.txt \\\n",
    "--m-metadata-column investigation \\\n",
    "--o-visualization ./core_metrics/kuT2T_Filt/pt_RNA_R5400/jaccard_distance_matrix_significance.qzv\n",
    "\n",
    "!qiime diversity beta-group-significance \\\n",
    "--i-distance-matrix ./core_metrics/kuT2T_Filt/pt_RNA_R5400/bray_curtis_distance_matrix.qza \\\n",
    "--m-metadata-file ./Qiime_input_data/kuT2T_Filt/metaData_RNA_PT.txt \\\n",
    "--m-metadata-column investigation \\\n",
    "--o-visualization ./core_metrics/kuT2T_Filt/pt_RNA_R5400/bray_curtis_distance_matrix_significance.qzv"
   ]
  },
  {
   "cell_type": "markdown",
   "metadata": {},
   "source": [
    "### BIOFilt - WGS\n",
    "Note the following sample read distribution from R:\n",
    "```\n",
    "[1] \"WGS\"\n",
    "   Min. 1st Qu.  Median    Mean 3rd Qu.    Max. \n",
    "    702    8406   10443   51286   16561 2938892\n",
    "```"
   ]
  },
  {
   "cell_type": "code",
   "execution_count": 81,
   "metadata": {},
   "outputs": [
    {
     "name": "stdout",
     "output_type": "stream",
     "text": [
      "\u001b[32mSaved FeatureTable[Frequency] to: ./core_metrics/kuT2T_BIOFilt/pt_WGS_R8400/rarefied_table.qza\u001b[0m\n",
      "\u001b[32mSaved SampleData[AlphaDiversity] to: ./core_metrics/kuT2T_BIOFilt/pt_WGS_R8400/observed_features_vector.qza\u001b[0m\n",
      "\u001b[32mSaved SampleData[AlphaDiversity] to: ./core_metrics/kuT2T_BIOFilt/pt_WGS_R8400/shannon_vector.qza\u001b[0m\n",
      "\u001b[32mSaved SampleData[AlphaDiversity] to: ./core_metrics/kuT2T_BIOFilt/pt_WGS_R8400/evenness_vector.qza\u001b[0m\n",
      "\u001b[32mSaved DistanceMatrix to: ./core_metrics/kuT2T_BIOFilt/pt_WGS_R8400/jaccard_distance_matrix.qza\u001b[0m\n",
      "\u001b[32mSaved DistanceMatrix to: ./core_metrics/kuT2T_BIOFilt/pt_WGS_R8400/bray_curtis_distance_matrix.qza\u001b[0m\n",
      "\u001b[32mSaved PCoAResults to: ./core_metrics/kuT2T_BIOFilt/pt_WGS_R8400/jaccard_pcoa_results.qza\u001b[0m\n",
      "\u001b[32mSaved PCoAResults to: ./core_metrics/kuT2T_BIOFilt/pt_WGS_R8400/bray_curtis_pcoa_results.qza\u001b[0m\n",
      "\u001b[32mSaved Visualization to: ./core_metrics/kuT2T_BIOFilt/pt_WGS_R8400/jaccard_emperor.qzv\u001b[0m\n",
      "\u001b[32mSaved Visualization to: ./core_metrics/kuT2T_BIOFilt/pt_WGS_R8400/bray_curtis_emperor.qzv\u001b[0m\n",
      "\u001b[0m"
     ]
    }
   ],
   "source": [
    "!qiime diversity core-metrics \\\n",
    "--i-table ./Qiime_input_data/kuT2T_BIOFilt/countData_WGS_PT.qza \\\n",
    "--p-sampling-depth 8400 \\\n",
    "--m-metadata-file ./Qiime_input_data/kuT2T_BIOFilt/metaData_WGS_PT.txt \\\n",
    "--output-dir ./core_metrics/kuT2T_BIOFilt/pt_WGS_R8400/"
   ]
  },
  {
   "cell_type": "code",
   "execution_count": 82,
   "metadata": {},
   "outputs": [
    {
     "name": "stdout",
     "output_type": "stream",
     "text": [
      "\u001b[32mSaved Visualization to: ./core_metrics/kuT2T_BIOFilt/pt_WGS_R8400/observed_features_vector_significance.qzv\u001b[0m\n",
      "\u001b[0m\u001b[32mSaved Visualization to: ./core_metrics/kuT2T_BIOFilt/pt_WGS_R8400/shannon_vector_significance.qzv\u001b[0m\n",
      "\u001b[0m"
     ]
    }
   ],
   "source": [
    "!qiime diversity alpha-group-significance \\\n",
    "--i-alpha-diversity ./core_metrics/kuT2T_BIOFilt/pt_WGS_R8400/observed_features_vector.qza \\\n",
    "--m-metadata-file ./Qiime_input_data/kuT2T_BIOFilt/metaData_WGS_PT.txt \\\n",
    "--o-visualization ./core_metrics/kuT2T_BIOFilt/pt_WGS_R8400/observed_features_vector_significance.qzv\n",
    "\n",
    "!qiime diversity alpha-group-significance \\\n",
    "--i-alpha-diversity ./core_metrics/kuT2T_BIOFilt/pt_WGS_R8400/shannon_vector.qza \\\n",
    "--m-metadata-file ./Qiime_input_data/kuT2T_BIOFilt/metaData_WGS_PT.txt \\\n",
    "--o-visualization ./core_metrics/kuT2T_BIOFilt/pt_WGS_R8400/shannon_vector_significance.qzv"
   ]
  },
  {
   "cell_type": "code",
   "execution_count": 83,
   "metadata": {},
   "outputs": [
    {
     "name": "stdout",
     "output_type": "stream",
     "text": [
      "\u001b[32mSaved Visualization to: ./core_metrics/kuT2T_BIOFilt/pt_WGS_R8400/jaccard_distance_matrix_significance.qzv\u001b[0m\n",
      "\u001b[0m\u001b[32mSaved Visualization to: ./core_metrics/kuT2T_BIOFilt/pt_WGS_R8400/bray_curtis_distance_matrix_significance.qzv\u001b[0m\n",
      "\u001b[0m"
     ]
    }
   ],
   "source": [
    "!qiime diversity beta-group-significance \\\n",
    "--i-distance-matrix ./core_metrics/kuT2T_BIOFilt/pt_WGS_R8400/jaccard_distance_matrix.qza \\\n",
    "--m-metadata-file ./Qiime_input_data/kuT2T_BIOFilt/metaData_WGS_PT.txt \\\n",
    "--m-metadata-column investigation \\\n",
    "--o-visualization ./core_metrics/kuT2T_BIOFilt/pt_WGS_R8400/jaccard_distance_matrix_significance.qzv\n",
    "\n",
    "!qiime diversity beta-group-significance \\\n",
    "--i-distance-matrix ./core_metrics/kuT2T_BIOFilt/pt_WGS_R8400/bray_curtis_distance_matrix.qza \\\n",
    "--m-metadata-file ./Qiime_input_data/kuT2T_BIOFilt/metaData_WGS_PT.txt \\\n",
    "--m-metadata-column investigation \\\n",
    "--o-visualization ./core_metrics/kuT2T_BIOFilt/pt_WGS_R8400/bray_curtis_distance_matrix_significance.qzv"
   ]
  },
  {
   "cell_type": "markdown",
   "metadata": {},
   "source": [
    "### BIOFilt - RNA\n",
    "Note the following sample read distribution from R:\n",
    "```\n",
    "[1] \"RNA\"\n",
    "   Min. 1st Qu.  Median    Mean 3rd Qu.    Max. \n",
    "     80    5286   13693  124446   39098 3640926 \n",
    "```"
   ]
  },
  {
   "cell_type": "code",
   "execution_count": 84,
   "metadata": {},
   "outputs": [
    {
     "name": "stdout",
     "output_type": "stream",
     "text": [
      "\u001b[32mSaved FeatureTable[Frequency] to: ./core_metrics/kuT2T_BIOFilt/pt_RNA_R5300/rarefied_table.qza\u001b[0m\n",
      "\u001b[32mSaved SampleData[AlphaDiversity] to: ./core_metrics/kuT2T_BIOFilt/pt_RNA_R5300/observed_features_vector.qza\u001b[0m\n",
      "\u001b[32mSaved SampleData[AlphaDiversity] to: ./core_metrics/kuT2T_BIOFilt/pt_RNA_R5300/shannon_vector.qza\u001b[0m\n",
      "\u001b[32mSaved SampleData[AlphaDiversity] to: ./core_metrics/kuT2T_BIOFilt/pt_RNA_R5300/evenness_vector.qza\u001b[0m\n",
      "\u001b[32mSaved DistanceMatrix to: ./core_metrics/kuT2T_BIOFilt/pt_RNA_R5300/jaccard_distance_matrix.qza\u001b[0m\n",
      "\u001b[32mSaved DistanceMatrix to: ./core_metrics/kuT2T_BIOFilt/pt_RNA_R5300/bray_curtis_distance_matrix.qza\u001b[0m\n",
      "\u001b[32mSaved PCoAResults to: ./core_metrics/kuT2T_BIOFilt/pt_RNA_R5300/jaccard_pcoa_results.qza\u001b[0m\n",
      "\u001b[32mSaved PCoAResults to: ./core_metrics/kuT2T_BIOFilt/pt_RNA_R5300/bray_curtis_pcoa_results.qza\u001b[0m\n",
      "\u001b[32mSaved Visualization to: ./core_metrics/kuT2T_BIOFilt/pt_RNA_R5300/jaccard_emperor.qzv\u001b[0m\n",
      "\u001b[32mSaved Visualization to: ./core_metrics/kuT2T_BIOFilt/pt_RNA_R5300/bray_curtis_emperor.qzv\u001b[0m\n",
      "\u001b[0m"
     ]
    }
   ],
   "source": [
    "!qiime diversity core-metrics \\\n",
    "--i-table ./Qiime_input_data/kuT2T_BIOFilt/countData_RNA_PT.qza \\\n",
    "--p-sampling-depth 5300 \\\n",
    "--m-metadata-file ./Qiime_input_data/kuT2T_BIOFilt/metaData_RNA_PT.txt \\\n",
    "--output-dir ./core_metrics/kuT2T_BIOFilt/pt_RNA_R5300/"
   ]
  },
  {
   "cell_type": "code",
   "execution_count": 85,
   "metadata": {},
   "outputs": [
    {
     "name": "stdout",
     "output_type": "stream",
     "text": [
      "\u001b[32mSaved Visualization to: ./core_metrics/kuT2T_BIOFilt/pt_RNA_R5300/observed_features_vector_significance.qzv\u001b[0m\n",
      "\u001b[0m\u001b[32mSaved Visualization to: ./core_metrics/kuT2T_BIOFilt/pt_RNA_R5300/shannon_vector_significance.qzv\u001b[0m\n",
      "\u001b[0m"
     ]
    }
   ],
   "source": [
    "!qiime diversity alpha-group-significance \\\n",
    "--i-alpha-diversity ./core_metrics/kuT2T_BIOFilt/pt_RNA_R5300/observed_features_vector.qza \\\n",
    "--m-metadata-file ./Qiime_input_data/kuT2T_BIOFilt/metaData_RNA_PT.txt \\\n",
    "--o-visualization ./core_metrics/kuT2T_BIOFilt/pt_RNA_R5300/observed_features_vector_significance.qzv\n",
    "\n",
    "!qiime diversity alpha-group-significance \\\n",
    "--i-alpha-diversity ./core_metrics/kuT2T_BIOFilt/pt_RNA_R5300/shannon_vector.qza \\\n",
    "--m-metadata-file ./Qiime_input_data/kuT2T_BIOFilt/metaData_RNA_PT.txt \\\n",
    "--o-visualization ./core_metrics/kuT2T_BIOFilt/pt_RNA_R5300/shannon_vector_significance.qzv"
   ]
  },
  {
   "cell_type": "code",
   "execution_count": 86,
   "metadata": {},
   "outputs": [
    {
     "name": "stdout",
     "output_type": "stream",
     "text": [
      "\u001b[32mSaved Visualization to: ./core_metrics/kuT2T_BIOFilt/pt_RNA_R5300/jaccard_distance_matrix_significance.qzv\u001b[0m\n",
      "\u001b[0m\u001b[32mSaved Visualization to: ./core_metrics/kuT2T_BIOFilt/pt_RNA_R5300/bray_curtis_distance_matrix_significance.qzv\u001b[0m\n",
      "\u001b[0m"
     ]
    }
   ],
   "source": [
    "!qiime diversity beta-group-significance \\\n",
    "--i-distance-matrix ./core_metrics/kuT2T_BIOFilt/pt_RNA_R5300/jaccard_distance_matrix.qza \\\n",
    "--m-metadata-file ./Qiime_input_data/kuT2T_BIOFilt/metaData_RNA_PT.txt \\\n",
    "--m-metadata-column investigation \\\n",
    "--o-visualization ./core_metrics/kuT2T_BIOFilt/pt_RNA_R5300/jaccard_distance_matrix_significance.qzv\n",
    "\n",
    "!qiime diversity beta-group-significance \\\n",
    "--i-distance-matrix ./core_metrics/kuT2T_BIOFilt/pt_RNA_R5300/bray_curtis_distance_matrix.qza \\\n",
    "--m-metadata-file ./Qiime_input_data/kuT2T_BIOFilt/metaData_RNA_PT.txt \\\n",
    "--m-metadata-column investigation \\\n",
    "--o-visualization ./core_metrics/kuT2T_BIOFilt/pt_RNA_R5300/bray_curtis_distance_matrix_significance.qzv"
   ]
  },
  {
   "cell_type": "markdown",
   "metadata": {},
   "source": [
    "# Qiime 2 Core Metrics - BDN\n",
    "Note: Since beta diversity was calculated above using DEICODE above, we are mostly interested in the alpha diversity results."
   ]
  },
  {
   "cell_type": "markdown",
   "metadata": {},
   "source": [
    "### WIS\n",
    "Note the following sample read distribution from R:\n",
    "```\n",
    "[1] \"WGS\"\n",
    "   Min. 1st Qu.  Median    Mean 3rd Qu.    Max. \n",
    "    277    1735    2978   15886    7522  720652\n",
    "```"
   ]
  },
  {
   "cell_type": "code",
   "execution_count": 87,
   "metadata": {},
   "outputs": [
    {
     "name": "stdout",
     "output_type": "stream",
     "text": [
      "\u001b[32mSaved FeatureTable[Frequency] to: ./core_metrics/kuT2T_WIS/bdn_WGS_R1700/rarefied_table.qza\u001b[0m\n",
      "\u001b[32mSaved SampleData[AlphaDiversity] to: ./core_metrics/kuT2T_WIS/bdn_WGS_R1700/observed_features_vector.qza\u001b[0m\n",
      "\u001b[32mSaved SampleData[AlphaDiversity] to: ./core_metrics/kuT2T_WIS/bdn_WGS_R1700/shannon_vector.qza\u001b[0m\n",
      "\u001b[32mSaved SampleData[AlphaDiversity] to: ./core_metrics/kuT2T_WIS/bdn_WGS_R1700/evenness_vector.qza\u001b[0m\n",
      "\u001b[32mSaved DistanceMatrix to: ./core_metrics/kuT2T_WIS/bdn_WGS_R1700/jaccard_distance_matrix.qza\u001b[0m\n",
      "\u001b[32mSaved DistanceMatrix to: ./core_metrics/kuT2T_WIS/bdn_WGS_R1700/bray_curtis_distance_matrix.qza\u001b[0m\n",
      "\u001b[32mSaved PCoAResults to: ./core_metrics/kuT2T_WIS/bdn_WGS_R1700/jaccard_pcoa_results.qza\u001b[0m\n",
      "\u001b[32mSaved PCoAResults to: ./core_metrics/kuT2T_WIS/bdn_WGS_R1700/bray_curtis_pcoa_results.qza\u001b[0m\n",
      "\u001b[32mSaved Visualization to: ./core_metrics/kuT2T_WIS/bdn_WGS_R1700/jaccard_emperor.qzv\u001b[0m\n",
      "\u001b[32mSaved Visualization to: ./core_metrics/kuT2T_WIS/bdn_WGS_R1700/bray_curtis_emperor.qzv\u001b[0m\n",
      "\u001b[0m"
     ]
    }
   ],
   "source": [
    "!qiime diversity core-metrics \\\n",
    "--i-table ./Qiime_input_data/kuT2T_WIS/countData_WGS_BDN.qza \\\n",
    "--p-sampling-depth 1700 \\\n",
    "--m-metadata-file ./Qiime_input_data/kuT2T_WIS/metaData_WGS_BDN.txt \\\n",
    "--output-dir ./core_metrics/kuT2T_WIS/bdn_WGS_R1700/"
   ]
  },
  {
   "cell_type": "code",
   "execution_count": 88,
   "metadata": {},
   "outputs": [
    {
     "name": "stdout",
     "output_type": "stream",
     "text": [
      "\u001b[32mSaved Visualization to: ./core_metrics/kuT2T_WIS/bdn_WGS_R1700/observed_features_vector_significance.qzv\u001b[0m\n",
      "\u001b[0m\u001b[32mSaved Visualization to: ./core_metrics/kuT2T_WIS/bdn_WGS_R1700/shannon_vector_significance.qzv\u001b[0m\n",
      "\u001b[0m"
     ]
    }
   ],
   "source": [
    "!qiime diversity alpha-group-significance \\\n",
    "--i-alpha-diversity ./core_metrics/kuT2T_WIS/bdn_WGS_R1700/observed_features_vector.qza \\\n",
    "--m-metadata-file ./Qiime_input_data/kuT2T_WIS/metaData_WGS_BDN.txt \\\n",
    "--o-visualization ./core_metrics/kuT2T_WIS/bdn_WGS_R1700/observed_features_vector_significance.qzv\n",
    "\n",
    "!qiime diversity alpha-group-significance \\\n",
    "--i-alpha-diversity ./core_metrics/kuT2T_WIS/bdn_WGS_R1700/shannon_vector.qza \\\n",
    "--m-metadata-file ./Qiime_input_data/kuT2T_WIS/metaData_WGS_BDN.txt \\\n",
    "--o-visualization ./core_metrics/kuT2T_WIS/bdn_WGS_R1700/shannon_vector_significance.qzv"
   ]
  },
  {
   "cell_type": "code",
   "execution_count": 89,
   "metadata": {},
   "outputs": [
    {
     "name": "stdout",
     "output_type": "stream",
     "text": [
      "\u001b[32mSaved Visualization to: ./core_metrics/kuT2T_WIS/bdn_WGS_R1700/jaccard_distance_matrix_significance.qzv\u001b[0m\n",
      "\u001b[0m\u001b[32mSaved Visualization to: ./core_metrics/kuT2T_WIS/bdn_WGS_R1700/bray_curtis_distance_matrix_significance.qzv\u001b[0m\n",
      "\u001b[0m"
     ]
    }
   ],
   "source": [
    "!qiime diversity beta-group-significance \\\n",
    "--i-distance-matrix ./core_metrics/kuT2T_WIS/bdn_WGS_R1700/jaccard_distance_matrix.qza \\\n",
    "--m-metadata-file ./Qiime_input_data/kuT2T_WIS/metaData_WGS_BDN.txt \\\n",
    "--m-metadata-column investigation \\\n",
    "--o-visualization ./core_metrics/kuT2T_WIS/bdn_WGS_R1700/jaccard_distance_matrix_significance.qzv\n",
    "\n",
    "!qiime diversity beta-group-significance \\\n",
    "--i-distance-matrix ./core_metrics/kuT2T_WIS/bdn_WGS_R1700/bray_curtis_distance_matrix.qza \\\n",
    "--m-metadata-file ./Qiime_input_data/kuT2T_WIS/metaData_WGS_BDN.txt \\\n",
    "--m-metadata-column investigation \\\n",
    "--o-visualization ./core_metrics/kuT2T_WIS/bdn_WGS_R1700/bray_curtis_distance_matrix_significance.qzv"
   ]
  },
  {
   "cell_type": "markdown",
   "metadata": {},
   "source": [
    "### BIO\n",
    "Note the following sample read distribution from R:\n",
    "```\n",
    "[1] \"WGS\"\n",
    "   Min. 1st Qu.  Median    Mean 3rd Qu.    Max. \n",
    "    373    2182    4082   17511    9911  744395\n",
    "```"
   ]
  },
  {
   "cell_type": "code",
   "execution_count": 90,
   "metadata": {},
   "outputs": [
    {
     "name": "stdout",
     "output_type": "stream",
     "text": [
      "\u001b[32mSaved FeatureTable[Frequency] to: ./core_metrics/kuT2T_BIO/bdn_WGS_R2200/rarefied_table.qza\u001b[0m\n",
      "\u001b[32mSaved SampleData[AlphaDiversity] to: ./core_metrics/kuT2T_BIO/bdn_WGS_R2200/observed_features_vector.qza\u001b[0m\n",
      "\u001b[32mSaved SampleData[AlphaDiversity] to: ./core_metrics/kuT2T_BIO/bdn_WGS_R2200/shannon_vector.qza\u001b[0m\n",
      "\u001b[32mSaved SampleData[AlphaDiversity] to: ./core_metrics/kuT2T_BIO/bdn_WGS_R2200/evenness_vector.qza\u001b[0m\n",
      "\u001b[32mSaved DistanceMatrix to: ./core_metrics/kuT2T_BIO/bdn_WGS_R2200/jaccard_distance_matrix.qza\u001b[0m\n",
      "\u001b[32mSaved DistanceMatrix to: ./core_metrics/kuT2T_BIO/bdn_WGS_R2200/bray_curtis_distance_matrix.qza\u001b[0m\n",
      "\u001b[32mSaved PCoAResults to: ./core_metrics/kuT2T_BIO/bdn_WGS_R2200/jaccard_pcoa_results.qza\u001b[0m\n",
      "\u001b[32mSaved PCoAResults to: ./core_metrics/kuT2T_BIO/bdn_WGS_R2200/bray_curtis_pcoa_results.qza\u001b[0m\n",
      "\u001b[32mSaved Visualization to: ./core_metrics/kuT2T_BIO/bdn_WGS_R2200/jaccard_emperor.qzv\u001b[0m\n",
      "\u001b[32mSaved Visualization to: ./core_metrics/kuT2T_BIO/bdn_WGS_R2200/bray_curtis_emperor.qzv\u001b[0m\n",
      "\u001b[0m"
     ]
    }
   ],
   "source": [
    "!qiime diversity core-metrics \\\n",
    "--i-table ./Qiime_input_data/kuT2T_BIO/countData_WGS_BDN.qza \\\n",
    "--p-sampling-depth 2200 \\\n",
    "--m-metadata-file ./Qiime_input_data/kuT2T_BIO/metaData_WGS_BDN.txt \\\n",
    "--output-dir ./core_metrics/kuT2T_BIO/bdn_WGS_R2200/"
   ]
  },
  {
   "cell_type": "code",
   "execution_count": 91,
   "metadata": {},
   "outputs": [
    {
     "name": "stdout",
     "output_type": "stream",
     "text": [
      "\u001b[32mSaved Visualization to: ./core_metrics/kuT2T_BIO/bdn_WGS_R2200/observed_features_vector_significance.qzv\u001b[0m\n",
      "\u001b[0m\u001b[32mSaved Visualization to: ./core_metrics/kuT2T_BIO/bdn_WGS_R2200/shannon_vector_significance.qzv\u001b[0m\n",
      "\u001b[0m"
     ]
    }
   ],
   "source": [
    "!qiime diversity alpha-group-significance \\\n",
    "--i-alpha-diversity ./core_metrics/kuT2T_BIO/bdn_WGS_R2200/observed_features_vector.qza \\\n",
    "--m-metadata-file ./Qiime_input_data/kuT2T_BIO/metaData_WGS_BDN.txt \\\n",
    "--o-visualization ./core_metrics/kuT2T_BIO/bdn_WGS_R2200/observed_features_vector_significance.qzv\n",
    "\n",
    "!qiime diversity alpha-group-significance \\\n",
    "--i-alpha-diversity ./core_metrics/kuT2T_BIO/bdn_WGS_R2200/shannon_vector.qza \\\n",
    "--m-metadata-file ./Qiime_input_data/kuT2T_BIO/metaData_WGS_BDN.txt \\\n",
    "--o-visualization ./core_metrics/kuT2T_BIO/bdn_WGS_R2200/shannon_vector_significance.qzv"
   ]
  },
  {
   "cell_type": "code",
   "execution_count": 92,
   "metadata": {},
   "outputs": [
    {
     "name": "stdout",
     "output_type": "stream",
     "text": [
      "\u001b[32mSaved Visualization to: ./core_metrics/kuT2T_BIO/bdn_WGS_R2200/jaccard_distance_matrix_significance.qzv\u001b[0m\n",
      "\u001b[0m\u001b[32mSaved Visualization to: ./core_metrics/kuT2T_BIO/bdn_WGS_R2200/bray_curtis_distance_matrix_significance.qzv\u001b[0m\n",
      "\u001b[0m"
     ]
    }
   ],
   "source": [
    "!qiime diversity beta-group-significance \\\n",
    "--i-distance-matrix ./core_metrics/kuT2T_BIO/bdn_WGS_R2200/jaccard_distance_matrix.qza \\\n",
    "--m-metadata-file ./Qiime_input_data/kuT2T_BIO/metaData_WGS_BDN.txt \\\n",
    "--m-metadata-column investigation \\\n",
    "--o-visualization ./core_metrics/kuT2T_BIO/bdn_WGS_R2200/jaccard_distance_matrix_significance.qzv\n",
    "\n",
    "!qiime diversity beta-group-significance \\\n",
    "--i-distance-matrix ./core_metrics/kuT2T_BIO/bdn_WGS_R2200/bray_curtis_distance_matrix.qza \\\n",
    "--m-metadata-file ./Qiime_input_data/kuT2T_BIO/metaData_WGS_BDN.txt \\\n",
    "--m-metadata-column investigation \\\n",
    "--o-visualization ./core_metrics/kuT2T_BIO/bdn_WGS_R2200/bray_curtis_distance_matrix_significance.qzv"
   ]
  },
  {
   "cell_type": "markdown",
   "metadata": {},
   "source": [
    "### Filt\n",
    "Note the following sample read distribution from R:\n",
    "```\n",
    "[1] \"WGS\"\n",
    "   Min. 1st Qu.  Median    Mean 3rd Qu.    Max. \n",
    "    395    6202    6967   11478    9443  588798\n",
    "```"
   ]
  },
  {
   "cell_type": "code",
   "execution_count": 93,
   "metadata": {},
   "outputs": [
    {
     "name": "stdout",
     "output_type": "stream",
     "text": [
      "\u001b[32mSaved FeatureTable[Frequency] to: ./core_metrics/kuT2T_Filt/bdn_WGS_R6200/rarefied_table.qza\u001b[0m\n",
      "\u001b[32mSaved SampleData[AlphaDiversity] to: ./core_metrics/kuT2T_Filt/bdn_WGS_R6200/observed_features_vector.qza\u001b[0m\n",
      "\u001b[32mSaved SampleData[AlphaDiversity] to: ./core_metrics/kuT2T_Filt/bdn_WGS_R6200/shannon_vector.qza\u001b[0m\n",
      "\u001b[32mSaved SampleData[AlphaDiversity] to: ./core_metrics/kuT2T_Filt/bdn_WGS_R6200/evenness_vector.qza\u001b[0m\n",
      "\u001b[32mSaved DistanceMatrix to: ./core_metrics/kuT2T_Filt/bdn_WGS_R6200/jaccard_distance_matrix.qza\u001b[0m\n",
      "\u001b[32mSaved DistanceMatrix to: ./core_metrics/kuT2T_Filt/bdn_WGS_R6200/bray_curtis_distance_matrix.qza\u001b[0m\n",
      "\u001b[32mSaved PCoAResults to: ./core_metrics/kuT2T_Filt/bdn_WGS_R6200/jaccard_pcoa_results.qza\u001b[0m\n",
      "\u001b[32mSaved PCoAResults to: ./core_metrics/kuT2T_Filt/bdn_WGS_R6200/bray_curtis_pcoa_results.qza\u001b[0m\n",
      "\u001b[32mSaved Visualization to: ./core_metrics/kuT2T_Filt/bdn_WGS_R6200/jaccard_emperor.qzv\u001b[0m\n",
      "\u001b[32mSaved Visualization to: ./core_metrics/kuT2T_Filt/bdn_WGS_R6200/bray_curtis_emperor.qzv\u001b[0m\n",
      "\u001b[0m"
     ]
    }
   ],
   "source": [
    "!qiime diversity core-metrics \\\n",
    "--i-table ./Qiime_input_data/kuT2T_Filt/countData_WGS_BDN.qza \\\n",
    "--p-sampling-depth 6200 \\\n",
    "--m-metadata-file ./Qiime_input_data/kuT2T_Filt/metaData_WGS_BDN.txt \\\n",
    "--output-dir ./core_metrics/kuT2T_Filt/bdn_WGS_R6200/"
   ]
  },
  {
   "cell_type": "code",
   "execution_count": 94,
   "metadata": {},
   "outputs": [
    {
     "name": "stdout",
     "output_type": "stream",
     "text": [
      "\u001b[32mSaved Visualization to: ./core_metrics/kuT2T_Filt/bdn_WGS_R6200/observed_features_vector_significance.qzv\u001b[0m\n",
      "\u001b[0m\u001b[32mSaved Visualization to: ./core_metrics/kuT2T_Filt/bdn_WGS_R6200/shannon_vector_significance.qzv\u001b[0m\n",
      "\u001b[0m"
     ]
    }
   ],
   "source": [
    "!qiime diversity alpha-group-significance \\\n",
    "--i-alpha-diversity ./core_metrics/kuT2T_Filt/bdn_WGS_R6200/observed_features_vector.qza \\\n",
    "--m-metadata-file ./Qiime_input_data/kuT2T_Filt/metaData_WGS_BDN.txt \\\n",
    "--o-visualization ./core_metrics/kuT2T_Filt/bdn_WGS_R6200/observed_features_vector_significance.qzv\n",
    "\n",
    "!qiime diversity alpha-group-significance \\\n",
    "--i-alpha-diversity ./core_metrics/kuT2T_Filt/bdn_WGS_R6200/shannon_vector.qza \\\n",
    "--m-metadata-file ./Qiime_input_data/kuT2T_Filt/metaData_WGS_BDN.txt \\\n",
    "--o-visualization ./core_metrics/kuT2T_Filt/bdn_WGS_R6200/shannon_vector_significance.qzv"
   ]
  },
  {
   "cell_type": "code",
   "execution_count": 95,
   "metadata": {},
   "outputs": [
    {
     "name": "stdout",
     "output_type": "stream",
     "text": [
      "\u001b[32mSaved Visualization to: ./core_metrics/kuT2T_Filt/bdn_WGS_R6200/jaccard_distance_matrix_significance.qzv\u001b[0m\n",
      "\u001b[0m\u001b[32mSaved Visualization to: ./core_metrics/kuT2T_Filt/bdn_WGS_R6200/bray_curtis_distance_matrix_significance.qzv\u001b[0m\n",
      "\u001b[0m"
     ]
    }
   ],
   "source": [
    "!qiime diversity beta-group-significance \\\n",
    "--i-distance-matrix ./core_metrics/kuT2T_Filt/bdn_WGS_R6200/jaccard_distance_matrix.qza \\\n",
    "--m-metadata-file ./Qiime_input_data/kuT2T_Filt/metaData_WGS_BDN.txt \\\n",
    "--m-metadata-column investigation \\\n",
    "--o-visualization ./core_metrics/kuT2T_Filt/bdn_WGS_R6200/jaccard_distance_matrix_significance.qzv\n",
    "\n",
    "!qiime diversity beta-group-significance \\\n",
    "--i-distance-matrix ./core_metrics/kuT2T_Filt/bdn_WGS_R6200/bray_curtis_distance_matrix.qza \\\n",
    "--m-metadata-file ./Qiime_input_data/kuT2T_Filt/metaData_WGS_BDN.txt \\\n",
    "--m-metadata-column investigation \\\n",
    "--o-visualization ./core_metrics/kuT2T_Filt/bdn_WGS_R6200/bray_curtis_distance_matrix_significance.qzv"
   ]
  },
  {
   "cell_type": "markdown",
   "metadata": {},
   "source": [
    "### BIOFilt\n",
    "Note the following sample read distribution from R:\n",
    "```\n",
    "[1] \"WGS\"\n",
    "   Min. 1st Qu.  Median    Mean 3rd Qu.    Max. \n",
    "    395    5925    6590   10902    9050  524324 \n",
    "```"
   ]
  },
  {
   "cell_type": "code",
   "execution_count": 96,
   "metadata": {},
   "outputs": [
    {
     "name": "stdout",
     "output_type": "stream",
     "text": [
      "\u001b[32mSaved FeatureTable[Frequency] to: ./core_metrics/kuT2T_BIOFilt/bdn_WGS_R5900/rarefied_table.qza\u001b[0m\n",
      "\u001b[32mSaved SampleData[AlphaDiversity] to: ./core_metrics/kuT2T_BIOFilt/bdn_WGS_R5900/observed_features_vector.qza\u001b[0m\n",
      "\u001b[32mSaved SampleData[AlphaDiversity] to: ./core_metrics/kuT2T_BIOFilt/bdn_WGS_R5900/shannon_vector.qza\u001b[0m\n",
      "\u001b[32mSaved SampleData[AlphaDiversity] to: ./core_metrics/kuT2T_BIOFilt/bdn_WGS_R5900/evenness_vector.qza\u001b[0m\n",
      "\u001b[32mSaved DistanceMatrix to: ./core_metrics/kuT2T_BIOFilt/bdn_WGS_R5900/jaccard_distance_matrix.qza\u001b[0m\n",
      "\u001b[32mSaved DistanceMatrix to: ./core_metrics/kuT2T_BIOFilt/bdn_WGS_R5900/bray_curtis_distance_matrix.qza\u001b[0m\n",
      "\u001b[32mSaved PCoAResults to: ./core_metrics/kuT2T_BIOFilt/bdn_WGS_R5900/jaccard_pcoa_results.qza\u001b[0m\n",
      "\u001b[32mSaved PCoAResults to: ./core_metrics/kuT2T_BIOFilt/bdn_WGS_R5900/bray_curtis_pcoa_results.qza\u001b[0m\n",
      "\u001b[32mSaved Visualization to: ./core_metrics/kuT2T_BIOFilt/bdn_WGS_R5900/jaccard_emperor.qzv\u001b[0m\n",
      "\u001b[32mSaved Visualization to: ./core_metrics/kuT2T_BIOFilt/bdn_WGS_R5900/bray_curtis_emperor.qzv\u001b[0m\n",
      "\u001b[0m"
     ]
    }
   ],
   "source": [
    "!qiime diversity core-metrics \\\n",
    "--i-table ./Qiime_input_data/kuT2T_BIOFilt/countData_WGS_BDN.qza \\\n",
    "--p-sampling-depth 5900 \\\n",
    "--m-metadata-file ./Qiime_input_data/kuT2T_BIOFilt/metaData_WGS_BDN.txt \\\n",
    "--output-dir ./core_metrics/kuT2T_BIOFilt/bdn_WGS_R5900/"
   ]
  },
  {
   "cell_type": "code",
   "execution_count": 97,
   "metadata": {},
   "outputs": [
    {
     "name": "stdout",
     "output_type": "stream",
     "text": [
      "\u001b[32mSaved Visualization to: ./core_metrics/kuT2T_BIOFilt/bdn_WGS_R5900/observed_features_vector_significance.qzv\u001b[0m\n",
      "\u001b[0m\u001b[32mSaved Visualization to: ./core_metrics/kuT2T_BIOFilt/bdn_WGS_R5900/shannon_vector_significance.qzv\u001b[0m\n",
      "\u001b[0m"
     ]
    }
   ],
   "source": [
    "!qiime diversity alpha-group-significance \\\n",
    "--i-alpha-diversity ./core_metrics/kuT2T_BIOFilt/bdn_WGS_R5900/observed_features_vector.qza \\\n",
    "--m-metadata-file ./Qiime_input_data/kuT2T_BIOFilt/metaData_WGS_BDN.txt \\\n",
    "--o-visualization ./core_metrics/kuT2T_BIOFilt/bdn_WGS_R5900/observed_features_vector_significance.qzv\n",
    "\n",
    "!qiime diversity alpha-group-significance \\\n",
    "--i-alpha-diversity ./core_metrics/kuT2T_BIOFilt/bdn_WGS_R5900/shannon_vector.qza \\\n",
    "--m-metadata-file ./Qiime_input_data/kuT2T_BIOFilt/metaData_WGS_BDN.txt \\\n",
    "--o-visualization ./core_metrics/kuT2T_BIOFilt/bdn_WGS_R5900/shannon_vector_significance.qzv"
   ]
  },
  {
   "cell_type": "code",
   "execution_count": 98,
   "metadata": {},
   "outputs": [
    {
     "name": "stdout",
     "output_type": "stream",
     "text": [
      "\u001b[32mSaved Visualization to: ./core_metrics/kuT2T_BIOFilt/bdn_WGS_R5900/jaccard_distance_matrix_significance.qzv\u001b[0m\n",
      "\u001b[0m\u001b[32mSaved Visualization to: ./core_metrics/kuT2T_BIOFilt/bdn_WGS_R5900/bray_curtis_distance_matrix_significance.qzv\u001b[0m\n",
      "\u001b[0m"
     ]
    }
   ],
   "source": [
    "!qiime diversity beta-group-significance \\\n",
    "--i-distance-matrix ./core_metrics/kuT2T_BIOFilt/bdn_WGS_R5900/jaccard_distance_matrix.qza \\\n",
    "--m-metadata-file ./Qiime_input_data/kuT2T_BIOFilt/metaData_WGS_BDN.txt \\\n",
    "--m-metadata-column investigation \\\n",
    "--o-visualization ./core_metrics/kuT2T_BIOFilt/bdn_WGS_R5900/jaccard_distance_matrix_significance.qzv\n",
    "\n",
    "!qiime diversity beta-group-significance \\\n",
    "--i-distance-matrix ./core_metrics/kuT2T_BIOFilt/bdn_WGS_R5900/bray_curtis_distance_matrix.qza \\\n",
    "--m-metadata-file ./Qiime_input_data/kuT2T_BIOFilt/metaData_WGS_BDN.txt \\\n",
    "--m-metadata-column investigation \\\n",
    "--o-visualization ./core_metrics/kuT2T_BIOFilt/bdn_WGS_R5900/bray_curtis_distance_matrix_significance.qzv"
   ]
  },
  {
   "cell_type": "markdown",
   "metadata": {},
   "source": [
    "# Figures for the paper\n",
    "\n",
    "- Emperor (https://biocore.github.io/emperor/) will be used to view the beta diversity PCoA plots (again using https://view.qiime2.org/) and capture screenshots for the PCoA figures"
   ]
  },
  {
   "cell_type": "code",
   "execution_count": null,
   "metadata": {},
   "outputs": [],
   "source": []
  }
 ],
 "metadata": {
  "kernelspec": {
   "display_name": "Python 3 (ipykernel)",
   "language": "python",
   "name": "python3"
  },
  "language_info": {
   "codemirror_mode": {
    "name": "ipython",
    "version": 3
   },
   "file_extension": ".py",
   "mimetype": "text/x-python",
   "name": "python",
   "nbconvert_exporter": "python",
   "pygments_lexer": "ipython3",
   "version": "3.8.13"
  }
 },
 "nbformat": 4,
 "nbformat_minor": 2
}
