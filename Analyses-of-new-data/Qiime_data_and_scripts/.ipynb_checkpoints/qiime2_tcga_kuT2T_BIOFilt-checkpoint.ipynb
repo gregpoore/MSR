{
 "cells": [
  {
   "cell_type": "markdown",
   "metadata": {},
   "source": [
    "The following conda environment for Qiime 2 was used for these analyses:\n",
    "\n",
    ">qiime2-2022.2\n",
    "\n",
    "The following commands were run using the command line interface (CLI) of Qiime 2."
   ]
  },
  {
   "cell_type": "markdown",
   "metadata": {},
   "source": [
    "# Import Taxa table"
   ]
  },
  {
   "cell_type": "code",
   "execution_count": 1,
   "metadata": {},
   "outputs": [
    {
     "name": "stdout",
     "output_type": "stream",
     "text": [
      "\u001b[32mImported ./Qiime_input_data/ku-taxa.txt as TSVTaxonomyDirectoryFormat to kuTaxonomy.qza\u001b[0m\r\n",
      "\u001b[0m"
     ]
    }
   ],
   "source": [
    "!qiime tools import \\\n",
    " --type 'FeatureData[Taxonomy]' \\\n",
    " --input-path ./Qiime_input_data/ku-taxa.txt \\\n",
    " --output-path kuTaxonomy.qza"
   ]
  },
  {
   "cell_type": "markdown",
   "metadata": {},
   "source": [
    "# Import PT data"
   ]
  },
  {
   "cell_type": "code",
   "execution_count": 2,
   "metadata": {},
   "outputs": [
    {
     "name": "stdout",
     "output_type": "stream",
     "text": [
      "\u001b[32mImported ./Qiime_input_data/kuT2T_Filt/countData_HMS_PT.biom as BIOMV100Format to ./Qiime_input_data/kuT2T_Filt/countData_HMS_PT.qza\u001b[0m\r\n",
      "\u001b[0m"
     ]
    }
   ],
   "source": [
    "!qiime tools import \\\n",
    "--type 'FeatureTable[Frequency]' \\\n",
    "--input-path ./Qiime_input_data/kuT2T_Filt/countData_HMS_PT.biom \\\n",
    "--input-format BIOMV100Format \\\n",
    "--output-path ./Qiime_input_data/kuT2T_Filt/countData_HMS_PT.qza"
   ]
  },
  {
   "cell_type": "code",
   "execution_count": 3,
   "metadata": {},
   "outputs": [
    {
     "name": "stdout",
     "output_type": "stream",
     "text": [
      "\u001b[32mImported ./Qiime_input_data/kuT2T_Filt/countData_BCM_PT.biom as BIOMV100Format to ./Qiime_input_data/kuT2T_Filt/countData_BCM_PT.qza\u001b[0m\n",
      "\u001b[0m"
     ]
    }
   ],
   "source": [
    "!qiime tools import \\\n",
    "--type 'FeatureTable[Frequency]' \\\n",
    "--input-path ./Qiime_input_data/kuT2T_Filt/countData_BCM_PT.biom \\\n",
    "--input-format BIOMV100Format \\\n",
    "--output-path ./Qiime_input_data/kuT2T_Filt/countData_BCM_PT.qza"
   ]
  },
  {
   "cell_type": "code",
   "execution_count": 4,
   "metadata": {},
   "outputs": [
    {
     "name": "stdout",
     "output_type": "stream",
     "text": [
      "\u001b[32mImported ./Qiime_input_data/kuT2T_Filt/countData_MDA_PT.biom as BIOMV100Format to ./Qiime_input_data/kuT2T_Filt/countData_MDA_PT.qza\u001b[0m\n",
      "\u001b[0m"
     ]
    }
   ],
   "source": [
    "!qiime tools import \\\n",
    "--type 'FeatureTable[Frequency]' \\\n",
    "--input-path ./Qiime_input_data/kuT2T_Filt/countData_MDA_PT.biom \\\n",
    "--input-format BIOMV100Format \\\n",
    "--output-path ./Qiime_input_data/kuT2T_Filt/countData_MDA_PT.qza"
   ]
  },
  {
   "cell_type": "code",
   "execution_count": 5,
   "metadata": {},
   "outputs": [
    {
     "name": "stdout",
     "output_type": "stream",
     "text": [
      "\u001b[32mImported ./Qiime_input_data/kuT2T_Filt/countData_WashU_PT.biom as BIOMV100Format to ./Qiime_input_data/kuT2T_Filt/countData_WashU_PT.qza\u001b[0m\r\n",
      "\u001b[0m"
     ]
    }
   ],
   "source": [
    "!qiime tools import \\\n",
    "--type 'FeatureTable[Frequency]' \\\n",
    "--input-path ./Qiime_input_data/kuT2T_Filt/countData_WashU_PT.biom \\\n",
    "--input-format BIOMV100Format \\\n",
    "--output-path ./Qiime_input_data/kuT2T_Filt/countData_WashU_PT.qza"
   ]
  },
  {
   "cell_type": "code",
   "execution_count": 6,
   "metadata": {},
   "outputs": [
    {
     "name": "stdout",
     "output_type": "stream",
     "text": [
      "\u001b[32mImported ./Qiime_input_data/kuT2T_Filt/countData_Broad_WGS_PT.biom as BIOMV100Format to ./Qiime_input_data/kuT2T_Filt/countData_Broad_WGS_PT.qza\u001b[0m\r\n",
      "\u001b[0m"
     ]
    }
   ],
   "source": [
    "!qiime tools import \\\n",
    "--type 'FeatureTable[Frequency]' \\\n",
    "--input-path ./Qiime_input_data/kuT2T_Filt/countData_Broad_WGS_PT.biom \\\n",
    "--input-format BIOMV100Format \\\n",
    "--output-path ./Qiime_input_data/kuT2T_Filt/countData_Broad_WGS_PT.qza"
   ]
  },
  {
   "cell_type": "code",
   "execution_count": 7,
   "metadata": {},
   "outputs": [
    {
     "name": "stdout",
     "output_type": "stream",
     "text": [
      "\u001b[32mImported ./Qiime_input_data/kuT2T_Filt/countData_UNC_PT.biom as BIOMV100Format to ./Qiime_input_data/kuT2T_Filt/countData_UNC_PT.qza\u001b[0m\r\n",
      "\u001b[0m"
     ]
    }
   ],
   "source": [
    "!qiime tools import \\\n",
    "--type 'FeatureTable[Frequency]' \\\n",
    "--input-path ./Qiime_input_data/kuT2T_Filt/countData_UNC_PT.biom \\\n",
    "--input-format BIOMV100Format \\\n",
    "--output-path ./Qiime_input_data/kuT2T_Filt/countData_UNC_PT.qza"
   ]
  },
  {
   "cell_type": "code",
   "execution_count": 8,
   "metadata": {},
   "outputs": [
    {
     "name": "stdout",
     "output_type": "stream",
     "text": [
      "\u001b[32mImported ./Qiime_input_data/kuT2T_Filt/countData_CMS_PT.biom as BIOMV100Format to ./Qiime_input_data/kuT2T_Filt/countData_CMS_PT.qza\u001b[0m\r\n",
      "\u001b[0m"
     ]
    }
   ],
   "source": [
    "!qiime tools import \\\n",
    "--type 'FeatureTable[Frequency]' \\\n",
    "--input-path ./Qiime_input_data/kuT2T_Filt/countData_CMS_PT.biom \\\n",
    "--input-format BIOMV100Format \\\n",
    "--output-path ./Qiime_input_data/kuT2T_Filt/countData_CMS_PT.qza"
   ]
  },
  {
   "cell_type": "markdown",
   "metadata": {},
   "source": [
    "# Import BDN data"
   ]
  },
  {
   "cell_type": "code",
   "execution_count": 9,
   "metadata": {},
   "outputs": [
    {
     "name": "stdout",
     "output_type": "stream",
     "text": [
      "\u001b[32mImported ./Qiime_input_data/kuT2T_Filt/countData_HMS_BDN.biom as BIOMV100Format to ./Qiime_input_data/kuT2T_Filt/countData_HMS_BDN.qza\u001b[0m\r\n",
      "\u001b[0m"
     ]
    }
   ],
   "source": [
    "!qiime tools import \\\n",
    "--type 'FeatureTable[Frequency]' \\\n",
    "--input-path ./Qiime_input_data/kuT2T_Filt/countData_HMS_BDN.biom \\\n",
    "--input-format BIOMV100Format \\\n",
    "--output-path ./Qiime_input_data/kuT2T_Filt/countData_HMS_BDN.qza"
   ]
  },
  {
   "cell_type": "code",
   "execution_count": 10,
   "metadata": {},
   "outputs": [
    {
     "name": "stdout",
     "output_type": "stream",
     "text": [
      "\u001b[32mImported ./Qiime_input_data/kuT2T_Filt/countData_BCM_BDN.biom as BIOMV100Format to ./Qiime_input_data/kuT2T_Filt/countData_BCM_BDN.qza\u001b[0m\r\n",
      "\u001b[0m"
     ]
    }
   ],
   "source": [
    "!qiime tools import \\\n",
    "--type 'FeatureTable[Frequency]' \\\n",
    "--input-path ./Qiime_input_data/kuT2T_Filt/countData_BCM_BDN.biom \\\n",
    "--input-format BIOMV100Format \\\n",
    "--output-path ./Qiime_input_data/kuT2T_Filt/countData_BCM_BDN.qza"
   ]
  },
  {
   "cell_type": "code",
   "execution_count": 11,
   "metadata": {},
   "outputs": [
    {
     "name": "stdout",
     "output_type": "stream",
     "text": [
      "\u001b[32mImported ./Qiime_input_data/kuT2T_Filt/countData_MDA_BDN.biom as BIOMV100Format to ./Qiime_input_data/kuT2T_Filt/countData_MDA_BDN.qza\u001b[0m\r\n",
      "\u001b[0m"
     ]
    }
   ],
   "source": [
    "!qiime tools import \\\n",
    "--type 'FeatureTable[Frequency]' \\\n",
    "--input-path ./Qiime_input_data/kuT2T_Filt/countData_MDA_BDN.biom \\\n",
    "--input-format BIOMV100Format \\\n",
    "--output-path ./Qiime_input_data/kuT2T_Filt/countData_MDA_BDN.qza"
   ]
  },
  {
   "cell_type": "code",
   "execution_count": 12,
   "metadata": {},
   "outputs": [
    {
     "name": "stdout",
     "output_type": "stream",
     "text": [
      "\u001b[32mImported ./Qiime_input_data/kuT2T_Filt/countData_WashU_BDN.biom as BIOMV100Format to ./Qiime_input_data/kuT2T_Filt/countData_WashU_BDN.qza\u001b[0m\r\n",
      "\u001b[0m"
     ]
    }
   ],
   "source": [
    "!qiime tools import \\\n",
    "--type 'FeatureTable[Frequency]' \\\n",
    "--input-path ./Qiime_input_data/kuT2T_Filt/countData_WashU_BDN.biom \\\n",
    "--input-format BIOMV100Format \\\n",
    "--output-path ./Qiime_input_data/kuT2T_Filt/countData_WashU_BDN.qza"
   ]
  },
  {
   "cell_type": "code",
   "execution_count": 13,
   "metadata": {
    "scrolled": true
   },
   "outputs": [
    {
     "name": "stdout",
     "output_type": "stream",
     "text": [
      "\u001b[32mImported ./Qiime_input_data/kuT2T_Filt/countData_Broad_WGS_BDN.biom as BIOMV100Format to ./Qiime_input_data/kuT2T_Filt/countData_Broad_WGS_BDN.qza\u001b[0m\r\n",
      "\u001b[0m"
     ]
    }
   ],
   "source": [
    "!qiime tools import \\\n",
    "--type 'FeatureTable[Frequency]' \\\n",
    "--input-path ./Qiime_input_data/kuT2T_Filt/countData_Broad_WGS_BDN.biom \\\n",
    "--input-format BIOMV100Format \\\n",
    "--output-path ./Qiime_input_data/kuT2T_Filt/countData_Broad_WGS_BDN.qza"
   ]
  },
  {
   "cell_type": "markdown",
   "metadata": {},
   "source": [
    "# Deicode for PT (beta diversity that does not require rarefaction)\n",
    "\n",
    "Martino et al. 2019. mSystems. See the following links:\n",
    "- https://journals.asm.org/doi/10.1128/mSystems.00016-19\n",
    "- https://forum.qiime2.org/t/robust-aitchison-pca-beta-diversity-with-deicode/8333"
   ]
  },
  {
   "cell_type": "markdown",
   "metadata": {},
   "source": [
    "### Harvard Medical School (HMS)"
   ]
  },
  {
   "cell_type": "code",
   "execution_count": 14,
   "metadata": {
    "scrolled": true
   },
   "outputs": [
    {
     "name": "stdout",
     "output_type": "stream",
     "text": [
      "\u001b[32mSaved PCoAResults % Properties('biplot') to: ./Qiime_input_data/kuT2T_Filt/deicode_ordination_HMS_PT.qza\u001b[0m\n",
      "\u001b[32mSaved DistanceMatrix to: ./Qiime_input_data/kuT2T_Filt/deicode_distance_HMS_PT.qza\u001b[0m\n",
      "\u001b[0m"
     ]
    }
   ],
   "source": [
    "!qiime deicode rpca \\\n",
    "    --i-table ./Qiime_input_data/kuT2T_Filt/countData_HMS_PT.qza \\\n",
    "    --o-biplot ./Qiime_input_data/kuT2T_Filt/deicode_ordination_HMS_PT.qza \\\n",
    "    --p-min-sample-count 100 \\\n",
    "    --o-distance-matrix ./Qiime_input_data/kuT2T_Filt/deicode_distance_HMS_PT.qza"
   ]
  },
  {
   "cell_type": "code",
   "execution_count": 15,
   "metadata": {},
   "outputs": [
    {
     "name": "stdout",
     "output_type": "stream",
     "text": [
      "\u001b[32mSaved Visualization to: ./Qiime_input_data/kuT2T_Filt/deicode_biplot_HMS_PT.qzv\u001b[0m\r\n",
      "\u001b[0m"
     ]
    }
   ],
   "source": [
    "!qiime emperor biplot \\\n",
    "    --i-biplot ./Qiime_input_data/kuT2T_Filt/deicode_ordination_HMS_PT.qza \\\n",
    "    --m-sample-metadata-file ./Qiime_input_data/kuT2T_Filt/metaData_HMS_PT.txt \\\n",
    "    --m-feature-metadata-file kuTaxonomy.qza \\\n",
    "    --o-visualization ./Qiime_input_data/kuT2T_Filt/deicode_biplot_HMS_PT.qzv \\\n",
    "    --p-number-of-features 1"
   ]
  },
  {
   "cell_type": "code",
   "execution_count": 16,
   "metadata": {},
   "outputs": [
    {
     "name": "stdout",
     "output_type": "stream",
     "text": [
      "\u001b[32mSaved Visualization to: ./Qiime_input_data/kuT2T_Filt/deicode_adonis_HMS_PT.qzv\u001b[0m\n",
      "\u001b[0m"
     ]
    }
   ],
   "source": [
    "!qiime diversity adonis \\\n",
    "--i-distance-matrix ./Qiime_input_data/kuT2T_Filt/deicode_distance_HMS_PT.qza \\\n",
    "--m-metadata-file ./Qiime_input_data/kuT2T_Filt/metaData_HMS_PT.txt \\\n",
    "--p-formula \"investigation\" \\\n",
    "--p-n-jobs 8 \\\n",
    "--o-visualization ./Qiime_input_data/kuT2T_Filt/deicode_adonis_HMS_PT.qzv"
   ]
  },
  {
   "cell_type": "markdown",
   "metadata": {},
   "source": [
    "### Baylor College of Medicine (BCM)"
   ]
  },
  {
   "cell_type": "code",
   "execution_count": 17,
   "metadata": {},
   "outputs": [
    {
     "name": "stdout",
     "output_type": "stream",
     "text": [
      "\u001b[32mSaved PCoAResults % Properties('biplot') to: ./Qiime_input_data/kuT2T_Filt/deicode_ordination_BCM_PT.qza\u001b[0m\n",
      "\u001b[32mSaved DistanceMatrix to: ./Qiime_input_data/kuT2T_Filt/deicode_distance_BCM_PT.qza\u001b[0m\n",
      "\u001b[0m"
     ]
    }
   ],
   "source": [
    "!qiime deicode rpca \\\n",
    "    --i-table ./Qiime_input_data/kuT2T_Filt/countData_BCM_PT.qza \\\n",
    "    --o-biplot ./Qiime_input_data/kuT2T_Filt/deicode_ordination_BCM_PT.qza \\\n",
    "    --p-min-sample-count 100 \\\n",
    "    --o-distance-matrix ./Qiime_input_data/kuT2T_Filt/deicode_distance_BCM_PT.qza"
   ]
  },
  {
   "cell_type": "code",
   "execution_count": 18,
   "metadata": {},
   "outputs": [
    {
     "name": "stdout",
     "output_type": "stream",
     "text": [
      "\u001b[32mSaved Visualization to: ./Qiime_input_data/kuT2T_Filt/deicode_biplot_BCM_PT.qzv\u001b[0m\r\n",
      "\u001b[0m"
     ]
    }
   ],
   "source": [
    "!qiime emperor biplot \\\n",
    "    --i-biplot ./Qiime_input_data/kuT2T_Filt/deicode_ordination_BCM_PT.qza \\\n",
    "    --m-sample-metadata-file ./Qiime_input_data/kuT2T_Filt/metaData_BCM_PT.txt \\\n",
    "    --m-feature-metadata-file kuTaxonomy.qza \\\n",
    "    --o-visualization ./Qiime_input_data/kuT2T_Filt/deicode_biplot_BCM_PT.qzv \\\n",
    "    --p-number-of-features 1"
   ]
  },
  {
   "cell_type": "code",
   "execution_count": 19,
   "metadata": {},
   "outputs": [
    {
     "name": "stdout",
     "output_type": "stream",
     "text": [
      "\u001b[32mSaved Visualization to: ./Qiime_input_data/kuT2T_Filt/deicode_adonis_BCM_PT.qzv\u001b[0m\r\n",
      "\u001b[0m"
     ]
    }
   ],
   "source": [
    "!qiime diversity adonis \\\n",
    "--i-distance-matrix ./Qiime_input_data/kuT2T_Filt/deicode_distance_BCM_PT.qza \\\n",
    "--m-metadata-file ./Qiime_input_data/kuT2T_Filt/metaData_BCM_PT.txt \\\n",
    "--p-formula \"investigation\" \\\n",
    "--p-n-jobs 8 \\\n",
    "--o-visualization ./Qiime_input_data/kuT2T_Filt/deicode_adonis_BCM_PT.qzv"
   ]
  },
  {
   "cell_type": "markdown",
   "metadata": {},
   "source": [
    "### MD Anderson (MDA)"
   ]
  },
  {
   "cell_type": "code",
   "execution_count": 20,
   "metadata": {},
   "outputs": [
    {
     "name": "stdout",
     "output_type": "stream",
     "text": [
      "\u001b[32mSaved PCoAResults % Properties('biplot') to: ./Qiime_input_data/kuT2T_Filt/deicode_ordination_MDA_PT.qza\u001b[0m\r\n",
      "\u001b[32mSaved DistanceMatrix to: ./Qiime_input_data/kuT2T_Filt/deicode_distance_MDA_PT.qza\u001b[0m\r\n",
      "\u001b[0m"
     ]
    }
   ],
   "source": [
    "!qiime deicode rpca \\\n",
    "    --i-table ./Qiime_input_data/kuT2T_Filt/countData_MDA_PT.qza \\\n",
    "    --o-biplot ./Qiime_input_data/kuT2T_Filt/deicode_ordination_MDA_PT.qza \\\n",
    "    --p-min-sample-count 25 \\\n",
    "    --o-distance-matrix ./Qiime_input_data/kuT2T_Filt/deicode_distance_MDA_PT.qza"
   ]
  },
  {
   "cell_type": "code",
   "execution_count": 21,
   "metadata": {},
   "outputs": [
    {
     "name": "stdout",
     "output_type": "stream",
     "text": [
      "\u001b[32mSaved Visualization to: ./Qiime_input_data/kuT2T_Filt/deicode_biplot_MDA_PT.qzv\u001b[0m\r\n",
      "\u001b[0m"
     ]
    }
   ],
   "source": [
    "!qiime emperor biplot \\\n",
    "    --i-biplot ./Qiime_input_data/kuT2T_Filt/deicode_ordination_MDA_PT.qza \\\n",
    "    --m-sample-metadata-file ./Qiime_input_data/kuT2T_Filt/metaData_MDA_PT.txt \\\n",
    "    --m-feature-metadata-file kuTaxonomy.qza \\\n",
    "    --o-visualization ./Qiime_input_data/kuT2T_Filt/deicode_biplot_MDA_PT.qzv \\\n",
    "    --p-number-of-features 1"
   ]
  },
  {
   "cell_type": "code",
   "execution_count": 22,
   "metadata": {},
   "outputs": [
    {
     "name": "stdout",
     "output_type": "stream",
     "text": [
      "\u001b[32mSaved Visualization to: ./Qiime_input_data/kuT2T_Filt/deicode_adonis_MDA_PT.qzv\u001b[0m\n",
      "\u001b[0m"
     ]
    }
   ],
   "source": [
    "!qiime diversity adonis \\\n",
    "    --i-distance-matrix ./Qiime_input_data/kuT2T_Filt/deicode_distance_MDA_PT.qza \\\n",
    "    --m-metadata-file ./Qiime_input_data/kuT2T_Filt/metaData_MDA_PT.txt \\\n",
    "    --p-formula \"investigation\" \\\n",
    "    --p-n-jobs 8 \\\n",
    "    --o-visualization ./Qiime_input_data/kuT2T_Filt/deicode_adonis_MDA_PT.qzv"
   ]
  },
  {
   "cell_type": "markdown",
   "metadata": {},
   "source": [
    "### Washington University (WashU)"
   ]
  },
  {
   "cell_type": "code",
   "execution_count": 23,
   "metadata": {},
   "outputs": [
    {
     "name": "stdout",
     "output_type": "stream",
     "text": [
      "\u001b[32mSaved PCoAResults % Properties('biplot') to: ./Qiime_input_data/kuT2T_Filt/deicode_ordination_WashU_PT.qza\u001b[0m\n",
      "\u001b[32mSaved DistanceMatrix to: ./Qiime_input_data/kuT2T_Filt/deicode_distance_WashU_PT.qza\u001b[0m\n",
      "\u001b[0m"
     ]
    }
   ],
   "source": [
    "!qiime deicode rpca \\\n",
    "    --i-table ./Qiime_input_data/kuT2T_Filt/countData_WashU_PT.qza \\\n",
    "    --o-biplot ./Qiime_input_data/kuT2T_Filt/deicode_ordination_WashU_PT.qza \\\n",
    "    --p-min-sample-count 100 \\\n",
    "    --o-distance-matrix ./Qiime_input_data/kuT2T_Filt/deicode_distance_WashU_PT.qza"
   ]
  },
  {
   "cell_type": "code",
   "execution_count": 24,
   "metadata": {},
   "outputs": [
    {
     "name": "stdout",
     "output_type": "stream",
     "text": [
      "\u001b[32mSaved Visualization to: ./Qiime_input_data/kuT2T_Filt/deicode_biplot_WashU_PT.qzv\u001b[0m\n",
      "\u001b[0m"
     ]
    }
   ],
   "source": [
    "!qiime emperor biplot \\\n",
    "    --i-biplot ./Qiime_input_data/kuT2T_Filt/deicode_ordination_WashU_PT.qza \\\n",
    "    --m-sample-metadata-file ./Qiime_input_data/kuT2T_Filt/metaData_WashU_PT.txt \\\n",
    "    --m-feature-metadata-file kuTaxonomy.qza \\\n",
    "    --o-visualization ./Qiime_input_data/kuT2T_Filt/deicode_biplot_WashU_PT.qzv \\\n",
    "    --p-number-of-features 1"
   ]
  },
  {
   "cell_type": "code",
   "execution_count": 25,
   "metadata": {},
   "outputs": [
    {
     "name": "stdout",
     "output_type": "stream",
     "text": [
      "\u001b[32mSaved Visualization to: ./Qiime_input_data/kuT2T_Filt/deicode_adonis_WashU_PT.qzv\u001b[0m\r\n",
      "\u001b[0m"
     ]
    }
   ],
   "source": [
    "!qiime diversity adonis \\\n",
    "    --i-distance-matrix ./Qiime_input_data/kuT2T_Filt/deicode_distance_WashU_PT.qza \\\n",
    "    --m-metadata-file ./Qiime_input_data/kuT2T_Filt/metaData_WashU_PT.txt \\\n",
    "    --p-formula \"investigation\" \\\n",
    "    --p-n-jobs 8 \\\n",
    "    --o-visualization ./Qiime_input_data/kuT2T_Filt/deicode_adonis_WashU_PT.qzv"
   ]
  },
  {
   "cell_type": "markdown",
   "metadata": {},
   "source": [
    "### Broad Institute WGS (Broad_WGS)"
   ]
  },
  {
   "cell_type": "code",
   "execution_count": 26,
   "metadata": {},
   "outputs": [
    {
     "name": "stdout",
     "output_type": "stream",
     "text": [
      "\u001b[32mSaved PCoAResults % Properties('biplot') to: ./Qiime_input_data/kuT2T_Filt/deicode_ordination_Broad_WGS_PT.qza\u001b[0m\n",
      "\u001b[32mSaved DistanceMatrix to: ./Qiime_input_data/kuT2T_Filt/deicode_distance_Broad_WGS_PT.qza\u001b[0m\n",
      "\u001b[0m"
     ]
    }
   ],
   "source": [
    "!qiime deicode rpca \\\n",
    "    --i-table ./Qiime_input_data/kuT2T_Filt/countData_Broad_WGS_PT.qza \\\n",
    "    --o-biplot ./Qiime_input_data/kuT2T_Filt/deicode_ordination_Broad_WGS_PT.qza \\\n",
    "    --p-min-sample-count 100 \\\n",
    "    --o-distance-matrix ./Qiime_input_data/kuT2T_Filt/deicode_distance_Broad_WGS_PT.qza"
   ]
  },
  {
   "cell_type": "code",
   "execution_count": 27,
   "metadata": {},
   "outputs": [
    {
     "name": "stdout",
     "output_type": "stream",
     "text": [
      "\u001b[32mSaved Visualization to: ./Qiime_input_data/kuT2T_Filt/deicode_biplot_Broad_WGS_PT.qzv\u001b[0m\r\n",
      "\u001b[0m"
     ]
    }
   ],
   "source": [
    "!qiime emperor biplot \\\n",
    "    --i-biplot ./Qiime_input_data/kuT2T_Filt/deicode_ordination_Broad_WGS_PT.qza \\\n",
    "    --m-sample-metadata-file ./Qiime_input_data/kuT2T_Filt/metaData_Broad_WGS_PT.txt \\\n",
    "    --m-feature-metadata-file kuTaxonomy.qza \\\n",
    "    --o-visualization ./Qiime_input_data/kuT2T_Filt/deicode_biplot_Broad_WGS_PT.qzv \\\n",
    "    --p-number-of-features 1"
   ]
  },
  {
   "cell_type": "code",
   "execution_count": 28,
   "metadata": {},
   "outputs": [
    {
     "name": "stdout",
     "output_type": "stream",
     "text": [
      "\u001b[32mSaved Visualization to: ./Qiime_input_data/kuT2T_Filt/deicode_adonis_Broad_WGS_PT.qzv\u001b[0m\n",
      "\u001b[0m"
     ]
    }
   ],
   "source": [
    "!qiime diversity adonis \\\n",
    "    --i-distance-matrix ./Qiime_input_data/kuT2T_Filt/deicode_distance_Broad_WGS_PT.qza \\\n",
    "    --m-metadata-file ./Qiime_input_data/kuT2T_Filt/metaData_Broad_WGS_PT.txt \\\n",
    "    --p-formula \"investigation\" \\\n",
    "    --p-n-jobs 8 \\\n",
    "    --o-visualization ./Qiime_input_data/kuT2T_Filt/deicode_adonis_Broad_WGS_PT.qzv"
   ]
  },
  {
   "cell_type": "markdown",
   "metadata": {},
   "source": [
    "### University of North Carolina (UNC)\n",
    "Note: Filt7575 data only has KIRC -- so cannot compute cancer type specificity with adonis"
   ]
  },
  {
   "cell_type": "code",
   "execution_count": 29,
   "metadata": {},
   "outputs": [
    {
     "name": "stdout",
     "output_type": "stream",
     "text": [
      "\u001b[32mSaved PCoAResults % Properties('biplot') to: ./Qiime_input_data/kuT2T_Filt/deicode_ordination_UNC_PT.qza\u001b[0m\n",
      "\u001b[32mSaved DistanceMatrix to: ./Qiime_input_data/kuT2T_Filt/deicode_distance_UNC_PT.qza\u001b[0m\n",
      "\u001b[0m"
     ]
    }
   ],
   "source": [
    "!qiime deicode rpca \\\n",
    "    --i-table ./Qiime_input_data/kuT2T_Filt/countData_UNC_PT.qza \\\n",
    "    --o-biplot ./Qiime_input_data/kuT2T_Filt/deicode_ordination_UNC_PT.qza \\\n",
    "    --p-min-sample-count 25 \\\n",
    "    --o-distance-matrix ./Qiime_input_data/kuT2T_Filt/deicode_distance_UNC_PT.qza"
   ]
  },
  {
   "cell_type": "code",
   "execution_count": 30,
   "metadata": {},
   "outputs": [
    {
     "name": "stdout",
     "output_type": "stream",
     "text": [
      "\u001b[32mSaved Visualization to: ./Qiime_input_data/kuT2T_Filt/deicode_biplot_UNC_PT.qzv\u001b[0m\r\n",
      "\u001b[0m"
     ]
    }
   ],
   "source": [
    "!qiime emperor biplot \\\n",
    "    --i-biplot ./Qiime_input_data/kuT2T_Filt/deicode_ordination_UNC_PT.qza \\\n",
    "    --m-sample-metadata-file ./Qiime_input_data/kuT2T_Filt/metaData_UNC_PT.txt \\\n",
    "    --m-feature-metadata-file kuTaxonomy.qza \\\n",
    "    --o-visualization ./Qiime_input_data/kuT2T_Filt/deicode_biplot_UNC_PT.qzv \\\n",
    "    --p-number-of-features 1"
   ]
  },
  {
   "cell_type": "code",
   "execution_count": 31,
   "metadata": {},
   "outputs": [
    {
     "name": "stdout",
     "output_type": "stream",
     "text": [
      "Running external command line application. This may print messages to stdout and/or stderr.\n",
      "The command being run is below. This command cannot be manually re-run as it will depend on temporary files that no longer exist.\n",
      "\n",
      "Command: run_adonis.R /var/folders/db/18t2_m7d13l30r8qj875qdm80000gn/T/tmp61aehg5j/dm.tsv /var/folders/db/18t2_m7d13l30r8qj875qdm80000gn/T/tmp61aehg5j/md.tsv investigation 999 8 /var/folders/db/18t2_m7d13l30r8qj875qdm80000gn/T/qiime2-temp-fo508tl0/adonis.tsv\n",
      "\n",
      "R version 4.1.3 (2022-03-10) \n",
      "Loading required package: permute\n",
      "Loading required package: lattice\n",
      "This is vegan 2.6-2\n",
      "'adonis' will be deprecated: use 'adonis2' instead\n",
      "Error in `contrasts<-`(`*tmp*`, value = contr.funs[1 + isOF[nn]]) : \n",
      "  contrasts can be applied only to factors with 2 or more levels\n",
      "Calls: adonis ... model.matrix -> model.matrix.default -> contrasts<-\n",
      "Execution halted\n",
      "Traceback (most recent call last):\n",
      "  File \"/Users/gregpoore/opt/anaconda3/envs/qiime2-2022.2/lib/python3.8/site-packages/q2cli/commands.py\", line 339, in __call__\n",
      "    results = action(**arguments)\n",
      "  File \"<decorator-gen-204>\", line 2, in adonis\n",
      "  File \"/Users/gregpoore/opt/anaconda3/envs/qiime2-2022.2/lib/python3.8/site-packages/qiime2/sdk/action.py\", line 245, in bound_callable\n",
      "    outputs = self._callable_executor_(scope, callable_args,\n",
      "  File \"/Users/gregpoore/opt/anaconda3/envs/qiime2-2022.2/lib/python3.8/site-packages/qiime2/sdk/action.py\", line 453, in _callable_executor_\n",
      "    ret_val = self._callable(output_dir=temp_dir, **view_args)\n",
      "  File \"/Users/gregpoore/opt/anaconda3/envs/qiime2-2022.2/lib/python3.8/site-packages/q2_diversity/_beta/_visualizer.py\", line 382, in adonis\n",
      "    _run_command(cmd)\n",
      "  File \"/Users/gregpoore/opt/anaconda3/envs/qiime2-2022.2/lib/python3.8/site-packages/q2_diversity/_beta/_visualizer.py\", line 408, in _run_command\n",
      "    subprocess.run(cmd, check=True)\n",
      "  File \"/Users/gregpoore/opt/anaconda3/envs/qiime2-2022.2/lib/python3.8/subprocess.py\", line 516, in run\n",
      "    raise CalledProcessError(retcode, process.args,\n",
      "subprocess.CalledProcessError: Command '['run_adonis.R', '/var/folders/db/18t2_m7d13l30r8qj875qdm80000gn/T/tmp61aehg5j/dm.tsv', '/var/folders/db/18t2_m7d13l30r8qj875qdm80000gn/T/tmp61aehg5j/md.tsv', 'investigation', '999', '8', '/var/folders/db/18t2_m7d13l30r8qj875qdm80000gn/T/qiime2-temp-fo508tl0/adonis.tsv']' returned non-zero exit status 1.\n",
      "\n",
      "\u001b[31m\u001b[1mPlugin error from diversity:\n",
      "\n",
      "  Command '['run_adonis.R', '/var/folders/db/18t2_m7d13l30r8qj875qdm80000gn/T/tmp61aehg5j/dm.tsv', '/var/folders/db/18t2_m7d13l30r8qj875qdm80000gn/T/tmp61aehg5j/md.tsv', 'investigation', '999', '8', '/var/folders/db/18t2_m7d13l30r8qj875qdm80000gn/T/qiime2-temp-fo508tl0/adonis.tsv']' returned non-zero exit status 1.\n",
      "\n",
      "See above for debug info.\u001b[0m\n",
      "\u001b[0m"
     ]
    }
   ],
   "source": [
    "!qiime diversity adonis \\\n",
    "    --i-distance-matrix ./Qiime_input_data/kuT2T_Filt/deicode_distance_UNC_PT.qza \\\n",
    "    --m-metadata-file ./Qiime_input_data/kuT2T_Filt/metaData_UNC_PT.txt \\\n",
    "    --p-formula \"investigation\" \\\n",
    "    --p-n-jobs 8 \\\n",
    "    --verbose \\\n",
    "    --o-visualization ./Qiime_input_data/kuT2T_Filt/deicode_adonis_UNC_PT.qzv"
   ]
  },
  {
   "cell_type": "markdown",
   "metadata": {},
   "source": [
    "### Canada's Michael Smith Genome Sciences Centre (CMS)"
   ]
  },
  {
   "cell_type": "code",
   "execution_count": 32,
   "metadata": {},
   "outputs": [
    {
     "name": "stdout",
     "output_type": "stream",
     "text": [
      "\u001b[32mSaved PCoAResults % Properties('biplot') to: ./Qiime_input_data/kuT2T_Filt/deicode_ordination_CMS_PT.qza\u001b[0m\n",
      "\u001b[32mSaved DistanceMatrix to: ./Qiime_input_data/kuT2T_Filt/deicode_distance_CMS_PT.qza\u001b[0m\n",
      "\u001b[0m"
     ]
    }
   ],
   "source": [
    "!qiime deicode rpca \\\n",
    "    --i-table ./Qiime_input_data/kuT2T_Filt/countData_CMS_PT.qza \\\n",
    "    --o-biplot ./Qiime_input_data/kuT2T_Filt/deicode_ordination_CMS_PT.qza \\\n",
    "    --p-min-sample-count 100 \\\n",
    "    --o-distance-matrix ./Qiime_input_data/kuT2T_Filt/deicode_distance_CMS_PT.qza"
   ]
  },
  {
   "cell_type": "code",
   "execution_count": 33,
   "metadata": {},
   "outputs": [
    {
     "name": "stdout",
     "output_type": "stream",
     "text": [
      "\u001b[32mSaved Visualization to: ./Qiime_input_data/kuT2T_Filt/deicode_biplot_CMS_PT.qzv\u001b[0m\r\n",
      "\u001b[0m"
     ]
    }
   ],
   "source": [
    "!qiime emperor biplot \\\n",
    "    --i-biplot ./Qiime_input_data/kuT2T_Filt/deicode_ordination_CMS_PT.qza \\\n",
    "    --m-sample-metadata-file ./Qiime_input_data/kuT2T_Filt/metaData_CMS_PT.txt \\\n",
    "    --m-feature-metadata-file kuTaxonomy.qza \\\n",
    "    --o-visualization ./Qiime_input_data/kuT2T_Filt/deicode_biplot_CMS_PT.qzv \\\n",
    "    --p-number-of-features 1"
   ]
  },
  {
   "cell_type": "code",
   "execution_count": 34,
   "metadata": {},
   "outputs": [
    {
     "name": "stdout",
     "output_type": "stream",
     "text": [
      "\u001b[32mSaved Visualization to: ./Qiime_input_data/kuT2T_Filt/deicode_adonis_CMS_PT.qzv\u001b[0m\r\n",
      "\u001b[0m"
     ]
    }
   ],
   "source": [
    "!qiime diversity adonis \\\n",
    "    --i-distance-matrix ./Qiime_input_data/kuT2T_Filt/deicode_distance_CMS_PT.qza \\\n",
    "    --m-metadata-file ./Qiime_input_data/kuT2T_Filt/metaData_CMS_PT.txt \\\n",
    "    --p-formula \"investigation\" \\\n",
    "    --p-n-jobs 8 \\\n",
    "    --o-visualization ./Qiime_input_data/kuT2T_Filt/deicode_adonis_CMS_PT.qzv"
   ]
  },
  {
   "cell_type": "markdown",
   "metadata": {},
   "source": [
    "# Deicode for BDN (beta diversity that does not require rarefaction)\n",
    "\n",
    "Martino et al. 2019. mSystems. See the following links:\n",
    "- https://journals.asm.org/doi/10.1128/mSystems.00016-19\n",
    "- https://forum.qiime2.org/t/robust-aitchison-pca-beta-diversity-with-deicode/8333"
   ]
  },
  {
   "cell_type": "markdown",
   "metadata": {},
   "source": [
    "### Harvard Medical School (HMS)"
   ]
  },
  {
   "cell_type": "code",
   "execution_count": 35,
   "metadata": {},
   "outputs": [
    {
     "name": "stdout",
     "output_type": "stream",
     "text": [
      "\u001b[32mSaved PCoAResults % Properties('biplot') to: ./Qiime_input_data/kuT2T_Filt/deicode_ordination_HMS_BDN.qza\u001b[0m\n",
      "\u001b[32mSaved DistanceMatrix to: ./Qiime_input_data/kuT2T_Filt/deicode_distance_HMS_BDN.qza\u001b[0m\n",
      "\u001b[0m"
     ]
    }
   ],
   "source": [
    "!qiime deicode rpca \\\n",
    "    --i-table ./Qiime_input_data/kuT2T_Filt/countData_HMS_BDN.qza \\\n",
    "    --o-biplot ./Qiime_input_data/kuT2T_Filt/deicode_ordination_HMS_BDN.qza \\\n",
    "    --p-min-sample-count 100 \\\n",
    "    --o-distance-matrix ./Qiime_input_data/kuT2T_Filt/deicode_distance_HMS_BDN.qza"
   ]
  },
  {
   "cell_type": "code",
   "execution_count": 36,
   "metadata": {},
   "outputs": [
    {
     "name": "stdout",
     "output_type": "stream",
     "text": [
      "\u001b[32mSaved Visualization to: ./Qiime_input_data/kuT2T_Filt/deicode_biplot_HMS_BDN.qzv\u001b[0m\r\n",
      "\u001b[0m"
     ]
    }
   ],
   "source": [
    "!qiime emperor biplot \\\n",
    "    --i-biplot ./Qiime_input_data/kuT2T_Filt/deicode_ordination_HMS_BDN.qza \\\n",
    "    --m-sample-metadata-file ./Qiime_input_data/kuT2T_Filt/metaData_HMS_BDN.txt \\\n",
    "    --m-feature-metadata-file kuTaxonomy.qza \\\n",
    "    --o-visualization ./Qiime_input_data/kuT2T_Filt/deicode_biplot_HMS_BDN.qzv \\\n",
    "    --p-number-of-features 1"
   ]
  },
  {
   "cell_type": "code",
   "execution_count": 37,
   "metadata": {},
   "outputs": [
    {
     "name": "stdout",
     "output_type": "stream",
     "text": [
      "\u001b[32mSaved Visualization to: ./Qiime_input_data/kuT2T_Filt/deicode_adonis_HMS_BDN.qzv\u001b[0m\n",
      "\u001b[0m"
     ]
    }
   ],
   "source": [
    "!qiime diversity adonis \\\n",
    "    --i-distance-matrix ./Qiime_input_data/kuT2T_Filt/deicode_distance_HMS_BDN.qza \\\n",
    "    --m-metadata-file ./Qiime_input_data/kuT2T_Filt/metaData_HMS_BDN.txt \\\n",
    "    --p-formula \"investigation\" \\\n",
    "    --p-n-jobs 8 \\\n",
    "    --o-visualization ./Qiime_input_data/kuT2T_Filt/deicode_adonis_HMS_BDN.qzv"
   ]
  },
  {
   "cell_type": "markdown",
   "metadata": {},
   "source": [
    "### Baylor College of Medicine (BCM)"
   ]
  },
  {
   "cell_type": "code",
   "execution_count": 38,
   "metadata": {},
   "outputs": [
    {
     "name": "stdout",
     "output_type": "stream",
     "text": [
      "\u001b[32mSaved PCoAResults % Properties('biplot') to: ./Qiime_input_data/kuT2T_Filt/deicode_ordination_BCM_BDN.qza\u001b[0m\n",
      "\u001b[32mSaved DistanceMatrix to: ./Qiime_input_data/kuT2T_Filt/deicode_distance_BCM_BDN.qza\u001b[0m\n",
      "\u001b[0m"
     ]
    }
   ],
   "source": [
    "!qiime deicode rpca \\\n",
    "    --i-table ./Qiime_input_data/kuT2T_Filt/countData_BCM_BDN.qza \\\n",
    "    --o-biplot ./Qiime_input_data/kuT2T_Filt/deicode_ordination_BCM_BDN.qza \\\n",
    "    --p-min-sample-count 100 \\\n",
    "    --o-distance-matrix ./Qiime_input_data/kuT2T_Filt/deicode_distance_BCM_BDN.qza"
   ]
  },
  {
   "cell_type": "code",
   "execution_count": 39,
   "metadata": {},
   "outputs": [
    {
     "name": "stdout",
     "output_type": "stream",
     "text": [
      "\u001b[32mSaved Visualization to: ./Qiime_input_data/kuT2T_Filt/deicode_biplot_BCM_BDN.qzv\u001b[0m\r\n",
      "\u001b[0m"
     ]
    }
   ],
   "source": [
    "!qiime emperor biplot \\\n",
    "    --i-biplot ./Qiime_input_data/kuT2T_Filt/deicode_ordination_BCM_BDN.qza \\\n",
    "    --m-sample-metadata-file ./Qiime_input_data/kuT2T_Filt/metaData_BCM_BDN.txt \\\n",
    "    --m-feature-metadata-file kuTaxonomy.qza \\\n",
    "    --o-visualization ./Qiime_input_data/kuT2T_Filt/deicode_biplot_BCM_BDN.qzv \\\n",
    "    --p-number-of-features 1"
   ]
  },
  {
   "cell_type": "code",
   "execution_count": 40,
   "metadata": {},
   "outputs": [
    {
     "name": "stdout",
     "output_type": "stream",
     "text": [
      "\u001b[32mSaved Visualization to: ./Qiime_input_data/kuT2T_Filt/deicode_adonis_BCM_BDN.qzv\u001b[0m\r\n",
      "\u001b[0m"
     ]
    }
   ],
   "source": [
    "!qiime diversity adonis \\\n",
    "    --i-distance-matrix ./Qiime_input_data/kuT2T_Filt/deicode_distance_BCM_BDN.qza \\\n",
    "    --m-metadata-file ./Qiime_input_data/kuT2T_Filt/metaData_BCM_BDN.txt \\\n",
    "    --p-formula \"investigation\" \\\n",
    "    --p-n-jobs 8 \\\n",
    "    --o-visualization ./Qiime_input_data/kuT2T_Filt/deicode_adonis_BCM_BDN.qzv"
   ]
  },
  {
   "cell_type": "markdown",
   "metadata": {},
   "source": [
    "### MD Anderson (MDA)"
   ]
  },
  {
   "cell_type": "code",
   "execution_count": 41,
   "metadata": {},
   "outputs": [
    {
     "name": "stdout",
     "output_type": "stream",
     "text": [
      "\u001b[32mSaved PCoAResults % Properties('biplot') to: ./Qiime_input_data/kuT2T_Filt/deicode_ordination_MDA_BDN.qza\u001b[0m\n",
      "\u001b[32mSaved DistanceMatrix to: ./Qiime_input_data/kuT2T_Filt/deicode_distance_MDA_BDN.qza\u001b[0m\n",
      "\u001b[0m"
     ]
    }
   ],
   "source": [
    "!qiime deicode rpca \\\n",
    "    --i-table ./Qiime_input_data/kuT2T_Filt/countData_MDA_BDN.qza \\\n",
    "    --o-biplot ./Qiime_input_data/kuT2T_Filt/deicode_ordination_MDA_BDN.qza \\\n",
    "    --p-min-sample-count 25 \\\n",
    "    --o-distance-matrix ./Qiime_input_data/kuT2T_Filt/deicode_distance_MDA_BDN.qza"
   ]
  },
  {
   "cell_type": "code",
   "execution_count": 42,
   "metadata": {},
   "outputs": [
    {
     "name": "stdout",
     "output_type": "stream",
     "text": [
      "\u001b[32mSaved Visualization to: ./Qiime_input_data/kuT2T_Filt/deicode_biplot_MDA_BDN.qzv\u001b[0m\r\n",
      "\u001b[0m"
     ]
    }
   ],
   "source": [
    "!qiime emperor biplot \\\n",
    "    --i-biplot ./Qiime_input_data/kuT2T_Filt/deicode_ordination_MDA_BDN.qza \\\n",
    "    --m-sample-metadata-file ./Qiime_input_data/kuT2T_Filt/metaData_MDA_BDN.txt \\\n",
    "    --m-feature-metadata-file kuTaxonomy.qza \\\n",
    "    --o-visualization ./Qiime_input_data/kuT2T_Filt/deicode_biplot_MDA_BDN.qzv \\\n",
    "    --p-number-of-features 1"
   ]
  },
  {
   "cell_type": "code",
   "execution_count": 43,
   "metadata": {},
   "outputs": [
    {
     "name": "stdout",
     "output_type": "stream",
     "text": [
      "\u001b[32mSaved Visualization to: ./Qiime_input_data/kuT2T_Filt/deicode_adonis_MDA_BDN.qzv\u001b[0m\r\n",
      "\u001b[0m"
     ]
    }
   ],
   "source": [
    "!qiime diversity adonis \\\n",
    "    --i-distance-matrix ./Qiime_input_data/kuT2T_Filt/deicode_distance_MDA_BDN.qza \\\n",
    "    --m-metadata-file ./Qiime_input_data/kuT2T_Filt/metaData_MDA_BDN.txt \\\n",
    "    --p-formula \"investigation\" \\\n",
    "    --p-n-jobs 8 \\\n",
    "    --o-visualization ./Qiime_input_data/kuT2T_Filt/deicode_adonis_MDA_BDN.qzv"
   ]
  },
  {
   "cell_type": "markdown",
   "metadata": {},
   "source": [
    "### Washington University (WashU)"
   ]
  },
  {
   "cell_type": "code",
   "execution_count": 44,
   "metadata": {},
   "outputs": [
    {
     "name": "stdout",
     "output_type": "stream",
     "text": [
      "\u001b[32mSaved PCoAResults % Properties('biplot') to: ./Qiime_input_data/kuT2T_Filt/deicode_ordination_WashU_BDN.qza\u001b[0m\n",
      "\u001b[32mSaved DistanceMatrix to: ./Qiime_input_data/kuT2T_Filt/deicode_distance_WashU_BDN.qza\u001b[0m\n",
      "\u001b[0m"
     ]
    }
   ],
   "source": [
    "!qiime deicode rpca \\\n",
    "    --i-table ./Qiime_input_data/kuT2T_Filt/countData_WashU_BDN.qza \\\n",
    "    --o-biplot ./Qiime_input_data/kuT2T_Filt/deicode_ordination_WashU_BDN.qza \\\n",
    "    --p-min-sample-count 100 \\\n",
    "    --o-distance-matrix ./Qiime_input_data/kuT2T_Filt/deicode_distance_WashU_BDN.qza"
   ]
  },
  {
   "cell_type": "code",
   "execution_count": 45,
   "metadata": {},
   "outputs": [
    {
     "name": "stdout",
     "output_type": "stream",
     "text": [
      "\u001b[32mSaved Visualization to: ./Qiime_input_data/kuT2T_Filt/deicode_biplot_WashU_BDN.qzv\u001b[0m\r\n",
      "\u001b[0m"
     ]
    }
   ],
   "source": [
    "!qiime emperor biplot \\\n",
    "    --i-biplot ./Qiime_input_data/kuT2T_Filt/deicode_ordination_WashU_BDN.qza \\\n",
    "    --m-sample-metadata-file ./Qiime_input_data/kuT2T_Filt/metaData_WashU_BDN.txt \\\n",
    "    --m-feature-metadata-file kuTaxonomy.qza \\\n",
    "    --o-visualization ./Qiime_input_data/kuT2T_Filt/deicode_biplot_WashU_BDN.qzv \\\n",
    "    --p-number-of-features 1"
   ]
  },
  {
   "cell_type": "code",
   "execution_count": 46,
   "metadata": {},
   "outputs": [
    {
     "name": "stdout",
     "output_type": "stream",
     "text": [
      "\u001b[32mSaved Visualization to: ./Qiime_input_data/kuT2T_Filt/deicode_adonis_WashU_BDN.qzv\u001b[0m\r\n",
      "\u001b[0m"
     ]
    }
   ],
   "source": [
    "!qiime diversity adonis \\\n",
    "    --i-distance-matrix ./Qiime_input_data/kuT2T_Filt/deicode_distance_WashU_BDN.qza \\\n",
    "    --m-metadata-file ./Qiime_input_data/kuT2T_Filt/metaData_WashU_BDN.txt \\\n",
    "    --p-formula \"investigation\" \\\n",
    "    --p-n-jobs 8 \\\n",
    "    --o-visualization ./Qiime_input_data/kuT2T_Filt/deicode_adonis_WashU_BDN.qzv"
   ]
  },
  {
   "cell_type": "markdown",
   "metadata": {},
   "source": [
    "### Broad Institute WGS (Broad_WGS)"
   ]
  },
  {
   "cell_type": "code",
   "execution_count": 47,
   "metadata": {},
   "outputs": [
    {
     "name": "stdout",
     "output_type": "stream",
     "text": [
      "\u001b[32mSaved PCoAResults % Properties('biplot') to: ./Qiime_input_data/kuT2T_Filt/deicode_ordination_Broad_WGS_BDN.qza\u001b[0m\n",
      "\u001b[32mSaved DistanceMatrix to: ./Qiime_input_data/kuT2T_Filt/deicode_distance_Broad_WGS_BDN.qza\u001b[0m\n",
      "\u001b[0m"
     ]
    }
   ],
   "source": [
    "!qiime deicode rpca \\\n",
    "    --i-table ./Qiime_input_data/kuT2T_Filt/countData_Broad_WGS_BDN.qza \\\n",
    "    --o-biplot ./Qiime_input_data/kuT2T_Filt/deicode_ordination_Broad_WGS_BDN.qza \\\n",
    "    --p-min-sample-count 100 \\\n",
    "    --o-distance-matrix ./Qiime_input_data/kuT2T_Filt/deicode_distance_Broad_WGS_BDN.qza"
   ]
  },
  {
   "cell_type": "code",
   "execution_count": 48,
   "metadata": {},
   "outputs": [
    {
     "name": "stdout",
     "output_type": "stream",
     "text": [
      "\u001b[32mSaved Visualization to: ./Qiime_input_data/kuT2T_Filt/deicode_biplot_Broad_WGS_BDN.qzv\u001b[0m\r\n",
      "\u001b[0m"
     ]
    }
   ],
   "source": [
    "!qiime emperor biplot \\\n",
    "    --i-biplot ./Qiime_input_data/kuT2T_Filt/deicode_ordination_Broad_WGS_BDN.qza \\\n",
    "    --m-sample-metadata-file ./Qiime_input_data/kuT2T_Filt/metaData_Broad_WGS_BDN.txt \\\n",
    "    --m-feature-metadata-file kuTaxonomy.qza \\\n",
    "    --o-visualization ./Qiime_input_data/kuT2T_Filt/deicode_biplot_Broad_WGS_BDN.qzv \\\n",
    "    --p-number-of-features 1"
   ]
  },
  {
   "cell_type": "code",
   "execution_count": 49,
   "metadata": {},
   "outputs": [
    {
     "name": "stdout",
     "output_type": "stream",
     "text": [
      "\u001b[32mSaved Visualization to: ./Qiime_input_data/kuT2T_Filt/deicode_adonis_Broad_WGS_BDN.qzv\u001b[0m\r\n",
      "\u001b[0m"
     ]
    }
   ],
   "source": [
    "!qiime diversity adonis \\\n",
    "    --i-distance-matrix ./Qiime_input_data/kuT2T_Filt/deicode_distance_Broad_WGS_BDN.qza \\\n",
    "    --m-metadata-file ./Qiime_input_data/kuT2T_Filt/metaData_Broad_WGS_BDN.txt \\\n",
    "    --p-formula \"investigation\" \\\n",
    "    --p-n-jobs 8 \\\n",
    "    --o-visualization ./Qiime_input_data/kuT2T_Filt/deicode_adonis_Broad_WGS_BDN.qzv"
   ]
  },
  {
   "cell_type": "markdown",
   "metadata": {},
   "source": [
    "# Qiime 2 Core Metrics - PT\n",
    "Note: Since beta diversity was calculated above using DEICODE above, we are mostly interested in the alpha diversity results."
   ]
  },
  {
   "cell_type": "markdown",
   "metadata": {},
   "source": [
    "### Harvard Medical School (HMS)\n",
    "Note the following sample read distribution from R:\n",
    "```\n",
    "[1] \"HMS\"\n",
    "     Min.   1st Qu.    Median      Mean   3rd Qu.      Max. \n",
    "     26.0     217.2    1481.5   25432.7    8338.8 1777176.0 \n",
    "```"
   ]
  },
  {
   "cell_type": "code",
   "execution_count": 50,
   "metadata": {},
   "outputs": [
    {
     "name": "stdout",
     "output_type": "stream",
     "text": [
      "\u001b[32mSaved FeatureTable[Frequency] to: ./core_metrics/kuT2T_Filt/pt_hms_R220/rarefied_table.qza\u001b[0m\n",
      "\u001b[32mSaved SampleData[AlphaDiversity] to: ./core_metrics/kuT2T_Filt/pt_hms_R220/observed_features_vector.qza\u001b[0m\n",
      "\u001b[32mSaved SampleData[AlphaDiversity] to: ./core_metrics/kuT2T_Filt/pt_hms_R220/shannon_vector.qza\u001b[0m\n",
      "\u001b[32mSaved SampleData[AlphaDiversity] to: ./core_metrics/kuT2T_Filt/pt_hms_R220/evenness_vector.qza\u001b[0m\n",
      "\u001b[32mSaved DistanceMatrix to: ./core_metrics/kuT2T_Filt/pt_hms_R220/jaccard_distance_matrix.qza\u001b[0m\n",
      "\u001b[32mSaved DistanceMatrix to: ./core_metrics/kuT2T_Filt/pt_hms_R220/bray_curtis_distance_matrix.qza\u001b[0m\n",
      "\u001b[32mSaved PCoAResults to: ./core_metrics/kuT2T_Filt/pt_hms_R220/jaccard_pcoa_results.qza\u001b[0m\n",
      "\u001b[32mSaved PCoAResults to: ./core_metrics/kuT2T_Filt/pt_hms_R220/bray_curtis_pcoa_results.qza\u001b[0m\n",
      "\u001b[32mSaved Visualization to: ./core_metrics/kuT2T_Filt/pt_hms_R220/jaccard_emperor.qzv\u001b[0m\n",
      "\u001b[32mSaved Visualization to: ./core_metrics/kuT2T_Filt/pt_hms_R220/bray_curtis_emperor.qzv\u001b[0m\n",
      "\u001b[0m"
     ]
    }
   ],
   "source": [
    "!qiime diversity core-metrics \\\n",
    "--i-table ./Qiime_input_data/kuT2T_BIOFilt/countData_HMS_PT.qza \\\n",
    "--p-sampling-depth 220 \\\n",
    "--m-metadata-file ./Qiime_input_data/kuT2T_BIOFilt/metaData_HMS_PT.txt \\\n",
    "--output-dir ./core_metrics/kuT2T_BIOFilt/pt_hms_R220/"
   ]
  },
  {
   "cell_type": "code",
   "execution_count": 51,
   "metadata": {},
   "outputs": [
    {
     "name": "stdout",
     "output_type": "stream",
     "text": [
      "\u001b[32mSaved Visualization to: ./core_metrics/kuT2T_Filt/pt_hms_R220/observed_features_vector_significance.qzv\u001b[0m\n",
      "\u001b[0m\u001b[32mSaved Visualization to: ./core_metrics/kuT2T_Filt/pt_hms_R220/shannon_vector_significance.qzv\u001b[0m\n",
      "\u001b[0m"
     ]
    }
   ],
   "source": [
    "!qiime diversity alpha-group-significance \\\n",
    "--i-alpha-diversity ./core_metrics/kuT2T_BIOFilt/pt_hms_R220/observed_features_vector.qza \\\n",
    "--m-metadata-file ./Qiime_input_data/kuT2T_BIOFilt/metaData_HMS_PT.txt \\\n",
    "--o-visualization ./core_metrics/kuT2T_BIOFilt/pt_hms_R220/observed_features_vector_significance.qzv\n",
    "\n",
    "!qiime diversity alpha-group-significance \\\n",
    "--i-alpha-diversity ./core_metrics/kuT2T_BIOFilt/pt_hms_R220/shannon_vector.qza \\\n",
    "--m-metadata-file ./Qiime_input_data/kuT2T_BIOFilt/metaData_HMS_PT.txt \\\n",
    "--o-visualization ./core_metrics/kuT2T_BIOFilt/pt_hms_R220/shannon_vector_significance.qzv"
   ]
  },
  {
   "cell_type": "code",
   "execution_count": 52,
   "metadata": {},
   "outputs": [
    {
     "name": "stdout",
     "output_type": "stream",
     "text": [
      "^C\r\n",
      "\r\n",
      "Aborted!\r\n"
     ]
    }
   ],
   "source": [
    "!qiime diversity beta-group-significance \\\n",
    "--i-distance-matrix ./core_metrics/kuT2T_BIOFilt/pt_hms_R220/jaccard_distance_matrix.qza \\\n",
    "--m-metadata-file ./Qiime_input_data/kuT2T_BIOFilt/metaData_HMS_PT.txt \\\n",
    "--m-metadata-column investigation \\\n",
    "--o-visualization ./core_metrics/kuT2T_BIOFilt/pt_hms_R220/jaccard_distance_matrix_significance.qzv\n",
    "\n",
    "!qiime diversity beta-group-significance \\\n",
    "--i-distance-matrix ./core_metrics/kuT2T_BIOFilt/pt_hms_R220/bray_curtis_distance_matrix.qza \\\n",
    "--m-metadata-file ./Qiime_input_data/kuT2T_BIOFilt/metaData_HMS_PT.txt \\\n",
    "--m-metadata-column investigation \\\n",
    "--o-visualization ./core_metrics/kuT2T_BIOFilt/pt_hms_R220/bray_curtis_distance_matrix_significance.qzv"
   ]
  },
  {
   "cell_type": "markdown",
   "metadata": {},
   "source": [
    "### Baylor College of Medicine (BCM)\n",
    "Note the following sample read distribution from R:\n",
    "```\n",
    "[1] \"BCM\"\n",
    "   Min. 1st Qu.  Median    Mean 3rd Qu.    Max. \n",
    "    717    2732    4469   99698   31450 9839796 \n",
    "```"
   ]
  },
  {
   "cell_type": "code",
   "execution_count": 53,
   "metadata": {},
   "outputs": [
    {
     "name": "stdout",
     "output_type": "stream",
     "text": [
      "^C\r\n",
      "\r\n",
      "Aborted!\r\n"
     ]
    }
   ],
   "source": [
    "!qiime diversity core-metrics \\\n",
    "--i-table ./Qiime_input_data/kuT2T_BIOFilt/countData_BCM_PT.qza \\\n",
    "--p-sampling-depth 2700 \\\n",
    "--m-metadata-file ./Qiime_input_data/kuT2T_BIOFilt/metaData_BCM_PT.txt \\\n",
    "--output-dir ./core_metrics/kuT2T_BIOFilt/pt_bcm_R2700"
   ]
  },
  {
   "cell_type": "code",
   "execution_count": 54,
   "metadata": {},
   "outputs": [
    {
     "name": "stderr",
     "output_type": "stream",
     "text": [
      "Exception ignored in: <function _releaseLock at 0x7fbb100b0d30>\n",
      "Traceback (most recent call last):\n",
      "  File \"/Users/gregpoore/opt/anaconda3/envs/qiime2-2022.2/lib/python3.8/logging/__init__.py\", line 227, in _releaseLock\n",
      "    def _releaseLock():\n",
      "KeyboardInterrupt: \n"
     ]
    },
    {
     "name": "stdout",
     "output_type": "stream",
     "text": [
      "^C\n",
      "\n",
      "Aborted!\n",
      "^C\n",
      "\n",
      "Aborted!\n"
     ]
    }
   ],
   "source": [
    "!qiime diversity alpha-group-significance \\\n",
    "--i-alpha-diversity ./core_metrics/kuT2T_BIOFilt/pt_bcm_R2700/observed_features_vector.qza \\\n",
    "--m-metadata-file ./Qiime_input_data/kuT2T_BIOFilt/metaData_BCM_PT.txt \\\n",
    "--o-visualization ./core_metrics/kuT2T_BIOFilt/pt_bcm_R2700/observed_features_vector_significance.qzv\n",
    "\n",
    "!qiime diversity alpha-group-significance \\\n",
    "--i-alpha-diversity ./core_metrics/kuT2T_BIOFilt/pt_bcm_R2700/shannon_vector.qza \\\n",
    "--m-metadata-file ./Qiime_input_data/kuT2T_BIOFilt/metaData_BCM_PT.txt \\\n",
    "--o-visualization ./core_metrics/kuT2T_BIOFilt/pt_bcm_R2700/shannon_vector_significance.qzv"
   ]
  },
  {
   "cell_type": "code",
   "execution_count": 55,
   "metadata": {},
   "outputs": [
    {
     "name": "stdout",
     "output_type": "stream",
     "text": [
      "^C\n",
      "\n",
      "Aborted!\n",
      "^C\n",
      "\n",
      "Aborted!\n"
     ]
    }
   ],
   "source": [
    "!qiime diversity beta-group-significance \\\n",
    "--i-distance-matrix ./core_metrics/kuT2T_BIOFilt/pt_bcm_R2700/jaccard_distance_matrix.qza \\\n",
    "--m-metadata-file ./Qiime_input_data/kuT2T_BIOFilt/metaData_BCM_PT.txt \\\n",
    "--m-metadata-column investigation \\\n",
    "--o-visualization ./core_metrics/kuT2T_BIOFilt/pt_bcm_R2700/jaccard_distance_matrix_significance.qzv\n",
    "\n",
    "!qiime diversity beta-group-significance \\\n",
    "--i-distance-matrix ./core_metrics/kuT2T_BIOFilt/pt_bcm_R2700/bray_curtis_distance_matrix.qza \\\n",
    "--m-metadata-file ./Qiime_input_data/kuT2T_BIOFilt/metaData_BCM_PT.txt \\\n",
    "--m-metadata-column investigation \\\n",
    "--o-visualization ./core_metrics/kuT2T_BIOFilt/pt_bcm_R2700/bray_curtis_distance_matrix_significance.qzv"
   ]
  },
  {
   "cell_type": "markdown",
   "metadata": {},
   "source": [
    "### MD Anderson (MDA)\n",
    "Note the following sample read distribution from R:\n",
    "```\n",
    "[1] \"MDA\"\n",
    "   Min. 1st Qu.  Median    Mean 3rd Qu.    Max. \n",
    "     29     145     995   25306    7497  721610 \n",
    "```"
   ]
  },
  {
   "cell_type": "code",
   "execution_count": 56,
   "metadata": {},
   "outputs": [
    {
     "name": "stdout",
     "output_type": "stream",
     "text": [
      "^C\r\n",
      "\r\n",
      "Aborted!\r\n"
     ]
    }
   ],
   "source": [
    "!qiime diversity core-metrics \\\n",
    "--i-table ./Qiime_input_data/kuT2T_BIOFilt/countData_MDA_PT.qza \\\n",
    "--p-sampling-depth 150 \\\n",
    "--m-metadata-file ./Qiime_input_data/kuT2T_BIOFilt/metaData_MDA_PT.txt \\\n",
    "--output-dir ./core_metrics/kuT2T_BIOFilt/pt_mda_R150/"
   ]
  },
  {
   "cell_type": "code",
   "execution_count": 57,
   "metadata": {},
   "outputs": [
    {
     "name": "stdout",
     "output_type": "stream",
     "text": [
      "^C\n",
      "\n",
      "Aborted!\n",
      "^C\n",
      "\n",
      "Aborted!\n"
     ]
    },
    {
     "ename": "KeyboardInterrupt",
     "evalue": "",
     "output_type": "error",
     "traceback": [
      "\u001b[0;31m---------------------------------------------------------------------------\u001b[0m",
      "\u001b[0;31mKeyboardInterrupt\u001b[0m                         Traceback (most recent call last)",
      "\u001b[0;32m/var/folders/db/18t2_m7d13l30r8qj875qdm80000gn/T/ipykernel_16028/1665232938.py\u001b[0m in \u001b[0;36m<cell line: 3>\u001b[0;34m()\u001b[0m\n\u001b[1;32m      1\u001b[0m \u001b[0mget_ipython\u001b[0m\u001b[0;34m(\u001b[0m\u001b[0;34m)\u001b[0m\u001b[0;34m.\u001b[0m\u001b[0msystem\u001b[0m\u001b[0;34m(\u001b[0m\u001b[0;34m'qiime diversity alpha-group-significance  --i-alpha-diversity ./core_metrics/kuT2T_Filt/pt_mda_R150/observed_features_vector.qza  --m-metadata-file ./Qiime_input_data/kuT2T_Filt/metaData_MDA_PT.txt  --o-visualization ./core_metrics/kuT2T_Filt/pt_mda_R150/observed_features_vector_significance.qzv'\u001b[0m\u001b[0;34m)\u001b[0m\u001b[0;34m\u001b[0m\u001b[0;34m\u001b[0m\u001b[0m\n\u001b[1;32m      2\u001b[0m \u001b[0;34m\u001b[0m\u001b[0m\n\u001b[0;32m----> 3\u001b[0;31m \u001b[0mget_ipython\u001b[0m\u001b[0;34m(\u001b[0m\u001b[0;34m)\u001b[0m\u001b[0;34m.\u001b[0m\u001b[0msystem\u001b[0m\u001b[0;34m(\u001b[0m\u001b[0;34m'qiime diversity alpha-group-significance  --i-alpha-diversity ./core_metrics/kuT2T_Filt/pt_mda_R150/shannon_vector.qza  --m-metadata-file ./Qiime_input_data/kuT2T_Filt/metaData_MDA_PT.txt  --o-visualization ./core_metrics/kuT2T_Filt/pt_mda_R150/shannon_vector_significance.qzv'\u001b[0m\u001b[0;34m)\u001b[0m\u001b[0;34m\u001b[0m\u001b[0;34m\u001b[0m\u001b[0m\n\u001b[0m",
      "\u001b[0;32m~/opt/anaconda3/envs/qiime2-2022.2/lib/python3.8/site-packages/IPython/core/displayhook.py\u001b[0m in \u001b[0;36m__call__\u001b[0;34m(self, result)\u001b[0m\n\u001b[1;32m    256\u001b[0m         \u001b[0mactivated\u001b[0m \u001b[0mby\u001b[0m \u001b[0msetting\u001b[0m \u001b[0mthe\u001b[0m \u001b[0mvariable\u001b[0m \u001b[0msys\u001b[0m\u001b[0;34m.\u001b[0m\u001b[0mdisplayhook\u001b[0m \u001b[0mto\u001b[0m \u001b[0mit\u001b[0m\u001b[0;34m.\u001b[0m\u001b[0;34m\u001b[0m\u001b[0;34m\u001b[0m\u001b[0m\n\u001b[1;32m    257\u001b[0m         \"\"\"\n\u001b[0;32m--> 258\u001b[0;31m         \u001b[0mself\u001b[0m\u001b[0;34m.\u001b[0m\u001b[0mcheck_for_underscore\u001b[0m\u001b[0;34m(\u001b[0m\u001b[0;34m)\u001b[0m\u001b[0;34m\u001b[0m\u001b[0;34m\u001b[0m\u001b[0m\n\u001b[0m\u001b[1;32m    259\u001b[0m         \u001b[0;32mif\u001b[0m \u001b[0mresult\u001b[0m \u001b[0;32mis\u001b[0m \u001b[0;32mnot\u001b[0m \u001b[0;32mNone\u001b[0m \u001b[0;32mand\u001b[0m \u001b[0;32mnot\u001b[0m \u001b[0mself\u001b[0m\u001b[0;34m.\u001b[0m\u001b[0mquiet\u001b[0m\u001b[0;34m(\u001b[0m\u001b[0;34m)\u001b[0m\u001b[0;34m:\u001b[0m\u001b[0;34m\u001b[0m\u001b[0;34m\u001b[0m\u001b[0m\n\u001b[1;32m    260\u001b[0m             \u001b[0mself\u001b[0m\u001b[0;34m.\u001b[0m\u001b[0mstart_displayhook\u001b[0m\u001b[0;34m(\u001b[0m\u001b[0;34m)\u001b[0m\u001b[0;34m\u001b[0m\u001b[0;34m\u001b[0m\u001b[0m\n",
      "\u001b[0;31mKeyboardInterrupt\u001b[0m: "
     ]
    }
   ],
   "source": [
    "!qiime diversity alpha-group-significance \\\n",
    "--i-alpha-diversity ./core_metrics/kuT2T_BIOFilt/pt_mda_R150/observed_features_vector.qza \\\n",
    "--m-metadata-file ./Qiime_input_data/kuT2T_BIOFilt/metaData_MDA_PT.txt \\\n",
    "--o-visualization ./core_metrics/kuT2T_BIOFilt/pt_mda_R150/observed_features_vector_significance.qzv\n",
    "\n",
    "!qiime diversity alpha-group-significance \\\n",
    "--i-alpha-diversity ./core_metrics/kuT2T_BIOFilt/pt_mda_R150/shannon_vector.qza \\\n",
    "--m-metadata-file ./Qiime_input_data/kuT2T_BIOFilt/metaData_MDA_PT.txt \\\n",
    "--o-visualization ./core_metrics/kuT2T_BIOFilt/pt_mda_R150/shannon_vector_significance.qzv"
   ]
  },
  {
   "cell_type": "code",
   "execution_count": null,
   "metadata": {},
   "outputs": [],
   "source": [
    "!qiime diversity beta-group-significance \\\n",
    "--i-distance-matrix ./core_metrics/kuT2T_BIOFilt/pt_mda_R150/jaccard_distance_matrix.qza \\\n",
    "--m-metadata-file ./Qiime_input_data/kuT2T_BIOFilt/metaData_MDA_PT.txt \\\n",
    "--m-metadata-column investigation \\\n",
    "--o-visualization ./core_metrics/kuT2T_BIOFilt/pt_mda_R150/jaccard_distance_matrix_significance.qzv\n",
    "\n",
    "!qiime diversity beta-group-significance \\\n",
    "--i-distance-matrix ./core_metrics/kuT2T_BIOFilt/pt_mda_R150/bray_curtis_distance_matrix.qza \\\n",
    "--m-metadata-file ./Qiime_input_data/kuT2T_BIOFilt/metaData_MDA_PT.txt \\\n",
    "--m-metadata-column investigation \\\n",
    "--o-visualization ./core_metrics/kuT2T_BIOFilt/pt_mda_R150/bray_curtis_distance_matrix_significance.qzv"
   ]
  },
  {
   "cell_type": "markdown",
   "metadata": {},
   "source": [
    "### Washington University (WashU)\n",
    "Note the following sample read distribution from R:\n",
    "```\n",
    "[1] \"WashU\"\n",
    "   Min. 1st Qu.  Median    Mean 3rd Qu.    Max. \n",
    "    160    2262    3855   60104    9290 5489501 \n",
    "```"
   ]
  },
  {
   "cell_type": "code",
   "execution_count": null,
   "metadata": {},
   "outputs": [],
   "source": [
    "!qiime diversity core-metrics \\\n",
    "--i-table ./Qiime_input_data/kuT2T_BIOFilt/countData_WashU_PT.qza \\\n",
    "--p-sampling-depth 2300 \\\n",
    "--m-metadata-file ./Qiime_input_data/kuT2T_BIOFilt/metaData_WashU_PT.txt \\\n",
    "--output-dir ./core_metrics/kuT2T_BIOFilt/pt_mda_R2300/"
   ]
  },
  {
   "cell_type": "code",
   "execution_count": null,
   "metadata": {},
   "outputs": [],
   "source": [
    "!qiime diversity alpha-group-significance \\\n",
    "--i-alpha-diversity ./core_metrics/kuT2T_BIOFilt/pt_mda_R2300/observed_features_vector.qza \\\n",
    "--m-metadata-file ./Qiime_input_data/kuT2T_BIOFilt/metaData_WashU_PT.txt \\\n",
    "--o-visualization ./core_metrics/kuT2T_BIOFilt/pt_mda_R2300/observed_features_vector_significance.qzv\n",
    "\n",
    "!qiime diversity alpha-group-significance \\\n",
    "--i-alpha-diversity ./core_metrics/kuT2T_BIOFilt/pt_mda_R2300/shannon_vector.qza \\\n",
    "--m-metadata-file ./Qiime_input_data/kuT2T_BIOFilt/metaData_WashU_PT.txt \\\n",
    "--o-visualization ./core_metrics/kuT2T_BIOFilt/pt_mda_R2300/shannon_vector_significance.qzv"
   ]
  },
  {
   "cell_type": "code",
   "execution_count": null,
   "metadata": {},
   "outputs": [],
   "source": [
    "!qiime diversity beta-group-significance \\\n",
    "--i-distance-matrix ./core_metrics/kuT2T_BIOFilt/pt_mda_R2300/jaccard_distance_matrix.qza \\\n",
    "--m-metadata-file ./Qiime_input_data/kuT2T_BIOFilt/metaData_WashU_PT.txt \\\n",
    "--m-metadata-column investigation \\\n",
    "--o-visualization ./core_metrics/kuT2T_BIOFilt/pt_mda_R2300/jaccard_distance_matrix_significance.qzv\n",
    "\n",
    "!qiime diversity beta-group-significance \\\n",
    "--i-distance-matrix ./core_metrics/kuT2T_BIOFilt/pt_mda_R2300/bray_curtis_distance_matrix.qza \\\n",
    "--m-metadata-file ./Qiime_input_data/kuT2T_BIOFilt/metaData_WashU_PT.txt \\\n",
    "--m-metadata-column investigation \\\n",
    "--o-visualization ./core_metrics/kuT2T_BIOFilt/pt_mda_R2300/bray_curtis_distance_matrix_significance.qzv"
   ]
  },
  {
   "cell_type": "markdown",
   "metadata": {},
   "source": [
    "### Broad Institute WGS only (Broad WGS)\n",
    "Note the following sample read distribution from R (it is lower than the other seq centers):\n",
    "```\n",
    "[1] \"Broad_WGS\"\n",
    "   Min. 1st Qu.  Median    Mean 3rd Qu.    Max. \n",
    "     19     291     732   32936    4080 5402869 \n",
    "```"
   ]
  },
  {
   "cell_type": "code",
   "execution_count": null,
   "metadata": {},
   "outputs": [],
   "source": [
    "!qiime diversity core-metrics \\\n",
    "--i-table ./Qiime_input_data/kuT2T_BIOFilt/countData_Broad_WGS_PT.qza \\\n",
    "--p-sampling-depth 300 \\\n",
    "--m-metadata-file ./Qiime_input_data/kuT2T_BIOFilt/metaData_Broad_WGS_PT.txt \\\n",
    "--output-dir ./core_metrics/kuT2T_BIOFilt/pt_broad_wgs_R300/"
   ]
  },
  {
   "cell_type": "code",
   "execution_count": null,
   "metadata": {},
   "outputs": [],
   "source": [
    "!qiime diversity alpha-group-significance \\\n",
    "--i-alpha-diversity ./core_metrics/kuT2T_BIOFilt/pt_broad_wgs_R300/observed_features_vector.qza \\\n",
    "--m-metadata-file ./Qiime_input_data/kuT2T_BIOFilt/metaData_Broad_WGS_PT.txt \\\n",
    "--o-visualization ./core_metrics/kuT2T_BIOFilt/pt_broad_wgs_R300/observed_features_vector_significance.qzv\n",
    "\n",
    "!qiime diversity alpha-group-significance \\\n",
    "--i-alpha-diversity ./core_metrics/kuT2T_BIOFilt/pt_broad_wgs_R300/shannon_vector.qza \\\n",
    "--m-metadata-file ./Qiime_input_data/kuT2T_BIOFilt/metaData_Broad_WGS_PT.txt \\\n",
    "--o-visualization ./core_metrics/kuT2T_BIOFilt/pt_broad_wgs_R300/shannon_vector_significance.qzv"
   ]
  },
  {
   "cell_type": "code",
   "execution_count": null,
   "metadata": {},
   "outputs": [],
   "source": [
    "!qiime diversity beta-group-significance \\\n",
    "--i-distance-matrix ./core_metrics/kuT2T_BIOFilt/pt_broad_wgs_R300/jaccard_distance_matrix.qza \\\n",
    "--m-metadata-file ./Qiime_input_data/kuT2T_BIOFilt/metaData_Broad_WGS_PT.txt \\\n",
    "--m-metadata-column investigation \\\n",
    "--o-visualization ./core_metrics/kuT2T_BIOFilt/pt_broad_wgs_R300/jaccard_distance_matrix_significance.qzv\n",
    "\n",
    "!qiime diversity beta-group-significance \\\n",
    "--i-distance-matrix ./core_metrics/kuT2T_BIOFilt/pt_broad_wgs_R300/bray_curtis_distance_matrix.qza \\\n",
    "--m-metadata-file ./Qiime_input_data/kuT2T_BIOFilt/metaData_Broad_WGS_PT.txt \\\n",
    "--m-metadata-column investigation \\\n",
    "--o-visualization ./core_metrics/kuT2T_BIOFilt/pt_broad_wgs_R300/bray_curtis_distance_matrix_significance.qzv"
   ]
  },
  {
   "cell_type": "markdown",
   "metadata": {},
   "source": [
    "### University of North Carolina (UNC)\n",
    "Note the following sample read distribution from R:\n",
    "```\n",
    "[1] \"UNC\"\n",
    "    Min.  1st Qu.   Median     Mean  3rd Qu.     Max. \n",
    "    30.0    496.2   1079.5   3823.5   2194.2 273994.0 \n",
    "```"
   ]
  },
  {
   "cell_type": "code",
   "execution_count": null,
   "metadata": {},
   "outputs": [],
   "source": [
    "!qiime diversity core-metrics \\\n",
    "--i-table ./Qiime_input_data/kuT2T_BIOFilt/countData_UNC_PT.qza \\\n",
    "--p-sampling-depth 500 \\\n",
    "--m-metadata-file ./Qiime_input_data/kuT2T_BIOFilt/metaData_UNC_PT.txt \\\n",
    "--output-dir ./core_metrics/kuT2T_BIOFilt/pt_unc_R500/"
   ]
  },
  {
   "cell_type": "code",
   "execution_count": null,
   "metadata": {},
   "outputs": [],
   "source": [
    "!qiime diversity alpha-group-significance \\\n",
    "--i-alpha-diversity ./core_metrics/kuT2T_BIOFilt/pt_unc_R500/observed_features_vector.qza \\\n",
    "--m-metadata-file ./Qiime_input_data/kuT2T_BIOFilt/metaData_UNC_PT.txt \\\n",
    "--o-visualization ./core_metrics/kuT2T_BIOFilt/pt_unc_R500/observed_features_vector_significance.qzv\n",
    "\n",
    "!qiime diversity alpha-group-significance \\\n",
    "--i-alpha-diversity ./core_metrics/kuT2T_BIOFilt/pt_unc_R500/shannon_vector.qza \\\n",
    "--m-metadata-file ./Qiime_input_data/kuT2T_BIOFilt/metaData_UNC_PT.txt \\\n",
    "--o-visualization ./core_metrics/kuT2T_BIOFilt/pt_unc_R500/shannon_vector_significance.qzv"
   ]
  },
  {
   "cell_type": "code",
   "execution_count": null,
   "metadata": {},
   "outputs": [],
   "source": [
    "!qiime diversity beta-group-significance \\\n",
    "--i-distance-matrix ./core_metrics/kuT2T_BIOFilt/pt_unc_R500/jaccard_distance_matrix.qza \\\n",
    "--m-metadata-file ./Qiime_input_data/kuT2T_BIOFilt/metaData_UNC_PT.txt \\\n",
    "--m-metadata-column investigation \\\n",
    "--o-visualization ./core_metrics/kuT2T_BIOFilt/pt_unc_R500/jaccard_distance_matrix_significance.qzv\n",
    "\n",
    "!qiime diversity beta-group-significance \\\n",
    "--i-distance-matrix ./core_metrics/kuT2T_BIOFilt/pt_unc_R500/bray_curtis_distance_matrix.qza \\\n",
    "--m-metadata-file ./Qiime_input_data/kuT2T_BIOFilt/metaData_UNC_PT.txt \\\n",
    "--m-metadata-column investigation \\\n",
    "--o-visualization ./core_metrics/kuT2T_BIOFilt/pt_unc_R500/bray_curtis_distance_matrix_significance.qzv"
   ]
  },
  {
   "cell_type": "markdown",
   "metadata": {},
   "source": [
    "### Canada's Michael Smith Genome Sciences Centre (CMS)\n",
    "Note the following sample read distribution from R:\n",
    "```\n",
    "[1] \"CMS\"\n",
    "   Min. 1st Qu.  Median    Mean 3rd Qu.    Max. \n",
    "     52    4672   15544  142527   49054 5678192 \n",
    "```"
   ]
  },
  {
   "cell_type": "code",
   "execution_count": null,
   "metadata": {},
   "outputs": [],
   "source": [
    "!qiime diversity core-metrics \\\n",
    "--i-table ./Qiime_input_data/kuT2T_BIOFilt/countData_CMS_PT.qza \\\n",
    "--p-sampling-depth 4700 \\\n",
    "--m-metadata-file ./Qiime_input_data/kuT2T_BIOFilt/metaData_CMS_PT.txt \\\n",
    "--output-dir ./core_metrics/kuT2T_BIOFilt/pt_cms_R4700/"
   ]
  },
  {
   "cell_type": "code",
   "execution_count": null,
   "metadata": {},
   "outputs": [],
   "source": [
    "!qiime diversity alpha-group-significance \\\n",
    "--i-alpha-diversity ./core_metrics/kuT2T_BIOFilt/pt_cms_R4700/observed_features_vector.qza \\\n",
    "--m-metadata-file ./Qiime_input_data/kuT2T_BIOFilt/metaData_CMS_PT.txt \\\n",
    "--o-visualization ./core_metrics/kuT2T_BIOFilt/pt_cms_R4700/observed_features_vector_significance.qzv\n",
    "\n",
    "!qiime diversity alpha-group-significance \\\n",
    "--i-alpha-diversity ./core_metrics/kuT2T_BIOFilt/pt_cms_R4700/shannon_vector.qza \\\n",
    "--m-metadata-file ./Qiime_input_data/kuT2T_BIOFilt/metaData_CMS_PT.txt \\\n",
    "--o-visualization ./core_metrics/kuT2T_BIOFilt/pt_cms_R4700/shannon_vector_significance.qzv"
   ]
  },
  {
   "cell_type": "code",
   "execution_count": null,
   "metadata": {},
   "outputs": [],
   "source": [
    "!qiime diversity beta-group-significance \\\n",
    "--i-distance-matrix ./core_metrics/kuT2T_BIOFilt/pt_cms_R4700/jaccard_distance_matrix.qza \\\n",
    "--m-metadata-file ./Qiime_input_data/kuT2T_BIOFilt/metaData_CMS_PT.txt \\\n",
    "--m-metadata-column investigation \\\n",
    "--o-visualization ./core_metrics/kuT2T_BIOFilt/pt_cms_R4700/jaccard_distance_matrix_significance.qzv\n",
    "\n",
    "!qiime diversity beta-group-significance \\\n",
    "--i-distance-matrix ./core_metrics/kuT2T_BIOFilt/pt_cms_R4700/bray_curtis_distance_matrix.qza \\\n",
    "--m-metadata-file ./Qiime_input_data/kuT2T_BIOFilt/metaData_CMS_PT.txt \\\n",
    "--m-metadata-column investigation \\\n",
    "--o-visualization ./core_metrics/kuT2T_BIOFilt/pt_cms_R4700/bray_curtis_distance_matrix_significance.qzv"
   ]
  },
  {
   "cell_type": "markdown",
   "metadata": {},
   "source": [
    "# Qiime 2 Core Metrics - BDN\n",
    "Note: Since beta diversity was calculated above using DEICODE above, we are mostly interested in the alpha diversity results."
   ]
  },
  {
   "cell_type": "markdown",
   "metadata": {},
   "source": [
    "### Harvard Medical School (HMS)\n",
    "Note the following sample read distribution from R:\n",
    "```\n",
    "[1] \"HMS\"\n",
    "    Min.  1st Qu.   Median     Mean  3rd Qu.     Max. \n",
    "      25      124      526   134244     2225 64520155\n",
    "```"
   ]
  },
  {
   "cell_type": "code",
   "execution_count": null,
   "metadata": {},
   "outputs": [],
   "source": [
    "!qiime diversity core-metrics \\\n",
    "--i-table ./Qiime_input_data/kuT2T_BIOFilt/countData_HMS_BDN.qza \\\n",
    "--p-sampling-depth 120 \\\n",
    "--m-metadata-file ./Qiime_input_data/kuT2T_BIOFilt/metaData_HMS_BDN.txt \\\n",
    "--output-dir ./core_metrics/kuT2T_BIOFilt/bdn_hms_R120/"
   ]
  },
  {
   "cell_type": "code",
   "execution_count": null,
   "metadata": {},
   "outputs": [],
   "source": [
    "!qiime diversity alpha-group-significance \\\n",
    "--i-alpha-diversity ./core_metrics/kuT2T_BIOFilt/bdn_hms_R120/observed_features_vector.qza \\\n",
    "--m-metadata-file ./Qiime_input_data/kuT2T_BIOFilt/metaData_HMS_BDN.txt \\\n",
    "--o-visualization ./core_metrics/kuT2T_BIOFilt/bdn_hms_R120/observed_features_vector_significance.qzv\n",
    "\n",
    "!qiime diversity alpha-group-significance \\\n",
    "--i-alpha-diversity ./core_metrics/kuT2T_BIOFilt/bdn_hms_R120/shannon_vector.qza \\\n",
    "--m-metadata-file ./Qiime_input_data/kuT2T_BIOFilt/metaData_HMS_BDN.txt \\\n",
    "--o-visualization ./core_metrics/kuT2T_BIOFilt/bdn_hms_R120/shannon_vector_significance.qzv"
   ]
  },
  {
   "cell_type": "code",
   "execution_count": null,
   "metadata": {},
   "outputs": [],
   "source": [
    "!qiime diversity beta-group-significance \\\n",
    "--i-distance-matrix ./core_metrics/kuT2T_BIOFilt/bdn_hms_R120/jaccard_distance_matrix.qza \\\n",
    "--m-metadata-file ./Qiime_input_data/kuT2T_BIOFilt/metaData_HMS_BDN.txt \\\n",
    "--m-metadata-column investigation \\\n",
    "--o-visualization ./core_metrics/kuT2T_BIOFilt/bdn_hms_R120/jaccard_distance_matrix_significance.qzv\n",
    "\n",
    "!qiime diversity beta-group-significance \\\n",
    "--i-distance-matrix ./core_metrics/kuT2T_BIOFilt/bdn_hms_R120/bray_curtis_distance_matrix.qza \\\n",
    "--m-metadata-file ./Qiime_input_data/kuT2T_BIOFilt/metaData_HMS_BDN.txt \\\n",
    "--m-metadata-column investigation \\\n",
    "--o-visualization ./core_metrics/kuT2T_BIOFilt/bdn_hms_R120/bray_curtis_distance_matrix_significance.qzv"
   ]
  },
  {
   "cell_type": "markdown",
   "metadata": {},
   "source": [
    "### Baylor College of Medicine (BCM)\n",
    "Note the following sample read distribution from R:\n",
    "```\n",
    "[1] \"BCM\"\n",
    "   Min. 1st Qu.  Median    Mean 3rd Qu.    Max. \n",
    "    316    1351    2066    7683    3656  260466 \n",
    "```"
   ]
  },
  {
   "cell_type": "code",
   "execution_count": null,
   "metadata": {},
   "outputs": [],
   "source": [
    "!qiime diversity core-metrics \\\n",
    "--i-table ./Qiime_input_data/kuT2T_BIOFilt/countData_BCM_BDN.qza \\\n",
    "--p-sampling-depth 1400 \\\n",
    "--m-metadata-file ./Qiime_input_data/kuT2T_BIOFilt/metaData_BCM_BDN.txt \\\n",
    "--output-dir ./core_metrics/kuT2T_BIOFilt/bdn_bcm_R1400/"
   ]
  },
  {
   "cell_type": "code",
   "execution_count": null,
   "metadata": {},
   "outputs": [],
   "source": [
    "!qiime diversity alpha-group-significance \\\n",
    "--i-alpha-diversity ./core_metrics/kuT2T_BIOFilt/bdn_bcm_R1400/observed_features_vector.qza \\\n",
    "--m-metadata-file ./Qiime_input_data/kuT2T_BIOFilt/metaData_BCM_BDN.txt \\\n",
    "--o-visualization ./core_metrics/kuT2T_BIOFilt/bdn_bcm_R1400/observed_features_vector_significance.qzv\n",
    "\n",
    "!qiime diversity alpha-group-significance \\\n",
    "--i-alpha-diversity ./core_metrics/kuT2T_BIOFilt/bdn_bcm_R1400/shannon_vector.qza \\\n",
    "--m-metadata-file ./Qiime_input_data/kuT2T_BIOFilt/metaData_BCM_BDN.txt \\\n",
    "--o-visualization ./core_metrics/kuT2T_BIOFilt/bdn_bcm_R1400/shannon_vector_significance.qzv"
   ]
  },
  {
   "cell_type": "code",
   "execution_count": null,
   "metadata": {},
   "outputs": [],
   "source": [
    "!qiime diversity beta-group-significance \\\n",
    "--i-distance-matrix ./core_metrics/kuT2T_BIOFilt/bdn_bcm_R1400/jaccard_distance_matrix.qza \\\n",
    "--m-metadata-file ./Qiime_input_data/kuT2T_BIOFilt/metaData_BCM_BDN.txt \\\n",
    "--m-metadata-column investigation \\\n",
    "--o-visualization ./core_metrics/kuT2T_BIOFilt/bdn_bcm_R1400/jaccard_distance_matrix_significance.qzv\n",
    "\n",
    "!qiime diversity beta-group-significance \\\n",
    "--i-distance-matrix ./core_metrics/kuT2T_BIOFilt/bdn_bcm_R1400/bray_curtis_distance_matrix.qza \\\n",
    "--m-metadata-file ./Qiime_input_data/kuT2T_BIOFilt/metaData_BCM_BDN.txt \\\n",
    "--m-metadata-column investigation \\\n",
    "--o-visualization ./core_metrics/kuT2T_BIOFilt/bdn_bcm_R1400/bray_curtis_distance_matrix_significance.qzv"
   ]
  },
  {
   "cell_type": "markdown",
   "metadata": {},
   "source": [
    "### MD Anderson (MDA)\n",
    "Note the following sample read distribution from R:\n",
    "```\n",
    "[1] \"MDA\"\n",
    "   Min. 1st Qu.  Median    Mean 3rd Qu.    Max. \n",
    "     28      50     209    4100    1060  165856 \n",
    "```"
   ]
  },
  {
   "cell_type": "code",
   "execution_count": null,
   "metadata": {},
   "outputs": [],
   "source": [
    "!qiime diversity core-metrics \\\n",
    "--i-table ./Qiime_input_data/kuT2T_BIOFilt/countData_MDA_BDN.qza \\\n",
    "--p-sampling-depth 50 \\\n",
    "--m-metadata-file ./Qiime_input_data/kuT2T_BIOFilt/metaData_MDA_BDN.txt \\\n",
    "--output-dir ./core_metrics/kuT2T_BIOFilt/bdn_mda_R50/"
   ]
  },
  {
   "cell_type": "code",
   "execution_count": null,
   "metadata": {},
   "outputs": [],
   "source": [
    "!qiime diversity alpha-group-significance \\\n",
    "--i-alpha-diversity ./core_metrics/kuT2T_BIOFilt/bdn_mda_R50/observed_features_vector.qza \\\n",
    "--m-metadata-file ./Qiime_input_data/kuT2T_BIOFilt/metaData_MDA_BDN.txt \\\n",
    "--o-visualization ./core_metrics/kuT2T_BIOFilt/bdn_mda_R50/observed_features_vector_significance.qzv\n",
    "\n",
    "!qiime diversity alpha-group-significance \\\n",
    "--i-alpha-diversity ./core_metrics/kuT2T_BIOFilt/bdn_mda_R50/shannon_vector.qza \\\n",
    "--m-metadata-file ./Qiime_input_data/kuT2T_BIOFilt/metaData_MDA_BDN.txt \\\n",
    "--o-visualization ./core_metrics/kuT2T_BIOFilt/bdn_mda_R50/shannon_vector_significance.qzv"
   ]
  },
  {
   "cell_type": "code",
   "execution_count": null,
   "metadata": {},
   "outputs": [],
   "source": [
    "!qiime diversity beta-group-significance \\\n",
    "--i-distance-matrix ./core_metrics/kuT2T_BIOFilt/bdn_mda_R50/jaccard_distance_matrix.qza \\\n",
    "--m-metadata-file ./Qiime_input_data/kuT2T_BIOFilt/metaData_MDA_BDN.txt \\\n",
    "--m-metadata-column investigation \\\n",
    "--o-visualization ./core_metrics/kuT2T_BIOFilt/bdn_mda_R50/jaccard_distance_matrix_significance.qzv\n",
    "\n",
    "!qiime diversity beta-group-significance \\\n",
    "--i-distance-matrix ./core_metrics/kuT2T_BIOFilt/bdn_mda_R50/bray_curtis_distance_matrix.qza \\\n",
    "--m-metadata-file ./Qiime_input_data/kuT2T_BIOFilt/metaData_MDA_BDN.txt \\\n",
    "--m-metadata-column investigation \\\n",
    "--o-visualization ./core_metrics/kuT2T_BIOFilt/bdn_mda_R50/bray_curtis_distance_matrix_significance.qzv"
   ]
  },
  {
   "cell_type": "markdown",
   "metadata": {},
   "source": [
    "### Washington University (WashU)\n",
    "Note the following sample read distribution from R:\n",
    "```\n",
    "[1] \"WashU\"\n",
    "    Min.  1st Qu.   Median     Mean  3rd Qu.     Max. \n",
    "     240     2018     3661   316336     8320 44925643 \n",
    "```"
   ]
  },
  {
   "cell_type": "code",
   "execution_count": null,
   "metadata": {},
   "outputs": [],
   "source": [
    "!qiime diversity core-metrics \\\n",
    "--i-table ./Qiime_input_data/kuT2T_BIOFilt/countData_WashU_BDN.qza \\\n",
    "--p-sampling-depth 2000 \\\n",
    "--m-metadata-file ./Qiime_input_data/kuT2T_BIOFilt/metaData_WashU_BDN.txt \\\n",
    "--output-dir ./core_metrics/kuT2T_BIOFilt/bdn_washu_R2k/"
   ]
  },
  {
   "cell_type": "code",
   "execution_count": null,
   "metadata": {},
   "outputs": [],
   "source": [
    "!qiime diversity alpha-group-significance \\\n",
    "--i-alpha-diversity ./core_metrics/kuT2T_BIOFilt/bdn_washu_R2k/observed_features_vector.qza \\\n",
    "--m-metadata-file ./Qiime_input_data/kuT2T_BIOFilt/metaData_WashU_BDN.txt \\\n",
    "--o-visualization ./core_metrics/kuT2T_BIOFilt/bdn_washu_R2k/observed_features_vector_significance.qzv\n",
    "\n",
    "!qiime diversity alpha-group-significance \\\n",
    "--i-alpha-diversity ./core_metrics/kuT2T_BIOFilt/bdn_washu_R2k/shannon_vector.qza \\\n",
    "--m-metadata-file ./Qiime_input_data/kuT2T_BIOFilt/metaData_WashU_BDN.txt \\\n",
    "--o-visualization ./core_metrics/kuT2T_BIOFilt/bdn_washu_R2k/shannon_vector_significance.qzv"
   ]
  },
  {
   "cell_type": "code",
   "execution_count": null,
   "metadata": {},
   "outputs": [],
   "source": [
    "!qiime diversity beta-group-significance \\\n",
    "--i-distance-matrix ./core_metrics/kuT2T_BIOFilt/bdn_washu_R2k/jaccard_distance_matrix.qza \\\n",
    "--m-metadata-file ./Qiime_input_data/kuT2T_BIOFilt/metaData_WashU_BDN.txt \\\n",
    "--m-metadata-column investigation \\\n",
    "--o-visualization ./core_metrics/kuT2T_BIOFilt/bdn_washu_R2k/jaccard_distance_matrix_significance.qzv\n",
    "\n",
    "!qiime diversity beta-group-significance \\\n",
    "--i-distance-matrix ./core_metrics/kuT2T_BIOFilt/bdn_washu_R2k/bray_curtis_distance_matrix.qza \\\n",
    "--m-metadata-file ./Qiime_input_data/kuT2T_BIOFilt/metaData_WashU_BDN.txt \\\n",
    "--m-metadata-column investigation \\\n",
    "--o-visualization ./core_metrics/kuT2T_BIOFilt/bdn_washu_R2k/bray_curtis_distance_matrix_significance.qzv"
   ]
  },
  {
   "cell_type": "markdown",
   "metadata": {},
   "source": [
    "### Broad Institute WGS only (Broad WGS)\n",
    "Note the following sample read distribution from R:\n",
    "```\n",
    "[1] \"Broad_WGS\"\n",
    "    Min.  1st Qu.   Median     Mean  3rd Qu.     Max. \n",
    "      12      320      828    54600     3786 13133696 \n",
    "```"
   ]
  },
  {
   "cell_type": "code",
   "execution_count": null,
   "metadata": {},
   "outputs": [],
   "source": [
    "!qiime diversity core-metrics \\\n",
    "--i-table ./Qiime_input_data/kuT2T_BIOFilt/countData_Broad_WGS_BDN.qza \\\n",
    "--p-sampling-depth 320 \\\n",
    "--m-metadata-file ./Qiime_input_data/kuT2T_BIOFilt/metaData_Broad_WGS_BDN.txt \\\n",
    "--output-dir ./core_metrics/kuT2T_BIOFilt/bdn_broad_wgs_R320/"
   ]
  },
  {
   "cell_type": "code",
   "execution_count": null,
   "metadata": {},
   "outputs": [],
   "source": [
    "!qiime diversity alpha-group-significance \\\n",
    "--i-alpha-diversity ./core_metrics/kuT2T_BIOFilt/bdn_broad_wgs_R320/observed_features_vector.qza \\\n",
    "--m-metadata-file ./Qiime_input_data/kuT2T_BIOFilt/metaData_Broad_WGS_BDN.txt \\\n",
    "--o-visualization ./core_metrics/kuT2T_BIOFilt/bdn_broad_wgs_R320/observed_features_vector_significance.qzv\n",
    "\n",
    "!qiime diversity alpha-group-significance \\\n",
    "--i-alpha-diversity ./core_metrics/kuT2T_BIOFilt/bdn_broad_wgs_R320/shannon_vector.qza \\\n",
    "--m-metadata-file ./Qiime_input_data/kuT2T_BIOFilt/metaData_Broad_WGS_BDN.txt \\\n",
    "--o-visualization ./core_metrics/kuT2T_BIOFilt/bdn_broad_wgs_R320/shannon_vector_significance.qzv"
   ]
  },
  {
   "cell_type": "code",
   "execution_count": null,
   "metadata": {},
   "outputs": [],
   "source": [
    "!qiime diversity beta-group-significance \\\n",
    "--i-distance-matrix ./core_metrics/kuT2T_BIOFilt/bdn_broad_wgs_R320/jaccard_distance_matrix.qza \\\n",
    "--m-metadata-file ./Qiime_input_data/kuT2T_BIOFilt/metaData_Broad_WGS_BDN.txt \\\n",
    "--m-metadata-column investigation \\\n",
    "--o-visualization ./core_metrics/kuT2T_BIOFilt/bdn_broad_wgs_R320/jaccard_distance_matrix_significance.qzv\n",
    "\n",
    "!qiime diversity beta-group-significance \\\n",
    "--i-distance-matrix ./core_metrics/kuT2T_BIOFilt/bdn_broad_wgs_R320/bray_curtis_distance_matrix.qza \\\n",
    "--m-metadata-file ./Qiime_input_data/kuT2T_BIOFilt/metaData_Broad_WGS_BDN.txt \\\n",
    "--m-metadata-column investigation \\\n",
    "--o-visualization ./core_metrics/kuT2T_BIOFilt/bdn_broad_wgs_R320/bray_curtis_distance_matrix_significance.qzv"
   ]
  },
  {
   "cell_type": "markdown",
   "metadata": {},
   "source": [
    "# Figures for the paper\n",
    "\n",
    "- Emperor (https://biocore.github.io/emperor/) will be used to view the beta diversity PCoA plots (again using https://view.qiime2.org/) and capture screenshots for the PCoA figures"
   ]
  },
  {
   "cell_type": "code",
   "execution_count": null,
   "metadata": {},
   "outputs": [],
   "source": []
  }
 ],
 "metadata": {
  "kernelspec": {
   "display_name": "Python 3 (ipykernel)",
   "language": "python",
   "name": "python3"
  },
  "language_info": {
   "codemirror_mode": {
    "name": "ipython",
    "version": 3
   },
   "file_extension": ".py",
   "mimetype": "text/x-python",
   "name": "python",
   "nbconvert_exporter": "python",
   "pygments_lexer": "ipython3",
   "version": "3.8.13"
  }
 },
 "nbformat": 4,
 "nbformat_minor": 2
}
