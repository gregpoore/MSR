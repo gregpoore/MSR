{
 "cells": [
  {
   "cell_type": "markdown",
   "metadata": {},
   "source": [
    "The following conda environment for Qiime 2 was used for these analyses:\n",
    "\n",
    ">qiime2-2022.2\n",
    "\n",
    "The following commands were run using the command line interface (CLI) of Qiime 2."
   ]
  },
  {
   "cell_type": "markdown",
   "metadata": {},
   "source": [
    "# Import Taxa table"
   ]
  },
  {
   "cell_type": "code",
   "execution_count": 1,
   "metadata": {},
   "outputs": [
    {
     "name": "stdout",
     "output_type": "stream",
     "text": [
      "\u001b[32mImported ./Qiime_input_data/rs210-taxa.txt as TSVTaxonomyDirectoryFormat to rs210Taxonomy.qza\u001b[0m\r\n",
      "\u001b[0m"
     ]
    }
   ],
   "source": [
    "!qiime tools import \\\n",
    " --type 'FeatureData[Taxonomy]' \\\n",
    " --input-path ./Qiime_input_data/rs210-taxa.txt \\\n",
    " --output-path rs210Taxonomy.qza"
   ]
  },
  {
   "cell_type": "markdown",
   "metadata": {},
   "source": [
    "# Import PT data"
   ]
  },
  {
   "cell_type": "markdown",
   "metadata": {},
   "source": [
    "### Filt5050"
   ]
  },
  {
   "cell_type": "code",
   "execution_count": 2,
   "metadata": {},
   "outputs": [
    {
     "name": "stdout",
     "output_type": "stream",
     "text": [
      "\u001b[32mImported ./Qiime_input_data/rs210Pan_Filt5050/countData_WGS_PT.biom as BIOMV100Format to ./Qiime_input_data/rs210Pan_Filt5050/countData_WGS_PT.qza\u001b[0m\r\n",
      "\u001b[0m"
     ]
    }
   ],
   "source": [
    "!qiime tools import \\\n",
    "--type 'FeatureTable[Frequency]' \\\n",
    "--input-path ./Qiime_input_data/rs210Pan_Filt5050/countData_WGS_PT.biom \\\n",
    "--input-format BIOMV100Format \\\n",
    "--output-path ./Qiime_input_data/rs210Pan_Filt5050/countData_WGS_PT.qza"
   ]
  },
  {
   "cell_type": "code",
   "execution_count": 3,
   "metadata": {},
   "outputs": [
    {
     "name": "stdout",
     "output_type": "stream",
     "text": [
      "\u001b[32mImported ./Qiime_input_data/rs210Pan_Filt5050/countData_RNA_PT.biom as BIOMV100Format to ./Qiime_input_data/rs210Pan_Filt5050/countData_RNA_PT.qza\u001b[0m\r\n",
      "\u001b[0m"
     ]
    }
   ],
   "source": [
    "!qiime tools import \\\n",
    "--type 'FeatureTable[Frequency]' \\\n",
    "--input-path ./Qiime_input_data/rs210Pan_Filt5050/countData_RNA_PT.biom \\\n",
    "--input-format BIOMV100Format \\\n",
    "--output-path ./Qiime_input_data/rs210Pan_Filt5050/countData_RNA_PT.qza"
   ]
  },
  {
   "cell_type": "code",
   "execution_count": 4,
   "metadata": {},
   "outputs": [
    {
     "name": "stdout",
     "output_type": "stream",
     "text": [
      "\u001b[32mImported ./Qiime_input_data/rs210Pan_Filt5050/countData_WGS_BDN.biom as BIOMV100Format to ./Qiime_input_data/rs210Pan_Filt5050/countData_WGS_BDN.qza\u001b[0m\r\n",
      "\u001b[0m"
     ]
    }
   ],
   "source": [
    "!qiime tools import \\\n",
    "--type 'FeatureTable[Frequency]' \\\n",
    "--input-path ./Qiime_input_data/rs210Pan_Filt5050/countData_WGS_BDN.biom \\\n",
    "--input-format BIOMV100Format \\\n",
    "--output-path ./Qiime_input_data/rs210Pan_Filt5050/countData_WGS_BDN.qza"
   ]
  },
  {
   "cell_type": "markdown",
   "metadata": {},
   "source": [
    "### WIS"
   ]
  },
  {
   "cell_type": "code",
   "execution_count": 5,
   "metadata": {},
   "outputs": [
    {
     "name": "stdout",
     "output_type": "stream",
     "text": [
      "\u001b[32mImported ./Qiime_input_data/rs210Pan_WIS/countData_WGS_PT.biom as BIOMV100Format to ./Qiime_input_data/rs210Pan_WIS/countData_WGS_PT.qza\u001b[0m\r\n",
      "\u001b[0m"
     ]
    }
   ],
   "source": [
    "!qiime tools import \\\n",
    "--type 'FeatureTable[Frequency]' \\\n",
    "--input-path ./Qiime_input_data/rs210Pan_WIS/countData_WGS_PT.biom \\\n",
    "--input-format BIOMV100Format \\\n",
    "--output-path ./Qiime_input_data/rs210Pan_WIS/countData_WGS_PT.qza"
   ]
  },
  {
   "cell_type": "code",
   "execution_count": 6,
   "metadata": {},
   "outputs": [
    {
     "name": "stdout",
     "output_type": "stream",
     "text": [
      "\u001b[32mImported ./Qiime_input_data/rs210Pan_WIS/countData_RNA_PT.biom as BIOMV100Format to ./Qiime_input_data/rs210Pan_WIS/countData_RNA_PT.qza\u001b[0m\r\n",
      "\u001b[0m"
     ]
    }
   ],
   "source": [
    "!qiime tools import \\\n",
    "--type 'FeatureTable[Frequency]' \\\n",
    "--input-path ./Qiime_input_data/rs210Pan_WIS/countData_RNA_PT.biom \\\n",
    "--input-format BIOMV100Format \\\n",
    "--output-path ./Qiime_input_data/rs210Pan_WIS/countData_RNA_PT.qza"
   ]
  },
  {
   "cell_type": "code",
   "execution_count": 7,
   "metadata": {},
   "outputs": [
    {
     "name": "stdout",
     "output_type": "stream",
     "text": [
      "\u001b[32mImported ./Qiime_input_data/rs210Pan_WIS/countData_WGS_BDN.biom as BIOMV100Format to ./Qiime_input_data/rs210Pan_WIS/countData_WGS_BDN.qza\u001b[0m\n",
      "\u001b[0m"
     ]
    }
   ],
   "source": [
    "!qiime tools import \\\n",
    "--type 'FeatureTable[Frequency]' \\\n",
    "--input-path ./Qiime_input_data/rs210Pan_WIS/countData_WGS_BDN.biom \\\n",
    "--input-format BIOMV100Format \\\n",
    "--output-path ./Qiime_input_data/rs210Pan_WIS/countData_WGS_BDN.qza"
   ]
  },
  {
   "cell_type": "markdown",
   "metadata": {},
   "source": [
    "### Filt7575"
   ]
  },
  {
   "cell_type": "code",
   "execution_count": 8,
   "metadata": {},
   "outputs": [
    {
     "name": "stdout",
     "output_type": "stream",
     "text": [
      "\u001b[32mImported ./Qiime_input_data/rs210Pan_Filt7575/countData_WGS_PT.biom as BIOMV100Format to ./Qiime_input_data/rs210Pan_Filt7575/countData_WGS_PT.qza\u001b[0m\r\n",
      "\u001b[0m"
     ]
    }
   ],
   "source": [
    "!qiime tools import \\\n",
    "--type 'FeatureTable[Frequency]' \\\n",
    "--input-path ./Qiime_input_data/rs210Pan_Filt7575/countData_WGS_PT.biom \\\n",
    "--input-format BIOMV100Format \\\n",
    "--output-path ./Qiime_input_data/rs210Pan_Filt7575/countData_WGS_PT.qza"
   ]
  },
  {
   "cell_type": "code",
   "execution_count": 9,
   "metadata": {},
   "outputs": [
    {
     "name": "stdout",
     "output_type": "stream",
     "text": [
      "\u001b[32mImported ./Qiime_input_data/rs210Pan_Filt7575/countData_RNA_PT.biom as BIOMV100Format to ./Qiime_input_data/rs210Pan_Filt7575/countData_RNA_PT.qza\u001b[0m\r\n",
      "\u001b[0m"
     ]
    }
   ],
   "source": [
    "!qiime tools import \\\n",
    "--type 'FeatureTable[Frequency]' \\\n",
    "--input-path ./Qiime_input_data/rs210Pan_Filt7575/countData_RNA_PT.biom \\\n",
    "--input-format BIOMV100Format \\\n",
    "--output-path ./Qiime_input_data/rs210Pan_Filt7575/countData_RNA_PT.qza"
   ]
  },
  {
   "cell_type": "code",
   "execution_count": 10,
   "metadata": {},
   "outputs": [
    {
     "name": "stdout",
     "output_type": "stream",
     "text": [
      "\u001b[32mImported ./Qiime_input_data/rs210Pan_Filt7575/countData_WGS_BDN.biom as BIOMV100Format to ./Qiime_input_data/rs210Pan_Filt7575/countData_WGS_BDN.qza\u001b[0m\r\n",
      "\u001b[0m"
     ]
    }
   ],
   "source": [
    "!qiime tools import \\\n",
    "--type 'FeatureTable[Frequency]' \\\n",
    "--input-path ./Qiime_input_data/rs210Pan_Filt7575/countData_WGS_BDN.biom \\\n",
    "--input-format BIOMV100Format \\\n",
    "--output-path ./Qiime_input_data/rs210Pan_Filt7575/countData_WGS_BDN.qza"
   ]
  },
  {
   "cell_type": "markdown",
   "metadata": {},
   "source": [
    "### Filt9090"
   ]
  },
  {
   "cell_type": "code",
   "execution_count": 11,
   "metadata": {},
   "outputs": [
    {
     "name": "stdout",
     "output_type": "stream",
     "text": [
      "\u001b[32mImported ./Qiime_input_data/rs210Pan_Filt9090/countData_WGS_PT.biom as BIOMV100Format to ./Qiime_input_data/rs210Pan_Filt9090/countData_WGS_PT.qza\u001b[0m\n",
      "\u001b[0m"
     ]
    }
   ],
   "source": [
    "!qiime tools import \\\n",
    "--type 'FeatureTable[Frequency]' \\\n",
    "--input-path ./Qiime_input_data/rs210Pan_Filt9090/countData_WGS_PT.biom \\\n",
    "--input-format BIOMV100Format \\\n",
    "--output-path ./Qiime_input_data/rs210Pan_Filt9090/countData_WGS_PT.qza"
   ]
  },
  {
   "cell_type": "code",
   "execution_count": 12,
   "metadata": {},
   "outputs": [
    {
     "name": "stdout",
     "output_type": "stream",
     "text": [
      "\u001b[32mImported ./Qiime_input_data/rs210Pan_Filt9090/countData_RNA_PT.biom as BIOMV100Format to ./Qiime_input_data/rs210Pan_Filt9090/countData_RNA_PT.qza\u001b[0m\r\n",
      "\u001b[0m"
     ]
    }
   ],
   "source": [
    "!qiime tools import \\\n",
    "--type 'FeatureTable[Frequency]' \\\n",
    "--input-path ./Qiime_input_data/rs210Pan_Filt9090/countData_RNA_PT.biom \\\n",
    "--input-format BIOMV100Format \\\n",
    "--output-path ./Qiime_input_data/rs210Pan_Filt9090/countData_RNA_PT.qza"
   ]
  },
  {
   "cell_type": "code",
   "execution_count": 13,
   "metadata": {},
   "outputs": [
    {
     "name": "stdout",
     "output_type": "stream",
     "text": [
      "\u001b[32mImported ./Qiime_input_data/rs210Pan_Filt9090/countData_WGS_BDN.biom as BIOMV100Format to ./Qiime_input_data/rs210Pan_Filt9090/countData_WGS_BDN.qza\u001b[0m\r\n",
      "\u001b[0m"
     ]
    }
   ],
   "source": [
    "!qiime tools import \\\n",
    "--type 'FeatureTable[Frequency]' \\\n",
    "--input-path ./Qiime_input_data/rs210Pan_Filt9090/countData_WGS_BDN.biom \\\n",
    "--input-format BIOMV100Format \\\n",
    "--output-path ./Qiime_input_data/rs210Pan_Filt9090/countData_WGS_BDN.qza"
   ]
  },
  {
   "cell_type": "markdown",
   "metadata": {},
   "source": [
    "# Deicode for PT (beta diversity that does not require rarefaction)\n",
    "\n",
    "Martino et al. 2019. mSystems. See the following links:\n",
    "- https://journals.asm.org/doi/10.1128/mSystems.00016-19\n",
    "- https://forum.qiime2.org/t/robust-aitchison-pca-beta-diversity-with-deicode/8333"
   ]
  },
  {
   "cell_type": "markdown",
   "metadata": {},
   "source": [
    "### Filt5050 - WGS"
   ]
  },
  {
   "cell_type": "code",
   "execution_count": 14,
   "metadata": {
    "scrolled": true
   },
   "outputs": [
    {
     "name": "stdout",
     "output_type": "stream",
     "text": [
      "\u001b[32mSaved PCoAResults % Properties('biplot') to: ./Qiime_input_data/rs210Pan_Filt5050/deicode_ordination_WGS_PT.qza\u001b[0m\n",
      "\u001b[32mSaved DistanceMatrix to: ./Qiime_input_data/rs210Pan_Filt5050/deicode_distance_WGS_PT.qza\u001b[0m\n",
      "\u001b[0m"
     ]
    }
   ],
   "source": [
    "!qiime deicode rpca \\\n",
    "    --i-table ./Qiime_input_data/rs210Pan_Filt5050/countData_WGS_PT.qza \\\n",
    "    --o-biplot ./Qiime_input_data/rs210Pan_Filt5050/deicode_ordination_WGS_PT.qza \\\n",
    "    --p-min-sample-count 100 \\\n",
    "    --o-distance-matrix ./Qiime_input_data/rs210Pan_Filt5050/deicode_distance_WGS_PT.qza"
   ]
  },
  {
   "cell_type": "code",
   "execution_count": 15,
   "metadata": {},
   "outputs": [
    {
     "name": "stdout",
     "output_type": "stream",
     "text": [
      "\u001b[32mSaved Visualization to: ./Qiime_input_data/rs210Pan_Filt5050/deicode_biplot_WGS_PT.qzv\u001b[0m\r\n",
      "\u001b[0m"
     ]
    }
   ],
   "source": [
    "!qiime emperor biplot \\\n",
    "    --i-biplot ./Qiime_input_data/rs210Pan_Filt5050/deicode_ordination_WGS_PT.qza \\\n",
    "    --m-sample-metadata-file ./Qiime_input_data/rs210Pan_Filt5050/metaData_WGS_PT.txt \\\n",
    "    --m-feature-metadata-file rs210Taxonomy.qza \\\n",
    "    --o-visualization ./Qiime_input_data/rs210Pan_Filt5050/deicode_biplot_WGS_PT.qzv \\\n",
    "    --p-number-of-features 1"
   ]
  },
  {
   "cell_type": "code",
   "execution_count": 16,
   "metadata": {},
   "outputs": [
    {
     "name": "stdout",
     "output_type": "stream",
     "text": [
      "\u001b[32mSaved Visualization to: ./Qiime_input_data/rs210Pan_Filt5050/deicode_adonis_WGS_PT.qzv\u001b[0m\r\n",
      "\u001b[0m"
     ]
    }
   ],
   "source": [
    "!qiime diversity adonis \\\n",
    "--i-distance-matrix ./Qiime_input_data/rs210Pan_Filt5050/deicode_distance_WGS_PT.qza \\\n",
    "--m-metadata-file ./Qiime_input_data/rs210Pan_Filt5050/metaData_WGS_PT.txt \\\n",
    "--p-formula \"investigation\" \\\n",
    "--p-n-jobs 8 \\\n",
    "--o-visualization ./Qiime_input_data/rs210Pan_Filt5050/deicode_adonis_WGS_PT.qzv"
   ]
  },
  {
   "cell_type": "code",
   "execution_count": 90,
   "metadata": {},
   "outputs": [
    {
     "name": "stdout",
     "output_type": "stream",
     "text": [
      "\u001b[32mSaved Visualization to: ./Qiime_input_data/rs210Pan_Filt5050/deicode_adonis_WGS_PT_seqcenter.qzv\u001b[0m\r\n",
      "\u001b[0m"
     ]
    }
   ],
   "source": [
    "!qiime diversity adonis \\\n",
    "--i-distance-matrix ./Qiime_input_data/rs210Pan_Filt5050/deicode_distance_WGS_PT.qza \\\n",
    "--m-metadata-file ./Qiime_input_data/rs210Pan_Filt5050/metaData_WGS_PT.txt \\\n",
    "--p-formula \"data_submitting_center_label\" \\\n",
    "--p-n-jobs 8 \\\n",
    "--o-visualization ./Qiime_input_data/rs210Pan_Filt5050/deicode_adonis_WGS_PT_seqcenter.qzv"
   ]
  },
  {
   "cell_type": "markdown",
   "metadata": {},
   "source": [
    "### Filt5050 - RNA"
   ]
  },
  {
   "cell_type": "code",
   "execution_count": 41,
   "metadata": {
    "scrolled": true
   },
   "outputs": [
    {
     "name": "stdout",
     "output_type": "stream",
     "text": [
      "\u001b[32mSaved PCoAResults % Properties('biplot') to: ./Qiime_input_data/rs210Pan_Filt5050/deicode_ordination_RNA_PT.qza\u001b[0m\n",
      "\u001b[32mSaved DistanceMatrix to: ./Qiime_input_data/rs210Pan_Filt5050/deicode_distance_RNA_PT.qza\u001b[0m\n",
      "\u001b[0m"
     ]
    }
   ],
   "source": [
    "!qiime deicode rpca \\\n",
    "    --i-table ./Qiime_input_data/rs210Pan_Filt5050/countData_RNA_PT.qza \\\n",
    "    --o-biplot ./Qiime_input_data/rs210Pan_Filt5050/deicode_ordination_RNA_PT.qza \\\n",
    "    --p-min-sample-count 100 \\\n",
    "    --o-distance-matrix ./Qiime_input_data/rs210Pan_Filt5050/deicode_distance_RNA_PT.qza"
   ]
  },
  {
   "cell_type": "code",
   "execution_count": 42,
   "metadata": {},
   "outputs": [
    {
     "name": "stdout",
     "output_type": "stream",
     "text": [
      "\u001b[32mSaved Visualization to: ./Qiime_input_data/rs210Pan_Filt5050/deicode_biplot_RNA_PT.qzv\u001b[0m\r\n",
      "\u001b[0m"
     ]
    }
   ],
   "source": [
    "!qiime emperor biplot \\\n",
    "    --i-biplot ./Qiime_input_data/rs210Pan_Filt5050/deicode_ordination_RNA_PT.qza \\\n",
    "    --m-sample-metadata-file ./Qiime_input_data/rs210Pan_Filt5050/metaData_RNA_PT.txt \\\n",
    "    --m-feature-metadata-file rs210Taxonomy.qza \\\n",
    "    --o-visualization ./Qiime_input_data/rs210Pan_Filt5050/deicode_biplot_RNA_PT.qzv \\\n",
    "    --p-number-of-features 1"
   ]
  },
  {
   "cell_type": "code",
   "execution_count": 43,
   "metadata": {},
   "outputs": [
    {
     "name": "stdout",
     "output_type": "stream",
     "text": [
      "\u001b[32mSaved Visualization to: ./Qiime_input_data/rs210Pan_Filt5050/deicode_adonis_RNA_PT.qzv\u001b[0m\r\n",
      "\u001b[0m"
     ]
    }
   ],
   "source": [
    "!qiime diversity adonis \\\n",
    "--i-distance-matrix ./Qiime_input_data/rs210Pan_Filt5050/deicode_distance_RNA_PT.qza \\\n",
    "--m-metadata-file ./Qiime_input_data/rs210Pan_Filt5050/metaData_RNA_PT.txt \\\n",
    "--p-formula \"investigation\" \\\n",
    "--p-n-jobs 8 \\\n",
    "--o-visualization ./Qiime_input_data/rs210Pan_Filt5050/deicode_adonis_RNA_PT.qzv"
   ]
  },
  {
   "cell_type": "code",
   "execution_count": 91,
   "metadata": {},
   "outputs": [
    {
     "name": "stdout",
     "output_type": "stream",
     "text": [
      "\u001b[32mSaved Visualization to: ./Qiime_input_data/rs210Pan_Filt5050/deicode_adonis_RNA_PT_seqcenter.qzv\u001b[0m\r\n",
      "\u001b[0m"
     ]
    }
   ],
   "source": [
    "!qiime diversity adonis \\\n",
    "--i-distance-matrix ./Qiime_input_data/rs210Pan_Filt5050/deicode_distance_RNA_PT.qza \\\n",
    "--m-metadata-file ./Qiime_input_data/rs210Pan_Filt5050/metaData_RNA_PT.txt \\\n",
    "--p-formula \"data_submitting_center_label\" \\\n",
    "--p-n-jobs 8 \\\n",
    "--o-visualization ./Qiime_input_data/rs210Pan_Filt5050/deicode_adonis_RNA_PT_seqcenter.qzv"
   ]
  },
  {
   "cell_type": "markdown",
   "metadata": {},
   "source": [
    "### WIS - WGS"
   ]
  },
  {
   "cell_type": "code",
   "execution_count": 44,
   "metadata": {
    "scrolled": true
   },
   "outputs": [
    {
     "name": "stdout",
     "output_type": "stream",
     "text": [
      "\u001b[32mSaved PCoAResults % Properties('biplot') to: ./Qiime_input_data/rs210Pan_WIS/deicode_ordination_WGS_PT.qza\u001b[0m\n",
      "\u001b[32mSaved DistanceMatrix to: ./Qiime_input_data/rs210Pan_WIS/deicode_distance_WGS_PT.qza\u001b[0m\n",
      "\u001b[0m"
     ]
    }
   ],
   "source": [
    "!qiime deicode rpca \\\n",
    "    --i-table ./Qiime_input_data/rs210Pan_WIS/countData_WGS_PT.qza \\\n",
    "    --o-biplot ./Qiime_input_data/rs210Pan_WIS/deicode_ordination_WGS_PT.qza \\\n",
    "    --p-min-sample-count 100 \\\n",
    "    --o-distance-matrix ./Qiime_input_data/rs210Pan_WIS/deicode_distance_WGS_PT.qza"
   ]
  },
  {
   "cell_type": "code",
   "execution_count": 45,
   "metadata": {},
   "outputs": [
    {
     "name": "stdout",
     "output_type": "stream",
     "text": [
      "\u001b[32mSaved Visualization to: ./Qiime_input_data/rs210Pan_WIS/deicode_biplot_WGS_PT.qzv\u001b[0m\r\n",
      "\u001b[0m"
     ]
    }
   ],
   "source": [
    "!qiime emperor biplot \\\n",
    "    --i-biplot ./Qiime_input_data/rs210Pan_WIS/deicode_ordination_WGS_PT.qza \\\n",
    "    --m-sample-metadata-file ./Qiime_input_data/rs210Pan_WIS/metaData_WGS_PT.txt \\\n",
    "    --m-feature-metadata-file rs210Taxonomy.qza \\\n",
    "    --o-visualization ./Qiime_input_data/rs210Pan_WIS/deicode_biplot_WGS_PT.qzv \\\n",
    "    --p-number-of-features 1"
   ]
  },
  {
   "cell_type": "code",
   "execution_count": 46,
   "metadata": {},
   "outputs": [
    {
     "name": "stdout",
     "output_type": "stream",
     "text": [
      "\u001b[32mSaved Visualization to: ./Qiime_input_data/rs210Pan_WIS/deicode_adonis_WGS_PT.qzv\u001b[0m\r\n",
      "\u001b[0m"
     ]
    }
   ],
   "source": [
    "!qiime diversity adonis \\\n",
    "--i-distance-matrix ./Qiime_input_data/rs210Pan_WIS/deicode_distance_WGS_PT.qza \\\n",
    "--m-metadata-file ./Qiime_input_data/rs210Pan_WIS/metaData_WGS_PT.txt \\\n",
    "--p-formula \"investigation\" \\\n",
    "--p-n-jobs 8 \\\n",
    "--o-visualization ./Qiime_input_data/rs210Pan_WIS/deicode_adonis_WGS_PT.qzv"
   ]
  },
  {
   "cell_type": "code",
   "execution_count": null,
   "metadata": {},
   "outputs": [],
   "source": [
    "!qiime diversity adonis \\\n",
    "--i-distance-matrix ./Qiime_input_data/rs210Pan_WIS/deicode_distance_WGS_PT.qza \\\n",
    "--m-metadata-file ./Qiime_input_data/rs210Pan_WIS/metaData_WGS_PT.txt \\\n",
    "--p-formula \"data_submitting_center_label\" \\\n",
    "--p-n-jobs 8 \\\n",
    "--o-visualization ./Qiime_input_data/rs210Pan_WIS/deicode_adonis_WGS_PT_seqcenter.qzv"
   ]
  },
  {
   "cell_type": "markdown",
   "metadata": {},
   "source": [
    "### WIS - RNA"
   ]
  },
  {
   "cell_type": "code",
   "execution_count": 47,
   "metadata": {
    "scrolled": true
   },
   "outputs": [
    {
     "name": "stdout",
     "output_type": "stream",
     "text": [
      "\u001b[32mSaved PCoAResults % Properties('biplot') to: ./Qiime_input_data/rs210Pan_WIS/deicode_ordination_RNA_PT.qza\u001b[0m\n",
      "\u001b[32mSaved DistanceMatrix to: ./Qiime_input_data/rs210Pan_WIS/deicode_distance_RNA_PT.qza\u001b[0m\n",
      "\u001b[0m"
     ]
    }
   ],
   "source": [
    "!qiime deicode rpca \\\n",
    "    --i-table ./Qiime_input_data/rs210Pan_WIS/countData_RNA_PT.qza \\\n",
    "    --o-biplot ./Qiime_input_data/rs210Pan_WIS/deicode_ordination_RNA_PT.qza \\\n",
    "    --p-min-sample-count 100 \\\n",
    "    --o-distance-matrix ./Qiime_input_data/rs210Pan_WIS/deicode_distance_RNA_PT.qza"
   ]
  },
  {
   "cell_type": "code",
   "execution_count": 48,
   "metadata": {},
   "outputs": [
    {
     "name": "stdout",
     "output_type": "stream",
     "text": [
      "\u001b[32mSaved Visualization to: ./Qiime_input_data/rs210Pan_WIS/deicode_biplot_RNA_PT.qzv\u001b[0m\r\n",
      "\u001b[0m"
     ]
    }
   ],
   "source": [
    "!qiime emperor biplot \\\n",
    "    --i-biplot ./Qiime_input_data/rs210Pan_WIS/deicode_ordination_RNA_PT.qza \\\n",
    "    --m-sample-metadata-file ./Qiime_input_data/rs210Pan_WIS/metaData_RNA_PT.txt \\\n",
    "    --m-feature-metadata-file rs210Taxonomy.qza \\\n",
    "    --o-visualization ./Qiime_input_data/rs210Pan_WIS/deicode_biplot_RNA_PT.qzv \\\n",
    "    --p-number-of-features 1"
   ]
  },
  {
   "cell_type": "code",
   "execution_count": 49,
   "metadata": {},
   "outputs": [
    {
     "name": "stdout",
     "output_type": "stream",
     "text": [
      "\u001b[32mSaved Visualization to: ./Qiime_input_data/rs210Pan_WIS/deicode_adonis_RNA_PT.qzv\u001b[0m\r\n",
      "\u001b[0m"
     ]
    }
   ],
   "source": [
    "!qiime diversity adonis \\\n",
    "--i-distance-matrix ./Qiime_input_data/rs210Pan_WIS/deicode_distance_RNA_PT.qza \\\n",
    "--m-metadata-file ./Qiime_input_data/rs210Pan_WIS/metaData_RNA_PT.txt \\\n",
    "--p-formula \"investigation\" \\\n",
    "--p-n-jobs 8 \\\n",
    "--o-visualization ./Qiime_input_data/rs210Pan_WIS/deicode_adonis_RNA_PT.qzv"
   ]
  },
  {
   "cell_type": "code",
   "execution_count": null,
   "metadata": {},
   "outputs": [],
   "source": [
    "!qiime diversity adonis \\\n",
    "--i-distance-matrix ./Qiime_input_data/rs210Pan_WIS/deicode_distance_RNA_PT.qza \\\n",
    "--m-metadata-file ./Qiime_input_data/rs210Pan_WIS/metaData_RNA_PT.txt \\\n",
    "--p-formula \"data_submitting_center_label\" \\\n",
    "--p-n-jobs 8 \\\n",
    "--o-visualization ./Qiime_input_data/rs210Pan_WIS/deicode_adonis_RNA_PT_seqcenter.qzv"
   ]
  },
  {
   "cell_type": "markdown",
   "metadata": {},
   "source": [
    "### Filt7575 - WGS"
   ]
  },
  {
   "cell_type": "code",
   "execution_count": 50,
   "metadata": {
    "scrolled": true
   },
   "outputs": [
    {
     "name": "stdout",
     "output_type": "stream",
     "text": [
      "\u001b[32mSaved PCoAResults % Properties('biplot') to: ./Qiime_input_data/rs210Pan_Filt7575/deicode_ordination_WGS_PT.qza\u001b[0m\n",
      "\u001b[32mSaved DistanceMatrix to: ./Qiime_input_data/rs210Pan_Filt7575/deicode_distance_WGS_PT.qza\u001b[0m\n",
      "\u001b[0m"
     ]
    }
   ],
   "source": [
    "!qiime deicode rpca \\\n",
    "    --i-table ./Qiime_input_data/rs210Pan_Filt7575/countData_WGS_PT.qza \\\n",
    "    --o-biplot ./Qiime_input_data/rs210Pan_Filt7575/deicode_ordination_WGS_PT.qza \\\n",
    "    --p-min-sample-count 100 \\\n",
    "    --o-distance-matrix ./Qiime_input_data/rs210Pan_Filt7575/deicode_distance_WGS_PT.qza"
   ]
  },
  {
   "cell_type": "code",
   "execution_count": 51,
   "metadata": {},
   "outputs": [
    {
     "name": "stdout",
     "output_type": "stream",
     "text": [
      "\u001b[32mSaved Visualization to: ./Qiime_input_data/rs210Pan_Filt7575/deicode_biplot_WGS_PT.qzv\u001b[0m\r\n",
      "\u001b[0m"
     ]
    }
   ],
   "source": [
    "!qiime emperor biplot \\\n",
    "    --i-biplot ./Qiime_input_data/rs210Pan_Filt7575/deicode_ordination_WGS_PT.qza \\\n",
    "    --m-sample-metadata-file ./Qiime_input_data/rs210Pan_Filt7575/metaData_WGS_PT.txt \\\n",
    "    --m-feature-metadata-file rs210Taxonomy.qza \\\n",
    "    --o-visualization ./Qiime_input_data/rs210Pan_Filt7575/deicode_biplot_WGS_PT.qzv \\\n",
    "    --p-number-of-features 1"
   ]
  },
  {
   "cell_type": "code",
   "execution_count": 52,
   "metadata": {},
   "outputs": [
    {
     "name": "stdout",
     "output_type": "stream",
     "text": [
      "\u001b[32mSaved Visualization to: ./Qiime_input_data/rs210Pan_Filt7575/deicode_adonis_WGS_PT.qzv\u001b[0m\r\n",
      "\u001b[0m"
     ]
    }
   ],
   "source": [
    "!qiime diversity adonis \\\n",
    "--i-distance-matrix ./Qiime_input_data/rs210Pan_Filt7575/deicode_distance_WGS_PT.qza \\\n",
    "--m-metadata-file ./Qiime_input_data/rs210Pan_Filt7575/metaData_WGS_PT.txt \\\n",
    "--p-formula \"investigation\" \\\n",
    "--p-n-jobs 8 \\\n",
    "--o-visualization ./Qiime_input_data/rs210Pan_Filt7575/deicode_adonis_WGS_PT.qzv"
   ]
  },
  {
   "cell_type": "code",
   "execution_count": null,
   "metadata": {},
   "outputs": [],
   "source": [
    "!qiime diversity adonis \\\n",
    "--i-distance-matrix ./Qiime_input_data/rs210Pan_Filt7575/deicode_distance_WGS_PT.qza \\\n",
    "--m-metadata-file ./Qiime_input_data/rs210Pan_Filt7575/metaData_WGS_PT.txt \\\n",
    "--p-formula \"data_submitting_center_label\" \\\n",
    "--p-n-jobs 8 \\\n",
    "--o-visualization ./Qiime_input_data/rs210Pan_Filt7575/deicode_adonis_WGS_PT_seqcenter.qzv"
   ]
  },
  {
   "cell_type": "markdown",
   "metadata": {},
   "source": [
    "### Filt7575 - RNA"
   ]
  },
  {
   "cell_type": "code",
   "execution_count": 53,
   "metadata": {
    "scrolled": true
   },
   "outputs": [
    {
     "name": "stdout",
     "output_type": "stream",
     "text": [
      "\u001b[32mSaved PCoAResults % Properties('biplot') to: ./Qiime_input_data/rs210Pan_Filt7575/deicode_ordination_RNA_PT.qza\u001b[0m\n",
      "\u001b[32mSaved DistanceMatrix to: ./Qiime_input_data/rs210Pan_Filt7575/deicode_distance_RNA_PT.qza\u001b[0m\n",
      "\u001b[0m"
     ]
    }
   ],
   "source": [
    "!qiime deicode rpca \\\n",
    "    --i-table ./Qiime_input_data/rs210Pan_Filt7575/countData_RNA_PT.qza \\\n",
    "    --o-biplot ./Qiime_input_data/rs210Pan_Filt7575/deicode_ordination_RNA_PT.qza \\\n",
    "    --p-min-sample-count 100 \\\n",
    "    --o-distance-matrix ./Qiime_input_data/rs210Pan_Filt7575/deicode_distance_RNA_PT.qza"
   ]
  },
  {
   "cell_type": "code",
   "execution_count": 54,
   "metadata": {},
   "outputs": [
    {
     "name": "stdout",
     "output_type": "stream",
     "text": [
      "\u001b[32mSaved Visualization to: ./Qiime_input_data/rs210Pan_Filt7575/deicode_biplot_RNA_PT.qzv\u001b[0m\r\n",
      "\u001b[0m"
     ]
    }
   ],
   "source": [
    "!qiime emperor biplot \\\n",
    "    --i-biplot ./Qiime_input_data/rs210Pan_Filt7575/deicode_ordination_RNA_PT.qza \\\n",
    "    --m-sample-metadata-file ./Qiime_input_data/rs210Pan_Filt7575/metaData_RNA_PT.txt \\\n",
    "    --m-feature-metadata-file rs210Taxonomy.qza \\\n",
    "    --o-visualization ./Qiime_input_data/rs210Pan_Filt7575/deicode_biplot_RNA_PT.qzv \\\n",
    "    --p-number-of-features 1"
   ]
  },
  {
   "cell_type": "code",
   "execution_count": 55,
   "metadata": {},
   "outputs": [
    {
     "name": "stdout",
     "output_type": "stream",
     "text": [
      "\u001b[32mSaved Visualization to: ./Qiime_input_data/rs210Pan_Filt7575/deicode_adonis_RNA_PT.qzv\u001b[0m\r\n",
      "\u001b[0m"
     ]
    }
   ],
   "source": [
    "!qiime diversity adonis \\\n",
    "--i-distance-matrix ./Qiime_input_data/rs210Pan_Filt7575/deicode_distance_RNA_PT.qza \\\n",
    "--m-metadata-file ./Qiime_input_data/rs210Pan_Filt7575/metaData_RNA_PT.txt \\\n",
    "--p-formula \"investigation\" \\\n",
    "--p-n-jobs 8 \\\n",
    "--o-visualization ./Qiime_input_data/rs210Pan_Filt7575/deicode_adonis_RNA_PT.qzv"
   ]
  },
  {
   "cell_type": "code",
   "execution_count": null,
   "metadata": {},
   "outputs": [],
   "source": [
    "!qiime diversity adonis \\\n",
    "--i-distance-matrix ./Qiime_input_data/rs210Pan_Filt7575/deicode_distance_RNA_PT.qza \\\n",
    "--m-metadata-file ./Qiime_input_data/rs210Pan_Filt7575/metaData_RNA_PT.txt \\\n",
    "--p-formula \"data_submitting_center_label\" \\\n",
    "--p-n-jobs 8 \\\n",
    "--o-visualization ./Qiime_input_data/rs210Pan_Filt7575/deicode_adonis_RNA_PT_seqcenter.qzv"
   ]
  },
  {
   "cell_type": "markdown",
   "metadata": {},
   "source": [
    "### Filt9090 - WGS"
   ]
  },
  {
   "cell_type": "code",
   "execution_count": 56,
   "metadata": {
    "scrolled": true
   },
   "outputs": [
    {
     "name": "stdout",
     "output_type": "stream",
     "text": [
      "\u001b[32mSaved PCoAResults % Properties('biplot') to: ./Qiime_input_data/rs210Pan_Filt9090/deicode_ordination_WGS_PT.qza\u001b[0m\n",
      "\u001b[32mSaved DistanceMatrix to: ./Qiime_input_data/rs210Pan_Filt9090/deicode_distance_WGS_PT.qza\u001b[0m\n",
      "\u001b[0m"
     ]
    }
   ],
   "source": [
    "!qiime deicode rpca \\\n",
    "    --i-table ./Qiime_input_data/rs210Pan_Filt9090/countData_WGS_PT.qza \\\n",
    "    --o-biplot ./Qiime_input_data/rs210Pan_Filt9090/deicode_ordination_WGS_PT.qza \\\n",
    "    --p-min-sample-count 100 \\\n",
    "    --o-distance-matrix ./Qiime_input_data/rs210Pan_Filt9090/deicode_distance_WGS_PT.qza"
   ]
  },
  {
   "cell_type": "code",
   "execution_count": 57,
   "metadata": {},
   "outputs": [
    {
     "name": "stdout",
     "output_type": "stream",
     "text": [
      "\u001b[32mSaved Visualization to: ./Qiime_input_data/rs210Pan_Filt9090/deicode_biplot_WGS_PT.qzv\u001b[0m\n",
      "\u001b[0m"
     ]
    }
   ],
   "source": [
    "!qiime emperor biplot \\\n",
    "    --i-biplot ./Qiime_input_data/rs210Pan_Filt9090/deicode_ordination_WGS_PT.qza \\\n",
    "    --m-sample-metadata-file ./Qiime_input_data/rs210Pan_Filt9090/metaData_WGS_PT.txt \\\n",
    "    --m-feature-metadata-file rs210Taxonomy.qza \\\n",
    "    --o-visualization ./Qiime_input_data/rs210Pan_Filt9090/deicode_biplot_WGS_PT.qzv \\\n",
    "    --p-number-of-features 1"
   ]
  },
  {
   "cell_type": "code",
   "execution_count": 58,
   "metadata": {},
   "outputs": [
    {
     "name": "stdout",
     "output_type": "stream",
     "text": [
      "\u001b[32mSaved Visualization to: ./Qiime_input_data/rs210Pan_Filt9090/deicode_adonis_WGS_PT.qzv\u001b[0m\r\n",
      "\u001b[0m"
     ]
    }
   ],
   "source": [
    "!qiime diversity adonis \\\n",
    "--i-distance-matrix ./Qiime_input_data/rs210Pan_Filt9090/deicode_distance_WGS_PT.qza \\\n",
    "--m-metadata-file ./Qiime_input_data/rs210Pan_Filt9090/metaData_WGS_PT.txt \\\n",
    "--p-formula \"investigation\" \\\n",
    "--p-n-jobs 8 \\\n",
    "--o-visualization ./Qiime_input_data/rs210Pan_Filt9090/deicode_adonis_WGS_PT.qzv"
   ]
  },
  {
   "cell_type": "code",
   "execution_count": null,
   "metadata": {},
   "outputs": [],
   "source": [
    "!qiime diversity adonis \\\n",
    "--i-distance-matrix ./Qiime_input_data/rs210Pan_Filt9090/deicode_distance_WGS_PT.qza \\\n",
    "--m-metadata-file ./Qiime_input_data/rs210Pan_Filt9090/metaData_WGS_PT.txt \\\n",
    "--p-formula \"data_submitting_center_label\" \\\n",
    "--p-n-jobs 8 \\\n",
    "--o-visualization ./Qiime_input_data/rs210Pan_Filt9090/deicode_adonis_WGS_PT_seqcenter.qzv"
   ]
  },
  {
   "cell_type": "markdown",
   "metadata": {},
   "source": [
    "### Filt9090 - RNA"
   ]
  },
  {
   "cell_type": "code",
   "execution_count": 59,
   "metadata": {
    "scrolled": true
   },
   "outputs": [
    {
     "name": "stdout",
     "output_type": "stream",
     "text": [
      "\u001b[32mSaved PCoAResults % Properties('biplot') to: ./Qiime_input_data/rs210Pan_Filt9090/deicode_ordination_RNA_PT.qza\u001b[0m\n",
      "\u001b[32mSaved DistanceMatrix to: ./Qiime_input_data/rs210Pan_Filt9090/deicode_distance_RNA_PT.qza\u001b[0m\n",
      "\u001b[0m"
     ]
    }
   ],
   "source": [
    "!qiime deicode rpca \\\n",
    "    --i-table ./Qiime_input_data/rs210Pan_Filt9090/countData_RNA_PT.qza \\\n",
    "    --o-biplot ./Qiime_input_data/rs210Pan_Filt9090/deicode_ordination_RNA_PT.qza \\\n",
    "    --p-min-sample-count 100 \\\n",
    "    --o-distance-matrix ./Qiime_input_data/rs210Pan_Filt9090/deicode_distance_RNA_PT.qza"
   ]
  },
  {
   "cell_type": "code",
   "execution_count": 60,
   "metadata": {},
   "outputs": [
    {
     "name": "stdout",
     "output_type": "stream",
     "text": [
      "\u001b[32mSaved Visualization to: ./Qiime_input_data/rs210Pan_Filt9090/deicode_biplot_RNA_PT.qzv\u001b[0m\r\n",
      "\u001b[0m"
     ]
    }
   ],
   "source": [
    "!qiime emperor biplot \\\n",
    "    --i-biplot ./Qiime_input_data/rs210Pan_Filt9090/deicode_ordination_RNA_PT.qza \\\n",
    "    --m-sample-metadata-file ./Qiime_input_data/rs210Pan_Filt9090/metaData_RNA_PT.txt \\\n",
    "    --m-feature-metadata-file rs210Taxonomy.qza \\\n",
    "    --o-visualization ./Qiime_input_data/rs210Pan_Filt9090/deicode_biplot_RNA_PT.qzv \\\n",
    "    --p-number-of-features 1"
   ]
  },
  {
   "cell_type": "code",
   "execution_count": 61,
   "metadata": {},
   "outputs": [
    {
     "name": "stdout",
     "output_type": "stream",
     "text": [
      "\u001b[32mSaved Visualization to: ./Qiime_input_data/rs210Pan_Filt9090/deicode_adonis_RNA_PT.qzv\u001b[0m\n",
      "\u001b[0m"
     ]
    }
   ],
   "source": [
    "!qiime diversity adonis \\\n",
    "--i-distance-matrix ./Qiime_input_data/rs210Pan_Filt9090/deicode_distance_RNA_PT.qza \\\n",
    "--m-metadata-file ./Qiime_input_data/rs210Pan_Filt9090/metaData_RNA_PT.txt \\\n",
    "--p-formula \"investigation\" \\\n",
    "--p-n-jobs 8 \\\n",
    "--o-visualization ./Qiime_input_data/rs210Pan_Filt9090/deicode_adonis_RNA_PT.qzv"
   ]
  },
  {
   "cell_type": "code",
   "execution_count": null,
   "metadata": {},
   "outputs": [],
   "source": [
    "!qiime diversity adonis \\\n",
    "--i-distance-matrix ./Qiime_input_data/rs210Pan_Filt9090/deicode_distance_RNA_PT.qza \\\n",
    "--m-metadata-file ./Qiime_input_data/rs210Pan_Filt9090/metaData_RNA_PT.txt \\\n",
    "--p-formula \"data_submitting_center_label\" \\\n",
    "--p-n-jobs 8 \\\n",
    "--o-visualization ./Qiime_input_data/rs210Pan_Filt9090/deicode_adonis_RNA_PT_seqcenter.qzv"
   ]
  },
  {
   "cell_type": "markdown",
   "metadata": {},
   "source": [
    "# Deicode for BDN (beta diversity that does not require rarefaction)\n",
    "\n",
    "Martino et al. 2019. mSystems. See the following links:\n",
    "- https://journals.asm.org/doi/10.1128/mSystems.00016-19\n",
    "- https://forum.qiime2.org/t/robust-aitchison-pca-beta-diversity-with-deicode/8333"
   ]
  },
  {
   "cell_type": "markdown",
   "metadata": {},
   "source": [
    "### Filt5050 - WGS"
   ]
  },
  {
   "cell_type": "code",
   "execution_count": 17,
   "metadata": {
    "scrolled": true
   },
   "outputs": [
    {
     "name": "stdout",
     "output_type": "stream",
     "text": [
      "\u001b[32mSaved PCoAResults % Properties('biplot') to: ./Qiime_input_data/rs210Pan_Filt5050/deicode_ordination_WGS_BDN.qza\u001b[0m\n",
      "\u001b[32mSaved DistanceMatrix to: ./Qiime_input_data/rs210Pan_Filt5050/deicode_distance_WGS_BDN.qza\u001b[0m\n",
      "\u001b[0m"
     ]
    }
   ],
   "source": [
    "!qiime deicode rpca \\\n",
    "    --i-table ./Qiime_input_data/rs210Pan_Filt5050/countData_WGS_BDN.qza \\\n",
    "    --o-biplot ./Qiime_input_data/rs210Pan_Filt5050/deicode_ordination_WGS_BDN.qza \\\n",
    "    --p-min-sample-count 100 \\\n",
    "    --o-distance-matrix ./Qiime_input_data/rs210Pan_Filt5050/deicode_distance_WGS_BDN.qza"
   ]
  },
  {
   "cell_type": "code",
   "execution_count": 18,
   "metadata": {},
   "outputs": [
    {
     "name": "stdout",
     "output_type": "stream",
     "text": [
      "\u001b[32mSaved Visualization to: ./Qiime_input_data/rs210Pan_Filt5050/deicode_biplot_WGS_BDN.qzv\u001b[0m\r\n",
      "\u001b[0m"
     ]
    }
   ],
   "source": [
    "!qiime emperor biplot \\\n",
    "    --i-biplot ./Qiime_input_data/rs210Pan_Filt5050/deicode_ordination_WGS_BDN.qza \\\n",
    "    --m-sample-metadata-file ./Qiime_input_data/rs210Pan_Filt5050/metaData_WGS_BDN.txt \\\n",
    "    --m-feature-metadata-file rs210Taxonomy.qza \\\n",
    "    --o-visualization ./Qiime_input_data/rs210Pan_Filt5050/deicode_biplot_WGS_BDN.qzv \\\n",
    "    --p-number-of-features 1"
   ]
  },
  {
   "cell_type": "code",
   "execution_count": 19,
   "metadata": {},
   "outputs": [
    {
     "name": "stdout",
     "output_type": "stream",
     "text": [
      "\u001b[32mSaved Visualization to: ./Qiime_input_data/rs210Pan_Filt5050/deicode_adonis_WGS_BDN.qzv\u001b[0m\r\n",
      "\u001b[0m"
     ]
    }
   ],
   "source": [
    "!qiime diversity adonis \\\n",
    "--i-distance-matrix ./Qiime_input_data/rs210Pan_Filt5050/deicode_distance_WGS_BDN.qza \\\n",
    "--m-metadata-file ./Qiime_input_data/rs210Pan_Filt5050/metaData_WGS_BDN.txt \\\n",
    "--p-formula \"investigation\" \\\n",
    "--p-n-jobs 8 \\\n",
    "--o-visualization ./Qiime_input_data/rs210Pan_Filt5050/deicode_adonis_WGS_BDN.qzv"
   ]
  },
  {
   "cell_type": "code",
   "execution_count": null,
   "metadata": {},
   "outputs": [],
   "source": [
    "!qiime diversity adonis \\\n",
    "--i-distance-matrix ./Qiime_input_data/rs210Pan_Filt5050/deicode_distance_WGS_BDN.qza \\\n",
    "--m-metadata-file ./Qiime_input_data/rs210Pan_Filt5050/metaData_WGS_BDN.txt \\\n",
    "--p-formula \"data_submitting_center_label\" \\\n",
    "--p-n-jobs 8 \\\n",
    "--o-visualization ./Qiime_input_data/rs210Pan_Filt5050/deicode_adonis_WGS_BDN_seqcenter.qzv"
   ]
  },
  {
   "cell_type": "markdown",
   "metadata": {},
   "source": [
    "### WIS - WGS"
   ]
  },
  {
   "cell_type": "code",
   "execution_count": 20,
   "metadata": {
    "scrolled": true
   },
   "outputs": [
    {
     "name": "stdout",
     "output_type": "stream",
     "text": [
      "\u001b[32mSaved PCoAResults % Properties('biplot') to: ./Qiime_input_data/rs210Pan_WIS/deicode_ordination_WGS_BDN.qza\u001b[0m\n",
      "\u001b[32mSaved DistanceMatrix to: ./Qiime_input_data/rs210Pan_WIS/deicode_distance_WGS_BDN.qza\u001b[0m\n",
      "\u001b[0m"
     ]
    }
   ],
   "source": [
    "!qiime deicode rpca \\\n",
    "    --i-table ./Qiime_input_data/rs210Pan_WIS/countData_WGS_BDN.qza \\\n",
    "    --o-biplot ./Qiime_input_data/rs210Pan_WIS/deicode_ordination_WGS_BDN.qza \\\n",
    "    --p-min-sample-count 100 \\\n",
    "    --o-distance-matrix ./Qiime_input_data/rs210Pan_WIS/deicode_distance_WGS_BDN.qza"
   ]
  },
  {
   "cell_type": "code",
   "execution_count": 21,
   "metadata": {},
   "outputs": [
    {
     "name": "stdout",
     "output_type": "stream",
     "text": [
      "\u001b[32mSaved Visualization to: ./Qiime_input_data/rs210Pan_WIS/deicode_biplot_WGS_BDN.qzv\u001b[0m\r\n",
      "\u001b[0m"
     ]
    }
   ],
   "source": [
    "!qiime emperor biplot \\\n",
    "    --i-biplot ./Qiime_input_data/rs210Pan_WIS/deicode_ordination_WGS_BDN.qza \\\n",
    "    --m-sample-metadata-file ./Qiime_input_data/rs210Pan_WIS/metaData_WGS_BDN.txt \\\n",
    "    --m-feature-metadata-file rs210Taxonomy.qza \\\n",
    "    --o-visualization ./Qiime_input_data/rs210Pan_WIS/deicode_biplot_WGS_BDN.qzv \\\n",
    "    --p-number-of-features 1"
   ]
  },
  {
   "cell_type": "code",
   "execution_count": 22,
   "metadata": {},
   "outputs": [
    {
     "name": "stdout",
     "output_type": "stream",
     "text": [
      "\u001b[32mSaved Visualization to: ./Qiime_input_data/rs210Pan_WIS/deicode_adonis_WGS_BDN.qzv\u001b[0m\r\n",
      "\u001b[0m"
     ]
    }
   ],
   "source": [
    "!qiime diversity adonis \\\n",
    "--i-distance-matrix ./Qiime_input_data/rs210Pan_WIS/deicode_distance_WGS_BDN.qza \\\n",
    "--m-metadata-file ./Qiime_input_data/rs210Pan_WIS/metaData_WGS_BDN.txt \\\n",
    "--p-formula \"investigation\" \\\n",
    "--p-n-jobs 8 \\\n",
    "--o-visualization ./Qiime_input_data/rs210Pan_WIS/deicode_adonis_WGS_BDN.qzv"
   ]
  },
  {
   "cell_type": "code",
   "execution_count": null,
   "metadata": {},
   "outputs": [],
   "source": [
    "!qiime diversity adonis \\\n",
    "--i-distance-matrix ./Qiime_input_data/rs210Pan_WIS/deicode_distance_WGS_BDN.qza \\\n",
    "--m-metadata-file ./Qiime_input_data/rs210Pan_WIS/metaData_WGS_BDN.txt \\\n",
    "--p-formula \"data_submitting_center_label\" \\\n",
    "--p-n-jobs 8 \\\n",
    "--o-visualization ./Qiime_input_data/rs210Pan_WIS/deicode_adonis_WGS_BDN_seqcenter.qzv"
   ]
  },
  {
   "cell_type": "markdown",
   "metadata": {},
   "source": [
    "### Filt7575 - WGS"
   ]
  },
  {
   "cell_type": "code",
   "execution_count": 23,
   "metadata": {
    "scrolled": true
   },
   "outputs": [
    {
     "name": "stdout",
     "output_type": "stream",
     "text": [
      "\u001b[32mSaved PCoAResults % Properties('biplot') to: ./Qiime_input_data/rs210Pan_Filt7575/deicode_ordination_WGS_BDN.qza\u001b[0m\n",
      "\u001b[32mSaved DistanceMatrix to: ./Qiime_input_data/rs210Pan_Filt7575/deicode_distance_WGS_BDN.qza\u001b[0m\n",
      "\u001b[0m"
     ]
    }
   ],
   "source": [
    "!qiime deicode rpca \\\n",
    "    --i-table ./Qiime_input_data/rs210Pan_Filt7575/countData_WGS_BDN.qza \\\n",
    "    --o-biplot ./Qiime_input_data/rs210Pan_Filt7575/deicode_ordination_WGS_BDN.qza \\\n",
    "    --p-min-sample-count 100 \\\n",
    "    --o-distance-matrix ./Qiime_input_data/rs210Pan_Filt7575/deicode_distance_WGS_BDN.qza"
   ]
  },
  {
   "cell_type": "code",
   "execution_count": 24,
   "metadata": {},
   "outputs": [
    {
     "name": "stdout",
     "output_type": "stream",
     "text": [
      "\u001b[32mSaved Visualization to: ./Qiime_input_data/rs210Pan_Filt7575/deicode_biplot_WGS_BDN.qzv\u001b[0m\n",
      "\u001b[0m"
     ]
    }
   ],
   "source": [
    "!qiime emperor biplot \\\n",
    "    --i-biplot ./Qiime_input_data/rs210Pan_Filt7575/deicode_ordination_WGS_BDN.qza \\\n",
    "    --m-sample-metadata-file ./Qiime_input_data/rs210Pan_Filt7575/metaData_WGS_BDN.txt \\\n",
    "    --m-feature-metadata-file rs210Taxonomy.qza \\\n",
    "    --o-visualization ./Qiime_input_data/rs210Pan_Filt7575/deicode_biplot_WGS_BDN.qzv \\\n",
    "    --p-number-of-features 1"
   ]
  },
  {
   "cell_type": "code",
   "execution_count": 25,
   "metadata": {},
   "outputs": [
    {
     "name": "stdout",
     "output_type": "stream",
     "text": [
      "\u001b[32mSaved Visualization to: ./Qiime_input_data/rs210Pan_Filt7575/deicode_adonis_WGS_BDN.qzv\u001b[0m\r\n",
      "\u001b[0m"
     ]
    }
   ],
   "source": [
    "!qiime diversity adonis \\\n",
    "--i-distance-matrix ./Qiime_input_data/rs210Pan_Filt7575/deicode_distance_WGS_BDN.qza \\\n",
    "--m-metadata-file ./Qiime_input_data/rs210Pan_Filt7575/metaData_WGS_BDN.txt \\\n",
    "--p-formula \"investigation\" \\\n",
    "--p-n-jobs 8 \\\n",
    "--o-visualization ./Qiime_input_data/rs210Pan_Filt7575/deicode_adonis_WGS_BDN.qzv"
   ]
  },
  {
   "cell_type": "code",
   "execution_count": null,
   "metadata": {},
   "outputs": [],
   "source": [
    "!qiime diversity adonis \\\n",
    "--i-distance-matrix ./Qiime_input_data/rs210Pan_Filt7575/deicode_distance_WGS_BDN.qza \\\n",
    "--m-metadata-file ./Qiime_input_data/rs210Pan_Filt7575/metaData_WGS_BDN.txt \\\n",
    "--p-formula \"data_submitting_center_label\" \\\n",
    "--p-n-jobs 8 \\\n",
    "--o-visualization ./Qiime_input_data/rs210Pan_Filt7575/deicode_adonis_WGS_BDN_seqcenter.qzv"
   ]
  },
  {
   "cell_type": "markdown",
   "metadata": {},
   "source": [
    "### Filt9090 - WGS"
   ]
  },
  {
   "cell_type": "code",
   "execution_count": 26,
   "metadata": {
    "scrolled": true
   },
   "outputs": [
    {
     "name": "stdout",
     "output_type": "stream",
     "text": [
      "\u001b[32mSaved PCoAResults % Properties('biplot') to: ./Qiime_input_data/rs210Pan_Filt9090/deicode_ordination_WGS_BDN.qza\u001b[0m\n",
      "\u001b[32mSaved DistanceMatrix to: ./Qiime_input_data/rs210Pan_Filt9090/deicode_distance_WGS_BDN.qza\u001b[0m\n",
      "\u001b[0m"
     ]
    }
   ],
   "source": [
    "!qiime deicode rpca \\\n",
    "    --i-table ./Qiime_input_data/rs210Pan_Filt9090/countData_WGS_BDN.qza \\\n",
    "    --o-biplot ./Qiime_input_data/rs210Pan_Filt9090/deicode_ordination_WGS_BDN.qza \\\n",
    "    --p-min-sample-count 100 \\\n",
    "    --o-distance-matrix ./Qiime_input_data/rs210Pan_Filt9090/deicode_distance_WGS_BDN.qza"
   ]
  },
  {
   "cell_type": "code",
   "execution_count": 27,
   "metadata": {},
   "outputs": [
    {
     "name": "stdout",
     "output_type": "stream",
     "text": [
      "\u001b[32mSaved Visualization to: ./Qiime_input_data/rs210Pan_Filt9090/deicode_biplot_WGS_BDN.qzv\u001b[0m\n",
      "\u001b[0m"
     ]
    }
   ],
   "source": [
    "!qiime emperor biplot \\\n",
    "    --i-biplot ./Qiime_input_data/rs210Pan_Filt9090/deicode_ordination_WGS_BDN.qza \\\n",
    "    --m-sample-metadata-file ./Qiime_input_data/rs210Pan_Filt9090/metaData_WGS_BDN.txt \\\n",
    "    --m-feature-metadata-file rs210Taxonomy.qza \\\n",
    "    --o-visualization ./Qiime_input_data/rs210Pan_Filt9090/deicode_biplot_WGS_BDN.qzv \\\n",
    "    --p-number-of-features 1"
   ]
  },
  {
   "cell_type": "code",
   "execution_count": 28,
   "metadata": {},
   "outputs": [
    {
     "name": "stdout",
     "output_type": "stream",
     "text": [
      "\u001b[32mSaved Visualization to: ./Qiime_input_data/rs210Pan_Filt9090/deicode_adonis_WGS_BDN.qzv\u001b[0m\r\n",
      "\u001b[0m"
     ]
    }
   ],
   "source": [
    "!qiime diversity adonis \\\n",
    "--i-distance-matrix ./Qiime_input_data/rs210Pan_Filt9090/deicode_distance_WGS_BDN.qza \\\n",
    "--m-metadata-file ./Qiime_input_data/rs210Pan_Filt9090/metaData_WGS_BDN.txt \\\n",
    "--p-formula \"investigation\" \\\n",
    "--p-n-jobs 8 \\\n",
    "--o-visualization ./Qiime_input_data/rs210Pan_Filt9090/deicode_adonis_WGS_BDN.qzv"
   ]
  },
  {
   "cell_type": "code",
   "execution_count": null,
   "metadata": {},
   "outputs": [],
   "source": [
    "!qiime diversity adonis \\\n",
    "--i-distance-matrix ./Qiime_input_data/rs210Pan_Filt9090/deicode_distance_WGS_BDN.qza \\\n",
    "--m-metadata-file ./Qiime_input_data/rs210Pan_Filt9090/metaData_WGS_BDN.txt \\\n",
    "--p-formula \"data_submitting_center_label\" \\\n",
    "--p-n-jobs 8 \\\n",
    "--o-visualization ./Qiime_input_data/rs210Pan_Filt9090/deicode_adonis_WGS_BDN_seqcenter.qzv"
   ]
  },
  {
   "cell_type": "markdown",
   "metadata": {},
   "source": [
    "# Qiime 2 Core Metrics - PT\n",
    "Note: Since beta diversity was calculated above using DEICODE above, we are mostly interested in the alpha diversity results."
   ]
  },
  {
   "cell_type": "markdown",
   "metadata": {},
   "source": [
    "### Filt5050 - WGS\n",
    "Note the following sample read distribution from R:\n",
    "```\n",
    "[1] \"WGS\"\n",
    "   Min. 1st Qu.  Median    Mean 3rd Qu.    Max. \n",
    "   2113   12875   19934   78895   45664 2512395 \n",
    "```"
   ]
  },
  {
   "cell_type": "code",
   "execution_count": 62,
   "metadata": {},
   "outputs": [
    {
     "name": "stdout",
     "output_type": "stream",
     "text": [
      "\u001b[32mSaved FeatureTable[Frequency] to: ./core_metrics/rs210Pan_Filt5050/pt_WGS_R12900/rarefied_table.qza\u001b[0m\n",
      "\u001b[32mSaved SampleData[AlphaDiversity] to: ./core_metrics/rs210Pan_Filt5050/pt_WGS_R12900/observed_features_vector.qza\u001b[0m\n",
      "\u001b[32mSaved SampleData[AlphaDiversity] to: ./core_metrics/rs210Pan_Filt5050/pt_WGS_R12900/shannon_vector.qza\u001b[0m\n",
      "\u001b[32mSaved SampleData[AlphaDiversity] to: ./core_metrics/rs210Pan_Filt5050/pt_WGS_R12900/evenness_vector.qza\u001b[0m\n",
      "\u001b[32mSaved DistanceMatrix to: ./core_metrics/rs210Pan_Filt5050/pt_WGS_R12900/jaccard_distance_matrix.qza\u001b[0m\n",
      "\u001b[32mSaved DistanceMatrix to: ./core_metrics/rs210Pan_Filt5050/pt_WGS_R12900/bray_curtis_distance_matrix.qza\u001b[0m\n",
      "\u001b[32mSaved PCoAResults to: ./core_metrics/rs210Pan_Filt5050/pt_WGS_R12900/jaccard_pcoa_results.qza\u001b[0m\n",
      "\u001b[32mSaved PCoAResults to: ./core_metrics/rs210Pan_Filt5050/pt_WGS_R12900/bray_curtis_pcoa_results.qza\u001b[0m\n",
      "\u001b[32mSaved Visualization to: ./core_metrics/rs210Pan_Filt5050/pt_WGS_R12900/jaccard_emperor.qzv\u001b[0m\n",
      "\u001b[32mSaved Visualization to: ./core_metrics/rs210Pan_Filt5050/pt_WGS_R12900/bray_curtis_emperor.qzv\u001b[0m\n",
      "\u001b[0m"
     ]
    }
   ],
   "source": [
    "!qiime diversity core-metrics \\\n",
    "--i-table ./Qiime_input_data/rs210Pan_Filt5050/countData_WGS_PT.qza \\\n",
    "--p-sampling-depth 12900 \\\n",
    "--m-metadata-file ./Qiime_input_data/rs210Pan_Filt5050/metaData_WGS_PT.txt \\\n",
    "--output-dir ./core_metrics/rs210Pan_Filt5050/pt_WGS_R12900/"
   ]
  },
  {
   "cell_type": "code",
   "execution_count": 63,
   "metadata": {},
   "outputs": [
    {
     "name": "stdout",
     "output_type": "stream",
     "text": [
      "\u001b[32mSaved Visualization to: ./core_metrics/rs210Pan_Filt5050/pt_WGS_R12900/observed_features_vector_significance.qzv\u001b[0m\n",
      "\u001b[0m\u001b[32mSaved Visualization to: ./core_metrics/rs210Pan_Filt5050/pt_WGS_R12900/shannon_vector_significance.qzv\u001b[0m\n",
      "\u001b[0m"
     ]
    }
   ],
   "source": [
    "!qiime diversity alpha-group-significance \\\n",
    "--i-alpha-diversity ./core_metrics/rs210Pan_Filt5050/pt_WGS_R12900/observed_features_vector.qza \\\n",
    "--m-metadata-file ./Qiime_input_data/rs210Pan_Filt5050/metaData_WGS_PT.txt \\\n",
    "--o-visualization ./core_metrics/rs210Pan_Filt5050/pt_WGS_R12900/observed_features_vector_significance.qzv\n",
    "\n",
    "!qiime diversity alpha-group-significance \\\n",
    "--i-alpha-diversity ./core_metrics/rs210Pan_Filt5050/pt_WGS_R12900/shannon_vector.qza \\\n",
    "--m-metadata-file ./Qiime_input_data/rs210Pan_Filt5050/metaData_WGS_PT.txt \\\n",
    "--o-visualization ./core_metrics/rs210Pan_Filt5050/pt_WGS_R12900/shannon_vector_significance.qzv"
   ]
  },
  {
   "cell_type": "code",
   "execution_count": 64,
   "metadata": {},
   "outputs": [
    {
     "name": "stdout",
     "output_type": "stream",
     "text": [
      "\u001b[32mSaved Visualization to: ./core_metrics/rs210Pan_Filt5050/pt_WGS_R12900/jaccard_distance_matrix_significance.qzv\u001b[0m\n",
      "\u001b[0m\u001b[32mSaved Visualization to: ./core_metrics/rs210Pan_Filt5050/pt_WGS_R12900/bray_curtis_distance_matrix_significance.qzv\u001b[0m\n",
      "\u001b[0m"
     ]
    }
   ],
   "source": [
    "!qiime diversity beta-group-significance \\\n",
    "--i-distance-matrix ./core_metrics/rs210Pan_Filt5050/pt_WGS_R12900/jaccard_distance_matrix.qza \\\n",
    "--m-metadata-file ./Qiime_input_data/rs210Pan_Filt5050/metaData_WGS_PT.txt \\\n",
    "--m-metadata-column investigation \\\n",
    "--o-visualization ./core_metrics/rs210Pan_Filt5050/pt_WGS_R12900/jaccard_distance_matrix_significance.qzv\n",
    "\n",
    "!qiime diversity beta-group-significance \\\n",
    "--i-distance-matrix ./core_metrics/rs210Pan_Filt5050/pt_WGS_R12900/bray_curtis_distance_matrix.qza \\\n",
    "--m-metadata-file ./Qiime_input_data/rs210Pan_Filt5050/metaData_WGS_PT.txt \\\n",
    "--m-metadata-column investigation \\\n",
    "--o-visualization ./core_metrics/rs210Pan_Filt5050/pt_WGS_R12900/bray_curtis_distance_matrix_significance.qzv"
   ]
  },
  {
   "cell_type": "markdown",
   "metadata": {},
   "source": [
    "### Filt5050 - RNA\n",
    "Note the following sample read distribution from R:\n",
    "```\n",
    "[1] \"RNA\"\n",
    "   Min. 1st Qu.  Median    Mean 3rd Qu.    Max. \n",
    "      5    1691    3908   26117   10728  903534 \n",
    "```"
   ]
  },
  {
   "cell_type": "code",
   "execution_count": 65,
   "metadata": {},
   "outputs": [
    {
     "name": "stdout",
     "output_type": "stream",
     "text": [
      "\u001b[32mSaved FeatureTable[Frequency] to: ./core_metrics/rs210Pan_Filt5050/pt_RNA_R1700/rarefied_table.qza\u001b[0m\n",
      "\u001b[32mSaved SampleData[AlphaDiversity] to: ./core_metrics/rs210Pan_Filt5050/pt_RNA_R1700/observed_features_vector.qza\u001b[0m\n",
      "\u001b[32mSaved SampleData[AlphaDiversity] to: ./core_metrics/rs210Pan_Filt5050/pt_RNA_R1700/shannon_vector.qza\u001b[0m\n",
      "\u001b[32mSaved SampleData[AlphaDiversity] to: ./core_metrics/rs210Pan_Filt5050/pt_RNA_R1700/evenness_vector.qza\u001b[0m\n",
      "\u001b[32mSaved DistanceMatrix to: ./core_metrics/rs210Pan_Filt5050/pt_RNA_R1700/jaccard_distance_matrix.qza\u001b[0m\n",
      "\u001b[32mSaved DistanceMatrix to: ./core_metrics/rs210Pan_Filt5050/pt_RNA_R1700/bray_curtis_distance_matrix.qza\u001b[0m\n",
      "\u001b[32mSaved PCoAResults to: ./core_metrics/rs210Pan_Filt5050/pt_RNA_R1700/jaccard_pcoa_results.qza\u001b[0m\n",
      "\u001b[32mSaved PCoAResults to: ./core_metrics/rs210Pan_Filt5050/pt_RNA_R1700/bray_curtis_pcoa_results.qza\u001b[0m\n",
      "\u001b[32mSaved Visualization to: ./core_metrics/rs210Pan_Filt5050/pt_RNA_R1700/jaccard_emperor.qzv\u001b[0m\n",
      "\u001b[32mSaved Visualization to: ./core_metrics/rs210Pan_Filt5050/pt_RNA_R1700/bray_curtis_emperor.qzv\u001b[0m\n",
      "\u001b[0m"
     ]
    }
   ],
   "source": [
    "!qiime diversity core-metrics \\\n",
    "--i-table ./Qiime_input_data/rs210Pan_Filt5050/countData_RNA_PT.qza \\\n",
    "--p-sampling-depth 1700 \\\n",
    "--m-metadata-file ./Qiime_input_data/rs210Pan_Filt5050/metaData_RNA_PT.txt \\\n",
    "--output-dir ./core_metrics/rs210Pan_Filt5050/pt_RNA_R1700/"
   ]
  },
  {
   "cell_type": "code",
   "execution_count": 66,
   "metadata": {},
   "outputs": [
    {
     "name": "stdout",
     "output_type": "stream",
     "text": [
      "\u001b[32mSaved Visualization to: ./core_metrics/rs210Pan_Filt5050/pt_RNA_R1700/observed_features_vector_significance.qzv\u001b[0m\n",
      "\u001b[0m\u001b[32mSaved Visualization to: ./core_metrics/rs210Pan_Filt5050/pt_RNA_R1700/shannon_vector_significance.qzv\u001b[0m\n",
      "\u001b[0m"
     ]
    }
   ],
   "source": [
    "!qiime diversity alpha-group-significance \\\n",
    "--i-alpha-diversity ./core_metrics/rs210Pan_Filt5050/pt_RNA_R1700/observed_features_vector.qza \\\n",
    "--m-metadata-file ./Qiime_input_data/rs210Pan_Filt5050/metaData_RNA_PT.txt \\\n",
    "--o-visualization ./core_metrics/rs210Pan_Filt5050/pt_RNA_R1700/observed_features_vector_significance.qzv\n",
    "\n",
    "!qiime diversity alpha-group-significance \\\n",
    "--i-alpha-diversity ./core_metrics/rs210Pan_Filt5050/pt_RNA_R1700/shannon_vector.qza \\\n",
    "--m-metadata-file ./Qiime_input_data/rs210Pan_Filt5050/metaData_RNA_PT.txt \\\n",
    "--o-visualization ./core_metrics/rs210Pan_Filt5050/pt_RNA_R1700/shannon_vector_significance.qzv"
   ]
  },
  {
   "cell_type": "code",
   "execution_count": 67,
   "metadata": {},
   "outputs": [
    {
     "name": "stdout",
     "output_type": "stream",
     "text": [
      "\u001b[32mSaved Visualization to: ./core_metrics/rs210Pan_Filt5050/pt_RNA_R1700/jaccard_distance_matrix_significance.qzv\u001b[0m\n",
      "\u001b[0m\u001b[32mSaved Visualization to: ./core_metrics/rs210Pan_Filt5050/pt_RNA_R1700/bray_curtis_distance_matrix_significance.qzv\u001b[0m\n",
      "\u001b[0m"
     ]
    }
   ],
   "source": [
    "!qiime diversity beta-group-significance \\\n",
    "--i-distance-matrix ./core_metrics/rs210Pan_Filt5050/pt_RNA_R1700/jaccard_distance_matrix.qza \\\n",
    "--m-metadata-file ./Qiime_input_data/rs210Pan_Filt5050/metaData_RNA_PT.txt \\\n",
    "--m-metadata-column investigation \\\n",
    "--o-visualization ./core_metrics/rs210Pan_Filt5050/pt_RNA_R1700/jaccard_distance_matrix_significance.qzv\n",
    "\n",
    "!qiime diversity beta-group-significance \\\n",
    "--i-distance-matrix ./core_metrics/rs210Pan_Filt5050/pt_RNA_R1700/bray_curtis_distance_matrix.qza \\\n",
    "--m-metadata-file ./Qiime_input_data/rs210Pan_Filt5050/metaData_RNA_PT.txt \\\n",
    "--m-metadata-column investigation \\\n",
    "--o-visualization ./core_metrics/rs210Pan_Filt5050/pt_RNA_R1700/bray_curtis_distance_matrix_significance.qzv"
   ]
  },
  {
   "cell_type": "markdown",
   "metadata": {},
   "source": [
    "### WIS - WGS\n",
    "Note the following sample read distribution from R:\n",
    "```\n",
    "[1] \"WGS\"\n",
    "   Min. 1st Qu.  Median    Mean 3rd Qu.    Max. \n",
    "    234    1308    2892   40688   11066 1547885 \n",
    "```"
   ]
  },
  {
   "cell_type": "code",
   "execution_count": 68,
   "metadata": {},
   "outputs": [
    {
     "name": "stdout",
     "output_type": "stream",
     "text": [
      "\u001b[32mSaved FeatureTable[Frequency] to: ./core_metrics/rs210Pan_WIS/pt_WGS_R1300/rarefied_table.qza\u001b[0m\n",
      "\u001b[32mSaved SampleData[AlphaDiversity] to: ./core_metrics/rs210Pan_WIS/pt_WGS_R1300/observed_features_vector.qza\u001b[0m\n",
      "\u001b[32mSaved SampleData[AlphaDiversity] to: ./core_metrics/rs210Pan_WIS/pt_WGS_R1300/shannon_vector.qza\u001b[0m\n",
      "\u001b[32mSaved SampleData[AlphaDiversity] to: ./core_metrics/rs210Pan_WIS/pt_WGS_R1300/evenness_vector.qza\u001b[0m\n",
      "\u001b[32mSaved DistanceMatrix to: ./core_metrics/rs210Pan_WIS/pt_WGS_R1300/jaccard_distance_matrix.qza\u001b[0m\n",
      "\u001b[32mSaved DistanceMatrix to: ./core_metrics/rs210Pan_WIS/pt_WGS_R1300/bray_curtis_distance_matrix.qza\u001b[0m\n",
      "\u001b[32mSaved PCoAResults to: ./core_metrics/rs210Pan_WIS/pt_WGS_R1300/jaccard_pcoa_results.qza\u001b[0m\n",
      "\u001b[32mSaved PCoAResults to: ./core_metrics/rs210Pan_WIS/pt_WGS_R1300/bray_curtis_pcoa_results.qza\u001b[0m\n",
      "\u001b[32mSaved Visualization to: ./core_metrics/rs210Pan_WIS/pt_WGS_R1300/jaccard_emperor.qzv\u001b[0m\n",
      "\u001b[32mSaved Visualization to: ./core_metrics/rs210Pan_WIS/pt_WGS_R1300/bray_curtis_emperor.qzv\u001b[0m\n",
      "\u001b[0m"
     ]
    }
   ],
   "source": [
    "!qiime diversity core-metrics \\\n",
    "--i-table ./Qiime_input_data/rs210Pan_WIS/countData_WGS_PT.qza \\\n",
    "--p-sampling-depth 1300 \\\n",
    "--m-metadata-file ./Qiime_input_data/rs210Pan_WIS/metaData_WGS_PT.txt \\\n",
    "--output-dir ./core_metrics/rs210Pan_WIS/pt_WGS_R1300/"
   ]
  },
  {
   "cell_type": "code",
   "execution_count": 69,
   "metadata": {},
   "outputs": [
    {
     "name": "stdout",
     "output_type": "stream",
     "text": [
      "\u001b[32mSaved Visualization to: ./core_metrics/rs210Pan_WIS/pt_WGS_R1300/observed_features_vector_significance.qzv\u001b[0m\n",
      "\u001b[0m\u001b[32mSaved Visualization to: ./core_metrics/rs210Pan_WIS/pt_WGS_R1300/shannon_vector_significance.qzv\u001b[0m\n",
      "\u001b[0m"
     ]
    }
   ],
   "source": [
    "!qiime diversity alpha-group-significance \\\n",
    "--i-alpha-diversity ./core_metrics/rs210Pan_WIS/pt_WGS_R1300/observed_features_vector.qza \\\n",
    "--m-metadata-file ./Qiime_input_data/rs210Pan_WIS/metaData_WGS_PT.txt \\\n",
    "--o-visualization ./core_metrics/rs210Pan_WIS/pt_WGS_R1300/observed_features_vector_significance.qzv\n",
    "\n",
    "!qiime diversity alpha-group-significance \\\n",
    "--i-alpha-diversity ./core_metrics/rs210Pan_WIS/pt_WGS_R1300/shannon_vector.qza \\\n",
    "--m-metadata-file ./Qiime_input_data/rs210Pan_WIS/metaData_WGS_PT.txt \\\n",
    "--o-visualization ./core_metrics/rs210Pan_WIS/pt_WGS_R1300/shannon_vector_significance.qzv"
   ]
  },
  {
   "cell_type": "code",
   "execution_count": 70,
   "metadata": {},
   "outputs": [
    {
     "name": "stdout",
     "output_type": "stream",
     "text": [
      "\u001b[32mSaved Visualization to: ./core_metrics/rs210Pan_WIS/pt_WGS_R1300/jaccard_distance_matrix_significance.qzv\u001b[0m\n",
      "\u001b[0m\u001b[32mSaved Visualization to: ./core_metrics/rs210Pan_WIS/pt_WGS_R1300/bray_curtis_distance_matrix_significance.qzv\u001b[0m\n",
      "\u001b[0m"
     ]
    }
   ],
   "source": [
    "!qiime diversity beta-group-significance \\\n",
    "--i-distance-matrix ./core_metrics/rs210Pan_WIS/pt_WGS_R1300/jaccard_distance_matrix.qza \\\n",
    "--m-metadata-file ./Qiime_input_data/rs210Pan_WIS/metaData_WGS_PT.txt \\\n",
    "--m-metadata-column investigation \\\n",
    "--o-visualization ./core_metrics/rs210Pan_WIS/pt_WGS_R1300/jaccard_distance_matrix_significance.qzv\n",
    "\n",
    "!qiime diversity beta-group-significance \\\n",
    "--i-distance-matrix ./core_metrics/rs210Pan_WIS/pt_WGS_R1300/bray_curtis_distance_matrix.qza \\\n",
    "--m-metadata-file ./Qiime_input_data/rs210Pan_WIS/metaData_WGS_PT.txt \\\n",
    "--m-metadata-column investigation \\\n",
    "--o-visualization ./core_metrics/rs210Pan_WIS/pt_WGS_R1300/bray_curtis_distance_matrix_significance.qzv"
   ]
  },
  {
   "cell_type": "markdown",
   "metadata": {},
   "source": [
    "### WIS - RNA\n",
    "Note the following sample read distribution from R:\n",
    "```\n",
    "[1] \"RNA\"\n",
    "   Min. 1st Qu.  Median    Mean 3rd Qu.    Max. \n",
    "      7     790    2236   14374    5480  399377 \n",
    "```"
   ]
  },
  {
   "cell_type": "code",
   "execution_count": 71,
   "metadata": {},
   "outputs": [
    {
     "name": "stdout",
     "output_type": "stream",
     "text": [
      "\u001b[32mSaved FeatureTable[Frequency] to: ./core_metrics/rs210Pan_WIS/pt_RNA_R800/rarefied_table.qza\u001b[0m\n",
      "\u001b[32mSaved SampleData[AlphaDiversity] to: ./core_metrics/rs210Pan_WIS/pt_RNA_R800/observed_features_vector.qza\u001b[0m\n",
      "\u001b[32mSaved SampleData[AlphaDiversity] to: ./core_metrics/rs210Pan_WIS/pt_RNA_R800/shannon_vector.qza\u001b[0m\n",
      "\u001b[32mSaved SampleData[AlphaDiversity] to: ./core_metrics/rs210Pan_WIS/pt_RNA_R800/evenness_vector.qza\u001b[0m\n",
      "\u001b[32mSaved DistanceMatrix to: ./core_metrics/rs210Pan_WIS/pt_RNA_R800/jaccard_distance_matrix.qza\u001b[0m\n",
      "\u001b[32mSaved DistanceMatrix to: ./core_metrics/rs210Pan_WIS/pt_RNA_R800/bray_curtis_distance_matrix.qza\u001b[0m\n",
      "\u001b[32mSaved PCoAResults to: ./core_metrics/rs210Pan_WIS/pt_RNA_R800/jaccard_pcoa_results.qza\u001b[0m\n",
      "\u001b[32mSaved PCoAResults to: ./core_metrics/rs210Pan_WIS/pt_RNA_R800/bray_curtis_pcoa_results.qza\u001b[0m\n",
      "\u001b[32mSaved Visualization to: ./core_metrics/rs210Pan_WIS/pt_RNA_R800/jaccard_emperor.qzv\u001b[0m\n",
      "\u001b[32mSaved Visualization to: ./core_metrics/rs210Pan_WIS/pt_RNA_R800/bray_curtis_emperor.qzv\u001b[0m\n",
      "\u001b[0m"
     ]
    }
   ],
   "source": [
    "!qiime diversity core-metrics \\\n",
    "--i-table ./Qiime_input_data/rs210Pan_WIS/countData_RNA_PT.qza \\\n",
    "--p-sampling-depth 800 \\\n",
    "--m-metadata-file ./Qiime_input_data/rs210Pan_WIS/metaData_RNA_PT.txt \\\n",
    "--output-dir ./core_metrics/rs210Pan_WIS/pt_RNA_R800/"
   ]
  },
  {
   "cell_type": "code",
   "execution_count": 72,
   "metadata": {},
   "outputs": [
    {
     "name": "stdout",
     "output_type": "stream",
     "text": [
      "\u001b[32mSaved Visualization to: ./core_metrics/rs210Pan_WIS/pt_RNA_R800/observed_features_vector_significance.qzv\u001b[0m\n",
      "\u001b[0m\u001b[32mSaved Visualization to: ./core_metrics/rs210Pan_WIS/pt_RNA_R800/shannon_vector_significance.qzv\u001b[0m\n",
      "\u001b[0m"
     ]
    }
   ],
   "source": [
    "!qiime diversity alpha-group-significance \\\n",
    "--i-alpha-diversity ./core_metrics/rs210Pan_WIS/pt_RNA_R800/observed_features_vector.qza \\\n",
    "--m-metadata-file ./Qiime_input_data/rs210Pan_WIS/metaData_RNA_PT.txt \\\n",
    "--o-visualization ./core_metrics/rs210Pan_WIS/pt_RNA_R800/observed_features_vector_significance.qzv\n",
    "\n",
    "!qiime diversity alpha-group-significance \\\n",
    "--i-alpha-diversity ./core_metrics/rs210Pan_WIS/pt_RNA_R800/shannon_vector.qza \\\n",
    "--m-metadata-file ./Qiime_input_data/rs210Pan_WIS/metaData_RNA_PT.txt \\\n",
    "--o-visualization ./core_metrics/rs210Pan_WIS/pt_RNA_R800/shannon_vector_significance.qzv"
   ]
  },
  {
   "cell_type": "code",
   "execution_count": 73,
   "metadata": {},
   "outputs": [
    {
     "name": "stdout",
     "output_type": "stream",
     "text": [
      "\u001b[32mSaved Visualization to: ./core_metrics/rs210Pan_WIS/pt_RNA_R800/jaccard_distance_matrix_significance.qzv\u001b[0m\n",
      "\u001b[0m\u001b[32mSaved Visualization to: ./core_metrics/rs210Pan_WIS/pt_RNA_R800/bray_curtis_distance_matrix_significance.qzv\u001b[0m\n",
      "\u001b[0m"
     ]
    }
   ],
   "source": [
    "!qiime diversity beta-group-significance \\\n",
    "--i-distance-matrix ./core_metrics/rs210Pan_WIS/pt_RNA_R800/jaccard_distance_matrix.qza \\\n",
    "--m-metadata-file ./Qiime_input_data/rs210Pan_WIS/metaData_RNA_PT.txt \\\n",
    "--m-metadata-column investigation \\\n",
    "--o-visualization ./core_metrics/rs210Pan_WIS/pt_RNA_R800/jaccard_distance_matrix_significance.qzv\n",
    "\n",
    "!qiime diversity beta-group-significance \\\n",
    "--i-distance-matrix ./core_metrics/rs210Pan_WIS/pt_RNA_R800/bray_curtis_distance_matrix.qza \\\n",
    "--m-metadata-file ./Qiime_input_data/rs210Pan_WIS/metaData_RNA_PT.txt \\\n",
    "--m-metadata-column investigation \\\n",
    "--o-visualization ./core_metrics/rs210Pan_WIS/pt_RNA_R800/bray_curtis_distance_matrix_significance.qzv"
   ]
  },
  {
   "cell_type": "markdown",
   "metadata": {},
   "source": [
    "### Filt7575 - WGS\n",
    "Note the following sample read distribution from R:\n",
    "```\n",
    "[1] \"WGS\"\n",
    "   Min. 1st Qu.  Median    Mean 3rd Qu.    Max. \n",
    "   1882   11406   18222   75670   42564 2424561 \n",
    "```"
   ]
  },
  {
   "cell_type": "code",
   "execution_count": 74,
   "metadata": {},
   "outputs": [
    {
     "name": "stdout",
     "output_type": "stream",
     "text": [
      "\u001b[32mSaved FeatureTable[Frequency] to: ./core_metrics/rs210Pan_Filt7575/pt_WGS_R11400/rarefied_table.qza\u001b[0m\n",
      "\u001b[32mSaved SampleData[AlphaDiversity] to: ./core_metrics/rs210Pan_Filt7575/pt_WGS_R11400/observed_features_vector.qza\u001b[0m\n",
      "\u001b[32mSaved SampleData[AlphaDiversity] to: ./core_metrics/rs210Pan_Filt7575/pt_WGS_R11400/shannon_vector.qza\u001b[0m\n",
      "\u001b[32mSaved SampleData[AlphaDiversity] to: ./core_metrics/rs210Pan_Filt7575/pt_WGS_R11400/evenness_vector.qza\u001b[0m\n",
      "\u001b[32mSaved DistanceMatrix to: ./core_metrics/rs210Pan_Filt7575/pt_WGS_R11400/jaccard_distance_matrix.qza\u001b[0m\n",
      "\u001b[32mSaved DistanceMatrix to: ./core_metrics/rs210Pan_Filt7575/pt_WGS_R11400/bray_curtis_distance_matrix.qza\u001b[0m\n",
      "\u001b[32mSaved PCoAResults to: ./core_metrics/rs210Pan_Filt7575/pt_WGS_R11400/jaccard_pcoa_results.qza\u001b[0m\n",
      "\u001b[32mSaved PCoAResults to: ./core_metrics/rs210Pan_Filt7575/pt_WGS_R11400/bray_curtis_pcoa_results.qza\u001b[0m\n",
      "\u001b[32mSaved Visualization to: ./core_metrics/rs210Pan_Filt7575/pt_WGS_R11400/jaccard_emperor.qzv\u001b[0m\n",
      "\u001b[32mSaved Visualization to: ./core_metrics/rs210Pan_Filt7575/pt_WGS_R11400/bray_curtis_emperor.qzv\u001b[0m\n",
      "\u001b[0m"
     ]
    }
   ],
   "source": [
    "!qiime diversity core-metrics \\\n",
    "--i-table ./Qiime_input_data/rs210Pan_Filt7575/countData_WGS_PT.qza \\\n",
    "--p-sampling-depth 11400 \\\n",
    "--m-metadata-file ./Qiime_input_data/rs210Pan_Filt7575/metaData_WGS_PT.txt \\\n",
    "--output-dir ./core_metrics/rs210Pan_Filt7575/pt_WGS_R11400/"
   ]
  },
  {
   "cell_type": "code",
   "execution_count": 75,
   "metadata": {},
   "outputs": [
    {
     "name": "stdout",
     "output_type": "stream",
     "text": [
      "\u001b[32mSaved Visualization to: ./core_metrics/rs210Pan_Filt7575/pt_WGS_R11400/observed_features_vector_significance.qzv\u001b[0m\n",
      "\u001b[0m\u001b[32mSaved Visualization to: ./core_metrics/rs210Pan_Filt7575/pt_WGS_R11400/shannon_vector_significance.qzv\u001b[0m\n",
      "\u001b[0m"
     ]
    }
   ],
   "source": [
    "!qiime diversity alpha-group-significance \\\n",
    "--i-alpha-diversity ./core_metrics/rs210Pan_Filt7575/pt_WGS_R11400/observed_features_vector.qza \\\n",
    "--m-metadata-file ./Qiime_input_data/rs210Pan_Filt7575/metaData_WGS_PT.txt \\\n",
    "--o-visualization ./core_metrics/rs210Pan_Filt7575/pt_WGS_R11400/observed_features_vector_significance.qzv\n",
    "\n",
    "!qiime diversity alpha-group-significance \\\n",
    "--i-alpha-diversity ./core_metrics/rs210Pan_Filt7575/pt_WGS_R11400/shannon_vector.qza \\\n",
    "--m-metadata-file ./Qiime_input_data/rs210Pan_Filt7575/metaData_WGS_PT.txt \\\n",
    "--o-visualization ./core_metrics/rs210Pan_Filt7575/pt_WGS_R11400/shannon_vector_significance.qzv"
   ]
  },
  {
   "cell_type": "code",
   "execution_count": 76,
   "metadata": {},
   "outputs": [
    {
     "name": "stdout",
     "output_type": "stream",
     "text": [
      "\u001b[32mSaved Visualization to: ./core_metrics/rs210Pan_Filt7575/pt_WGS_R11400/jaccard_distance_matrix_significance.qzv\u001b[0m\n",
      "\u001b[0m\u001b[32mSaved Visualization to: ./core_metrics/rs210Pan_Filt7575/pt_WGS_R11400/bray_curtis_distance_matrix_significance.qzv\u001b[0m\n",
      "\u001b[0m"
     ]
    }
   ],
   "source": [
    "!qiime diversity beta-group-significance \\\n",
    "--i-distance-matrix ./core_metrics/rs210Pan_Filt7575/pt_WGS_R11400/jaccard_distance_matrix.qza \\\n",
    "--m-metadata-file ./Qiime_input_data/rs210Pan_Filt7575/metaData_WGS_PT.txt \\\n",
    "--m-metadata-column investigation \\\n",
    "--o-visualization ./core_metrics/rs210Pan_Filt7575/pt_WGS_R11400/jaccard_distance_matrix_significance.qzv\n",
    "\n",
    "!qiime diversity beta-group-significance \\\n",
    "--i-distance-matrix ./core_metrics/rs210Pan_Filt7575/pt_WGS_R11400/bray_curtis_distance_matrix.qza \\\n",
    "--m-metadata-file ./Qiime_input_data/rs210Pan_Filt7575/metaData_WGS_PT.txt \\\n",
    "--m-metadata-column investigation \\\n",
    "--o-visualization ./core_metrics/rs210Pan_Filt7575/pt_WGS_R11400/bray_curtis_distance_matrix_significance.qzv"
   ]
  },
  {
   "cell_type": "markdown",
   "metadata": {},
   "source": [
    "### Filt7575 - RNA\n",
    "Note the following sample read distribution from R:\n",
    "```\n",
    "[1] \"RNA\"\n",
    "   Min. 1st Qu.  Median    Mean 3rd Qu.    Max. \n",
    "      5    1316    3358   24672    8859  895695 \n",
    "```"
   ]
  },
  {
   "cell_type": "code",
   "execution_count": 77,
   "metadata": {},
   "outputs": [
    {
     "name": "stdout",
     "output_type": "stream",
     "text": [
      "\u001b[32mSaved FeatureTable[Frequency] to: ./core_metrics/rs210Pan_Filt7575/pt_RNA_R1300/rarefied_table.qza\u001b[0m\n",
      "\u001b[32mSaved SampleData[AlphaDiversity] to: ./core_metrics/rs210Pan_Filt7575/pt_RNA_R1300/observed_features_vector.qza\u001b[0m\n",
      "\u001b[32mSaved SampleData[AlphaDiversity] to: ./core_metrics/rs210Pan_Filt7575/pt_RNA_R1300/shannon_vector.qza\u001b[0m\n",
      "\u001b[32mSaved SampleData[AlphaDiversity] to: ./core_metrics/rs210Pan_Filt7575/pt_RNA_R1300/evenness_vector.qza\u001b[0m\n",
      "\u001b[32mSaved DistanceMatrix to: ./core_metrics/rs210Pan_Filt7575/pt_RNA_R1300/jaccard_distance_matrix.qza\u001b[0m\n",
      "\u001b[32mSaved DistanceMatrix to: ./core_metrics/rs210Pan_Filt7575/pt_RNA_R1300/bray_curtis_distance_matrix.qza\u001b[0m\n",
      "\u001b[32mSaved PCoAResults to: ./core_metrics/rs210Pan_Filt7575/pt_RNA_R1300/jaccard_pcoa_results.qza\u001b[0m\n",
      "\u001b[32mSaved PCoAResults to: ./core_metrics/rs210Pan_Filt7575/pt_RNA_R1300/bray_curtis_pcoa_results.qza\u001b[0m\n",
      "\u001b[32mSaved Visualization to: ./core_metrics/rs210Pan_Filt7575/pt_RNA_R1300/jaccard_emperor.qzv\u001b[0m\n",
      "\u001b[32mSaved Visualization to: ./core_metrics/rs210Pan_Filt7575/pt_RNA_R1300/bray_curtis_emperor.qzv\u001b[0m\n",
      "\u001b[0m"
     ]
    }
   ],
   "source": [
    "!qiime diversity core-metrics \\\n",
    "--i-table ./Qiime_input_data/rs210Pan_Filt7575/countData_RNA_PT.qza \\\n",
    "--p-sampling-depth 1300 \\\n",
    "--m-metadata-file ./Qiime_input_data/rs210Pan_Filt7575/metaData_RNA_PT.txt \\\n",
    "--output-dir ./core_metrics/rs210Pan_Filt7575/pt_RNA_R1300/"
   ]
  },
  {
   "cell_type": "code",
   "execution_count": 78,
   "metadata": {},
   "outputs": [
    {
     "name": "stdout",
     "output_type": "stream",
     "text": [
      "\u001b[32mSaved Visualization to: ./core_metrics/rs210Pan_Filt7575/pt_RNA_R1300/observed_features_vector_significance.qzv\u001b[0m\n",
      "\u001b[0m\u001b[32mSaved Visualization to: ./core_metrics/rs210Pan_Filt7575/pt_RNA_R1300/shannon_vector_significance.qzv\u001b[0m\n",
      "\u001b[0m"
     ]
    }
   ],
   "source": [
    "!qiime diversity alpha-group-significance \\\n",
    "--i-alpha-diversity ./core_metrics/rs210Pan_Filt7575/pt_RNA_R1300/observed_features_vector.qza \\\n",
    "--m-metadata-file ./Qiime_input_data/rs210Pan_Filt7575/metaData_RNA_PT.txt \\\n",
    "--o-visualization ./core_metrics/rs210Pan_Filt7575/pt_RNA_R1300/observed_features_vector_significance.qzv\n",
    "\n",
    "!qiime diversity alpha-group-significance \\\n",
    "--i-alpha-diversity ./core_metrics/rs210Pan_Filt7575/pt_RNA_R1300/shannon_vector.qza \\\n",
    "--m-metadata-file ./Qiime_input_data/rs210Pan_Filt7575/metaData_RNA_PT.txt \\\n",
    "--o-visualization ./core_metrics/rs210Pan_Filt7575/pt_RNA_R1300/shannon_vector_significance.qzv"
   ]
  },
  {
   "cell_type": "code",
   "execution_count": 79,
   "metadata": {},
   "outputs": [
    {
     "name": "stdout",
     "output_type": "stream",
     "text": [
      "\u001b[32mSaved Visualization to: ./core_metrics/rs210Pan_Filt7575/pt_RNA_R1300/jaccard_distance_matrix_significance.qzv\u001b[0m\n",
      "\u001b[0m\u001b[32mSaved Visualization to: ./core_metrics/rs210Pan_Filt7575/pt_RNA_R1300/bray_curtis_distance_matrix_significance.qzv\u001b[0m\n",
      "\u001b[0m"
     ]
    }
   ],
   "source": [
    "!qiime diversity beta-group-significance \\\n",
    "--i-distance-matrix ./core_metrics/rs210Pan_Filt7575/pt_RNA_R1300/jaccard_distance_matrix.qza \\\n",
    "--m-metadata-file ./Qiime_input_data/rs210Pan_Filt7575/metaData_RNA_PT.txt \\\n",
    "--m-metadata-column investigation \\\n",
    "--o-visualization ./core_metrics/rs210Pan_Filt7575/pt_RNA_R1300/jaccard_distance_matrix_significance.qzv\n",
    "\n",
    "!qiime diversity beta-group-significance \\\n",
    "--i-distance-matrix ./core_metrics/rs210Pan_Filt7575/pt_RNA_R1300/bray_curtis_distance_matrix.qza \\\n",
    "--m-metadata-file ./Qiime_input_data/rs210Pan_Filt7575/metaData_RNA_PT.txt \\\n",
    "--m-metadata-column investigation \\\n",
    "--o-visualization ./core_metrics/rs210Pan_Filt7575/pt_RNA_R1300/bray_curtis_distance_matrix_significance.qzv"
   ]
  },
  {
   "cell_type": "markdown",
   "metadata": {},
   "source": [
    "### Filt9090 - WGS\n",
    "Note the following sample read distribution from R:\n",
    "```\n",
    "[1] \"WGS\"\n",
    "   Min. 1st Qu.  Median    Mean 3rd Qu.    Max. \n",
    "   1472    8938   14659   68711   35212 2227953 \n",
    "```"
   ]
  },
  {
   "cell_type": "code",
   "execution_count": 80,
   "metadata": {},
   "outputs": [
    {
     "name": "stdout",
     "output_type": "stream",
     "text": [
      "\u001b[32mSaved FeatureTable[Frequency] to: ./core_metrics/rs210Pan_Filt9090/pt_WGS_R8900/rarefied_table.qza\u001b[0m\n",
      "\u001b[32mSaved SampleData[AlphaDiversity] to: ./core_metrics/rs210Pan_Filt9090/pt_WGS_R8900/observed_features_vector.qza\u001b[0m\n",
      "\u001b[32mSaved SampleData[AlphaDiversity] to: ./core_metrics/rs210Pan_Filt9090/pt_WGS_R8900/shannon_vector.qza\u001b[0m\n",
      "\u001b[32mSaved SampleData[AlphaDiversity] to: ./core_metrics/rs210Pan_Filt9090/pt_WGS_R8900/evenness_vector.qza\u001b[0m\n",
      "\u001b[32mSaved DistanceMatrix to: ./core_metrics/rs210Pan_Filt9090/pt_WGS_R8900/jaccard_distance_matrix.qza\u001b[0m\n",
      "\u001b[32mSaved DistanceMatrix to: ./core_metrics/rs210Pan_Filt9090/pt_WGS_R8900/bray_curtis_distance_matrix.qza\u001b[0m\n",
      "\u001b[32mSaved PCoAResults to: ./core_metrics/rs210Pan_Filt9090/pt_WGS_R8900/jaccard_pcoa_results.qza\u001b[0m\n",
      "\u001b[32mSaved PCoAResults to: ./core_metrics/rs210Pan_Filt9090/pt_WGS_R8900/bray_curtis_pcoa_results.qza\u001b[0m\n",
      "\u001b[32mSaved Visualization to: ./core_metrics/rs210Pan_Filt9090/pt_WGS_R8900/jaccard_emperor.qzv\u001b[0m\n",
      "\u001b[32mSaved Visualization to: ./core_metrics/rs210Pan_Filt9090/pt_WGS_R8900/bray_curtis_emperor.qzv\u001b[0m\n",
      "\u001b[0m"
     ]
    }
   ],
   "source": [
    "!qiime diversity core-metrics \\\n",
    "--i-table ./Qiime_input_data/rs210Pan_Filt9090/countData_WGS_PT.qza \\\n",
    "--p-sampling-depth 8900 \\\n",
    "--m-metadata-file ./Qiime_input_data/rs210Pan_Filt9090/metaData_WGS_PT.txt \\\n",
    "--output-dir ./core_metrics/rs210Pan_Filt9090/pt_WGS_R8900/"
   ]
  },
  {
   "cell_type": "code",
   "execution_count": 81,
   "metadata": {},
   "outputs": [
    {
     "name": "stdout",
     "output_type": "stream",
     "text": [
      "\u001b[32mSaved Visualization to: ./core_metrics/rs210Pan_Filt9090/pt_WGS_R8900/observed_features_vector_significance.qzv\u001b[0m\n",
      "\u001b[0m\u001b[32mSaved Visualization to: ./core_metrics/rs210Pan_Filt9090/pt_WGS_R8900/shannon_vector_significance.qzv\u001b[0m\n",
      "\u001b[0m"
     ]
    }
   ],
   "source": [
    "!qiime diversity alpha-group-significance \\\n",
    "--i-alpha-diversity ./core_metrics/rs210Pan_Filt9090/pt_WGS_R8900/observed_features_vector.qza \\\n",
    "--m-metadata-file ./Qiime_input_data/rs210Pan_Filt9090/metaData_WGS_PT.txt \\\n",
    "--o-visualization ./core_metrics/rs210Pan_Filt9090/pt_WGS_R8900/observed_features_vector_significance.qzv\n",
    "\n",
    "!qiime diversity alpha-group-significance \\\n",
    "--i-alpha-diversity ./core_metrics/rs210Pan_Filt9090/pt_WGS_R8900/shannon_vector.qza \\\n",
    "--m-metadata-file ./Qiime_input_data/rs210Pan_Filt9090/metaData_WGS_PT.txt \\\n",
    "--o-visualization ./core_metrics/rs210Pan_Filt9090/pt_WGS_R8900/shannon_vector_significance.qzv"
   ]
  },
  {
   "cell_type": "code",
   "execution_count": 82,
   "metadata": {},
   "outputs": [
    {
     "name": "stdout",
     "output_type": "stream",
     "text": [
      "\u001b[32mSaved Visualization to: ./core_metrics/rs210Pan_Filt9090/pt_WGS_R8900/jaccard_distance_matrix_significance.qzv\u001b[0m\n",
      "\u001b[0m\u001b[32mSaved Visualization to: ./core_metrics/rs210Pan_Filt9090/pt_WGS_R8900/bray_curtis_distance_matrix_significance.qzv\u001b[0m\n",
      "\u001b[0m"
     ]
    }
   ],
   "source": [
    "!qiime diversity beta-group-significance \\\n",
    "--i-distance-matrix ./core_metrics/rs210Pan_Filt9090/pt_WGS_R8900/jaccard_distance_matrix.qza \\\n",
    "--m-metadata-file ./Qiime_input_data/rs210Pan_Filt9090/metaData_WGS_PT.txt \\\n",
    "--m-metadata-column investigation \\\n",
    "--o-visualization ./core_metrics/rs210Pan_Filt9090/pt_WGS_R8900/jaccard_distance_matrix_significance.qzv\n",
    "\n",
    "!qiime diversity beta-group-significance \\\n",
    "--i-distance-matrix ./core_metrics/rs210Pan_Filt9090/pt_WGS_R8900/bray_curtis_distance_matrix.qza \\\n",
    "--m-metadata-file ./Qiime_input_data/rs210Pan_Filt9090/metaData_WGS_PT.txt \\\n",
    "--m-metadata-column investigation \\\n",
    "--o-visualization ./core_metrics/rs210Pan_Filt9090/pt_WGS_R8900/bray_curtis_distance_matrix_significance.qzv"
   ]
  },
  {
   "cell_type": "markdown",
   "metadata": {},
   "source": [
    "### Filt9090 - RNA\n",
    "Note the following sample read distribution from R:\n",
    "```\n",
    "[1] \"RNA\"\n",
    "    Min.  1st Qu.   Median     Mean  3rd Qu.     Max. \n",
    "     5.0    850.5   2386.0  22944.1   6395.8 883353.0 \n",
    "```"
   ]
  },
  {
   "cell_type": "code",
   "execution_count": 83,
   "metadata": {},
   "outputs": [
    {
     "name": "stdout",
     "output_type": "stream",
     "text": [
      "\u001b[32mSaved FeatureTable[Frequency] to: ./core_metrics/rs210Pan_Filt9090/pt_RNA_R850/rarefied_table.qza\u001b[0m\n",
      "\u001b[32mSaved SampleData[AlphaDiversity] to: ./core_metrics/rs210Pan_Filt9090/pt_RNA_R850/observed_features_vector.qza\u001b[0m\n",
      "\u001b[32mSaved SampleData[AlphaDiversity] to: ./core_metrics/rs210Pan_Filt9090/pt_RNA_R850/shannon_vector.qza\u001b[0m\n",
      "\u001b[32mSaved SampleData[AlphaDiversity] to: ./core_metrics/rs210Pan_Filt9090/pt_RNA_R850/evenness_vector.qza\u001b[0m\n",
      "\u001b[32mSaved DistanceMatrix to: ./core_metrics/rs210Pan_Filt9090/pt_RNA_R850/jaccard_distance_matrix.qza\u001b[0m\n",
      "\u001b[32mSaved DistanceMatrix to: ./core_metrics/rs210Pan_Filt9090/pt_RNA_R850/bray_curtis_distance_matrix.qza\u001b[0m\n",
      "\u001b[32mSaved PCoAResults to: ./core_metrics/rs210Pan_Filt9090/pt_RNA_R850/jaccard_pcoa_results.qza\u001b[0m\n",
      "\u001b[32mSaved PCoAResults to: ./core_metrics/rs210Pan_Filt9090/pt_RNA_R850/bray_curtis_pcoa_results.qza\u001b[0m\n",
      "\u001b[32mSaved Visualization to: ./core_metrics/rs210Pan_Filt9090/pt_RNA_R850/jaccard_emperor.qzv\u001b[0m\n",
      "\u001b[32mSaved Visualization to: ./core_metrics/rs210Pan_Filt9090/pt_RNA_R850/bray_curtis_emperor.qzv\u001b[0m\n",
      "\u001b[0m"
     ]
    }
   ],
   "source": [
    "!qiime diversity core-metrics \\\n",
    "--i-table ./Qiime_input_data/rs210Pan_Filt9090/countData_RNA_PT.qza \\\n",
    "--p-sampling-depth 850 \\\n",
    "--m-metadata-file ./Qiime_input_data/rs210Pan_Filt9090/metaData_RNA_PT.txt \\\n",
    "--output-dir ./core_metrics/rs210Pan_Filt9090/pt_RNA_R850/"
   ]
  },
  {
   "cell_type": "code",
   "execution_count": 84,
   "metadata": {},
   "outputs": [
    {
     "name": "stdout",
     "output_type": "stream",
     "text": [
      "\u001b[32mSaved Visualization to: ./core_metrics/rs210Pan_Filt9090/pt_RNA_R850/observed_features_vector_significance.qzv\u001b[0m\n",
      "\u001b[0m\u001b[32mSaved Visualization to: ./core_metrics/rs210Pan_Filt9090/pt_RNA_R850/shannon_vector_significance.qzv\u001b[0m\n",
      "\u001b[0m"
     ]
    }
   ],
   "source": [
    "!qiime diversity alpha-group-significance \\\n",
    "--i-alpha-diversity ./core_metrics/rs210Pan_Filt9090/pt_RNA_R850/observed_features_vector.qza \\\n",
    "--m-metadata-file ./Qiime_input_data/rs210Pan_Filt9090/metaData_RNA_PT.txt \\\n",
    "--o-visualization ./core_metrics/rs210Pan_Filt9090/pt_RNA_R850/observed_features_vector_significance.qzv\n",
    "\n",
    "!qiime diversity alpha-group-significance \\\n",
    "--i-alpha-diversity ./core_metrics/rs210Pan_Filt9090/pt_RNA_R850/shannon_vector.qza \\\n",
    "--m-metadata-file ./Qiime_input_data/rs210Pan_Filt9090/metaData_RNA_PT.txt \\\n",
    "--o-visualization ./core_metrics/rs210Pan_Filt9090/pt_RNA_R850/shannon_vector_significance.qzv"
   ]
  },
  {
   "cell_type": "code",
   "execution_count": 85,
   "metadata": {},
   "outputs": [
    {
     "name": "stdout",
     "output_type": "stream",
     "text": [
      "\u001b[32mSaved Visualization to: ./core_metrics/rs210Pan_Filt9090/pt_RNA_R850/jaccard_distance_matrix_significance.qzv\u001b[0m\n",
      "\u001b[0m\u001b[32mSaved Visualization to: ./core_metrics/rs210Pan_Filt9090/pt_RNA_R850/bray_curtis_distance_matrix_significance.qzv\u001b[0m\n",
      "\u001b[0m"
     ]
    }
   ],
   "source": [
    "!qiime diversity beta-group-significance \\\n",
    "--i-distance-matrix ./core_metrics/rs210Pan_Filt9090/pt_RNA_R850/jaccard_distance_matrix.qza \\\n",
    "--m-metadata-file ./Qiime_input_data/rs210Pan_Filt9090/metaData_RNA_PT.txt \\\n",
    "--m-metadata-column investigation \\\n",
    "--o-visualization ./core_metrics/rs210Pan_Filt9090/pt_RNA_R850/jaccard_distance_matrix_significance.qzv\n",
    "\n",
    "!qiime diversity beta-group-significance \\\n",
    "--i-distance-matrix ./core_metrics/rs210Pan_Filt9090/pt_RNA_R850/bray_curtis_distance_matrix.qza \\\n",
    "--m-metadata-file ./Qiime_input_data/rs210Pan_Filt9090/metaData_RNA_PT.txt \\\n",
    "--m-metadata-column investigation \\\n",
    "--o-visualization ./core_metrics/rs210Pan_Filt9090/pt_RNA_R850/bray_curtis_distance_matrix_significance.qzv"
   ]
  },
  {
   "cell_type": "markdown",
   "metadata": {},
   "source": [
    "# Qiime 2 Core Metrics - BDN\n",
    "Note: Since beta diversity was calculated above using DEICODE above, we are mostly interested in the alpha diversity results."
   ]
  },
  {
   "cell_type": "markdown",
   "metadata": {},
   "source": [
    "### Filt5050\n",
    "Note the following sample read distribution from R:\n",
    "```\n",
    "[1] \"WGS\"\n",
    "   Min. 1st Qu.  Median    Mean 3rd Qu.    Max. \n",
    "   2061   12460   17453   36111   30316  541933 \n",
    "```"
   ]
  },
  {
   "cell_type": "code",
   "execution_count": 29,
   "metadata": {},
   "outputs": [
    {
     "name": "stdout",
     "output_type": "stream",
     "text": [
      "\u001b[32mSaved FeatureTable[Frequency] to: ./core_metrics/rs210Pan_Filt5050/bdn_WGS_R12500/rarefied_table.qza\u001b[0m\n",
      "\u001b[32mSaved SampleData[AlphaDiversity] to: ./core_metrics/rs210Pan_Filt5050/bdn_WGS_R12500/observed_features_vector.qza\u001b[0m\n",
      "\u001b[32mSaved SampleData[AlphaDiversity] to: ./core_metrics/rs210Pan_Filt5050/bdn_WGS_R12500/shannon_vector.qza\u001b[0m\n",
      "\u001b[32mSaved SampleData[AlphaDiversity] to: ./core_metrics/rs210Pan_Filt5050/bdn_WGS_R12500/evenness_vector.qza\u001b[0m\n",
      "\u001b[32mSaved DistanceMatrix to: ./core_metrics/rs210Pan_Filt5050/bdn_WGS_R12500/jaccard_distance_matrix.qza\u001b[0m\n",
      "\u001b[32mSaved DistanceMatrix to: ./core_metrics/rs210Pan_Filt5050/bdn_WGS_R12500/bray_curtis_distance_matrix.qza\u001b[0m\n",
      "\u001b[32mSaved PCoAResults to: ./core_metrics/rs210Pan_Filt5050/bdn_WGS_R12500/jaccard_pcoa_results.qza\u001b[0m\n",
      "\u001b[32mSaved PCoAResults to: ./core_metrics/rs210Pan_Filt5050/bdn_WGS_R12500/bray_curtis_pcoa_results.qza\u001b[0m\n",
      "\u001b[32mSaved Visualization to: ./core_metrics/rs210Pan_Filt5050/bdn_WGS_R12500/jaccard_emperor.qzv\u001b[0m\n",
      "\u001b[32mSaved Visualization to: ./core_metrics/rs210Pan_Filt5050/bdn_WGS_R12500/bray_curtis_emperor.qzv\u001b[0m\n",
      "\u001b[0m"
     ]
    }
   ],
   "source": [
    "!qiime diversity core-metrics \\\n",
    "--i-table ./Qiime_input_data/rs210Pan_Filt5050/countData_WGS_BDN.qza \\\n",
    "--p-sampling-depth 12500 \\\n",
    "--m-metadata-file ./Qiime_input_data/rs210Pan_Filt5050/metaData_WGS_BDN.txt \\\n",
    "--output-dir ./core_metrics/rs210Pan_Filt5050/bdn_WGS_R12500/"
   ]
  },
  {
   "cell_type": "code",
   "execution_count": 30,
   "metadata": {},
   "outputs": [
    {
     "name": "stdout",
     "output_type": "stream",
     "text": [
      "\u001b[32mSaved Visualization to: ./core_metrics/rs210Pan_Filt5050/bdn_WGS_R12500/observed_features_vector_significance.qzv\u001b[0m\n",
      "\u001b[0m\u001b[32mSaved Visualization to: ./core_metrics/rs210Pan_Filt5050/bdn_WGS_R12500/shannon_vector_significance.qzv\u001b[0m\n",
      "\u001b[0m"
     ]
    }
   ],
   "source": [
    "!qiime diversity alpha-group-significance \\\n",
    "--i-alpha-diversity ./core_metrics/rs210Pan_Filt5050/bdn_WGS_R12500/observed_features_vector.qza \\\n",
    "--m-metadata-file ./Qiime_input_data/rs210Pan_Filt5050/metaData_WGS_BDN.txt \\\n",
    "--o-visualization ./core_metrics/rs210Pan_Filt5050/bdn_WGS_R12500/observed_features_vector_significance.qzv\n",
    "\n",
    "!qiime diversity alpha-group-significance \\\n",
    "--i-alpha-diversity ./core_metrics/rs210Pan_Filt5050/bdn_WGS_R12500/shannon_vector.qza \\\n",
    "--m-metadata-file ./Qiime_input_data/rs210Pan_Filt5050/metaData_WGS_BDN.txt \\\n",
    "--o-visualization ./core_metrics/rs210Pan_Filt5050/bdn_WGS_R12500/shannon_vector_significance.qzv"
   ]
  },
  {
   "cell_type": "code",
   "execution_count": 31,
   "metadata": {},
   "outputs": [
    {
     "name": "stdout",
     "output_type": "stream",
     "text": [
      "\u001b[32mSaved Visualization to: ./core_metrics/rs210Pan_Filt5050/bdn_WGS_R12500/jaccard_distance_matrix_significance.qzv\u001b[0m\n",
      "\u001b[0m\u001b[32mSaved Visualization to: ./core_metrics/rs210Pan_Filt5050/bdn_WGS_R12500/bray_curtis_distance_matrix_significance.qzv\u001b[0m\n",
      "\u001b[0m"
     ]
    }
   ],
   "source": [
    "!qiime diversity beta-group-significance \\\n",
    "--i-distance-matrix ./core_metrics/rs210Pan_Filt5050/bdn_WGS_R12500/jaccard_distance_matrix.qza \\\n",
    "--m-metadata-file ./Qiime_input_data/rs210Pan_Filt5050/metaData_WGS_BDN.txt \\\n",
    "--m-metadata-column investigation \\\n",
    "--o-visualization ./core_metrics/rs210Pan_Filt5050/bdn_WGS_R12500/jaccard_distance_matrix_significance.qzv\n",
    "\n",
    "!qiime diversity beta-group-significance \\\n",
    "--i-distance-matrix ./core_metrics/rs210Pan_Filt5050/bdn_WGS_R12500/bray_curtis_distance_matrix.qza \\\n",
    "--m-metadata-file ./Qiime_input_data/rs210Pan_Filt5050/metaData_WGS_BDN.txt \\\n",
    "--m-metadata-column investigation \\\n",
    "--o-visualization ./core_metrics/rs210Pan_Filt5050/bdn_WGS_R12500/bray_curtis_distance_matrix_significance.qzv"
   ]
  },
  {
   "cell_type": "markdown",
   "metadata": {},
   "source": [
    "### WIS\n",
    "Note the following sample read distribution from R:\n",
    "```\n",
    "[1] \"WGS\"\n",
    "   Min. 1st Qu.  Median    Mean 3rd Qu.    Max. \n",
    "    177    1142    1588   16480    2792  362300 \n",
    "```"
   ]
  },
  {
   "cell_type": "code",
   "execution_count": 32,
   "metadata": {},
   "outputs": [
    {
     "name": "stdout",
     "output_type": "stream",
     "text": [
      "\u001b[32mSaved FeatureTable[Frequency] to: ./core_metrics/rs210Pan_WIS/bdn_WGS_R1100/rarefied_table.qza\u001b[0m\n",
      "\u001b[32mSaved SampleData[AlphaDiversity] to: ./core_metrics/rs210Pan_WIS/bdn_WGS_R1100/observed_features_vector.qza\u001b[0m\n",
      "\u001b[32mSaved SampleData[AlphaDiversity] to: ./core_metrics/rs210Pan_WIS/bdn_WGS_R1100/shannon_vector.qza\u001b[0m\n",
      "\u001b[32mSaved SampleData[AlphaDiversity] to: ./core_metrics/rs210Pan_WIS/bdn_WGS_R1100/evenness_vector.qza\u001b[0m\n",
      "\u001b[32mSaved DistanceMatrix to: ./core_metrics/rs210Pan_WIS/bdn_WGS_R1100/jaccard_distance_matrix.qza\u001b[0m\n",
      "\u001b[32mSaved DistanceMatrix to: ./core_metrics/rs210Pan_WIS/bdn_WGS_R1100/bray_curtis_distance_matrix.qza\u001b[0m\n",
      "\u001b[32mSaved PCoAResults to: ./core_metrics/rs210Pan_WIS/bdn_WGS_R1100/jaccard_pcoa_results.qza\u001b[0m\n",
      "\u001b[32mSaved PCoAResults to: ./core_metrics/rs210Pan_WIS/bdn_WGS_R1100/bray_curtis_pcoa_results.qza\u001b[0m\n",
      "\u001b[32mSaved Visualization to: ./core_metrics/rs210Pan_WIS/bdn_WGS_R1100/jaccard_emperor.qzv\u001b[0m\n",
      "\u001b[32mSaved Visualization to: ./core_metrics/rs210Pan_WIS/bdn_WGS_R1100/bray_curtis_emperor.qzv\u001b[0m\n",
      "\u001b[0m"
     ]
    }
   ],
   "source": [
    "!qiime diversity core-metrics \\\n",
    "--i-table ./Qiime_input_data/rs210Pan_WIS/countData_WGS_BDN.qza \\\n",
    "--p-sampling-depth 1100 \\\n",
    "--m-metadata-file ./Qiime_input_data/rs210Pan_WIS/metaData_WGS_BDN.txt \\\n",
    "--output-dir ./core_metrics/rs210Pan_WIS/bdn_WGS_R1100/"
   ]
  },
  {
   "cell_type": "code",
   "execution_count": 33,
   "metadata": {},
   "outputs": [
    {
     "name": "stdout",
     "output_type": "stream",
     "text": [
      "\u001b[32mSaved Visualization to: ./core_metrics/rs210Pan_WIS/bdn_WGS_R1100/observed_features_vector_significance.qzv\u001b[0m\n",
      "\u001b[0m\u001b[32mSaved Visualization to: ./core_metrics/rs210Pan_WIS/bdn_WGS_R1100/shannon_vector_significance.qzv\u001b[0m\n",
      "\u001b[0m"
     ]
    }
   ],
   "source": [
    "!qiime diversity alpha-group-significance \\\n",
    "--i-alpha-diversity ./core_metrics/rs210Pan_WIS/bdn_WGS_R1100/observed_features_vector.qza \\\n",
    "--m-metadata-file ./Qiime_input_data/rs210Pan_WIS/metaData_WGS_BDN.txt \\\n",
    "--o-visualization ./core_metrics/rs210Pan_WIS/bdn_WGS_R1100/observed_features_vector_significance.qzv\n",
    "\n",
    "!qiime diversity alpha-group-significance \\\n",
    "--i-alpha-diversity ./core_metrics/rs210Pan_WIS/bdn_WGS_R1100/shannon_vector.qza \\\n",
    "--m-metadata-file ./Qiime_input_data/rs210Pan_WIS/metaData_WGS_BDN.txt \\\n",
    "--o-visualization ./core_metrics/rs210Pan_WIS/bdn_WGS_R1100/shannon_vector_significance.qzv"
   ]
  },
  {
   "cell_type": "code",
   "execution_count": 34,
   "metadata": {},
   "outputs": [
    {
     "name": "stdout",
     "output_type": "stream",
     "text": [
      "\u001b[32mSaved Visualization to: ./core_metrics/rs210Pan_WIS/bdn_WGS_R1100/jaccard_distance_matrix_significance.qzv\u001b[0m\n",
      "\u001b[0m\u001b[32mSaved Visualization to: ./core_metrics/rs210Pan_WIS/bdn_WGS_R1100/bray_curtis_distance_matrix_significance.qzv\u001b[0m\n",
      "\u001b[0m"
     ]
    }
   ],
   "source": [
    "!qiime diversity beta-group-significance \\\n",
    "--i-distance-matrix ./core_metrics/rs210Pan_WIS/bdn_WGS_R1100/jaccard_distance_matrix.qza \\\n",
    "--m-metadata-file ./Qiime_input_data/rs210Pan_WIS/metaData_WGS_BDN.txt \\\n",
    "--m-metadata-column investigation \\\n",
    "--o-visualization ./core_metrics/rs210Pan_WIS/bdn_WGS_R1100/jaccard_distance_matrix_significance.qzv\n",
    "\n",
    "!qiime diversity beta-group-significance \\\n",
    "--i-distance-matrix ./core_metrics/rs210Pan_WIS/bdn_WGS_R1100/bray_curtis_distance_matrix.qza \\\n",
    "--m-metadata-file ./Qiime_input_data/rs210Pan_WIS/metaData_WGS_BDN.txt \\\n",
    "--m-metadata-column investigation \\\n",
    "--o-visualization ./core_metrics/rs210Pan_WIS/bdn_WGS_R1100/bray_curtis_distance_matrix_significance.qzv"
   ]
  },
  {
   "cell_type": "markdown",
   "metadata": {},
   "source": [
    "### Filt7575\n",
    "Note the following sample read distribution from R:\n",
    "```\n",
    "[1] \"WGS\"\n",
    "   Min. 1st Qu.  Median    Mean 3rd Qu.    Max. \n",
    "   1860   11197   15948   34531   28497  530828 \n",
    "```"
   ]
  },
  {
   "cell_type": "code",
   "execution_count": 35,
   "metadata": {},
   "outputs": [
    {
     "name": "stdout",
     "output_type": "stream",
     "text": [
      "\u001b[32mSaved FeatureTable[Frequency] to: ./core_metrics/rs210Pan_Filt7575/bdn_WGS_R12000/rarefied_table.qza\u001b[0m\n",
      "\u001b[32mSaved SampleData[AlphaDiversity] to: ./core_metrics/rs210Pan_Filt7575/bdn_WGS_R12000/observed_features_vector.qza\u001b[0m\n",
      "\u001b[32mSaved SampleData[AlphaDiversity] to: ./core_metrics/rs210Pan_Filt7575/bdn_WGS_R12000/shannon_vector.qza\u001b[0m\n",
      "\u001b[32mSaved SampleData[AlphaDiversity] to: ./core_metrics/rs210Pan_Filt7575/bdn_WGS_R12000/evenness_vector.qza\u001b[0m\n",
      "\u001b[32mSaved DistanceMatrix to: ./core_metrics/rs210Pan_Filt7575/bdn_WGS_R12000/jaccard_distance_matrix.qza\u001b[0m\n",
      "\u001b[32mSaved DistanceMatrix to: ./core_metrics/rs210Pan_Filt7575/bdn_WGS_R12000/bray_curtis_distance_matrix.qza\u001b[0m\n",
      "\u001b[32mSaved PCoAResults to: ./core_metrics/rs210Pan_Filt7575/bdn_WGS_R12000/jaccard_pcoa_results.qza\u001b[0m\n",
      "\u001b[32mSaved PCoAResults to: ./core_metrics/rs210Pan_Filt7575/bdn_WGS_R12000/bray_curtis_pcoa_results.qza\u001b[0m\n",
      "\u001b[32mSaved Visualization to: ./core_metrics/rs210Pan_Filt7575/bdn_WGS_R12000/jaccard_emperor.qzv\u001b[0m\n",
      "\u001b[32mSaved Visualization to: ./core_metrics/rs210Pan_Filt7575/bdn_WGS_R12000/bray_curtis_emperor.qzv\u001b[0m\n",
      "\u001b[0m"
     ]
    }
   ],
   "source": [
    "!qiime diversity core-metrics \\\n",
    "--i-table ./Qiime_input_data/rs210Pan_Filt7575/countData_WGS_BDN.qza \\\n",
    "--p-sampling-depth 12000 \\\n",
    "--m-metadata-file ./Qiime_input_data/rs210Pan_Filt7575/metaData_WGS_BDN.txt \\\n",
    "--output-dir ./core_metrics/rs210Pan_Filt7575/bdn_WGS_R12000/"
   ]
  },
  {
   "cell_type": "code",
   "execution_count": 36,
   "metadata": {},
   "outputs": [
    {
     "name": "stdout",
     "output_type": "stream",
     "text": [
      "\u001b[32mSaved Visualization to: ./core_metrics/rs210Pan_Filt7575/bdn_WGS_R12000/observed_features_vector_significance.qzv\u001b[0m\n",
      "\u001b[0m\u001b[32mSaved Visualization to: ./core_metrics/rs210Pan_Filt7575/bdn_WGS_R12000/shannon_vector_significance.qzv\u001b[0m\n",
      "\u001b[0m"
     ]
    }
   ],
   "source": [
    "!qiime diversity alpha-group-significance \\\n",
    "--i-alpha-diversity ./core_metrics/rs210Pan_Filt7575/bdn_WGS_R12000/observed_features_vector.qza \\\n",
    "--m-metadata-file ./Qiime_input_data/rs210Pan_Filt7575/metaData_WGS_BDN.txt \\\n",
    "--o-visualization ./core_metrics/rs210Pan_Filt7575/bdn_WGS_R12000/observed_features_vector_significance.qzv\n",
    "\n",
    "!qiime diversity alpha-group-significance \\\n",
    "--i-alpha-diversity ./core_metrics/rs210Pan_Filt7575/bdn_WGS_R12000/shannon_vector.qza \\\n",
    "--m-metadata-file ./Qiime_input_data/rs210Pan_Filt7575/metaData_WGS_BDN.txt \\\n",
    "--o-visualization ./core_metrics/rs210Pan_Filt7575/bdn_WGS_R12000/shannon_vector_significance.qzv"
   ]
  },
  {
   "cell_type": "code",
   "execution_count": 37,
   "metadata": {},
   "outputs": [
    {
     "name": "stdout",
     "output_type": "stream",
     "text": [
      "\u001b[32mSaved Visualization to: ./core_metrics/rs210Pan_Filt7575/bdn_WGS_R12000/jaccard_distance_matrix_significance.qzv\u001b[0m\n",
      "\u001b[0m\u001b[32mSaved Visualization to: ./core_metrics/rs210Pan_Filt7575/bdn_WGS_R12000/bray_curtis_distance_matrix_significance.qzv\u001b[0m\n",
      "\u001b[0m"
     ]
    }
   ],
   "source": [
    "!qiime diversity beta-group-significance \\\n",
    "--i-distance-matrix ./core_metrics/rs210Pan_Filt7575/bdn_WGS_R12000/jaccard_distance_matrix.qza \\\n",
    "--m-metadata-file ./Qiime_input_data/rs210Pan_Filt7575/metaData_WGS_BDN.txt \\\n",
    "--m-metadata-column investigation \\\n",
    "--o-visualization ./core_metrics/rs210Pan_Filt7575/bdn_WGS_R12000/jaccard_distance_matrix_significance.qzv\n",
    "\n",
    "!qiime diversity beta-group-significance \\\n",
    "--i-distance-matrix ./core_metrics/rs210Pan_Filt7575/bdn_WGS_R12000/bray_curtis_distance_matrix.qza \\\n",
    "--m-metadata-file ./Qiime_input_data/rs210Pan_Filt7575/metaData_WGS_BDN.txt \\\n",
    "--m-metadata-column investigation \\\n",
    "--o-visualization ./core_metrics/rs210Pan_Filt7575/bdn_WGS_R12000/bray_curtis_distance_matrix_significance.qzv"
   ]
  },
  {
   "cell_type": "markdown",
   "metadata": {},
   "source": [
    "### Filt9090\n",
    "Note the following sample read distribution from R:\n",
    "```\n",
    "[1] \"WGS\"\n",
    "   Min. 1st Qu.  Median    Mean 3rd Qu.    Max. \n",
    "   1457    8721   12603   29980   22888  497721 \n",
    "```"
   ]
  },
  {
   "cell_type": "code",
   "execution_count": 38,
   "metadata": {},
   "outputs": [
    {
     "name": "stdout",
     "output_type": "stream",
     "text": [
      "\u001b[32mSaved FeatureTable[Frequency] to: ./core_metrics/rs210Pan_Filt9090/bdn_WGS_R8700/rarefied_table.qza\u001b[0m\n",
      "\u001b[32mSaved SampleData[AlphaDiversity] to: ./core_metrics/rs210Pan_Filt9090/bdn_WGS_R8700/observed_features_vector.qza\u001b[0m\n",
      "\u001b[32mSaved SampleData[AlphaDiversity] to: ./core_metrics/rs210Pan_Filt9090/bdn_WGS_R8700/shannon_vector.qza\u001b[0m\n",
      "\u001b[32mSaved SampleData[AlphaDiversity] to: ./core_metrics/rs210Pan_Filt9090/bdn_WGS_R8700/evenness_vector.qza\u001b[0m\n",
      "\u001b[32mSaved DistanceMatrix to: ./core_metrics/rs210Pan_Filt9090/bdn_WGS_R8700/jaccard_distance_matrix.qza\u001b[0m\n",
      "\u001b[32mSaved DistanceMatrix to: ./core_metrics/rs210Pan_Filt9090/bdn_WGS_R8700/bray_curtis_distance_matrix.qza\u001b[0m\n",
      "\u001b[32mSaved PCoAResults to: ./core_metrics/rs210Pan_Filt9090/bdn_WGS_R8700/jaccard_pcoa_results.qza\u001b[0m\n",
      "\u001b[32mSaved PCoAResults to: ./core_metrics/rs210Pan_Filt9090/bdn_WGS_R8700/bray_curtis_pcoa_results.qza\u001b[0m\n",
      "\u001b[32mSaved Visualization to: ./core_metrics/rs210Pan_Filt9090/bdn_WGS_R8700/jaccard_emperor.qzv\u001b[0m\n",
      "\u001b[32mSaved Visualization to: ./core_metrics/rs210Pan_Filt9090/bdn_WGS_R8700/bray_curtis_emperor.qzv\u001b[0m\n",
      "\u001b[0m"
     ]
    }
   ],
   "source": [
    "!qiime diversity core-metrics \\\n",
    "--i-table ./Qiime_input_data/rs210Pan_Filt9090/countData_WGS_BDN.qza \\\n",
    "--p-sampling-depth 8700 \\\n",
    "--m-metadata-file ./Qiime_input_data/rs210Pan_Filt9090/metaData_WGS_BDN.txt \\\n",
    "--output-dir ./core_metrics/rs210Pan_Filt9090/bdn_WGS_R8700/"
   ]
  },
  {
   "cell_type": "code",
   "execution_count": 39,
   "metadata": {},
   "outputs": [
    {
     "name": "stdout",
     "output_type": "stream",
     "text": [
      "\u001b[32mSaved Visualization to: ./core_metrics/rs210Pan_Filt9090/bdn_WGS_R8700/observed_features_vector_significance.qzv\u001b[0m\n",
      "\u001b[0m\u001b[32mSaved Visualization to: ./core_metrics/rs210Pan_Filt9090/bdn_WGS_R8700/shannon_vector_significance.qzv\u001b[0m\n",
      "\u001b[0m"
     ]
    }
   ],
   "source": [
    "!qiime diversity alpha-group-significance \\\n",
    "--i-alpha-diversity ./core_metrics/rs210Pan_Filt9090/bdn_WGS_R8700/observed_features_vector.qza \\\n",
    "--m-metadata-file ./Qiime_input_data/rs210Pan_Filt9090/metaData_WGS_BDN.txt \\\n",
    "--o-visualization ./core_metrics/rs210Pan_Filt9090/bdn_WGS_R8700/observed_features_vector_significance.qzv\n",
    "\n",
    "!qiime diversity alpha-group-significance \\\n",
    "--i-alpha-diversity ./core_metrics/rs210Pan_Filt9090/bdn_WGS_R8700/shannon_vector.qza \\\n",
    "--m-metadata-file ./Qiime_input_data/rs210Pan_Filt9090/metaData_WGS_BDN.txt \\\n",
    "--o-visualization ./core_metrics/rs210Pan_Filt9090/bdn_WGS_R8700/shannon_vector_significance.qzv"
   ]
  },
  {
   "cell_type": "code",
   "execution_count": 40,
   "metadata": {},
   "outputs": [
    {
     "name": "stdout",
     "output_type": "stream",
     "text": [
      "\u001b[32mSaved Visualization to: ./core_metrics/rs210Pan_Filt9090/bdn_WGS_R8700/jaccard_distance_matrix_significance.qzv\u001b[0m\n",
      "\u001b[0m\u001b[32mSaved Visualization to: ./core_metrics/rs210Pan_Filt9090/bdn_WGS_R8700/bray_curtis_distance_matrix_significance.qzv\u001b[0m\n",
      "\u001b[0m"
     ]
    }
   ],
   "source": [
    "!qiime diversity beta-group-significance \\\n",
    "--i-distance-matrix ./core_metrics/rs210Pan_Filt9090/bdn_WGS_R8700/jaccard_distance_matrix.qza \\\n",
    "--m-metadata-file ./Qiime_input_data/rs210Pan_Filt9090/metaData_WGS_BDN.txt \\\n",
    "--m-metadata-column investigation \\\n",
    "--o-visualization ./core_metrics/rs210Pan_Filt9090/bdn_WGS_R8700/jaccard_distance_matrix_significance.qzv\n",
    "\n",
    "!qiime diversity beta-group-significance \\\n",
    "--i-distance-matrix ./core_metrics/rs210Pan_Filt9090/bdn_WGS_R8700/bray_curtis_distance_matrix.qza \\\n",
    "--m-metadata-file ./Qiime_input_data/rs210Pan_Filt9090/metaData_WGS_BDN.txt \\\n",
    "--m-metadata-column investigation \\\n",
    "--o-visualization ./core_metrics/rs210Pan_Filt9090/bdn_WGS_R8700/bray_curtis_distance_matrix_significance.qzv"
   ]
  },
  {
   "cell_type": "markdown",
   "metadata": {},
   "source": [
    "# Figures for the paper\n",
    "\n",
    "- Emperor (https://biocore.github.io/emperor/) will be used to view the beta diversity PCoA plots (again using https://view.qiime2.org/) and capture screenshots for the PCoA figures"
   ]
  },
  {
   "cell_type": "code",
   "execution_count": null,
   "metadata": {},
   "outputs": [],
   "source": []
  }
 ],
 "metadata": {
  "kernelspec": {
   "display_name": "Python 3 (ipykernel)",
   "language": "python",
   "name": "python3"
  },
  "language_info": {
   "codemirror_mode": {
    "name": "ipython",
    "version": 3
   },
   "file_extension": ".py",
   "mimetype": "text/x-python",
   "name": "python",
   "nbconvert_exporter": "python",
   "pygments_lexer": "ipython3",
   "version": "3.8.13"
  }
 },
 "nbformat": 4,
 "nbformat_minor": 2
}
