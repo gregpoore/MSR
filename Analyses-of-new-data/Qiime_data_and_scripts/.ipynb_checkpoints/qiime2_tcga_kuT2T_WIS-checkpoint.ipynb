{
 "cells": [
  {
   "cell_type": "markdown",
   "metadata": {},
   "source": [
    "The following conda environment for Qiime 2 was used for these analyses:\n",
    "\n",
    ">qiime2-2022.2\n",
    "\n",
    "The following commands were run using the command line interface (CLI) of Qiime 2."
   ]
  },
  {
   "cell_type": "markdown",
   "metadata": {},
   "source": [
    "# Import Taxa table"
   ]
  },
  {
   "cell_type": "code",
   "execution_count": 1,
   "metadata": {},
   "outputs": [
    {
     "name": "stdout",
     "output_type": "stream",
     "text": [
      "\u001b[32mImported ./Qiime_input_data/ku-taxa.txt as TSVTaxonomyDirectoryFormat to kuTaxonomy.qza\u001b[0m\r\n",
      "\u001b[0m"
     ]
    }
   ],
   "source": [
    "!qiime tools import \\\n",
    " --type 'FeatureData[Taxonomy]' \\\n",
    " --input-path ./Qiime_input_data/ku-taxa.txt \\\n",
    " --output-path kuTaxonomy.qza"
   ]
  },
  {
   "cell_type": "markdown",
   "metadata": {},
   "source": [
    "# Import PT data"
   ]
  },
  {
   "cell_type": "code",
   "execution_count": 2,
   "metadata": {},
   "outputs": [
    {
     "name": "stdout",
     "output_type": "stream",
     "text": [
      "\u001b[32mImported ./Qiime_input_data/kuT2T_WIS/countData_HMS_PT.biom as BIOMV100Format to ./Qiime_input_data/kuT2T_WIS/countData_HMS_PT.qza\u001b[0m\r\n",
      "\u001b[0m"
     ]
    }
   ],
   "source": [
    "!qiime tools import \\\n",
    "--type 'FeatureTable[Frequency]' \\\n",
    "--input-path ./Qiime_input_data/kuT2T_WIS/countData_HMS_PT.biom \\\n",
    "--input-format BIOMV100Format \\\n",
    "--output-path ./Qiime_input_data/kuT2T_WIS/countData_HMS_PT.qza"
   ]
  },
  {
   "cell_type": "code",
   "execution_count": 3,
   "metadata": {},
   "outputs": [
    {
     "name": "stdout",
     "output_type": "stream",
     "text": [
      "\u001b[32mImported ./Qiime_input_data/kuT2T_WIS/countData_BCM_PT.biom as BIOMV100Format to ./Qiime_input_data/kuT2T_WIS/countData_BCM_PT.qza\u001b[0m\r\n",
      "\u001b[0m"
     ]
    }
   ],
   "source": [
    "!qiime tools import \\\n",
    "--type 'FeatureTable[Frequency]' \\\n",
    "--input-path ./Qiime_input_data/kuT2T_WIS/countData_BCM_PT.biom \\\n",
    "--input-format BIOMV100Format \\\n",
    "--output-path ./Qiime_input_data/kuT2T_WIS/countData_BCM_PT.qza"
   ]
  },
  {
   "cell_type": "code",
   "execution_count": 4,
   "metadata": {},
   "outputs": [
    {
     "name": "stdout",
     "output_type": "stream",
     "text": [
      "\u001b[32mImported ./Qiime_input_data/kuT2T_WIS/countData_MDA_PT.biom as BIOMV100Format to ./Qiime_input_data/kuT2T_WIS/countData_MDA_PT.qza\u001b[0m\r\n",
      "\u001b[0m"
     ]
    }
   ],
   "source": [
    "!qiime tools import \\\n",
    "--type 'FeatureTable[Frequency]' \\\n",
    "--input-path ./Qiime_input_data/kuT2T_WIS/countData_MDA_PT.biom \\\n",
    "--input-format BIOMV100Format \\\n",
    "--output-path ./Qiime_input_data/kuT2T_WIS/countData_MDA_PT.qza"
   ]
  },
  {
   "cell_type": "code",
   "execution_count": 5,
   "metadata": {},
   "outputs": [
    {
     "name": "stdout",
     "output_type": "stream",
     "text": [
      "\u001b[32mImported ./Qiime_input_data/kuT2T_WIS/countData_WashU_PT.biom as BIOMV100Format to ./Qiime_input_data/kuT2T_WIS/countData_WashU_PT.qza\u001b[0m\r\n",
      "\u001b[0m"
     ]
    }
   ],
   "source": [
    "!qiime tools import \\\n",
    "--type 'FeatureTable[Frequency]' \\\n",
    "--input-path ./Qiime_input_data/kuT2T_WIS/countData_WashU_PT.biom \\\n",
    "--input-format BIOMV100Format \\\n",
    "--output-path ./Qiime_input_data/kuT2T_WIS/countData_WashU_PT.qza"
   ]
  },
  {
   "cell_type": "code",
   "execution_count": 6,
   "metadata": {},
   "outputs": [
    {
     "name": "stdout",
     "output_type": "stream",
     "text": [
      "\u001b[32mImported ./Qiime_input_data/kuT2T_WIS/countData_Broad_WGS_PT.biom as BIOMV100Format to ./Qiime_input_data/kuT2T_WIS/countData_Broad_WGS_PT.qza\u001b[0m\r\n",
      "\u001b[0m"
     ]
    }
   ],
   "source": [
    "!qiime tools import \\\n",
    "--type 'FeatureTable[Frequency]' \\\n",
    "--input-path ./Qiime_input_data/kuT2T_WIS/countData_Broad_WGS_PT.biom \\\n",
    "--input-format BIOMV100Format \\\n",
    "--output-path ./Qiime_input_data/kuT2T_WIS/countData_Broad_WGS_PT.qza"
   ]
  },
  {
   "cell_type": "code",
   "execution_count": 7,
   "metadata": {},
   "outputs": [
    {
     "name": "stdout",
     "output_type": "stream",
     "text": [
      "\u001b[32mImported ./Qiime_input_data/kuT2T_WIS/countData_UNC_PT.biom as BIOMV100Format to ./Qiime_input_data/kuT2T_WIS/countData_UNC_PT.qza\u001b[0m\r\n",
      "\u001b[0m"
     ]
    }
   ],
   "source": [
    "!qiime tools import \\\n",
    "--type 'FeatureTable[Frequency]' \\\n",
    "--input-path ./Qiime_input_data/kuT2T_WIS/countData_UNC_PT.biom \\\n",
    "--input-format BIOMV100Format \\\n",
    "--output-path ./Qiime_input_data/kuT2T_WIS/countData_UNC_PT.qza"
   ]
  },
  {
   "cell_type": "code",
   "execution_count": 8,
   "metadata": {},
   "outputs": [
    {
     "name": "stdout",
     "output_type": "stream",
     "text": [
      "\u001b[32mImported ./Qiime_input_data/kuT2T_WIS/countData_CMS_PT.biom as BIOMV100Format to ./Qiime_input_data/kuT2T_WIS/countData_CMS_PT.qza\u001b[0m\r\n",
      "\u001b[0m"
     ]
    }
   ],
   "source": [
    "!qiime tools import \\\n",
    "--type 'FeatureTable[Frequency]' \\\n",
    "--input-path ./Qiime_input_data/kuT2T_WIS/countData_CMS_PT.biom \\\n",
    "--input-format BIOMV100Format \\\n",
    "--output-path ./Qiime_input_data/kuT2T_WIS/countData_CMS_PT.qza"
   ]
  },
  {
   "cell_type": "markdown",
   "metadata": {},
   "source": [
    "# Import BDN data"
   ]
  },
  {
   "cell_type": "code",
   "execution_count": 9,
   "metadata": {},
   "outputs": [
    {
     "name": "stdout",
     "output_type": "stream",
     "text": [
      "\u001b[32mImported ./Qiime_input_data/kuT2T_WIS/countData_HMS_BDN.biom as BIOMV100Format to ./Qiime_input_data/kuT2T_WIS/countData_HMS_BDN.qza\u001b[0m\r\n",
      "\u001b[0m"
     ]
    }
   ],
   "source": [
    "!qiime tools import \\\n",
    "--type 'FeatureTable[Frequency]' \\\n",
    "--input-path ./Qiime_input_data/kuT2T_WIS/countData_HMS_BDN.biom \\\n",
    "--input-format BIOMV100Format \\\n",
    "--output-path ./Qiime_input_data/kuT2T_WIS/countData_HMS_BDN.qza"
   ]
  },
  {
   "cell_type": "code",
   "execution_count": 10,
   "metadata": {},
   "outputs": [
    {
     "name": "stdout",
     "output_type": "stream",
     "text": [
      "\u001b[32mImported ./Qiime_input_data/kuT2T_WIS/countData_BCM_BDN.biom as BIOMV100Format to ./Qiime_input_data/kuT2T_WIS/countData_BCM_BDN.qza\u001b[0m\r\n",
      "\u001b[0m"
     ]
    }
   ],
   "source": [
    "!qiime tools import \\\n",
    "--type 'FeatureTable[Frequency]' \\\n",
    "--input-path ./Qiime_input_data/kuT2T_WIS/countData_BCM_BDN.biom \\\n",
    "--input-format BIOMV100Format \\\n",
    "--output-path ./Qiime_input_data/kuT2T_WIS/countData_BCM_BDN.qza"
   ]
  },
  {
   "cell_type": "code",
   "execution_count": 11,
   "metadata": {},
   "outputs": [
    {
     "name": "stdout",
     "output_type": "stream",
     "text": [
      "\u001b[32mImported ./Qiime_input_data/kuT2T_WIS/countData_MDA_BDN.biom as BIOMV100Format to ./Qiime_input_data/kuT2T_WIS/countData_MDA_BDN.qza\u001b[0m\r\n",
      "\u001b[0m"
     ]
    }
   ],
   "source": [
    "!qiime tools import \\\n",
    "--type 'FeatureTable[Frequency]' \\\n",
    "--input-path ./Qiime_input_data/kuT2T_WIS/countData_MDA_BDN.biom \\\n",
    "--input-format BIOMV100Format \\\n",
    "--output-path ./Qiime_input_data/kuT2T_WIS/countData_MDA_BDN.qza"
   ]
  },
  {
   "cell_type": "code",
   "execution_count": 12,
   "metadata": {},
   "outputs": [
    {
     "name": "stdout",
     "output_type": "stream",
     "text": [
      "\u001b[32mImported ./Qiime_input_data/kuT2T_WIS/countData_WashU_BDN.biom as BIOMV100Format to ./Qiime_input_data/kuT2T_WIS/countData_WashU_BDN.qza\u001b[0m\r\n",
      "\u001b[0m"
     ]
    }
   ],
   "source": [
    "!qiime tools import \\\n",
    "--type 'FeatureTable[Frequency]' \\\n",
    "--input-path ./Qiime_input_data/kuT2T_WIS/countData_WashU_BDN.biom \\\n",
    "--input-format BIOMV100Format \\\n",
    "--output-path ./Qiime_input_data/kuT2T_WIS/countData_WashU_BDN.qza"
   ]
  },
  {
   "cell_type": "code",
   "execution_count": 13,
   "metadata": {
    "scrolled": true
   },
   "outputs": [
    {
     "name": "stdout",
     "output_type": "stream",
     "text": [
      "\u001b[32mImported ./Qiime_input_data/kuT2T_WIS/countData_Broad_WGS_BDN.biom as BIOMV100Format to ./Qiime_input_data/kuT2T_WIS/countData_Broad_WGS_BDN.qza\u001b[0m\r\n",
      "\u001b[0m"
     ]
    }
   ],
   "source": [
    "!qiime tools import \\\n",
    "--type 'FeatureTable[Frequency]' \\\n",
    "--input-path ./Qiime_input_data/kuT2T_WIS/countData_Broad_WGS_BDN.biom \\\n",
    "--input-format BIOMV100Format \\\n",
    "--output-path ./Qiime_input_data/kuT2T_WIS/countData_Broad_WGS_BDN.qza"
   ]
  },
  {
   "cell_type": "markdown",
   "metadata": {},
   "source": [
    "# Deicode for PT (beta diversity that does not require rarefaction)\n",
    "\n",
    "Martino et al. 2019. mSystems. See the following links:\n",
    "- https://journals.asm.org/doi/10.1128/mSystems.00016-19\n",
    "- https://forum.qiime2.org/t/robust-aitchison-pca-beta-diversity-with-deicode/8333"
   ]
  },
  {
   "cell_type": "markdown",
   "metadata": {},
   "source": [
    "### Harvard Medical School (HMS)"
   ]
  },
  {
   "cell_type": "code",
   "execution_count": 14,
   "metadata": {
    "scrolled": true
   },
   "outputs": [
    {
     "name": "stdout",
     "output_type": "stream",
     "text": [
      "\u001b[32mSaved PCoAResults % Properties('biplot') to: ./Qiime_input_data/kuT2T_WIS/deicode_ordination_HMS_PT.qza\u001b[0m\n",
      "\u001b[32mSaved DistanceMatrix to: ./Qiime_input_data/kuT2T_WIS/deicode_distance_HMS_PT.qza\u001b[0m\n",
      "\u001b[0m"
     ]
    }
   ],
   "source": [
    "!qiime deicode rpca \\\n",
    "    --i-table ./Qiime_input_data/kuT2T_WIS/countData_HMS_PT.qza \\\n",
    "    --o-biplot ./Qiime_input_data/kuT2T_WIS/deicode_ordination_HMS_PT.qza \\\n",
    "    --p-min-sample-count 100 \\\n",
    "    --o-distance-matrix ./Qiime_input_data/kuT2T_WIS/deicode_distance_HMS_PT.qza"
   ]
  },
  {
   "cell_type": "code",
   "execution_count": 15,
   "metadata": {},
   "outputs": [
    {
     "name": "stdout",
     "output_type": "stream",
     "text": [
      "\u001b[32mSaved Visualization to: ./Qiime_input_data/kuT2T_WIS/deicode_biplot_HMS_PT.qzv\u001b[0m\r\n",
      "\u001b[0m"
     ]
    }
   ],
   "source": [
    "!qiime emperor biplot \\\n",
    "    --i-biplot ./Qiime_input_data/kuT2T_WIS/deicode_ordination_HMS_PT.qza \\\n",
    "    --m-sample-metadata-file ./Qiime_input_data/kuT2T_WIS/metaData_HMS_PT.txt \\\n",
    "    --m-feature-metadata-file kuTaxonomy.qza \\\n",
    "    --o-visualization ./Qiime_input_data/kuT2T_WIS/deicode_biplot_HMS_PT.qzv \\\n",
    "    --p-number-of-features 1"
   ]
  },
  {
   "cell_type": "code",
   "execution_count": 16,
   "metadata": {},
   "outputs": [
    {
     "name": "stdout",
     "output_type": "stream",
     "text": [
      "\u001b[32mSaved Visualization to: ./Qiime_input_data/kuT2T_WIS/deicode_adonis_HMS_PT.qzv\u001b[0m\r\n",
      "\u001b[0m"
     ]
    }
   ],
   "source": [
    "!qiime diversity adonis \\\n",
    "--i-distance-matrix ./Qiime_input_data/kuT2T_WIS/deicode_distance_HMS_PT.qza \\\n",
    "--m-metadata-file ./Qiime_input_data/kuT2T_WIS/metaData_HMS_PT.txt \\\n",
    "--p-formula \"investigation\" \\\n",
    "--p-n-jobs 8 \\\n",
    "--o-visualization ./Qiime_input_data/kuT2T_WIS/deicode_adonis_HMS_PT.qzv"
   ]
  },
  {
   "cell_type": "markdown",
   "metadata": {},
   "source": [
    "### Baylor College of Medicine (BCM)"
   ]
  },
  {
   "cell_type": "code",
   "execution_count": 17,
   "metadata": {},
   "outputs": [
    {
     "name": "stdout",
     "output_type": "stream",
     "text": [
      "\u001b[32mSaved PCoAResults % Properties('biplot') to: ./Qiime_input_data/kuT2T_WIS/deicode_ordination_BCM_PT.qza\u001b[0m\n",
      "\u001b[32mSaved DistanceMatrix to: ./Qiime_input_data/kuT2T_WIS/deicode_distance_BCM_PT.qza\u001b[0m\n",
      "\u001b[0m"
     ]
    }
   ],
   "source": [
    "!qiime deicode rpca \\\n",
    "    --i-table ./Qiime_input_data/kuT2T_WIS/countData_BCM_PT.qza \\\n",
    "    --o-biplot ./Qiime_input_data/kuT2T_WIS/deicode_ordination_BCM_PT.qza \\\n",
    "    --p-min-sample-count 100 \\\n",
    "    --o-distance-matrix ./Qiime_input_data/kuT2T_WIS/deicode_distance_BCM_PT.qza"
   ]
  },
  {
   "cell_type": "code",
   "execution_count": 18,
   "metadata": {},
   "outputs": [
    {
     "name": "stdout",
     "output_type": "stream",
     "text": [
      "\u001b[32mSaved Visualization to: ./Qiime_input_data/kuT2T_WIS/deicode_biplot_BCM_PT.qzv\u001b[0m\r\n",
      "\u001b[0m"
     ]
    }
   ],
   "source": [
    "!qiime emperor biplot \\\n",
    "    --i-biplot ./Qiime_input_data/kuT2T_WIS/deicode_ordination_BCM_PT.qza \\\n",
    "    --m-sample-metadata-file ./Qiime_input_data/kuT2T_WIS/metaData_BCM_PT.txt \\\n",
    "    --m-feature-metadata-file kuTaxonomy.qza \\\n",
    "    --o-visualization ./Qiime_input_data/kuT2T_WIS/deicode_biplot_BCM_PT.qzv \\\n",
    "    --p-number-of-features 1"
   ]
  },
  {
   "cell_type": "code",
   "execution_count": 19,
   "metadata": {},
   "outputs": [
    {
     "name": "stdout",
     "output_type": "stream",
     "text": [
      "\u001b[32mSaved Visualization to: ./Qiime_input_data/kuT2T_WIS/deicode_adonis_BCM_PT.qzv\u001b[0m\r\n",
      "\u001b[0m"
     ]
    }
   ],
   "source": [
    "!qiime diversity adonis \\\n",
    "--i-distance-matrix ./Qiime_input_data/kuT2T_WIS/deicode_distance_BCM_PT.qza \\\n",
    "--m-metadata-file ./Qiime_input_data/kuT2T_WIS/metaData_BCM_PT.txt \\\n",
    "--p-formula \"investigation\" \\\n",
    "--p-n-jobs 8 \\\n",
    "--o-visualization ./Qiime_input_data/kuT2T_WIS/deicode_adonis_BCM_PT.qzv"
   ]
  },
  {
   "cell_type": "markdown",
   "metadata": {},
   "source": [
    "### MD Anderson (MDA)"
   ]
  },
  {
   "cell_type": "code",
   "execution_count": 20,
   "metadata": {},
   "outputs": [
    {
     "name": "stdout",
     "output_type": "stream",
     "text": [
      "\u001b[32mSaved PCoAResults % Properties('biplot') to: ./Qiime_input_data/kuT2T_WIS/deicode_ordination_MDA_PT.qza\u001b[0m\n",
      "\u001b[32mSaved DistanceMatrix to: ./Qiime_input_data/kuT2T_WIS/deicode_distance_MDA_PT.qza\u001b[0m\n",
      "\u001b[0m"
     ]
    }
   ],
   "source": [
    "!qiime deicode rpca \\\n",
    "    --i-table ./Qiime_input_data/kuT2T_WIS/countData_MDA_PT.qza \\\n",
    "    --o-biplot ./Qiime_input_data/kuT2T_WIS/deicode_ordination_MDA_PT.qza \\\n",
    "    --p-min-sample-count 25 \\\n",
    "    --o-distance-matrix ./Qiime_input_data/kuT2T_WIS/deicode_distance_MDA_PT.qza"
   ]
  },
  {
   "cell_type": "code",
   "execution_count": 21,
   "metadata": {},
   "outputs": [
    {
     "name": "stdout",
     "output_type": "stream",
     "text": [
      "\u001b[32mSaved Visualization to: ./Qiime_input_data/kuT2T_WIS/deicode_biplot_MDA_PT.qzv\u001b[0m\n",
      "\u001b[0m"
     ]
    }
   ],
   "source": [
    "!qiime emperor biplot \\\n",
    "    --i-biplot ./Qiime_input_data/kuT2T_WIS/deicode_ordination_MDA_PT.qza \\\n",
    "    --m-sample-metadata-file ./Qiime_input_data/kuT2T_WIS/metaData_MDA_PT.txt \\\n",
    "    --m-feature-metadata-file kuTaxonomy.qza \\\n",
    "    --o-visualization ./Qiime_input_data/kuT2T_WIS/deicode_biplot_MDA_PT.qzv \\\n",
    "    --p-number-of-features 1"
   ]
  },
  {
   "cell_type": "code",
   "execution_count": 22,
   "metadata": {},
   "outputs": [
    {
     "name": "stdout",
     "output_type": "stream",
     "text": [
      "\u001b[32mSaved Visualization to: ./Qiime_input_data/kuT2T_WIS/deicode_adonis_MDA_PT.qzv\u001b[0m\n",
      "\u001b[0m"
     ]
    }
   ],
   "source": [
    "!qiime diversity adonis \\\n",
    "    --i-distance-matrix ./Qiime_input_data/kuT2T_WIS/deicode_distance_MDA_PT.qza \\\n",
    "    --m-metadata-file ./Qiime_input_data/kuT2T_WIS/metaData_MDA_PT.txt \\\n",
    "    --p-formula \"investigation\" \\\n",
    "    --p-n-jobs 8 \\\n",
    "    --o-visualization ./Qiime_input_data/kuT2T_WIS/deicode_adonis_MDA_PT.qzv"
   ]
  },
  {
   "cell_type": "markdown",
   "metadata": {},
   "source": [
    "### Washington University (WashU)"
   ]
  },
  {
   "cell_type": "code",
   "execution_count": 23,
   "metadata": {},
   "outputs": [
    {
     "name": "stdout",
     "output_type": "stream",
     "text": [
      "\u001b[32mSaved PCoAResults % Properties('biplot') to: ./Qiime_input_data/kuT2T_WIS/deicode_ordination_WashU_PT.qza\u001b[0m\n",
      "\u001b[32mSaved DistanceMatrix to: ./Qiime_input_data/kuT2T_WIS/deicode_distance_WashU_PT.qza\u001b[0m\n",
      "\u001b[0m"
     ]
    }
   ],
   "source": [
    "!qiime deicode rpca \\\n",
    "    --i-table ./Qiime_input_data/kuT2T_WIS/countData_WashU_PT.qza \\\n",
    "    --o-biplot ./Qiime_input_data/kuT2T_WIS/deicode_ordination_WashU_PT.qza \\\n",
    "    --p-min-sample-count 100 \\\n",
    "    --o-distance-matrix ./Qiime_input_data/kuT2T_WIS/deicode_distance_WashU_PT.qza"
   ]
  },
  {
   "cell_type": "code",
   "execution_count": 24,
   "metadata": {},
   "outputs": [
    {
     "name": "stdout",
     "output_type": "stream",
     "text": [
      "\u001b[32mSaved Visualization to: ./Qiime_input_data/kuT2T_WIS/deicode_biplot_WashU_PT.qzv\u001b[0m\r\n",
      "\u001b[0m"
     ]
    }
   ],
   "source": [
    "!qiime emperor biplot \\\n",
    "    --i-biplot ./Qiime_input_data/kuT2T_WIS/deicode_ordination_WashU_PT.qza \\\n",
    "    --m-sample-metadata-file ./Qiime_input_data/kuT2T_WIS/metaData_WashU_PT.txt \\\n",
    "    --m-feature-metadata-file kuTaxonomy.qza \\\n",
    "    --o-visualization ./Qiime_input_data/kuT2T_WIS/deicode_biplot_WashU_PT.qzv \\\n",
    "    --p-number-of-features 1"
   ]
  },
  {
   "cell_type": "code",
   "execution_count": 25,
   "metadata": {},
   "outputs": [
    {
     "name": "stdout",
     "output_type": "stream",
     "text": [
      "\u001b[32mSaved Visualization to: ./Qiime_input_data/kuT2T_WIS/deicode_adonis_WashU_PT.qzv\u001b[0m\r\n",
      "\u001b[0m"
     ]
    }
   ],
   "source": [
    "!qiime diversity adonis \\\n",
    "    --i-distance-matrix ./Qiime_input_data/kuT2T_WIS/deicode_distance_WashU_PT.qza \\\n",
    "    --m-metadata-file ./Qiime_input_data/kuT2T_WIS/metaData_WashU_PT.txt \\\n",
    "    --p-formula \"investigation\" \\\n",
    "    --p-n-jobs 8 \\\n",
    "    --o-visualization ./Qiime_input_data/kuT2T_WIS/deicode_adonis_WashU_PT.qzv"
   ]
  },
  {
   "cell_type": "markdown",
   "metadata": {},
   "source": [
    "### Broad Institute WGS (Broad_WGS)"
   ]
  },
  {
   "cell_type": "code",
   "execution_count": 26,
   "metadata": {},
   "outputs": [
    {
     "name": "stdout",
     "output_type": "stream",
     "text": [
      "\u001b[32mSaved PCoAResults % Properties('biplot') to: ./Qiime_input_data/kuT2T_WIS/deicode_ordination_Broad_WGS_PT.qza\u001b[0m\n",
      "\u001b[32mSaved DistanceMatrix to: ./Qiime_input_data/kuT2T_WIS/deicode_distance_Broad_WGS_PT.qza\u001b[0m\n",
      "\u001b[0m"
     ]
    }
   ],
   "source": [
    "!qiime deicode rpca \\\n",
    "    --i-table ./Qiime_input_data/kuT2T_WIS/countData_Broad_WGS_PT.qza \\\n",
    "    --o-biplot ./Qiime_input_data/kuT2T_WIS/deicode_ordination_Broad_WGS_PT.qza \\\n",
    "    --p-min-sample-count 100 \\\n",
    "    --o-distance-matrix ./Qiime_input_data/kuT2T_WIS/deicode_distance_Broad_WGS_PT.qza"
   ]
  },
  {
   "cell_type": "code",
   "execution_count": 27,
   "metadata": {},
   "outputs": [
    {
     "name": "stdout",
     "output_type": "stream",
     "text": [
      "\u001b[32mSaved Visualization to: ./Qiime_input_data/kuT2T_WIS/deicode_biplot_Broad_WGS_PT.qzv\u001b[0m\n",
      "\u001b[0m"
     ]
    }
   ],
   "source": [
    "!qiime emperor biplot \\\n",
    "    --i-biplot ./Qiime_input_data/kuT2T_WIS/deicode_ordination_Broad_WGS_PT.qza \\\n",
    "    --m-sample-metadata-file ./Qiime_input_data/kuT2T_WIS/metaData_Broad_WGS_PT.txt \\\n",
    "    --m-feature-metadata-file kuTaxonomy.qza \\\n",
    "    --o-visualization ./Qiime_input_data/kuT2T_WIS/deicode_biplot_Broad_WGS_PT.qzv \\\n",
    "    --p-number-of-features 1"
   ]
  },
  {
   "cell_type": "code",
   "execution_count": 28,
   "metadata": {},
   "outputs": [
    {
     "name": "stdout",
     "output_type": "stream",
     "text": [
      "\u001b[32mSaved Visualization to: ./Qiime_input_data/kuT2T_WIS/deicode_adonis_Broad_WGS_PT.qzv\u001b[0m\r\n",
      "\u001b[0m"
     ]
    }
   ],
   "source": [
    "!qiime diversity adonis \\\n",
    "    --i-distance-matrix ./Qiime_input_data/kuT2T_WIS/deicode_distance_Broad_WGS_PT.qza \\\n",
    "    --m-metadata-file ./Qiime_input_data/kuT2T_WIS/metaData_Broad_WGS_PT.txt \\\n",
    "    --p-formula \"investigation\" \\\n",
    "    --p-n-jobs 8 \\\n",
    "    --o-visualization ./Qiime_input_data/kuT2T_WIS/deicode_adonis_Broad_WGS_PT.qzv"
   ]
  },
  {
   "cell_type": "markdown",
   "metadata": {},
   "source": [
    "### University of North Carolina (UNC)\n",
    "Note: Filt7575 data only has KIRC -- so cannot compute cancer type specificity with adonis"
   ]
  },
  {
   "cell_type": "code",
   "execution_count": 29,
   "metadata": {},
   "outputs": [
    {
     "name": "stdout",
     "output_type": "stream",
     "text": [
      "\u001b[32mSaved PCoAResults % Properties('biplot') to: ./Qiime_input_data/kuT2T_WIS/deicode_ordination_UNC_PT.qza\u001b[0m\n",
      "\u001b[32mSaved DistanceMatrix to: ./Qiime_input_data/kuT2T_WIS/deicode_distance_UNC_PT.qza\u001b[0m\n",
      "\u001b[0m"
     ]
    }
   ],
   "source": [
    "!qiime deicode rpca \\\n",
    "    --i-table ./Qiime_input_data/kuT2T_WIS/countData_UNC_PT.qza \\\n",
    "    --o-biplot ./Qiime_input_data/kuT2T_WIS/deicode_ordination_UNC_PT.qza \\\n",
    "    --p-min-sample-count 25 \\\n",
    "    --o-distance-matrix ./Qiime_input_data/kuT2T_WIS/deicode_distance_UNC_PT.qza"
   ]
  },
  {
   "cell_type": "code",
   "execution_count": 30,
   "metadata": {},
   "outputs": [
    {
     "name": "stdout",
     "output_type": "stream",
     "text": [
      "\u001b[32mSaved Visualization to: ./Qiime_input_data/kuT2T_WIS/deicode_biplot_UNC_PT.qzv\u001b[0m\r\n",
      "\u001b[0m"
     ]
    }
   ],
   "source": [
    "!qiime emperor biplot \\\n",
    "    --i-biplot ./Qiime_input_data/kuT2T_WIS/deicode_ordination_UNC_PT.qza \\\n",
    "    --m-sample-metadata-file ./Qiime_input_data/kuT2T_WIS/metaData_UNC_PT.txt \\\n",
    "    --m-feature-metadata-file kuTaxonomy.qza \\\n",
    "    --o-visualization ./Qiime_input_data/kuT2T_WIS/deicode_biplot_UNC_PT.qzv \\\n",
    "    --p-number-of-features 1"
   ]
  },
  {
   "cell_type": "code",
   "execution_count": 31,
   "metadata": {},
   "outputs": [
    {
     "name": "stdout",
     "output_type": "stream",
     "text": [
      "Running external command line application. This may print messages to stdout and/or stderr.\n",
      "The command being run is below. This command cannot be manually re-run as it will depend on temporary files that no longer exist.\n",
      "\n",
      "Command: run_adonis.R /var/folders/db/18t2_m7d13l30r8qj875qdm80000gn/T/tmpodqq9bac/dm.tsv /var/folders/db/18t2_m7d13l30r8qj875qdm80000gn/T/tmpodqq9bac/md.tsv investigation 999 8 /var/folders/db/18t2_m7d13l30r8qj875qdm80000gn/T/qiime2-temp-h4aroplk/adonis.tsv\n",
      "\n",
      "R version 4.1.3 (2022-03-10) \n",
      "Loading required package: permute\n",
      "Loading required package: lattice\n",
      "This is vegan 2.6-2\n",
      "'adonis' will be deprecated: use 'adonis2' instead\n",
      "\u001b[32mSaved Visualization to: ./Qiime_input_data/kuT2T_WIS/deicode_adonis_UNC_PT.qzv\u001b[0m\n",
      "\u001b[0m"
     ]
    }
   ],
   "source": [
    "!qiime diversity adonis \\\n",
    "    --i-distance-matrix ./Qiime_input_data/kuT2T_WIS/deicode_distance_UNC_PT.qza \\\n",
    "    --m-metadata-file ./Qiime_input_data/kuT2T_WIS/metaData_UNC_PT.txt \\\n",
    "    --p-formula \"investigation\" \\\n",
    "    --p-n-jobs 8 \\\n",
    "    --verbose \\\n",
    "    --o-visualization ./Qiime_input_data/kuT2T_WIS/deicode_adonis_UNC_PT.qzv"
   ]
  },
  {
   "cell_type": "markdown",
   "metadata": {},
   "source": [
    "### Canada's Michael Smith Genome Sciences Centre (CMS)"
   ]
  },
  {
   "cell_type": "code",
   "execution_count": 32,
   "metadata": {},
   "outputs": [
    {
     "name": "stdout",
     "output_type": "stream",
     "text": [
      "\u001b[32mSaved PCoAResults % Properties('biplot') to: ./Qiime_input_data/kuT2T_WIS/deicode_ordination_CMS_PT.qza\u001b[0m\n",
      "\u001b[32mSaved DistanceMatrix to: ./Qiime_input_data/kuT2T_WIS/deicode_distance_CMS_PT.qza\u001b[0m\n",
      "\u001b[0m"
     ]
    }
   ],
   "source": [
    "!qiime deicode rpca \\\n",
    "    --i-table ./Qiime_input_data/kuT2T_WIS/countData_CMS_PT.qza \\\n",
    "    --o-biplot ./Qiime_input_data/kuT2T_WIS/deicode_ordination_CMS_PT.qza \\\n",
    "    --p-min-sample-count 100 \\\n",
    "    --o-distance-matrix ./Qiime_input_data/kuT2T_WIS/deicode_distance_CMS_PT.qza"
   ]
  },
  {
   "cell_type": "code",
   "execution_count": 33,
   "metadata": {},
   "outputs": [
    {
     "name": "stdout",
     "output_type": "stream",
     "text": [
      "\u001b[32mSaved Visualization to: ./Qiime_input_data/kuT2T_WIS/deicode_biplot_CMS_PT.qzv\u001b[0m\n",
      "\u001b[0m"
     ]
    }
   ],
   "source": [
    "!qiime emperor biplot \\\n",
    "    --i-biplot ./Qiime_input_data/kuT2T_WIS/deicode_ordination_CMS_PT.qza \\\n",
    "    --m-sample-metadata-file ./Qiime_input_data/kuT2T_WIS/metaData_CMS_PT.txt \\\n",
    "    --m-feature-metadata-file kuTaxonomy.qza \\\n",
    "    --o-visualization ./Qiime_input_data/kuT2T_WIS/deicode_biplot_CMS_PT.qzv \\\n",
    "    --p-number-of-features 1"
   ]
  },
  {
   "cell_type": "code",
   "execution_count": 34,
   "metadata": {},
   "outputs": [
    {
     "name": "stdout",
     "output_type": "stream",
     "text": [
      "\u001b[32mSaved Visualization to: ./Qiime_input_data/kuT2T_WIS/deicode_adonis_CMS_PT.qzv\u001b[0m\r\n",
      "\u001b[0m"
     ]
    }
   ],
   "source": [
    "!qiime diversity adonis \\\n",
    "    --i-distance-matrix ./Qiime_input_data/kuT2T_WIS/deicode_distance_CMS_PT.qza \\\n",
    "    --m-metadata-file ./Qiime_input_data/kuT2T_WIS/metaData_CMS_PT.txt \\\n",
    "    --p-formula \"investigation\" \\\n",
    "    --p-n-jobs 8 \\\n",
    "    --o-visualization ./Qiime_input_data/kuT2T_WIS/deicode_adonis_CMS_PT.qzv"
   ]
  },
  {
   "cell_type": "markdown",
   "metadata": {},
   "source": [
    "# Deicode for BDN (beta diversity that does not require rarefaction)\n",
    "\n",
    "Martino et al. 2019. mSystems. See the following links:\n",
    "- https://journals.asm.org/doi/10.1128/mSystems.00016-19\n",
    "- https://forum.qiime2.org/t/robust-aitchison-pca-beta-diversity-with-deicode/8333"
   ]
  },
  {
   "cell_type": "markdown",
   "metadata": {},
   "source": [
    "### Harvard Medical School (HMS)"
   ]
  },
  {
   "cell_type": "code",
   "execution_count": 35,
   "metadata": {},
   "outputs": [
    {
     "name": "stdout",
     "output_type": "stream",
     "text": [
      "\u001b[32mSaved PCoAResults % Properties('biplot') to: ./Qiime_input_data/kuT2T_WIS/deicode_ordination_HMS_BDN.qza\u001b[0m\n",
      "\u001b[32mSaved DistanceMatrix to: ./Qiime_input_data/kuT2T_WIS/deicode_distance_HMS_BDN.qza\u001b[0m\n",
      "\u001b[0m"
     ]
    }
   ],
   "source": [
    "!qiime deicode rpca \\\n",
    "    --i-table ./Qiime_input_data/kuT2T_WIS/countData_HMS_BDN.qza \\\n",
    "    --o-biplot ./Qiime_input_data/kuT2T_WIS/deicode_ordination_HMS_BDN.qza \\\n",
    "    --p-min-sample-count 100 \\\n",
    "    --o-distance-matrix ./Qiime_input_data/kuT2T_WIS/deicode_distance_HMS_BDN.qza"
   ]
  },
  {
   "cell_type": "code",
   "execution_count": 36,
   "metadata": {},
   "outputs": [
    {
     "name": "stdout",
     "output_type": "stream",
     "text": [
      "\u001b[32mSaved Visualization to: ./Qiime_input_data/kuT2T_WIS/deicode_biplot_HMS_BDN.qzv\u001b[0m\n",
      "\u001b[0m"
     ]
    }
   ],
   "source": [
    "!qiime emperor biplot \\\n",
    "    --i-biplot ./Qiime_input_data/kuT2T_WIS/deicode_ordination_HMS_BDN.qza \\\n",
    "    --m-sample-metadata-file ./Qiime_input_data/kuT2T_WIS/metaData_HMS_BDN.txt \\\n",
    "    --m-feature-metadata-file kuTaxonomy.qza \\\n",
    "    --o-visualization ./Qiime_input_data/kuT2T_WIS/deicode_biplot_HMS_BDN.qzv \\\n",
    "    --p-number-of-features 1"
   ]
  },
  {
   "cell_type": "code",
   "execution_count": 37,
   "metadata": {},
   "outputs": [
    {
     "name": "stdout",
     "output_type": "stream",
     "text": [
      "\u001b[32mSaved Visualization to: ./Qiime_input_data/kuT2T_WIS/deicode_adonis_HMS_BDN.qzv\u001b[0m\r\n",
      "\u001b[0m"
     ]
    }
   ],
   "source": [
    "!qiime diversity adonis \\\n",
    "    --i-distance-matrix ./Qiime_input_data/kuT2T_WIS/deicode_distance_HMS_BDN.qza \\\n",
    "    --m-metadata-file ./Qiime_input_data/kuT2T_WIS/metaData_HMS_BDN.txt \\\n",
    "    --p-formula \"investigation\" \\\n",
    "    --p-n-jobs 8 \\\n",
    "    --o-visualization ./Qiime_input_data/kuT2T_WIS/deicode_adonis_HMS_BDN.qzv"
   ]
  },
  {
   "cell_type": "markdown",
   "metadata": {},
   "source": [
    "### Baylor College of Medicine (BCM)"
   ]
  },
  {
   "cell_type": "code",
   "execution_count": 38,
   "metadata": {},
   "outputs": [
    {
     "name": "stdout",
     "output_type": "stream",
     "text": [
      "\u001b[32mSaved PCoAResults % Properties('biplot') to: ./Qiime_input_data/kuT2T_WIS/deicode_ordination_BCM_BDN.qza\u001b[0m\n",
      "\u001b[32mSaved DistanceMatrix to: ./Qiime_input_data/kuT2T_WIS/deicode_distance_BCM_BDN.qza\u001b[0m\n",
      "\u001b[0m"
     ]
    }
   ],
   "source": [
    "!qiime deicode rpca \\\n",
    "    --i-table ./Qiime_input_data/kuT2T_WIS/countData_BCM_BDN.qza \\\n",
    "    --o-biplot ./Qiime_input_data/kuT2T_WIS/deicode_ordination_BCM_BDN.qza \\\n",
    "    --p-min-sample-count 100 \\\n",
    "    --o-distance-matrix ./Qiime_input_data/kuT2T_WIS/deicode_distance_BCM_BDN.qza"
   ]
  },
  {
   "cell_type": "code",
   "execution_count": 39,
   "metadata": {},
   "outputs": [
    {
     "name": "stdout",
     "output_type": "stream",
     "text": [
      "\u001b[32mSaved Visualization to: ./Qiime_input_data/kuT2T_WIS/deicode_biplot_BCM_BDN.qzv\u001b[0m\r\n",
      "\u001b[0m"
     ]
    }
   ],
   "source": [
    "!qiime emperor biplot \\\n",
    "    --i-biplot ./Qiime_input_data/kuT2T_WIS/deicode_ordination_BCM_BDN.qza \\\n",
    "    --m-sample-metadata-file ./Qiime_input_data/kuT2T_WIS/metaData_BCM_BDN.txt \\\n",
    "    --m-feature-metadata-file kuTaxonomy.qza \\\n",
    "    --o-visualization ./Qiime_input_data/kuT2T_WIS/deicode_biplot_BCM_BDN.qzv \\\n",
    "    --p-number-of-features 1"
   ]
  },
  {
   "cell_type": "code",
   "execution_count": 40,
   "metadata": {},
   "outputs": [
    {
     "name": "stdout",
     "output_type": "stream",
     "text": [
      "\u001b[32mSaved Visualization to: ./Qiime_input_data/kuT2T_WIS/deicode_adonis_BCM_BDN.qzv\u001b[0m\r\n",
      "\u001b[0m"
     ]
    }
   ],
   "source": [
    "!qiime diversity adonis \\\n",
    "    --i-distance-matrix ./Qiime_input_data/kuT2T_WIS/deicode_distance_BCM_BDN.qza \\\n",
    "    --m-metadata-file ./Qiime_input_data/kuT2T_WIS/metaData_BCM_BDN.txt \\\n",
    "    --p-formula \"investigation\" \\\n",
    "    --p-n-jobs 8 \\\n",
    "    --o-visualization ./Qiime_input_data/kuT2T_WIS/deicode_adonis_BCM_BDN.qzv"
   ]
  },
  {
   "cell_type": "markdown",
   "metadata": {},
   "source": [
    "### MD Anderson (MDA)"
   ]
  },
  {
   "cell_type": "code",
   "execution_count": 41,
   "metadata": {},
   "outputs": [
    {
     "name": "stdout",
     "output_type": "stream",
     "text": [
      "\u001b[32mSaved PCoAResults % Properties('biplot') to: ./Qiime_input_data/kuT2T_WIS/deicode_ordination_MDA_BDN.qza\u001b[0m\r\n",
      "\u001b[32mSaved DistanceMatrix to: ./Qiime_input_data/kuT2T_WIS/deicode_distance_MDA_BDN.qza\u001b[0m\r\n",
      "\u001b[0m"
     ]
    }
   ],
   "source": [
    "!qiime deicode rpca \\\n",
    "    --i-table ./Qiime_input_data/kuT2T_WIS/countData_MDA_BDN.qza \\\n",
    "    --o-biplot ./Qiime_input_data/kuT2T_WIS/deicode_ordination_MDA_BDN.qza \\\n",
    "    --p-min-sample-count 25 \\\n",
    "    --o-distance-matrix ./Qiime_input_data/kuT2T_WIS/deicode_distance_MDA_BDN.qza"
   ]
  },
  {
   "cell_type": "code",
   "execution_count": 42,
   "metadata": {},
   "outputs": [
    {
     "name": "stdout",
     "output_type": "stream",
     "text": [
      "\u001b[32mSaved Visualization to: ./Qiime_input_data/kuT2T_WIS/deicode_biplot_MDA_BDN.qzv\u001b[0m\r\n",
      "\u001b[0m"
     ]
    }
   ],
   "source": [
    "!qiime emperor biplot \\\n",
    "    --i-biplot ./Qiime_input_data/kuT2T_WIS/deicode_ordination_MDA_BDN.qza \\\n",
    "    --m-sample-metadata-file ./Qiime_input_data/kuT2T_WIS/metaData_MDA_BDN.txt \\\n",
    "    --m-feature-metadata-file kuTaxonomy.qza \\\n",
    "    --o-visualization ./Qiime_input_data/kuT2T_WIS/deicode_biplot_MDA_BDN.qzv \\\n",
    "    --p-number-of-features 1"
   ]
  },
  {
   "cell_type": "code",
   "execution_count": 43,
   "metadata": {},
   "outputs": [
    {
     "name": "stdout",
     "output_type": "stream",
     "text": [
      "\u001b[32mSaved Visualization to: ./Qiime_input_data/kuT2T_WIS/deicode_adonis_MDA_BDN.qzv\u001b[0m\r\n",
      "\u001b[0m"
     ]
    }
   ],
   "source": [
    "!qiime diversity adonis \\\n",
    "    --i-distance-matrix ./Qiime_input_data/kuT2T_WIS/deicode_distance_MDA_BDN.qza \\\n",
    "    --m-metadata-file ./Qiime_input_data/kuT2T_WIS/metaData_MDA_BDN.txt \\\n",
    "    --p-formula \"investigation\" \\\n",
    "    --p-n-jobs 8 \\\n",
    "    --o-visualization ./Qiime_input_data/kuT2T_WIS/deicode_adonis_MDA_BDN.qzv"
   ]
  },
  {
   "cell_type": "markdown",
   "metadata": {},
   "source": [
    "### Washington University (WashU)"
   ]
  },
  {
   "cell_type": "code",
   "execution_count": 44,
   "metadata": {},
   "outputs": [
    {
     "name": "stdout",
     "output_type": "stream",
     "text": [
      "\u001b[32mSaved PCoAResults % Properties('biplot') to: ./Qiime_input_data/kuT2T_WIS/deicode_ordination_WashU_BDN.qza\u001b[0m\n",
      "\u001b[32mSaved DistanceMatrix to: ./Qiime_input_data/kuT2T_WIS/deicode_distance_WashU_BDN.qza\u001b[0m\n",
      "\u001b[0m"
     ]
    }
   ],
   "source": [
    "!qiime deicode rpca \\\n",
    "    --i-table ./Qiime_input_data/kuT2T_WIS/countData_WashU_BDN.qza \\\n",
    "    --o-biplot ./Qiime_input_data/kuT2T_WIS/deicode_ordination_WashU_BDN.qza \\\n",
    "    --p-min-sample-count 100 \\\n",
    "    --o-distance-matrix ./Qiime_input_data/kuT2T_WIS/deicode_distance_WashU_BDN.qza"
   ]
  },
  {
   "cell_type": "code",
   "execution_count": 45,
   "metadata": {},
   "outputs": [
    {
     "name": "stdout",
     "output_type": "stream",
     "text": [
      "\u001b[32mSaved Visualization to: ./Qiime_input_data/kuT2T_WIS/deicode_biplot_WashU_BDN.qzv\u001b[0m\r\n",
      "\u001b[0m"
     ]
    }
   ],
   "source": [
    "!qiime emperor biplot \\\n",
    "    --i-biplot ./Qiime_input_data/kuT2T_WIS/deicode_ordination_WashU_BDN.qza \\\n",
    "    --m-sample-metadata-file ./Qiime_input_data/kuT2T_WIS/metaData_WashU_BDN.txt \\\n",
    "    --m-feature-metadata-file kuTaxonomy.qza \\\n",
    "    --o-visualization ./Qiime_input_data/kuT2T_WIS/deicode_biplot_WashU_BDN.qzv \\\n",
    "    --p-number-of-features 1"
   ]
  },
  {
   "cell_type": "code",
   "execution_count": 46,
   "metadata": {},
   "outputs": [
    {
     "name": "stdout",
     "output_type": "stream",
     "text": [
      "\u001b[32mSaved Visualization to: ./Qiime_input_data/kuT2T_WIS/deicode_adonis_WashU_BDN.qzv\u001b[0m\r\n",
      "\u001b[0m"
     ]
    }
   ],
   "source": [
    "!qiime diversity adonis \\\n",
    "    --i-distance-matrix ./Qiime_input_data/kuT2T_WIS/deicode_distance_WashU_BDN.qza \\\n",
    "    --m-metadata-file ./Qiime_input_data/kuT2T_WIS/metaData_WashU_BDN.txt \\\n",
    "    --p-formula \"investigation\" \\\n",
    "    --p-n-jobs 8 \\\n",
    "    --o-visualization ./Qiime_input_data/kuT2T_WIS/deicode_adonis_WashU_BDN.qzv"
   ]
  },
  {
   "cell_type": "markdown",
   "metadata": {},
   "source": [
    "### Broad Institute WGS (Broad_WGS)"
   ]
  },
  {
   "cell_type": "code",
   "execution_count": 47,
   "metadata": {},
   "outputs": [
    {
     "name": "stdout",
     "output_type": "stream",
     "text": [
      "\u001b[32mSaved PCoAResults % Properties('biplot') to: ./Qiime_input_data/kuT2T_WIS/deicode_ordination_Broad_WGS_BDN.qza\u001b[0m\n",
      "\u001b[32mSaved DistanceMatrix to: ./Qiime_input_data/kuT2T_WIS/deicode_distance_Broad_WGS_BDN.qza\u001b[0m\n",
      "\u001b[0m"
     ]
    }
   ],
   "source": [
    "!qiime deicode rpca \\\n",
    "    --i-table ./Qiime_input_data/kuT2T_WIS/countData_Broad_WGS_BDN.qza \\\n",
    "    --o-biplot ./Qiime_input_data/kuT2T_WIS/deicode_ordination_Broad_WGS_BDN.qza \\\n",
    "    --p-min-sample-count 100 \\\n",
    "    --o-distance-matrix ./Qiime_input_data/kuT2T_WIS/deicode_distance_Broad_WGS_BDN.qza"
   ]
  },
  {
   "cell_type": "code",
   "execution_count": 48,
   "metadata": {},
   "outputs": [
    {
     "name": "stdout",
     "output_type": "stream",
     "text": [
      "\u001b[32mSaved Visualization to: ./Qiime_input_data/kuT2T_WIS/deicode_biplot_Broad_WGS_BDN.qzv\u001b[0m\r\n",
      "\u001b[0m"
     ]
    }
   ],
   "source": [
    "!qiime emperor biplot \\\n",
    "    --i-biplot ./Qiime_input_data/kuT2T_WIS/deicode_ordination_Broad_WGS_BDN.qza \\\n",
    "    --m-sample-metadata-file ./Qiime_input_data/kuT2T_WIS/metaData_Broad_WGS_BDN.txt \\\n",
    "    --m-feature-metadata-file kuTaxonomy.qza \\\n",
    "    --o-visualization ./Qiime_input_data/kuT2T_WIS/deicode_biplot_Broad_WGS_BDN.qzv \\\n",
    "    --p-number-of-features 1"
   ]
  },
  {
   "cell_type": "code",
   "execution_count": 49,
   "metadata": {},
   "outputs": [
    {
     "name": "stdout",
     "output_type": "stream",
     "text": [
      "\u001b[32mSaved Visualization to: ./Qiime_input_data/kuT2T_WIS/deicode_adonis_Broad_WGS_BDN.qzv\u001b[0m\n",
      "\u001b[0m"
     ]
    }
   ],
   "source": [
    "!qiime diversity adonis \\\n",
    "    --i-distance-matrix ./Qiime_input_data/kuT2T_WIS/deicode_distance_Broad_WGS_BDN.qza \\\n",
    "    --m-metadata-file ./Qiime_input_data/kuT2T_WIS/metaData_Broad_WGS_BDN.txt \\\n",
    "    --p-formula \"investigation\" \\\n",
    "    --p-n-jobs 8 \\\n",
    "    --o-visualization ./Qiime_input_data/kuT2T_WIS/deicode_adonis_Broad_WGS_BDN.qzv"
   ]
  },
  {
   "cell_type": "markdown",
   "metadata": {},
   "source": [
    "# Qiime 2 Core Metrics - PT\n",
    "Note: Since beta diversity was calculated above using DEICODE above, we are mostly interested in the alpha diversity results."
   ]
  },
  {
   "cell_type": "markdown",
   "metadata": {},
   "source": [
    "### Harvard Medical School (HMS)\n",
    "Note the following sample read distribution from R:\n",
    "```\n",
    "[1] \"HMS\"\n",
    "     Min.   1st Qu.    Median      Mean   3rd Qu.      Max. \n",
    "      1.0      98.0     220.0   14477.3     960.8 1779202.0\n",
    "```"
   ]
  },
  {
   "cell_type": "code",
   "execution_count": 50,
   "metadata": {},
   "outputs": [
    {
     "name": "stdout",
     "output_type": "stream",
     "text": [
      "\u001b[32mSaved FeatureTable[Frequency] to: ./core_metrics/kuT2T_WIS/pt_hms_R100/rarefied_table.qza\u001b[0m\n",
      "\u001b[32mSaved SampleData[AlphaDiversity] to: ./core_metrics/kuT2T_WIS/pt_hms_R100/observed_features_vector.qza\u001b[0m\n",
      "\u001b[32mSaved SampleData[AlphaDiversity] to: ./core_metrics/kuT2T_WIS/pt_hms_R100/shannon_vector.qza\u001b[0m\n",
      "\u001b[32mSaved SampleData[AlphaDiversity] to: ./core_metrics/kuT2T_WIS/pt_hms_R100/evenness_vector.qza\u001b[0m\n",
      "\u001b[32mSaved DistanceMatrix to: ./core_metrics/kuT2T_WIS/pt_hms_R100/jaccard_distance_matrix.qza\u001b[0m\n",
      "\u001b[32mSaved DistanceMatrix to: ./core_metrics/kuT2T_WIS/pt_hms_R100/bray_curtis_distance_matrix.qza\u001b[0m\n",
      "\u001b[32mSaved PCoAResults to: ./core_metrics/kuT2T_WIS/pt_hms_R100/jaccard_pcoa_results.qza\u001b[0m\n",
      "\u001b[32mSaved PCoAResults to: ./core_metrics/kuT2T_WIS/pt_hms_R100/bray_curtis_pcoa_results.qza\u001b[0m\n",
      "\u001b[32mSaved Visualization to: ./core_metrics/kuT2T_WIS/pt_hms_R100/jaccard_emperor.qzv\u001b[0m\n",
      "\u001b[32mSaved Visualization to: ./core_metrics/kuT2T_WIS/pt_hms_R100/bray_curtis_emperor.qzv\u001b[0m\n",
      "\u001b[0m"
     ]
    }
   ],
   "source": [
    "!qiime diversity core-metrics \\\n",
    "--i-table ./Qiime_input_data/kuT2T_WIS/countData_HMS_PT.qza \\\n",
    "--p-sampling-depth 100 \\\n",
    "--m-metadata-file ./Qiime_input_data/kuT2T_WIS/metaData_HMS_PT.txt \\\n",
    "--output-dir ./core_metrics/kuT2T_WIS/pt_hms_R100/"
   ]
  },
  {
   "cell_type": "code",
   "execution_count": 51,
   "metadata": {},
   "outputs": [
    {
     "name": "stdout",
     "output_type": "stream",
     "text": [
      "\u001b[32mSaved Visualization to: ./core_metrics/kuT2T_WIS/pt_hms_R100/observed_features_vector_significance.qzv\u001b[0m\n",
      "\u001b[0m\u001b[32mSaved Visualization to: ./core_metrics/kuT2T_WIS/pt_hms_R100/shannon_vector_significance.qzv\u001b[0m\n",
      "\u001b[0m"
     ]
    }
   ],
   "source": [
    "!qiime diversity alpha-group-significance \\\n",
    "--i-alpha-diversity ./core_metrics/kuT2T_WIS/pt_hms_R100/observed_features_vector.qza \\\n",
    "--m-metadata-file ./Qiime_input_data/kuT2T_WIS/metaData_HMS_PT.txt \\\n",
    "--o-visualization ./core_metrics/kuT2T_WIS/pt_hms_R100/observed_features_vector_significance.qzv\n",
    "\n",
    "!qiime diversity alpha-group-significance \\\n",
    "--i-alpha-diversity ./core_metrics/kuT2T_WIS/pt_hms_R100/shannon_vector.qza \\\n",
    "--m-metadata-file ./Qiime_input_data/kuT2T_WIS/metaData_HMS_PT.txt \\\n",
    "--o-visualization ./core_metrics/kuT2T_WIS/pt_hms_R100/shannon_vector_significance.qzv"
   ]
  },
  {
   "cell_type": "code",
   "execution_count": 52,
   "metadata": {},
   "outputs": [
    {
     "name": "stdout",
     "output_type": "stream",
     "text": [
      "\u001b[32mSaved Visualization to: ./core_metrics/kuT2T_WIS/pt_hms_R100/jaccard_distance_matrix_significance.qzv\u001b[0m\n",
      "\u001b[0m\u001b[32mSaved Visualization to: ./core_metrics/kuT2T_WIS/pt_hms_R100/bray_curtis_distance_matrix_significance.qzv\u001b[0m\n",
      "\u001b[0m"
     ]
    }
   ],
   "source": [
    "!qiime diversity beta-group-significance \\\n",
    "--i-distance-matrix ./core_metrics/kuT2T_WIS/pt_hms_R100/jaccard_distance_matrix.qza \\\n",
    "--m-metadata-file ./Qiime_input_data/kuT2T_WIS/metaData_HMS_PT.txt \\\n",
    "--m-metadata-column investigation \\\n",
    "--o-visualization ./core_metrics/kuT2T_WIS/pt_hms_R100/jaccard_distance_matrix_significance.qzv\n",
    "\n",
    "!qiime diversity beta-group-significance \\\n",
    "--i-distance-matrix ./core_metrics/kuT2T_WIS/pt_hms_R100/bray_curtis_distance_matrix.qza \\\n",
    "--m-metadata-file ./Qiime_input_data/kuT2T_WIS/metaData_HMS_PT.txt \\\n",
    "--m-metadata-column investigation \\\n",
    "--o-visualization ./core_metrics/kuT2T_WIS/pt_hms_R100/bray_curtis_distance_matrix_significance.qzv"
   ]
  },
  {
   "cell_type": "markdown",
   "metadata": {},
   "source": [
    "### Baylor College of Medicine (BCM)\n",
    "Note the following sample read distribution from R:\n",
    "```\n",
    "[1] \"BCM\"\n",
    "   Min. 1st Qu.  Median    Mean 3rd Qu.    Max. \n",
    "    679    2645    4344   97555   24374 9843874 \n",
    "```"
   ]
  },
  {
   "cell_type": "code",
   "execution_count": 53,
   "metadata": {},
   "outputs": [
    {
     "name": "stdout",
     "output_type": "stream",
     "text": [
      "\u001b[32mSaved FeatureTable[Frequency] to: ./core_metrics/kuT2T_WIS/pt_bcm_R2600/rarefied_table.qza\u001b[0m\n",
      "\u001b[32mSaved SampleData[AlphaDiversity] to: ./core_metrics/kuT2T_WIS/pt_bcm_R2600/observed_features_vector.qza\u001b[0m\n",
      "\u001b[32mSaved SampleData[AlphaDiversity] to: ./core_metrics/kuT2T_WIS/pt_bcm_R2600/shannon_vector.qza\u001b[0m\n",
      "\u001b[32mSaved SampleData[AlphaDiversity] to: ./core_metrics/kuT2T_WIS/pt_bcm_R2600/evenness_vector.qza\u001b[0m\n",
      "\u001b[32mSaved DistanceMatrix to: ./core_metrics/kuT2T_WIS/pt_bcm_R2600/jaccard_distance_matrix.qza\u001b[0m\n",
      "\u001b[32mSaved DistanceMatrix to: ./core_metrics/kuT2T_WIS/pt_bcm_R2600/bray_curtis_distance_matrix.qza\u001b[0m\n",
      "\u001b[32mSaved PCoAResults to: ./core_metrics/kuT2T_WIS/pt_bcm_R2600/jaccard_pcoa_results.qza\u001b[0m\n",
      "\u001b[32mSaved PCoAResults to: ./core_metrics/kuT2T_WIS/pt_bcm_R2600/bray_curtis_pcoa_results.qza\u001b[0m\n",
      "\u001b[32mSaved Visualization to: ./core_metrics/kuT2T_WIS/pt_bcm_R2600/jaccard_emperor.qzv\u001b[0m\n",
      "\u001b[32mSaved Visualization to: ./core_metrics/kuT2T_WIS/pt_bcm_R2600/bray_curtis_emperor.qzv\u001b[0m\n",
      "\u001b[0m"
     ]
    }
   ],
   "source": [
    "!qiime diversity core-metrics \\\n",
    "--i-table ./Qiime_input_data/kuT2T_WIS/countData_BCM_PT.qza \\\n",
    "--p-sampling-depth 2600 \\\n",
    "--m-metadata-file ./Qiime_input_data/kuT2T_WIS/metaData_BCM_PT.txt \\\n",
    "--output-dir ./core_metrics/kuT2T_WIS/pt_bcm_R2600"
   ]
  },
  {
   "cell_type": "code",
   "execution_count": 54,
   "metadata": {},
   "outputs": [
    {
     "name": "stdout",
     "output_type": "stream",
     "text": [
      "\u001b[32mSaved Visualization to: ./core_metrics/kuT2T_WIS/pt_bcm_R2600/observed_features_vector_significance.qzv\u001b[0m\n",
      "\u001b[0m\u001b[32mSaved Visualization to: ./core_metrics/kuT2T_WIS/pt_bcm_R2600/shannon_vector_significance.qzv\u001b[0m\n",
      "\u001b[0m"
     ]
    }
   ],
   "source": [
    "!qiime diversity alpha-group-significance \\\n",
    "--i-alpha-diversity ./core_metrics/kuT2T_WIS/pt_bcm_R2600/observed_features_vector.qza \\\n",
    "--m-metadata-file ./Qiime_input_data/kuT2T_WIS/metaData_BCM_PT.txt \\\n",
    "--o-visualization ./core_metrics/kuT2T_WIS/pt_bcm_R2600/observed_features_vector_significance.qzv\n",
    "\n",
    "!qiime diversity alpha-group-significance \\\n",
    "--i-alpha-diversity ./core_metrics/kuT2T_WIS/pt_bcm_R2600/shannon_vector.qza \\\n",
    "--m-metadata-file ./Qiime_input_data/kuT2T_WIS/metaData_BCM_PT.txt \\\n",
    "--o-visualization ./core_metrics/kuT2T_WIS/pt_bcm_R2600/shannon_vector_significance.qzv"
   ]
  },
  {
   "cell_type": "code",
   "execution_count": 55,
   "metadata": {},
   "outputs": [
    {
     "name": "stdout",
     "output_type": "stream",
     "text": [
      "\u001b[32mSaved Visualization to: ./core_metrics/kuT2T_WIS/pt_bcm_R2600/jaccard_distance_matrix_significance.qzv\u001b[0m\n",
      "\u001b[0m\u001b[32mSaved Visualization to: ./core_metrics/kuT2T_WIS/pt_bcm_R2600/bray_curtis_distance_matrix_significance.qzv\u001b[0m\n",
      "\u001b[0m"
     ]
    }
   ],
   "source": [
    "!qiime diversity beta-group-significance \\\n",
    "--i-distance-matrix ./core_metrics/kuT2T_WIS/pt_bcm_R2600/jaccard_distance_matrix.qza \\\n",
    "--m-metadata-file ./Qiime_input_data/kuT2T_WIS/metaData_BCM_PT.txt \\\n",
    "--m-metadata-column investigation \\\n",
    "--o-visualization ./core_metrics/kuT2T_WIS/pt_bcm_R2600/jaccard_distance_matrix_significance.qzv\n",
    "\n",
    "!qiime diversity beta-group-significance \\\n",
    "--i-distance-matrix ./core_metrics/kuT2T_WIS/pt_bcm_R2600/bray_curtis_distance_matrix.qza \\\n",
    "--m-metadata-file ./Qiime_input_data/kuT2T_WIS/metaData_BCM_PT.txt \\\n",
    "--m-metadata-column investigation \\\n",
    "--o-visualization ./core_metrics/kuT2T_WIS/pt_bcm_R2600/bray_curtis_distance_matrix_significance.qzv"
   ]
  },
  {
   "cell_type": "markdown",
   "metadata": {},
   "source": [
    "### MD Anderson (MDA)\n",
    "Note the following sample read distribution from R:\n",
    "```\n",
    "[1] \"MDA\"\n",
    "   Min. 1st Qu.  Median    Mean 3rd Qu.    Max. \n",
    "      2      15     134   10111     223  708632 \n",
    "```"
   ]
  },
  {
   "cell_type": "code",
   "execution_count": 56,
   "metadata": {},
   "outputs": [
    {
     "name": "stdout",
     "output_type": "stream",
     "text": [
      "\u001b[32mSaved FeatureTable[Frequency] to: ./core_metrics/kuT2T_WIS/pt_mda_R25/rarefied_table.qza\u001b[0m\n",
      "\u001b[32mSaved SampleData[AlphaDiversity] to: ./core_metrics/kuT2T_WIS/pt_mda_R25/observed_features_vector.qza\u001b[0m\n",
      "\u001b[32mSaved SampleData[AlphaDiversity] to: ./core_metrics/kuT2T_WIS/pt_mda_R25/shannon_vector.qza\u001b[0m\n",
      "\u001b[32mSaved SampleData[AlphaDiversity] to: ./core_metrics/kuT2T_WIS/pt_mda_R25/evenness_vector.qza\u001b[0m\n",
      "\u001b[32mSaved DistanceMatrix to: ./core_metrics/kuT2T_WIS/pt_mda_R25/jaccard_distance_matrix.qza\u001b[0m\n",
      "\u001b[32mSaved DistanceMatrix to: ./core_metrics/kuT2T_WIS/pt_mda_R25/bray_curtis_distance_matrix.qza\u001b[0m\n",
      "\u001b[32mSaved PCoAResults to: ./core_metrics/kuT2T_WIS/pt_mda_R25/jaccard_pcoa_results.qza\u001b[0m\n",
      "\u001b[32mSaved PCoAResults to: ./core_metrics/kuT2T_WIS/pt_mda_R25/bray_curtis_pcoa_results.qza\u001b[0m\n",
      "\u001b[32mSaved Visualization to: ./core_metrics/kuT2T_WIS/pt_mda_R25/jaccard_emperor.qzv\u001b[0m\n",
      "\u001b[32mSaved Visualization to: ./core_metrics/kuT2T_WIS/pt_mda_R25/bray_curtis_emperor.qzv\u001b[0m\n",
      "\u001b[0m"
     ]
    }
   ],
   "source": [
    "!qiime diversity core-metrics \\\n",
    "--i-table ./Qiime_input_data/kuT2T_WIS/countData_MDA_PT.qza \\\n",
    "--p-sampling-depth 25 \\\n",
    "--m-metadata-file ./Qiime_input_data/kuT2T_WIS/metaData_MDA_PT.txt \\\n",
    "--output-dir ./core_metrics/kuT2T_WIS/pt_mda_R25/"
   ]
  },
  {
   "cell_type": "code",
   "execution_count": 57,
   "metadata": {},
   "outputs": [
    {
     "name": "stdout",
     "output_type": "stream",
     "text": [
      "\u001b[32mSaved Visualization to: ./core_metrics/kuT2T_WIS/pt_mda_R25/observed_features_vector_significance.qzv\u001b[0m\n",
      "\u001b[0m\u001b[32mSaved Visualization to: ./core_metrics/kuT2T_WIS/pt_mda_R25/shannon_vector_significance.qzv\u001b[0m\n",
      "\u001b[0m"
     ]
    }
   ],
   "source": [
    "!qiime diversity alpha-group-significance \\\n",
    "--i-alpha-diversity ./core_metrics/kuT2T_WIS/pt_mda_R25/observed_features_vector.qza \\\n",
    "--m-metadata-file ./Qiime_input_data/kuT2T_WIS/metaData_MDA_PT.txt \\\n",
    "--o-visualization ./core_metrics/kuT2T_WIS/pt_mda_R25/observed_features_vector_significance.qzv\n",
    "\n",
    "!qiime diversity alpha-group-significance \\\n",
    "--i-alpha-diversity ./core_metrics/kuT2T_WIS/pt_mda_R25/shannon_vector.qza \\\n",
    "--m-metadata-file ./Qiime_input_data/kuT2T_WIS/metaData_MDA_PT.txt \\\n",
    "--o-visualization ./core_metrics/kuT2T_WIS/pt_mda_R25/shannon_vector_significance.qzv"
   ]
  },
  {
   "cell_type": "code",
   "execution_count": 58,
   "metadata": {},
   "outputs": [
    {
     "name": "stdout",
     "output_type": "stream",
     "text": [
      "\u001b[32mSaved Visualization to: ./core_metrics/kuT2T_WIS/pt_mda_R25/jaccard_distance_matrix_significance.qzv\u001b[0m\n",
      "\u001b[0m\u001b[32mSaved Visualization to: ./core_metrics/kuT2T_WIS/pt_mda_R25/bray_curtis_distance_matrix_significance.qzv\u001b[0m\n",
      "\u001b[0m"
     ]
    }
   ],
   "source": [
    "!qiime diversity beta-group-significance \\\n",
    "--i-distance-matrix ./core_metrics/kuT2T_WIS/pt_mda_R25/jaccard_distance_matrix.qza \\\n",
    "--m-metadata-file ./Qiime_input_data/kuT2T_WIS/metaData_MDA_PT.txt \\\n",
    "--m-metadata-column investigation \\\n",
    "--o-visualization ./core_metrics/kuT2T_WIS/pt_mda_R25/jaccard_distance_matrix_significance.qzv\n",
    "\n",
    "!qiime diversity beta-group-significance \\\n",
    "--i-distance-matrix ./core_metrics/kuT2T_WIS/pt_mda_R25/bray_curtis_distance_matrix.qza \\\n",
    "--m-metadata-file ./Qiime_input_data/kuT2T_WIS/metaData_MDA_PT.txt \\\n",
    "--m-metadata-column investigation \\\n",
    "--o-visualization ./core_metrics/kuT2T_WIS/pt_mda_R25/bray_curtis_distance_matrix_significance.qzv"
   ]
  },
  {
   "cell_type": "markdown",
   "metadata": {},
   "source": [
    "### Washington University (WashU)\n",
    "Note the following sample read distribution from R:\n",
    "```\n",
    "[1] \"WashU\"\n",
    "   Min. 1st Qu.  Median    Mean 3rd Qu.    Max. \n",
    "    170    1823    2916   53987    5704 5491933\n",
    "```"
   ]
  },
  {
   "cell_type": "code",
   "execution_count": 59,
   "metadata": {},
   "outputs": [
    {
     "name": "stdout",
     "output_type": "stream",
     "text": [
      "\u001b[32mSaved FeatureTable[Frequency] to: ./core_metrics/kuT2T_WIS/pt_mda_R1800/rarefied_table.qza\u001b[0m\n",
      "\u001b[32mSaved SampleData[AlphaDiversity] to: ./core_metrics/kuT2T_WIS/pt_mda_R1800/observed_features_vector.qza\u001b[0m\n",
      "\u001b[32mSaved SampleData[AlphaDiversity] to: ./core_metrics/kuT2T_WIS/pt_mda_R1800/shannon_vector.qza\u001b[0m\n",
      "\u001b[32mSaved SampleData[AlphaDiversity] to: ./core_metrics/kuT2T_WIS/pt_mda_R1800/evenness_vector.qza\u001b[0m\n",
      "\u001b[32mSaved DistanceMatrix to: ./core_metrics/kuT2T_WIS/pt_mda_R1800/jaccard_distance_matrix.qza\u001b[0m\n",
      "\u001b[32mSaved DistanceMatrix to: ./core_metrics/kuT2T_WIS/pt_mda_R1800/bray_curtis_distance_matrix.qza\u001b[0m\n",
      "\u001b[32mSaved PCoAResults to: ./core_metrics/kuT2T_WIS/pt_mda_R1800/jaccard_pcoa_results.qza\u001b[0m\n",
      "\u001b[32mSaved PCoAResults to: ./core_metrics/kuT2T_WIS/pt_mda_R1800/bray_curtis_pcoa_results.qza\u001b[0m\n",
      "\u001b[32mSaved Visualization to: ./core_metrics/kuT2T_WIS/pt_mda_R1800/jaccard_emperor.qzv\u001b[0m\n",
      "\u001b[32mSaved Visualization to: ./core_metrics/kuT2T_WIS/pt_mda_R1800/bray_curtis_emperor.qzv\u001b[0m\n",
      "\u001b[0m"
     ]
    }
   ],
   "source": [
    "!qiime diversity core-metrics \\\n",
    "--i-table ./Qiime_input_data/kuT2T_WIS/countData_WashU_PT.qza \\\n",
    "--p-sampling-depth 1800 \\\n",
    "--m-metadata-file ./Qiime_input_data/kuT2T_WIS/metaData_WashU_PT.txt \\\n",
    "--output-dir ./core_metrics/kuT2T_WIS/pt_mda_R1800/"
   ]
  },
  {
   "cell_type": "code",
   "execution_count": 60,
   "metadata": {},
   "outputs": [
    {
     "name": "stdout",
     "output_type": "stream",
     "text": [
      "\u001b[32mSaved Visualization to: ./core_metrics/kuT2T_WIS/pt_mda_R1800/observed_features_vector_significance.qzv\u001b[0m\n",
      "\u001b[0m\u001b[32mSaved Visualization to: ./core_metrics/kuT2T_WIS/pt_mda_R1800/shannon_vector_significance.qzv\u001b[0m\n",
      "\u001b[0m"
     ]
    }
   ],
   "source": [
    "!qiime diversity alpha-group-significance \\\n",
    "--i-alpha-diversity ./core_metrics/kuT2T_WIS/pt_mda_R1800/observed_features_vector.qza \\\n",
    "--m-metadata-file ./Qiime_input_data/kuT2T_WIS/metaData_WashU_PT.txt \\\n",
    "--o-visualization ./core_metrics/kuT2T_WIS/pt_mda_R1800/observed_features_vector_significance.qzv\n",
    "\n",
    "!qiime diversity alpha-group-significance \\\n",
    "--i-alpha-diversity ./core_metrics/kuT2T_WIS/pt_mda_R1800/shannon_vector.qza \\\n",
    "--m-metadata-file ./Qiime_input_data/kuT2T_WIS/metaData_WashU_PT.txt \\\n",
    "--o-visualization ./core_metrics/kuT2T_WIS/pt_mda_R1800/shannon_vector_significance.qzv"
   ]
  },
  {
   "cell_type": "code",
   "execution_count": 61,
   "metadata": {},
   "outputs": [
    {
     "name": "stdout",
     "output_type": "stream",
     "text": [
      "\u001b[32mSaved Visualization to: ./core_metrics/kuT2T_WIS/pt_mda_R1800/jaccard_distance_matrix_significance.qzv\u001b[0m\n",
      "\u001b[0m\u001b[32mSaved Visualization to: ./core_metrics/kuT2T_WIS/pt_mda_R1800/bray_curtis_distance_matrix_significance.qzv\u001b[0m\n",
      "\u001b[0m"
     ]
    }
   ],
   "source": [
    "!qiime diversity beta-group-significance \\\n",
    "--i-distance-matrix ./core_metrics/kuT2T_WIS/pt_mda_R1800/jaccard_distance_matrix.qza \\\n",
    "--m-metadata-file ./Qiime_input_data/kuT2T_WIS/metaData_WashU_PT.txt \\\n",
    "--m-metadata-column investigation \\\n",
    "--o-visualization ./core_metrics/kuT2T_WIS/pt_mda_R1800/jaccard_distance_matrix_significance.qzv\n",
    "\n",
    "!qiime diversity beta-group-significance \\\n",
    "--i-distance-matrix ./core_metrics/kuT2T_WIS/pt_mda_R1800/bray_curtis_distance_matrix.qza \\\n",
    "--m-metadata-file ./Qiime_input_data/kuT2T_WIS/metaData_WashU_PT.txt \\\n",
    "--m-metadata-column investigation \\\n",
    "--o-visualization ./core_metrics/kuT2T_WIS/pt_mda_R1800/bray_curtis_distance_matrix_significance.qzv"
   ]
  },
  {
   "cell_type": "markdown",
   "metadata": {},
   "source": [
    "### Broad Institute WGS only (Broad WGS)\n",
    "Note the following sample read distribution from R (it is lower than the other seq centers):\n",
    "```\n",
    "[1] \"Broad_WGS\"\n",
    "   Min. 1st Qu.  Median    Mean 3rd Qu.    Max. \n",
    "     32     303     681   25461    2461 5406803 \n",
    "```"
   ]
  },
  {
   "cell_type": "code",
   "execution_count": 62,
   "metadata": {},
   "outputs": [
    {
     "name": "stdout",
     "output_type": "stream",
     "text": [
      "\u001b[32mSaved FeatureTable[Frequency] to: ./core_metrics/kuT2T_WIS/pt_broad_wgs_R300/rarefied_table.qza\u001b[0m\n",
      "\u001b[32mSaved SampleData[AlphaDiversity] to: ./core_metrics/kuT2T_WIS/pt_broad_wgs_R300/observed_features_vector.qza\u001b[0m\n",
      "\u001b[32mSaved SampleData[AlphaDiversity] to: ./core_metrics/kuT2T_WIS/pt_broad_wgs_R300/shannon_vector.qza\u001b[0m\n",
      "\u001b[32mSaved SampleData[AlphaDiversity] to: ./core_metrics/kuT2T_WIS/pt_broad_wgs_R300/evenness_vector.qza\u001b[0m\n",
      "\u001b[32mSaved DistanceMatrix to: ./core_metrics/kuT2T_WIS/pt_broad_wgs_R300/jaccard_distance_matrix.qza\u001b[0m\n",
      "\u001b[32mSaved DistanceMatrix to: ./core_metrics/kuT2T_WIS/pt_broad_wgs_R300/bray_curtis_distance_matrix.qza\u001b[0m\n",
      "\u001b[32mSaved PCoAResults to: ./core_metrics/kuT2T_WIS/pt_broad_wgs_R300/jaccard_pcoa_results.qza\u001b[0m\n",
      "\u001b[32mSaved PCoAResults to: ./core_metrics/kuT2T_WIS/pt_broad_wgs_R300/bray_curtis_pcoa_results.qza\u001b[0m\n",
      "\u001b[32mSaved Visualization to: ./core_metrics/kuT2T_WIS/pt_broad_wgs_R300/jaccard_emperor.qzv\u001b[0m\n",
      "\u001b[32mSaved Visualization to: ./core_metrics/kuT2T_WIS/pt_broad_wgs_R300/bray_curtis_emperor.qzv\u001b[0m\n",
      "\u001b[0m"
     ]
    }
   ],
   "source": [
    "!qiime diversity core-metrics \\\n",
    "--i-table ./Qiime_input_data/kuT2T_WIS/countData_Broad_WGS_PT.qza \\\n",
    "--p-sampling-depth 300 \\\n",
    "--m-metadata-file ./Qiime_input_data/kuT2T_WIS/metaData_Broad_WGS_PT.txt \\\n",
    "--output-dir ./core_metrics/kuT2T_WIS/pt_broad_wgs_R300/"
   ]
  },
  {
   "cell_type": "code",
   "execution_count": 63,
   "metadata": {},
   "outputs": [
    {
     "name": "stdout",
     "output_type": "stream",
     "text": [
      "\u001b[32mSaved Visualization to: ./core_metrics/kuT2T_WIS/pt_broad_wgs_R300/observed_features_vector_significance.qzv\u001b[0m\n",
      "\u001b[0m\u001b[32mSaved Visualization to: ./core_metrics/kuT2T_WIS/pt_broad_wgs_R300/shannon_vector_significance.qzv\u001b[0m\n",
      "\u001b[0m"
     ]
    }
   ],
   "source": [
    "!qiime diversity alpha-group-significance \\\n",
    "--i-alpha-diversity ./core_metrics/kuT2T_WIS/pt_broad_wgs_R300/observed_features_vector.qza \\\n",
    "--m-metadata-file ./Qiime_input_data/kuT2T_WIS/metaData_Broad_WGS_PT.txt \\\n",
    "--o-visualization ./core_metrics/kuT2T_WIS/pt_broad_wgs_R300/observed_features_vector_significance.qzv\n",
    "\n",
    "!qiime diversity alpha-group-significance \\\n",
    "--i-alpha-diversity ./core_metrics/kuT2T_WIS/pt_broad_wgs_R300/shannon_vector.qza \\\n",
    "--m-metadata-file ./Qiime_input_data/kuT2T_WIS/metaData_Broad_WGS_PT.txt \\\n",
    "--o-visualization ./core_metrics/kuT2T_WIS/pt_broad_wgs_R300/shannon_vector_significance.qzv"
   ]
  },
  {
   "cell_type": "code",
   "execution_count": 64,
   "metadata": {},
   "outputs": [
    {
     "name": "stdout",
     "output_type": "stream",
     "text": [
      "\u001b[32mSaved Visualization to: ./core_metrics/kuT2T_WIS/pt_broad_wgs_R300/jaccard_distance_matrix_significance.qzv\u001b[0m\n",
      "\u001b[0m\u001b[32mSaved Visualization to: ./core_metrics/kuT2T_WIS/pt_broad_wgs_R300/bray_curtis_distance_matrix_significance.qzv\u001b[0m\n",
      "\u001b[0m"
     ]
    }
   ],
   "source": [
    "!qiime diversity beta-group-significance \\\n",
    "--i-distance-matrix ./core_metrics/kuT2T_WIS/pt_broad_wgs_R300/jaccard_distance_matrix.qza \\\n",
    "--m-metadata-file ./Qiime_input_data/kuT2T_WIS/metaData_Broad_WGS_PT.txt \\\n",
    "--m-metadata-column investigation \\\n",
    "--o-visualization ./core_metrics/kuT2T_WIS/pt_broad_wgs_R300/jaccard_distance_matrix_significance.qzv\n",
    "\n",
    "!qiime diversity beta-group-significance \\\n",
    "--i-distance-matrix ./core_metrics/kuT2T_WIS/pt_broad_wgs_R300/bray_curtis_distance_matrix.qza \\\n",
    "--m-metadata-file ./Qiime_input_data/kuT2T_WIS/metaData_Broad_WGS_PT.txt \\\n",
    "--m-metadata-column investigation \\\n",
    "--o-visualization ./core_metrics/kuT2T_WIS/pt_broad_wgs_R300/bray_curtis_distance_matrix_significance.qzv"
   ]
  },
  {
   "cell_type": "markdown",
   "metadata": {},
   "source": [
    "### University of North Carolina (UNC)\n",
    "Note the following sample read distribution from R:\n",
    "```\n",
    "[1] \"UNC\"\n",
    "   Min. 1st Qu.  Median    Mean 3rd Qu.    Max. \n",
    "      1       1     481    2032    1501  270162 \n",
    "```"
   ]
  },
  {
   "cell_type": "code",
   "execution_count": 65,
   "metadata": {},
   "outputs": [
    {
     "name": "stdout",
     "output_type": "stream",
     "text": [
      "\u001b[32mSaved FeatureTable[Frequency] to: ./core_metrics/kuT2T_WIS/pt_unc_R25/rarefied_table.qza\u001b[0m\n",
      "\u001b[32mSaved SampleData[AlphaDiversity] to: ./core_metrics/kuT2T_WIS/pt_unc_R25/observed_features_vector.qza\u001b[0m\n",
      "\u001b[32mSaved SampleData[AlphaDiversity] to: ./core_metrics/kuT2T_WIS/pt_unc_R25/shannon_vector.qza\u001b[0m\n",
      "\u001b[32mSaved SampleData[AlphaDiversity] to: ./core_metrics/kuT2T_WIS/pt_unc_R25/evenness_vector.qza\u001b[0m\n",
      "\u001b[32mSaved DistanceMatrix to: ./core_metrics/kuT2T_WIS/pt_unc_R25/jaccard_distance_matrix.qza\u001b[0m\n",
      "\u001b[32mSaved DistanceMatrix to: ./core_metrics/kuT2T_WIS/pt_unc_R25/bray_curtis_distance_matrix.qza\u001b[0m\n",
      "\u001b[32mSaved PCoAResults to: ./core_metrics/kuT2T_WIS/pt_unc_R25/jaccard_pcoa_results.qza\u001b[0m\n",
      "\u001b[32mSaved PCoAResults to: ./core_metrics/kuT2T_WIS/pt_unc_R25/bray_curtis_pcoa_results.qza\u001b[0m\n",
      "\u001b[32mSaved Visualization to: ./core_metrics/kuT2T_WIS/pt_unc_R25/jaccard_emperor.qzv\u001b[0m\n",
      "\u001b[32mSaved Visualization to: ./core_metrics/kuT2T_WIS/pt_unc_R25/bray_curtis_emperor.qzv\u001b[0m\n",
      "\u001b[0m"
     ]
    }
   ],
   "source": [
    "!qiime diversity core-metrics \\\n",
    "--i-table ./Qiime_input_data/kuT2T_WIS/countData_UNC_PT.qza \\\n",
    "--p-sampling-depth 25 \\\n",
    "--m-metadata-file ./Qiime_input_data/kuT2T_WIS/metaData_UNC_PT.txt \\\n",
    "--output-dir ./core_metrics/kuT2T_WIS/pt_unc_R25/"
   ]
  },
  {
   "cell_type": "code",
   "execution_count": 66,
   "metadata": {},
   "outputs": [
    {
     "name": "stdout",
     "output_type": "stream",
     "text": [
      "\u001b[32mSaved Visualization to: ./core_metrics/kuT2T_WIS/pt_unc_R25/observed_features_vector_significance.qzv\u001b[0m\n",
      "\u001b[0m\u001b[32mSaved Visualization to: ./core_metrics/kuT2T_WIS/pt_unc_R25/shannon_vector_significance.qzv\u001b[0m\n",
      "\u001b[0m"
     ]
    }
   ],
   "source": [
    "!qiime diversity alpha-group-significance \\\n",
    "--i-alpha-diversity ./core_metrics/kuT2T_WIS/pt_unc_R25/observed_features_vector.qza \\\n",
    "--m-metadata-file ./Qiime_input_data/kuT2T_WIS/metaData_UNC_PT.txt \\\n",
    "--o-visualization ./core_metrics/kuT2T_WIS/pt_unc_R25/observed_features_vector_significance.qzv\n",
    "\n",
    "!qiime diversity alpha-group-significance \\\n",
    "--i-alpha-diversity ./core_metrics/kuT2T_WIS/pt_unc_R25/shannon_vector.qza \\\n",
    "--m-metadata-file ./Qiime_input_data/kuT2T_WIS/metaData_UNC_PT.txt \\\n",
    "--o-visualization ./core_metrics/kuT2T_WIS/pt_unc_R25/shannon_vector_significance.qzv"
   ]
  },
  {
   "cell_type": "code",
   "execution_count": 67,
   "metadata": {},
   "outputs": [
    {
     "name": "stdout",
     "output_type": "stream",
     "text": [
      "\u001b[32mSaved Visualization to: ./core_metrics/kuT2T_WIS/pt_unc_R25/jaccard_distance_matrix_significance.qzv\u001b[0m\n",
      "\u001b[0m\u001b[32mSaved Visualization to: ./core_metrics/kuT2T_WIS/pt_unc_R25/bray_curtis_distance_matrix_significance.qzv\u001b[0m\n",
      "\u001b[0m"
     ]
    }
   ],
   "source": [
    "!qiime diversity beta-group-significance \\\n",
    "--i-distance-matrix ./core_metrics/kuT2T_WIS/pt_unc_R25/jaccard_distance_matrix.qza \\\n",
    "--m-metadata-file ./Qiime_input_data/kuT2T_WIS/metaData_UNC_PT.txt \\\n",
    "--m-metadata-column investigation \\\n",
    "--o-visualization ./core_metrics/kuT2T_WIS/pt_unc_R25/jaccard_distance_matrix_significance.qzv\n",
    "\n",
    "!qiime diversity beta-group-significance \\\n",
    "--i-distance-matrix ./core_metrics/kuT2T_WIS/pt_unc_R25/bray_curtis_distance_matrix.qza \\\n",
    "--m-metadata-file ./Qiime_input_data/kuT2T_WIS/metaData_UNC_PT.txt \\\n",
    "--m-metadata-column investigation \\\n",
    "--o-visualization ./core_metrics/kuT2T_WIS/pt_unc_R25/bray_curtis_distance_matrix_significance.qzv"
   ]
  },
  {
   "cell_type": "markdown",
   "metadata": {},
   "source": [
    "### Canada's Michael Smith Genome Sciences Centre (CMS)\n",
    "Note the following sample read distribution from R:\n",
    "```\n",
    "[1] \"CMS\"\n",
    "   Min. 1st Qu.  Median    Mean 3rd Qu.    Max. \n",
    "     27    3074    9582  114798   26606 5650899 \n",
    "```"
   ]
  },
  {
   "cell_type": "code",
   "execution_count": 68,
   "metadata": {},
   "outputs": [
    {
     "name": "stdout",
     "output_type": "stream",
     "text": [
      "\u001b[32mSaved FeatureTable[Frequency] to: ./core_metrics/kuT2T_WIS/pt_cms_R3k/rarefied_table.qza\u001b[0m\n",
      "\u001b[32mSaved SampleData[AlphaDiversity] to: ./core_metrics/kuT2T_WIS/pt_cms_R3k/observed_features_vector.qza\u001b[0m\n",
      "\u001b[32mSaved SampleData[AlphaDiversity] to: ./core_metrics/kuT2T_WIS/pt_cms_R3k/shannon_vector.qza\u001b[0m\n",
      "\u001b[32mSaved SampleData[AlphaDiversity] to: ./core_metrics/kuT2T_WIS/pt_cms_R3k/evenness_vector.qza\u001b[0m\n",
      "\u001b[32mSaved DistanceMatrix to: ./core_metrics/kuT2T_WIS/pt_cms_R3k/jaccard_distance_matrix.qza\u001b[0m\n",
      "\u001b[32mSaved DistanceMatrix to: ./core_metrics/kuT2T_WIS/pt_cms_R3k/bray_curtis_distance_matrix.qza\u001b[0m\n",
      "\u001b[32mSaved PCoAResults to: ./core_metrics/kuT2T_WIS/pt_cms_R3k/jaccard_pcoa_results.qza\u001b[0m\n",
      "\u001b[32mSaved PCoAResults to: ./core_metrics/kuT2T_WIS/pt_cms_R3k/bray_curtis_pcoa_results.qza\u001b[0m\n",
      "\u001b[32mSaved Visualization to: ./core_metrics/kuT2T_WIS/pt_cms_R3k/jaccard_emperor.qzv\u001b[0m\n",
      "\u001b[32mSaved Visualization to: ./core_metrics/kuT2T_WIS/pt_cms_R3k/bray_curtis_emperor.qzv\u001b[0m\n",
      "\u001b[0m"
     ]
    }
   ],
   "source": [
    "!qiime diversity core-metrics \\\n",
    "--i-table ./Qiime_input_data/kuT2T_WIS/countData_CMS_PT.qza \\\n",
    "--p-sampling-depth 3000 \\\n",
    "--m-metadata-file ./Qiime_input_data/kuT2T_WIS/metaData_CMS_PT.txt \\\n",
    "--output-dir ./core_metrics/kuT2T_WIS/pt_cms_R3k/"
   ]
  },
  {
   "cell_type": "code",
   "execution_count": 69,
   "metadata": {},
   "outputs": [
    {
     "name": "stdout",
     "output_type": "stream",
     "text": [
      "\u001b[32mSaved Visualization to: ./core_metrics/kuT2T_WIS/pt_cms_R3k/observed_features_vector_significance.qzv\u001b[0m\n",
      "\u001b[0m\u001b[32mSaved Visualization to: ./core_metrics/kuT2T_WIS/pt_cms_R3k/shannon_vector_significance.qzv\u001b[0m\n",
      "\u001b[0m"
     ]
    }
   ],
   "source": [
    "!qiime diversity alpha-group-significance \\\n",
    "--i-alpha-diversity ./core_metrics/kuT2T_WIS/pt_cms_R3k/observed_features_vector.qza \\\n",
    "--m-metadata-file ./Qiime_input_data/kuT2T_WIS/metaData_CMS_PT.txt \\\n",
    "--o-visualization ./core_metrics/kuT2T_WIS/pt_cms_R3k/observed_features_vector_significance.qzv\n",
    "\n",
    "!qiime diversity alpha-group-significance \\\n",
    "--i-alpha-diversity ./core_metrics/kuT2T_WIS/pt_cms_R3k/shannon_vector.qza \\\n",
    "--m-metadata-file ./Qiime_input_data/kuT2T_WIS/metaData_CMS_PT.txt \\\n",
    "--o-visualization ./core_metrics/kuT2T_WIS/pt_cms_R3k/shannon_vector_significance.qzv"
   ]
  },
  {
   "cell_type": "code",
   "execution_count": 70,
   "metadata": {},
   "outputs": [
    {
     "name": "stdout",
     "output_type": "stream",
     "text": [
      "\u001b[32mSaved Visualization to: ./core_metrics/kuT2T_WIS/pt_cms_R3k/jaccard_distance_matrix_significance.qzv\u001b[0m\n",
      "\u001b[0m\u001b[32mSaved Visualization to: ./core_metrics/kuT2T_WIS/pt_cms_R3k/bray_curtis_distance_matrix_significance.qzv\u001b[0m\n",
      "\u001b[0m"
     ]
    }
   ],
   "source": [
    "!qiime diversity beta-group-significance \\\n",
    "--i-distance-matrix ./core_metrics/kuT2T_WIS/pt_cms_R3k/jaccard_distance_matrix.qza \\\n",
    "--m-metadata-file ./Qiime_input_data/kuT2T_WIS/metaData_CMS_PT.txt \\\n",
    "--m-metadata-column investigation \\\n",
    "--o-visualization ./core_metrics/kuT2T_WIS/pt_cms_R3k/jaccard_distance_matrix_significance.qzv\n",
    "\n",
    "!qiime diversity beta-group-significance \\\n",
    "--i-distance-matrix ./core_metrics/kuT2T_WIS/pt_cms_R3k/bray_curtis_distance_matrix.qza \\\n",
    "--m-metadata-file ./Qiime_input_data/kuT2T_WIS/metaData_CMS_PT.txt \\\n",
    "--m-metadata-column investigation \\\n",
    "--o-visualization ./core_metrics/kuT2T_WIS/pt_cms_R3k/bray_curtis_distance_matrix_significance.qzv"
   ]
  },
  {
   "cell_type": "markdown",
   "metadata": {},
   "source": [
    "# Qiime 2 Core Metrics - BDN\n",
    "Note: Since beta diversity was calculated above using DEICODE above, we are mostly interested in the alpha diversity results."
   ]
  },
  {
   "cell_type": "markdown",
   "metadata": {},
   "source": [
    "### Harvard Medical School (HMS)\n",
    "Note the following sample read distribution from R:\n",
    "```\n",
    "[1] \"HMS\"\n",
    "     Min.   1st Qu.    Median      Mean   3rd Qu.      Max. \n",
    "      1.0     122.5     227.0    4781.5     467.0 1736803.0 \n",
    "```"
   ]
  },
  {
   "cell_type": "code",
   "execution_count": 71,
   "metadata": {},
   "outputs": [
    {
     "name": "stdout",
     "output_type": "stream",
     "text": [
      "\u001b[32mSaved FeatureTable[Frequency] to: ./core_metrics/kuT2T_WIS/bdn_hms_R100/rarefied_table.qza\u001b[0m\n",
      "\u001b[32mSaved SampleData[AlphaDiversity] to: ./core_metrics/kuT2T_WIS/bdn_hms_R100/observed_features_vector.qza\u001b[0m\n",
      "\u001b[32mSaved SampleData[AlphaDiversity] to: ./core_metrics/kuT2T_WIS/bdn_hms_R100/shannon_vector.qza\u001b[0m\n",
      "\u001b[32mSaved SampleData[AlphaDiversity] to: ./core_metrics/kuT2T_WIS/bdn_hms_R100/evenness_vector.qza\u001b[0m\n",
      "\u001b[32mSaved DistanceMatrix to: ./core_metrics/kuT2T_WIS/bdn_hms_R100/jaccard_distance_matrix.qza\u001b[0m\n",
      "\u001b[32mSaved DistanceMatrix to: ./core_metrics/kuT2T_WIS/bdn_hms_R100/bray_curtis_distance_matrix.qza\u001b[0m\n",
      "\u001b[32mSaved PCoAResults to: ./core_metrics/kuT2T_WIS/bdn_hms_R100/jaccard_pcoa_results.qza\u001b[0m\n",
      "\u001b[32mSaved PCoAResults to: ./core_metrics/kuT2T_WIS/bdn_hms_R100/bray_curtis_pcoa_results.qza\u001b[0m\n",
      "\u001b[32mSaved Visualization to: ./core_metrics/kuT2T_WIS/bdn_hms_R100/jaccard_emperor.qzv\u001b[0m\n",
      "\u001b[32mSaved Visualization to: ./core_metrics/kuT2T_WIS/bdn_hms_R100/bray_curtis_emperor.qzv\u001b[0m\n",
      "\u001b[0m"
     ]
    }
   ],
   "source": [
    "!qiime diversity core-metrics \\\n",
    "--i-table ./Qiime_input_data/kuT2T_WIS/countData_HMS_BDN.qza \\\n",
    "--p-sampling-depth 100 \\\n",
    "--m-metadata-file ./Qiime_input_data/kuT2T_WIS/metaData_HMS_BDN.txt \\\n",
    "--output-dir ./core_metrics/kuT2T_WIS/bdn_hms_R100/"
   ]
  },
  {
   "cell_type": "code",
   "execution_count": 72,
   "metadata": {},
   "outputs": [
    {
     "name": "stdout",
     "output_type": "stream",
     "text": [
      "\u001b[32mSaved Visualization to: ./core_metrics/kuT2T_WIS/bdn_hms_R100/observed_features_vector_significance.qzv\u001b[0m\n",
      "\u001b[0m\u001b[32mSaved Visualization to: ./core_metrics/kuT2T_WIS/bdn_hms_R100/shannon_vector_significance.qzv\u001b[0m\n",
      "\u001b[0m"
     ]
    }
   ],
   "source": [
    "!qiime diversity alpha-group-significance \\\n",
    "--i-alpha-diversity ./core_metrics/kuT2T_WIS/bdn_hms_R100/observed_features_vector.qza \\\n",
    "--m-metadata-file ./Qiime_input_data/kuT2T_WIS/metaData_HMS_BDN.txt \\\n",
    "--o-visualization ./core_metrics/kuT2T_WIS/bdn_hms_R100/observed_features_vector_significance.qzv\n",
    "\n",
    "!qiime diversity alpha-group-significance \\\n",
    "--i-alpha-diversity ./core_metrics/kuT2T_WIS/bdn_hms_R100/shannon_vector.qza \\\n",
    "--m-metadata-file ./Qiime_input_data/kuT2T_WIS/metaData_HMS_BDN.txt \\\n",
    "--o-visualization ./core_metrics/kuT2T_WIS/bdn_hms_R100/shannon_vector_significance.qzv"
   ]
  },
  {
   "cell_type": "code",
   "execution_count": 73,
   "metadata": {},
   "outputs": [
    {
     "name": "stdout",
     "output_type": "stream",
     "text": [
      "\u001b[32mSaved Visualization to: ./core_metrics/kuT2T_WIS/bdn_hms_R100/jaccard_distance_matrix_significance.qzv\u001b[0m\n",
      "\u001b[0m\u001b[32mSaved Visualization to: ./core_metrics/kuT2T_WIS/bdn_hms_R100/bray_curtis_distance_matrix_significance.qzv\u001b[0m\n",
      "\u001b[0m"
     ]
    }
   ],
   "source": [
    "!qiime diversity beta-group-significance \\\n",
    "--i-distance-matrix ./core_metrics/kuT2T_WIS/bdn_hms_R100/jaccard_distance_matrix.qza \\\n",
    "--m-metadata-file ./Qiime_input_data/kuT2T_WIS/metaData_HMS_BDN.txt \\\n",
    "--m-metadata-column investigation \\\n",
    "--o-visualization ./core_metrics/kuT2T_WIS/bdn_hms_R100/jaccard_distance_matrix_significance.qzv\n",
    "\n",
    "!qiime diversity beta-group-significance \\\n",
    "--i-distance-matrix ./core_metrics/kuT2T_WIS/bdn_hms_R100/bray_curtis_distance_matrix.qza \\\n",
    "--m-metadata-file ./Qiime_input_data/kuT2T_WIS/metaData_HMS_BDN.txt \\\n",
    "--m-metadata-column investigation \\\n",
    "--o-visualization ./core_metrics/kuT2T_WIS/bdn_hms_R100/bray_curtis_distance_matrix_significance.qzv"
   ]
  },
  {
   "cell_type": "markdown",
   "metadata": {},
   "source": [
    "### Baylor College of Medicine (BCM)\n",
    "Note the following sample read distribution from R:\n",
    "```\n",
    "[1] \"BCM\"\n",
    "   Min. 1st Qu.  Median    Mean 3rd Qu.    Max. \n",
    "    309    1218    1826    5423    2482  259297 \n",
    "```"
   ]
  },
  {
   "cell_type": "code",
   "execution_count": 74,
   "metadata": {},
   "outputs": [
    {
     "name": "stdout",
     "output_type": "stream",
     "text": [
      "\u001b[32mSaved FeatureTable[Frequency] to: ./core_metrics/kuT2T_WIS/bdn_bcm_R1200/rarefied_table.qza\u001b[0m\n",
      "\u001b[32mSaved SampleData[AlphaDiversity] to: ./core_metrics/kuT2T_WIS/bdn_bcm_R1200/observed_features_vector.qza\u001b[0m\n",
      "\u001b[32mSaved SampleData[AlphaDiversity] to: ./core_metrics/kuT2T_WIS/bdn_bcm_R1200/shannon_vector.qza\u001b[0m\n",
      "\u001b[32mSaved SampleData[AlphaDiversity] to: ./core_metrics/kuT2T_WIS/bdn_bcm_R1200/evenness_vector.qza\u001b[0m\n",
      "\u001b[32mSaved DistanceMatrix to: ./core_metrics/kuT2T_WIS/bdn_bcm_R1200/jaccard_distance_matrix.qza\u001b[0m\n",
      "\u001b[32mSaved DistanceMatrix to: ./core_metrics/kuT2T_WIS/bdn_bcm_R1200/bray_curtis_distance_matrix.qza\u001b[0m\n",
      "\u001b[32mSaved PCoAResults to: ./core_metrics/kuT2T_WIS/bdn_bcm_R1200/jaccard_pcoa_results.qza\u001b[0m\n",
      "\u001b[32mSaved PCoAResults to: ./core_metrics/kuT2T_WIS/bdn_bcm_R1200/bray_curtis_pcoa_results.qza\u001b[0m\n",
      "\u001b[32mSaved Visualization to: ./core_metrics/kuT2T_WIS/bdn_bcm_R1200/jaccard_emperor.qzv\u001b[0m\n",
      "\u001b[32mSaved Visualization to: ./core_metrics/kuT2T_WIS/bdn_bcm_R1200/bray_curtis_emperor.qzv\u001b[0m\n",
      "\u001b[0m"
     ]
    }
   ],
   "source": [
    "!qiime diversity core-metrics \\\n",
    "--i-table ./Qiime_input_data/kuT2T_WIS/countData_BCM_BDN.qza \\\n",
    "--p-sampling-depth 1200 \\\n",
    "--m-metadata-file ./Qiime_input_data/kuT2T_WIS/metaData_BCM_BDN.txt \\\n",
    "--output-dir ./core_metrics/kuT2T_WIS/bdn_bcm_R1200/"
   ]
  },
  {
   "cell_type": "code",
   "execution_count": 75,
   "metadata": {},
   "outputs": [
    {
     "name": "stdout",
     "output_type": "stream",
     "text": [
      "\u001b[32mSaved Visualization to: ./core_metrics/kuT2T_WIS/bdn_bcm_R1200/observed_features_vector_significance.qzv\u001b[0m\n",
      "\u001b[0m\u001b[32mSaved Visualization to: ./core_metrics/kuT2T_WIS/bdn_bcm_R1200/shannon_vector_significance.qzv\u001b[0m\n",
      "\u001b[0m"
     ]
    }
   ],
   "source": [
    "!qiime diversity alpha-group-significance \\\n",
    "--i-alpha-diversity ./core_metrics/kuT2T_WIS/bdn_bcm_R1200/observed_features_vector.qza \\\n",
    "--m-metadata-file ./Qiime_input_data/kuT2T_WIS/metaData_BCM_BDN.txt \\\n",
    "--o-visualization ./core_metrics/kuT2T_WIS/bdn_bcm_R1200/observed_features_vector_significance.qzv\n",
    "\n",
    "!qiime diversity alpha-group-significance \\\n",
    "--i-alpha-diversity ./core_metrics/kuT2T_WIS/bdn_bcm_R1200/shannon_vector.qza \\\n",
    "--m-metadata-file ./Qiime_input_data/kuT2T_WIS/metaData_BCM_BDN.txt \\\n",
    "--o-visualization ./core_metrics/kuT2T_WIS/bdn_bcm_R1200/shannon_vector_significance.qzv"
   ]
  },
  {
   "cell_type": "code",
   "execution_count": 76,
   "metadata": {},
   "outputs": [
    {
     "name": "stdout",
     "output_type": "stream",
     "text": [
      "\u001b[32mSaved Visualization to: ./core_metrics/kuT2T_WIS/bdn_bcm_R1200/jaccard_distance_matrix_significance.qzv\u001b[0m\n",
      "\u001b[0m\u001b[32mSaved Visualization to: ./core_metrics/kuT2T_WIS/bdn_bcm_R1200/bray_curtis_distance_matrix_significance.qzv\u001b[0m\n",
      "\u001b[0m"
     ]
    }
   ],
   "source": [
    "!qiime diversity beta-group-significance \\\n",
    "--i-distance-matrix ./core_metrics/kuT2T_WIS/bdn_bcm_R1200/jaccard_distance_matrix.qza \\\n",
    "--m-metadata-file ./Qiime_input_data/kuT2T_WIS/metaData_BCM_BDN.txt \\\n",
    "--m-metadata-column investigation \\\n",
    "--o-visualization ./core_metrics/kuT2T_WIS/bdn_bcm_R1200/jaccard_distance_matrix_significance.qzv\n",
    "\n",
    "!qiime diversity beta-group-significance \\\n",
    "--i-distance-matrix ./core_metrics/kuT2T_WIS/bdn_bcm_R1200/bray_curtis_distance_matrix.qza \\\n",
    "--m-metadata-file ./Qiime_input_data/kuT2T_WIS/metaData_BCM_BDN.txt \\\n",
    "--m-metadata-column investigation \\\n",
    "--o-visualization ./core_metrics/kuT2T_WIS/bdn_bcm_R1200/bray_curtis_distance_matrix_significance.qzv"
   ]
  },
  {
   "cell_type": "markdown",
   "metadata": {},
   "source": [
    "### MD Anderson (MDA)\n",
    "Note the following sample read distribution from R:\n",
    "```\n",
    "[1] \"MDA\"\n",
    "    Min.  1st Qu.   Median     Mean  3rd Qu.     Max. \n",
    "     3.0     31.0    136.0   1136.9    217.5 166088.0 \n",
    "```"
   ]
  },
  {
   "cell_type": "code",
   "execution_count": 77,
   "metadata": {},
   "outputs": [
    {
     "name": "stdout",
     "output_type": "stream",
     "text": [
      "\u001b[32mSaved FeatureTable[Frequency] to: ./core_metrics/kuT2T_WIS/bdn_mda_R30/rarefied_table.qza\u001b[0m\n",
      "\u001b[32mSaved SampleData[AlphaDiversity] to: ./core_metrics/kuT2T_WIS/bdn_mda_R30/observed_features_vector.qza\u001b[0m\n",
      "\u001b[32mSaved SampleData[AlphaDiversity] to: ./core_metrics/kuT2T_WIS/bdn_mda_R30/shannon_vector.qza\u001b[0m\n",
      "\u001b[32mSaved SampleData[AlphaDiversity] to: ./core_metrics/kuT2T_WIS/bdn_mda_R30/evenness_vector.qza\u001b[0m\n",
      "\u001b[32mSaved DistanceMatrix to: ./core_metrics/kuT2T_WIS/bdn_mda_R30/jaccard_distance_matrix.qza\u001b[0m\n",
      "\u001b[32mSaved DistanceMatrix to: ./core_metrics/kuT2T_WIS/bdn_mda_R30/bray_curtis_distance_matrix.qza\u001b[0m\n",
      "\u001b[32mSaved PCoAResults to: ./core_metrics/kuT2T_WIS/bdn_mda_R30/jaccard_pcoa_results.qza\u001b[0m\n",
      "\u001b[32mSaved PCoAResults to: ./core_metrics/kuT2T_WIS/bdn_mda_R30/bray_curtis_pcoa_results.qza\u001b[0m\n",
      "\u001b[32mSaved Visualization to: ./core_metrics/kuT2T_WIS/bdn_mda_R30/jaccard_emperor.qzv\u001b[0m\n",
      "\u001b[32mSaved Visualization to: ./core_metrics/kuT2T_WIS/bdn_mda_R30/bray_curtis_emperor.qzv\u001b[0m\n",
      "\u001b[0m"
     ]
    }
   ],
   "source": [
    "!qiime diversity core-metrics \\\n",
    "--i-table ./Qiime_input_data/kuT2T_WIS/countData_MDA_BDN.qza \\\n",
    "--p-sampling-depth 30 \\\n",
    "--m-metadata-file ./Qiime_input_data/kuT2T_WIS/metaData_MDA_BDN.txt \\\n",
    "--output-dir ./core_metrics/kuT2T_WIS/bdn_mda_R30/"
   ]
  },
  {
   "cell_type": "code",
   "execution_count": 78,
   "metadata": {},
   "outputs": [
    {
     "name": "stdout",
     "output_type": "stream",
     "text": [
      "\u001b[32mSaved Visualization to: ./core_metrics/kuT2T_WIS/bdn_mda_R30/observed_features_vector_significance.qzv\u001b[0m\n",
      "\u001b[0m\u001b[32mSaved Visualization to: ./core_metrics/kuT2T_WIS/bdn_mda_R30/shannon_vector_significance.qzv\u001b[0m\n",
      "\u001b[0m"
     ]
    }
   ],
   "source": [
    "!qiime diversity alpha-group-significance \\\n",
    "--i-alpha-diversity ./core_metrics/kuT2T_WIS/bdn_mda_R30/observed_features_vector.qza \\\n",
    "--m-metadata-file ./Qiime_input_data/kuT2T_WIS/metaData_MDA_BDN.txt \\\n",
    "--o-visualization ./core_metrics/kuT2T_WIS/bdn_mda_R30/observed_features_vector_significance.qzv\n",
    "\n",
    "!qiime diversity alpha-group-significance \\\n",
    "--i-alpha-diversity ./core_metrics/kuT2T_WIS/bdn_mda_R30/shannon_vector.qza \\\n",
    "--m-metadata-file ./Qiime_input_data/kuT2T_WIS/metaData_MDA_BDN.txt \\\n",
    "--o-visualization ./core_metrics/kuT2T_WIS/bdn_mda_R30/shannon_vector_significance.qzv"
   ]
  },
  {
   "cell_type": "code",
   "execution_count": 79,
   "metadata": {},
   "outputs": [
    {
     "name": "stdout",
     "output_type": "stream",
     "text": [
      "\u001b[32mSaved Visualization to: ./core_metrics/kuT2T_WIS/bdn_mda_R30/jaccard_distance_matrix_significance.qzv\u001b[0m\n",
      "\u001b[0m\u001b[32mSaved Visualization to: ./core_metrics/kuT2T_WIS/bdn_mda_R30/bray_curtis_distance_matrix_significance.qzv\u001b[0m\n",
      "\u001b[0m"
     ]
    }
   ],
   "source": [
    "!qiime diversity beta-group-significance \\\n",
    "--i-distance-matrix ./core_metrics/kuT2T_WIS/bdn_mda_R30/jaccard_distance_matrix.qza \\\n",
    "--m-metadata-file ./Qiime_input_data/kuT2T_WIS/metaData_MDA_BDN.txt \\\n",
    "--m-metadata-column investigation \\\n",
    "--o-visualization ./core_metrics/kuT2T_WIS/bdn_mda_R30/jaccard_distance_matrix_significance.qzv\n",
    "\n",
    "!qiime diversity beta-group-significance \\\n",
    "--i-distance-matrix ./core_metrics/kuT2T_WIS/bdn_mda_R30/bray_curtis_distance_matrix.qza \\\n",
    "--m-metadata-file ./Qiime_input_data/kuT2T_WIS/metaData_MDA_BDN.txt \\\n",
    "--m-metadata-column investigation \\\n",
    "--o-visualization ./core_metrics/kuT2T_WIS/bdn_mda_R30/bray_curtis_distance_matrix_significance.qzv"
   ]
  },
  {
   "cell_type": "markdown",
   "metadata": {},
   "source": [
    "### Washington University (WashU)\n",
    "Note the following sample read distribution from R:\n",
    "```\n",
    "[1] \"WashU\"\n",
    "    Min.  1st Qu.   Median     Mean  3rd Qu.     Max. \n",
    "     225     1374     2238   309610     4828 44452017 \n",
    "```"
   ]
  },
  {
   "cell_type": "code",
   "execution_count": 80,
   "metadata": {},
   "outputs": [
    {
     "name": "stdout",
     "output_type": "stream",
     "text": [
      "\u001b[32mSaved FeatureTable[Frequency] to: ./core_metrics/kuT2T_WIS/bdn_washu_R1400/rarefied_table.qza\u001b[0m\n",
      "\u001b[32mSaved SampleData[AlphaDiversity] to: ./core_metrics/kuT2T_WIS/bdn_washu_R1400/observed_features_vector.qza\u001b[0m\n",
      "\u001b[32mSaved SampleData[AlphaDiversity] to: ./core_metrics/kuT2T_WIS/bdn_washu_R1400/shannon_vector.qza\u001b[0m\n",
      "\u001b[32mSaved SampleData[AlphaDiversity] to: ./core_metrics/kuT2T_WIS/bdn_washu_R1400/evenness_vector.qza\u001b[0m\n",
      "\u001b[32mSaved DistanceMatrix to: ./core_metrics/kuT2T_WIS/bdn_washu_R1400/jaccard_distance_matrix.qza\u001b[0m\n",
      "\u001b[32mSaved DistanceMatrix to: ./core_metrics/kuT2T_WIS/bdn_washu_R1400/bray_curtis_distance_matrix.qza\u001b[0m\n",
      "\u001b[32mSaved PCoAResults to: ./core_metrics/kuT2T_WIS/bdn_washu_R1400/jaccard_pcoa_results.qza\u001b[0m\n",
      "\u001b[32mSaved PCoAResults to: ./core_metrics/kuT2T_WIS/bdn_washu_R1400/bray_curtis_pcoa_results.qza\u001b[0m\n",
      "\u001b[32mSaved Visualization to: ./core_metrics/kuT2T_WIS/bdn_washu_R1400/jaccard_emperor.qzv\u001b[0m\n",
      "\u001b[32mSaved Visualization to: ./core_metrics/kuT2T_WIS/bdn_washu_R1400/bray_curtis_emperor.qzv\u001b[0m\n",
      "\u001b[0m"
     ]
    }
   ],
   "source": [
    "!qiime diversity core-metrics \\\n",
    "--i-table ./Qiime_input_data/kuT2T_WIS/countData_WashU_BDN.qza \\\n",
    "--p-sampling-depth 1400 \\\n",
    "--m-metadata-file ./Qiime_input_data/kuT2T_WIS/metaData_WashU_BDN.txt \\\n",
    "--output-dir ./core_metrics/kuT2T_WIS/bdn_washu_R1400/"
   ]
  },
  {
   "cell_type": "code",
   "execution_count": 81,
   "metadata": {},
   "outputs": [
    {
     "name": "stdout",
     "output_type": "stream",
     "text": [
      "\u001b[32mSaved Visualization to: ./core_metrics/kuT2T_WIS/bdn_washu_R1400/observed_features_vector_significance.qzv\u001b[0m\n",
      "\u001b[0m\u001b[32mSaved Visualization to: ./core_metrics/kuT2T_WIS/bdn_washu_R1400/shannon_vector_significance.qzv\u001b[0m\n",
      "\u001b[0m"
     ]
    }
   ],
   "source": [
    "!qiime diversity alpha-group-significance \\\n",
    "--i-alpha-diversity ./core_metrics/kuT2T_WIS/bdn_washu_R1400/observed_features_vector.qza \\\n",
    "--m-metadata-file ./Qiime_input_data/kuT2T_WIS/metaData_WashU_BDN.txt \\\n",
    "--o-visualization ./core_metrics/kuT2T_WIS/bdn_washu_R1400/observed_features_vector_significance.qzv\n",
    "\n",
    "!qiime diversity alpha-group-significance \\\n",
    "--i-alpha-diversity ./core_metrics/kuT2T_WIS/bdn_washu_R1400/shannon_vector.qza \\\n",
    "--m-metadata-file ./Qiime_input_data/kuT2T_WIS/metaData_WashU_BDN.txt \\\n",
    "--o-visualization ./core_metrics/kuT2T_WIS/bdn_washu_R1400/shannon_vector_significance.qzv"
   ]
  },
  {
   "cell_type": "code",
   "execution_count": 82,
   "metadata": {},
   "outputs": [
    {
     "name": "stdout",
     "output_type": "stream",
     "text": [
      "\u001b[32mSaved Visualization to: ./core_metrics/kuT2T_WIS/bdn_washu_R1400/jaccard_distance_matrix_significance.qzv\u001b[0m\n",
      "\u001b[0m\u001b[32mSaved Visualization to: ./core_metrics/kuT2T_WIS/bdn_washu_R1400/bray_curtis_distance_matrix_significance.qzv\u001b[0m\n",
      "\u001b[0m"
     ]
    }
   ],
   "source": [
    "!qiime diversity beta-group-significance \\\n",
    "--i-distance-matrix ./core_metrics/kuT2T_WIS/bdn_washu_R1400/jaccard_distance_matrix.qza \\\n",
    "--m-metadata-file ./Qiime_input_data/kuT2T_WIS/metaData_WashU_BDN.txt \\\n",
    "--m-metadata-column investigation \\\n",
    "--o-visualization ./core_metrics/kuT2T_WIS/bdn_washu_R1400/jaccard_distance_matrix_significance.qzv\n",
    "\n",
    "!qiime diversity beta-group-significance \\\n",
    "--i-distance-matrix ./core_metrics/kuT2T_WIS/bdn_washu_R1400/bray_curtis_distance_matrix.qza \\\n",
    "--m-metadata-file ./Qiime_input_data/kuT2T_WIS/metaData_WashU_BDN.txt \\\n",
    "--m-metadata-column investigation \\\n",
    "--o-visualization ./core_metrics/kuT2T_WIS/bdn_washu_R1400/bray_curtis_distance_matrix_significance.qzv"
   ]
  },
  {
   "cell_type": "markdown",
   "metadata": {},
   "source": [
    "### Broad Institute WGS only (Broad WGS)\n",
    "Note the following sample read distribution from R:\n",
    "```\n",
    "[1] \"Broad_WGS\"\n",
    "    Min.  1st Qu.   Median     Mean  3rd Qu.     Max. \n",
    "      47      329      663    48688     2640 13135610 \n",
    "```"
   ]
  },
  {
   "cell_type": "code",
   "execution_count": 83,
   "metadata": {},
   "outputs": [
    {
     "name": "stdout",
     "output_type": "stream",
     "text": [
      "\u001b[32mSaved FeatureTable[Frequency] to: ./core_metrics/kuT2T_WIS/bdn_broad_wgs_R300/rarefied_table.qza\u001b[0m\n",
      "\u001b[32mSaved SampleData[AlphaDiversity] to: ./core_metrics/kuT2T_WIS/bdn_broad_wgs_R300/observed_features_vector.qza\u001b[0m\n",
      "\u001b[32mSaved SampleData[AlphaDiversity] to: ./core_metrics/kuT2T_WIS/bdn_broad_wgs_R300/shannon_vector.qza\u001b[0m\n",
      "\u001b[32mSaved SampleData[AlphaDiversity] to: ./core_metrics/kuT2T_WIS/bdn_broad_wgs_R300/evenness_vector.qza\u001b[0m\n",
      "\u001b[32mSaved DistanceMatrix to: ./core_metrics/kuT2T_WIS/bdn_broad_wgs_R300/jaccard_distance_matrix.qza\u001b[0m\n",
      "\u001b[32mSaved DistanceMatrix to: ./core_metrics/kuT2T_WIS/bdn_broad_wgs_R300/bray_curtis_distance_matrix.qza\u001b[0m\n",
      "\u001b[32mSaved PCoAResults to: ./core_metrics/kuT2T_WIS/bdn_broad_wgs_R300/jaccard_pcoa_results.qza\u001b[0m\n",
      "\u001b[32mSaved PCoAResults to: ./core_metrics/kuT2T_WIS/bdn_broad_wgs_R300/bray_curtis_pcoa_results.qza\u001b[0m\n",
      "\u001b[32mSaved Visualization to: ./core_metrics/kuT2T_WIS/bdn_broad_wgs_R300/jaccard_emperor.qzv\u001b[0m\n",
      "\u001b[32mSaved Visualization to: ./core_metrics/kuT2T_WIS/bdn_broad_wgs_R300/bray_curtis_emperor.qzv\u001b[0m\n",
      "\u001b[0m"
     ]
    }
   ],
   "source": [
    "!qiime diversity core-metrics \\\n",
    "--i-table ./Qiime_input_data/kuT2T_WIS/countData_Broad_WGS_BDN.qza \\\n",
    "--p-sampling-depth 300 \\\n",
    "--m-metadata-file ./Qiime_input_data/kuT2T_WIS/metaData_Broad_WGS_BDN.txt \\\n",
    "--output-dir ./core_metrics/kuT2T_WIS/bdn_broad_wgs_R300/"
   ]
  },
  {
   "cell_type": "code",
   "execution_count": 84,
   "metadata": {},
   "outputs": [
    {
     "name": "stdout",
     "output_type": "stream",
     "text": [
      "\u001b[32mSaved Visualization to: ./core_metrics/kuT2T_WIS/bdn_broad_wgs_R300/observed_features_vector_significance.qzv\u001b[0m\n",
      "\u001b[0m\u001b[32mSaved Visualization to: ./core_metrics/kuT2T_WIS/bdn_broad_wgs_R300/shannon_vector_significance.qzv\u001b[0m\n",
      "\u001b[0m"
     ]
    }
   ],
   "source": [
    "!qiime diversity alpha-group-significance \\\n",
    "--i-alpha-diversity ./core_metrics/kuT2T_WIS/bdn_broad_wgs_R300/observed_features_vector.qza \\\n",
    "--m-metadata-file ./Qiime_input_data/kuT2T_WIS/metaData_Broad_WGS_BDN.txt \\\n",
    "--o-visualization ./core_metrics/kuT2T_WIS/bdn_broad_wgs_R300/observed_features_vector_significance.qzv\n",
    "\n",
    "!qiime diversity alpha-group-significance \\\n",
    "--i-alpha-diversity ./core_metrics/kuT2T_WIS/bdn_broad_wgs_R300/shannon_vector.qza \\\n",
    "--m-metadata-file ./Qiime_input_data/kuT2T_WIS/metaData_Broad_WGS_BDN.txt \\\n",
    "--o-visualization ./core_metrics/kuT2T_WIS/bdn_broad_wgs_R300/shannon_vector_significance.qzv"
   ]
  },
  {
   "cell_type": "code",
   "execution_count": 85,
   "metadata": {},
   "outputs": [
    {
     "name": "stdout",
     "output_type": "stream",
     "text": [
      "\u001b[32mSaved Visualization to: ./core_metrics/kuT2T_WIS/bdn_broad_wgs_R300/jaccard_distance_matrix_significance.qzv\u001b[0m\n",
      "\u001b[0m\u001b[32mSaved Visualization to: ./core_metrics/kuT2T_WIS/bdn_broad_wgs_R300/bray_curtis_distance_matrix_significance.qzv\u001b[0m\n",
      "\u001b[0m"
     ]
    }
   ],
   "source": [
    "!qiime diversity beta-group-significance \\\n",
    "--i-distance-matrix ./core_metrics/kuT2T_WIS/bdn_broad_wgs_R300/jaccard_distance_matrix.qza \\\n",
    "--m-metadata-file ./Qiime_input_data/kuT2T_WIS/metaData_Broad_WGS_BDN.txt \\\n",
    "--m-metadata-column investigation \\\n",
    "--o-visualization ./core_metrics/kuT2T_WIS/bdn_broad_wgs_R300/jaccard_distance_matrix_significance.qzv\n",
    "\n",
    "!qiime diversity beta-group-significance \\\n",
    "--i-distance-matrix ./core_metrics/kuT2T_WIS/bdn_broad_wgs_R300/bray_curtis_distance_matrix.qza \\\n",
    "--m-metadata-file ./Qiime_input_data/kuT2T_WIS/metaData_Broad_WGS_BDN.txt \\\n",
    "--m-metadata-column investigation \\\n",
    "--o-visualization ./core_metrics/kuT2T_WIS/bdn_broad_wgs_R300/bray_curtis_distance_matrix_significance.qzv"
   ]
  },
  {
   "cell_type": "markdown",
   "metadata": {},
   "source": [
    "# Figures for the paper\n",
    "\n",
    "- Emperor (https://biocore.github.io/emperor/) will be used to view the beta diversity PCoA plots (again using https://view.qiime2.org/) and capture screenshots for the PCoA figures"
   ]
  },
  {
   "cell_type": "code",
   "execution_count": null,
   "metadata": {},
   "outputs": [],
   "source": []
  }
 ],
 "metadata": {
  "kernelspec": {
   "display_name": "Python 3 (ipykernel)",
   "language": "python",
   "name": "python3"
  },
  "language_info": {
   "codemirror_mode": {
    "name": "ipython",
    "version": 3
   },
   "file_extension": ".py",
   "mimetype": "text/x-python",
   "name": "python",
   "nbconvert_exporter": "python",
   "pygments_lexer": "ipython3",
   "version": "3.8.13"
  }
 },
 "nbformat": 4,
 "nbformat_minor": 2
}
