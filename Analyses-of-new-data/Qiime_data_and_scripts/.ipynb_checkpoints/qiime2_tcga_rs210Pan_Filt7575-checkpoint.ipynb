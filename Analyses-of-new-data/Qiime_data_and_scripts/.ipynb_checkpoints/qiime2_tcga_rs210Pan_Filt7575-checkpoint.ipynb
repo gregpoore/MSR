{
 "cells": [
  {
   "cell_type": "markdown",
   "metadata": {},
   "source": [
    "The following conda environment for Qiime 2 was used for these analyses:\n",
    "\n",
    ">qiime2-2022.2\n",
    "\n",
    "The following commands were run using the command line interface (CLI) of Qiime 2."
   ]
  },
  {
   "cell_type": "markdown",
   "metadata": {},
   "source": [
    "# Import Taxa table"
   ]
  },
  {
   "cell_type": "code",
   "execution_count": 1,
   "metadata": {},
   "outputs": [
    {
     "name": "stdout",
     "output_type": "stream",
     "text": [
      "\u001b[32mImported ./Qiime_input_data/rs210-taxa.txt as TSVTaxonomyDirectoryFormat to rs210Taxonomy.qza\u001b[0m\r\n",
      "\u001b[0m"
     ]
    }
   ],
   "source": [
    "!qiime tools import \\\n",
    " --type 'FeatureData[Taxonomy]' \\\n",
    " --input-path ./Qiime_input_data/rs210-taxa.txt \\\n",
    " --output-path rs210Taxonomy.qza"
   ]
  },
  {
   "cell_type": "markdown",
   "metadata": {},
   "source": [
    "# Import PT data"
   ]
  },
  {
   "cell_type": "code",
   "execution_count": 2,
   "metadata": {},
   "outputs": [
    {
     "name": "stdout",
     "output_type": "stream",
     "text": [
      "\u001b[32mImported ./Qiime_input_data/rs210Pan_Filt7575/countData_HMS_PT.biom as BIOMV100Format to ./Qiime_input_data/rs210Pan_Filt7575/countData_HMS_PT.qza\u001b[0m\n",
      "\u001b[0m"
     ]
    }
   ],
   "source": [
    "!qiime tools import \\\n",
    "--type 'FeatureTable[Frequency]' \\\n",
    "--input-path ./Qiime_input_data/rs210Pan_Filt7575/countData_HMS_PT.biom \\\n",
    "--input-format BIOMV100Format \\\n",
    "--output-path ./Qiime_input_data/rs210Pan_Filt7575/countData_HMS_PT.qza"
   ]
  },
  {
   "cell_type": "code",
   "execution_count": 3,
   "metadata": {},
   "outputs": [
    {
     "name": "stdout",
     "output_type": "stream",
     "text": [
      "\u001b[32mImported ./Qiime_input_data/rs210Pan_Filt7575/countData_BCM_PT.biom as BIOMV100Format to ./Qiime_input_data/rs210Pan_Filt7575/countData_BCM_PT.qza\u001b[0m\n",
      "\u001b[0m"
     ]
    }
   ],
   "source": [
    "!qiime tools import \\\n",
    "--type 'FeatureTable[Frequency]' \\\n",
    "--input-path ./Qiime_input_data/rs210Pan_Filt7575/countData_BCM_PT.biom \\\n",
    "--input-format BIOMV100Format \\\n",
    "--output-path ./Qiime_input_data/rs210Pan_Filt7575/countData_BCM_PT.qza"
   ]
  },
  {
   "cell_type": "code",
   "execution_count": 4,
   "metadata": {},
   "outputs": [
    {
     "name": "stdout",
     "output_type": "stream",
     "text": [
      "\u001b[32mImported ./Qiime_input_data/rs210Pan_Filt7575/countData_MDA_PT.biom as BIOMV100Format to ./Qiime_input_data/rs210Pan_Filt7575/countData_MDA_PT.qza\u001b[0m\r\n",
      "\u001b[0m"
     ]
    }
   ],
   "source": [
    "!qiime tools import \\\n",
    "--type 'FeatureTable[Frequency]' \\\n",
    "--input-path ./Qiime_input_data/rs210Pan_Filt7575/countData_MDA_PT.biom \\\n",
    "--input-format BIOMV100Format \\\n",
    "--output-path ./Qiime_input_data/rs210Pan_Filt7575/countData_MDA_PT.qza"
   ]
  },
  {
   "cell_type": "code",
   "execution_count": 5,
   "metadata": {},
   "outputs": [
    {
     "name": "stdout",
     "output_type": "stream",
     "text": [
      "\u001b[32mImported ./Qiime_input_data/rs210Pan_Filt7575/countData_WashU_PT.biom as BIOMV100Format to ./Qiime_input_data/rs210Pan_Filt7575/countData_WashU_PT.qza\u001b[0m\r\n",
      "\u001b[0m"
     ]
    }
   ],
   "source": [
    "!qiime tools import \\\n",
    "--type 'FeatureTable[Frequency]' \\\n",
    "--input-path ./Qiime_input_data/rs210Pan_Filt7575/countData_WashU_PT.biom \\\n",
    "--input-format BIOMV100Format \\\n",
    "--output-path ./Qiime_input_data/rs210Pan_Filt7575/countData_WashU_PT.qza"
   ]
  },
  {
   "cell_type": "code",
   "execution_count": 6,
   "metadata": {},
   "outputs": [
    {
     "name": "stdout",
     "output_type": "stream",
     "text": [
      "\u001b[32mImported ./Qiime_input_data/rs210Pan_Filt7575/countData_Broad_WGS_PT.biom as BIOMV100Format to ./Qiime_input_data/rs210Pan_Filt7575/countData_Broad_WGS_PT.qza\u001b[0m\r\n",
      "\u001b[0m"
     ]
    }
   ],
   "source": [
    "!qiime tools import \\\n",
    "--type 'FeatureTable[Frequency]' \\\n",
    "--input-path ./Qiime_input_data/rs210Pan_Filt7575/countData_Broad_WGS_PT.biom \\\n",
    "--input-format BIOMV100Format \\\n",
    "--output-path ./Qiime_input_data/rs210Pan_Filt7575/countData_Broad_WGS_PT.qza"
   ]
  },
  {
   "cell_type": "code",
   "execution_count": 7,
   "metadata": {},
   "outputs": [
    {
     "name": "stdout",
     "output_type": "stream",
     "text": [
      "\u001b[32mImported ./Qiime_input_data/rs210Pan_Filt7575/countData_UNC_PT.biom as BIOMV100Format to ./Qiime_input_data/rs210Pan_Filt7575/countData_UNC_PT.qza\u001b[0m\r\n",
      "\u001b[0m"
     ]
    }
   ],
   "source": [
    "!qiime tools import \\\n",
    "--type 'FeatureTable[Frequency]' \\\n",
    "--input-path ./Qiime_input_data/rs210Pan_Filt7575/countData_UNC_PT.biom \\\n",
    "--input-format BIOMV100Format \\\n",
    "--output-path ./Qiime_input_data/rs210Pan_Filt7575/countData_UNC_PT.qza"
   ]
  },
  {
   "cell_type": "code",
   "execution_count": 8,
   "metadata": {},
   "outputs": [
    {
     "name": "stdout",
     "output_type": "stream",
     "text": [
      "\u001b[32mImported ./Qiime_input_data/rs210Pan_Filt7575/countData_CMS_PT.biom as BIOMV100Format to ./Qiime_input_data/rs210Pan_Filt7575/countData_CMS_PT.qza\u001b[0m\r\n",
      "\u001b[0m"
     ]
    }
   ],
   "source": [
    "!qiime tools import \\\n",
    "--type 'FeatureTable[Frequency]' \\\n",
    "--input-path ./Qiime_input_data/rs210Pan_Filt7575/countData_CMS_PT.biom \\\n",
    "--input-format BIOMV100Format \\\n",
    "--output-path ./Qiime_input_data/rs210Pan_Filt7575/countData_CMS_PT.qza"
   ]
  },
  {
   "cell_type": "markdown",
   "metadata": {},
   "source": [
    "# Import BDN data"
   ]
  },
  {
   "cell_type": "code",
   "execution_count": 9,
   "metadata": {},
   "outputs": [
    {
     "name": "stdout",
     "output_type": "stream",
     "text": [
      "\u001b[32mImported ./Qiime_input_data/rs210Pan_Filt7575/countData_HMS_BDN.biom as BIOMV100Format to ./Qiime_input_data/rs210Pan_Filt7575/countData_HMS_BDN.qza\u001b[0m\r\n",
      "\u001b[0m"
     ]
    }
   ],
   "source": [
    "!qiime tools import \\\n",
    "--type 'FeatureTable[Frequency]' \\\n",
    "--input-path ./Qiime_input_data/rs210Pan_Filt7575/countData_HMS_BDN.biom \\\n",
    "--input-format BIOMV100Format \\\n",
    "--output-path ./Qiime_input_data/rs210Pan_Filt7575/countData_HMS_BDN.qza"
   ]
  },
  {
   "cell_type": "code",
   "execution_count": 10,
   "metadata": {},
   "outputs": [
    {
     "name": "stdout",
     "output_type": "stream",
     "text": [
      "\u001b[32mImported ./Qiime_input_data/rs210Pan_Filt7575/countData_BCM_BDN.biom as BIOMV100Format to ./Qiime_input_data/rs210Pan_Filt7575/countData_BCM_BDN.qza\u001b[0m\r\n",
      "\u001b[0m"
     ]
    }
   ],
   "source": [
    "!qiime tools import \\\n",
    "--type 'FeatureTable[Frequency]' \\\n",
    "--input-path ./Qiime_input_data/rs210Pan_Filt7575/countData_BCM_BDN.biom \\\n",
    "--input-format BIOMV100Format \\\n",
    "--output-path ./Qiime_input_data/rs210Pan_Filt7575/countData_BCM_BDN.qza"
   ]
  },
  {
   "cell_type": "code",
   "execution_count": 11,
   "metadata": {},
   "outputs": [
    {
     "name": "stdout",
     "output_type": "stream",
     "text": [
      "\u001b[32mImported ./Qiime_input_data/rs210Pan_Filt7575/countData_MDA_BDN.biom as BIOMV100Format to ./Qiime_input_data/rs210Pan_Filt7575/countData_MDA_BDN.qza\u001b[0m\r\n",
      "\u001b[0m"
     ]
    }
   ],
   "source": [
    "!qiime tools import \\\n",
    "--type 'FeatureTable[Frequency]' \\\n",
    "--input-path ./Qiime_input_data/rs210Pan_Filt7575/countData_MDA_BDN.biom \\\n",
    "--input-format BIOMV100Format \\\n",
    "--output-path ./Qiime_input_data/rs210Pan_Filt7575/countData_MDA_BDN.qza"
   ]
  },
  {
   "cell_type": "code",
   "execution_count": 12,
   "metadata": {},
   "outputs": [
    {
     "name": "stdout",
     "output_type": "stream",
     "text": [
      "\u001b[32mImported ./Qiime_input_data/rs210Pan_Filt7575/countData_WashU_BDN.biom as BIOMV100Format to ./Qiime_input_data/rs210Pan_Filt7575/countData_WashU_BDN.qza\u001b[0m\r\n",
      "\u001b[0m"
     ]
    }
   ],
   "source": [
    "!qiime tools import \\\n",
    "--type 'FeatureTable[Frequency]' \\\n",
    "--input-path ./Qiime_input_data/rs210Pan_Filt7575/countData_WashU_BDN.biom \\\n",
    "--input-format BIOMV100Format \\\n",
    "--output-path ./Qiime_input_data/rs210Pan_Filt7575/countData_WashU_BDN.qza"
   ]
  },
  {
   "cell_type": "code",
   "execution_count": 13,
   "metadata": {
    "scrolled": true
   },
   "outputs": [
    {
     "name": "stdout",
     "output_type": "stream",
     "text": [
      "\u001b[32mImported ./Qiime_input_data/rs210Pan_Filt7575/countData_Broad_WGS_BDN.biom as BIOMV100Format to ./Qiime_input_data/rs210Pan_Filt7575/countData_Broad_WGS_BDN.qza\u001b[0m\r\n",
      "\u001b[0m"
     ]
    }
   ],
   "source": [
    "!qiime tools import \\\n",
    "--type 'FeatureTable[Frequency]' \\\n",
    "--input-path ./Qiime_input_data/rs210Pan_Filt7575/countData_Broad_WGS_BDN.biom \\\n",
    "--input-format BIOMV100Format \\\n",
    "--output-path ./Qiime_input_data/rs210Pan_Filt7575/countData_Broad_WGS_BDN.qza"
   ]
  },
  {
   "cell_type": "markdown",
   "metadata": {},
   "source": [
    "# Deicode for PT (beta diversity that does not require rarefaction)\n",
    "\n",
    "Martino et al. 2019. mSystems. See the following links:\n",
    "- https://journals.asm.org/doi/10.1128/mSystems.00016-19\n",
    "- https://forum.qiime2.org/t/robust-aitchison-pca-beta-diversity-with-deicode/8333"
   ]
  },
  {
   "cell_type": "markdown",
   "metadata": {},
   "source": [
    "### Harvard Medical School (HMS)"
   ]
  },
  {
   "cell_type": "code",
   "execution_count": 14,
   "metadata": {
    "scrolled": true
   },
   "outputs": [
    {
     "name": "stdout",
     "output_type": "stream",
     "text": [
      "\u001b[32mSaved PCoAResults % Properties('biplot') to: ./Qiime_input_data/rs210Pan_Filt7575/deicode_ordination_HMS_PT.qza\u001b[0m\n",
      "\u001b[32mSaved DistanceMatrix to: ./Qiime_input_data/rs210Pan_Filt7575/deicode_distance_HMS_PT.qza\u001b[0m\n",
      "\u001b[0m"
     ]
    }
   ],
   "source": [
    "!qiime deicode rpca \\\n",
    "    --i-table ./Qiime_input_data/rs210Pan_Filt7575/countData_HMS_PT.qza \\\n",
    "    --o-biplot ./Qiime_input_data/rs210Pan_Filt7575/deicode_ordination_HMS_PT.qza \\\n",
    "    --p-min-sample-count 100 \\\n",
    "    --o-distance-matrix ./Qiime_input_data/rs210Pan_Filt7575/deicode_distance_HMS_PT.qza"
   ]
  },
  {
   "cell_type": "code",
   "execution_count": 15,
   "metadata": {},
   "outputs": [
    {
     "name": "stdout",
     "output_type": "stream",
     "text": [
      "\u001b[32mSaved Visualization to: ./Qiime_input_data/rs210Pan_Filt7575/deicode_biplot_HMS_PT.qzv\u001b[0m\r\n",
      "\u001b[0m"
     ]
    }
   ],
   "source": [
    "!qiime emperor biplot \\\n",
    "    --i-biplot ./Qiime_input_data/rs210Pan_Filt7575/deicode_ordination_HMS_PT.qza \\\n",
    "    --m-sample-metadata-file ./Qiime_input_data/rs210Pan_Filt7575/metaData_HMS_PT.txt \\\n",
    "    --m-feature-metadata-file rs210Taxonomy.qza \\\n",
    "    --o-visualization ./Qiime_input_data/rs210Pan_Filt7575/deicode_biplot_HMS_PT.qzv \\\n",
    "    --p-number-of-features 1"
   ]
  },
  {
   "cell_type": "code",
   "execution_count": 16,
   "metadata": {},
   "outputs": [
    {
     "name": "stdout",
     "output_type": "stream",
     "text": [
      "\u001b[32mSaved Visualization to: ./Qiime_input_data/rs210Pan_Filt7575/deicode_adonis_HMS_PT.qzv\u001b[0m\r\n",
      "\u001b[0m"
     ]
    }
   ],
   "source": [
    "!qiime diversity adonis \\\n",
    "--i-distance-matrix ./Qiime_input_data/rs210Pan_Filt7575/deicode_distance_HMS_PT.qza \\\n",
    "--m-metadata-file ./Qiime_input_data/rs210Pan_Filt7575/metaData_HMS_PT.txt \\\n",
    "--p-formula \"investigation\" \\\n",
    "--p-n-jobs 8 \\\n",
    "--o-visualization ./Qiime_input_data/rs210Pan_Filt7575/deicode_adonis_HMS_PT.qzv"
   ]
  },
  {
   "cell_type": "markdown",
   "metadata": {},
   "source": [
    "### Baylor College of Medicine (BCM)"
   ]
  },
  {
   "cell_type": "code",
   "execution_count": 17,
   "metadata": {},
   "outputs": [
    {
     "name": "stdout",
     "output_type": "stream",
     "text": [
      "\u001b[32mSaved PCoAResults % Properties('biplot') to: ./Qiime_input_data/rs210Pan_Filt7575/deicode_ordination_BCM_PT.qza\u001b[0m\n",
      "\u001b[32mSaved DistanceMatrix to: ./Qiime_input_data/rs210Pan_Filt7575/deicode_distance_BCM_PT.qza\u001b[0m\n",
      "\u001b[0m"
     ]
    }
   ],
   "source": [
    "!qiime deicode rpca \\\n",
    "    --i-table ./Qiime_input_data/rs210Pan_Filt7575/countData_BCM_PT.qza \\\n",
    "    --o-biplot ./Qiime_input_data/rs210Pan_Filt7575/deicode_ordination_BCM_PT.qza \\\n",
    "    --p-min-sample-count 100 \\\n",
    "    --o-distance-matrix ./Qiime_input_data/rs210Pan_Filt7575/deicode_distance_BCM_PT.qza"
   ]
  },
  {
   "cell_type": "code",
   "execution_count": 18,
   "metadata": {},
   "outputs": [
    {
     "name": "stdout",
     "output_type": "stream",
     "text": [
      "\u001b[32mSaved Visualization to: ./Qiime_input_data/rs210Pan_Filt7575/deicode_biplot_BCM_PT.qzv\u001b[0m\r\n",
      "\u001b[0m"
     ]
    }
   ],
   "source": [
    "!qiime emperor biplot \\\n",
    "    --i-biplot ./Qiime_input_data/rs210Pan_Filt7575/deicode_ordination_BCM_PT.qza \\\n",
    "    --m-sample-metadata-file ./Qiime_input_data/rs210Pan_Filt7575/metaData_BCM_PT.txt \\\n",
    "    --m-feature-metadata-file rs210Taxonomy.qza \\\n",
    "    --o-visualization ./Qiime_input_data/rs210Pan_Filt7575/deicode_biplot_BCM_PT.qzv \\\n",
    "    --p-number-of-features 1"
   ]
  },
  {
   "cell_type": "code",
   "execution_count": 19,
   "metadata": {},
   "outputs": [
    {
     "name": "stdout",
     "output_type": "stream",
     "text": [
      "\u001b[32mSaved Visualization to: ./Qiime_input_data/rs210Pan_Filt7575/deicode_adonis_BCM_PT.qzv\u001b[0m\r\n",
      "\u001b[0m"
     ]
    }
   ],
   "source": [
    "!qiime diversity adonis \\\n",
    "--i-distance-matrix ./Qiime_input_data/rs210Pan_Filt7575/deicode_distance_BCM_PT.qza \\\n",
    "--m-metadata-file ./Qiime_input_data/rs210Pan_Filt7575/metaData_BCM_PT.txt \\\n",
    "--p-formula \"investigation\" \\\n",
    "--p-n-jobs 8 \\\n",
    "--o-visualization ./Qiime_input_data/rs210Pan_Filt7575/deicode_adonis_BCM_PT.qzv"
   ]
  },
  {
   "cell_type": "markdown",
   "metadata": {},
   "source": [
    "### MD Anderson (MDA)"
   ]
  },
  {
   "cell_type": "code",
   "execution_count": 20,
   "metadata": {},
   "outputs": [
    {
     "name": "stdout",
     "output_type": "stream",
     "text": [
      "\u001b[32mSaved PCoAResults % Properties('biplot') to: ./Qiime_input_data/rs210Pan_Filt7575/deicode_ordination_MDA_PT.qza\u001b[0m\r\n",
      "\u001b[32mSaved DistanceMatrix to: ./Qiime_input_data/rs210Pan_Filt7575/deicode_distance_MDA_PT.qza\u001b[0m\r\n",
      "\u001b[0m"
     ]
    }
   ],
   "source": [
    "!qiime deicode rpca \\\n",
    "    --i-table ./Qiime_input_data/rs210Pan_Filt7575/countData_MDA_PT.qza \\\n",
    "    --o-biplot ./Qiime_input_data/rs210Pan_Filt7575/deicode_ordination_MDA_PT.qza \\\n",
    "    --p-min-sample-count 25 \\\n",
    "    --o-distance-matrix ./Qiime_input_data/rs210Pan_Filt7575/deicode_distance_MDA_PT.qza"
   ]
  },
  {
   "cell_type": "code",
   "execution_count": 21,
   "metadata": {},
   "outputs": [
    {
     "name": "stdout",
     "output_type": "stream",
     "text": [
      "\u001b[32mSaved Visualization to: ./Qiime_input_data/rs210Pan_Filt7575/deicode_biplot_MDA_PT.qzv\u001b[0m\n",
      "\u001b[0m"
     ]
    }
   ],
   "source": [
    "!qiime emperor biplot \\\n",
    "    --i-biplot ./Qiime_input_data/rs210Pan_Filt7575/deicode_ordination_MDA_PT.qza \\\n",
    "    --m-sample-metadata-file ./Qiime_input_data/rs210Pan_Filt7575/metaData_MDA_PT.txt \\\n",
    "    --m-feature-metadata-file rs210Taxonomy.qza \\\n",
    "    --o-visualization ./Qiime_input_data/rs210Pan_Filt7575/deicode_biplot_MDA_PT.qzv \\\n",
    "    --p-number-of-features 1"
   ]
  },
  {
   "cell_type": "code",
   "execution_count": 22,
   "metadata": {},
   "outputs": [
    {
     "name": "stdout",
     "output_type": "stream",
     "text": [
      "\u001b[32mSaved Visualization to: ./Qiime_input_data/rs210Pan_Filt7575/deicode_adonis_MDA_PT.qzv\u001b[0m\r\n",
      "\u001b[0m"
     ]
    }
   ],
   "source": [
    "!qiime diversity adonis \\\n",
    "    --i-distance-matrix ./Qiime_input_data/rs210Pan_Filt7575/deicode_distance_MDA_PT.qza \\\n",
    "    --m-metadata-file ./Qiime_input_data/rs210Pan_Filt7575/metaData_MDA_PT.txt \\\n",
    "    --p-formula \"investigation\" \\\n",
    "    --p-n-jobs 8 \\\n",
    "    --o-visualization ./Qiime_input_data/rs210Pan_Filt7575/deicode_adonis_MDA_PT.qzv"
   ]
  },
  {
   "cell_type": "markdown",
   "metadata": {},
   "source": [
    "### Washington University (WashU)"
   ]
  },
  {
   "cell_type": "code",
   "execution_count": 23,
   "metadata": {},
   "outputs": [
    {
     "name": "stdout",
     "output_type": "stream",
     "text": [
      "\u001b[32mSaved PCoAResults % Properties('biplot') to: ./Qiime_input_data/rs210Pan_Filt7575/deicode_ordination_WashU_PT.qza\u001b[0m\n",
      "\u001b[32mSaved DistanceMatrix to: ./Qiime_input_data/rs210Pan_Filt7575/deicode_distance_WashU_PT.qza\u001b[0m\n",
      "\u001b[0m"
     ]
    }
   ],
   "source": [
    "!qiime deicode rpca \\\n",
    "    --i-table ./Qiime_input_data/rs210Pan_Filt7575/countData_WashU_PT.qza \\\n",
    "    --o-biplot ./Qiime_input_data/rs210Pan_Filt7575/deicode_ordination_WashU_PT.qza \\\n",
    "    --p-min-sample-count 100 \\\n",
    "    --o-distance-matrix ./Qiime_input_data/rs210Pan_Filt7575/deicode_distance_WashU_PT.qza"
   ]
  },
  {
   "cell_type": "code",
   "execution_count": 24,
   "metadata": {},
   "outputs": [
    {
     "name": "stdout",
     "output_type": "stream",
     "text": [
      "\u001b[32mSaved Visualization to: ./Qiime_input_data/rs210Pan_Filt7575/deicode_biplot_WashU_PT.qzv\u001b[0m\r\n",
      "\u001b[0m"
     ]
    }
   ],
   "source": [
    "!qiime emperor biplot \\\n",
    "    --i-biplot ./Qiime_input_data/rs210Pan_Filt7575/deicode_ordination_WashU_PT.qza \\\n",
    "    --m-sample-metadata-file ./Qiime_input_data/rs210Pan_Filt7575/metaData_WashU_PT.txt \\\n",
    "    --m-feature-metadata-file rs210Taxonomy.qza \\\n",
    "    --o-visualization ./Qiime_input_data/rs210Pan_Filt7575/deicode_biplot_WashU_PT.qzv \\\n",
    "    --p-number-of-features 1"
   ]
  },
  {
   "cell_type": "code",
   "execution_count": 25,
   "metadata": {},
   "outputs": [
    {
     "name": "stdout",
     "output_type": "stream",
     "text": [
      "\u001b[32mSaved Visualization to: ./Qiime_input_data/rs210Pan_Filt7575/deicode_adonis_WashU_PT.qzv\u001b[0m\r\n",
      "\u001b[0m"
     ]
    }
   ],
   "source": [
    "!qiime diversity adonis \\\n",
    "    --i-distance-matrix ./Qiime_input_data/rs210Pan_Filt7575/deicode_distance_WashU_PT.qza \\\n",
    "    --m-metadata-file ./Qiime_input_data/rs210Pan_Filt7575/metaData_WashU_PT.txt \\\n",
    "    --p-formula \"investigation\" \\\n",
    "    --p-n-jobs 8 \\\n",
    "    --o-visualization ./Qiime_input_data/rs210Pan_Filt7575/deicode_adonis_WashU_PT.qzv"
   ]
  },
  {
   "cell_type": "markdown",
   "metadata": {},
   "source": [
    "### Broad Institute WGS (Broad_WGS)"
   ]
  },
  {
   "cell_type": "code",
   "execution_count": 26,
   "metadata": {},
   "outputs": [
    {
     "name": "stdout",
     "output_type": "stream",
     "text": [
      "\u001b[32mSaved PCoAResults % Properties('biplot') to: ./Qiime_input_data/rs210Pan_Filt7575/deicode_ordination_Broad_WGS_PT.qza\u001b[0m\n",
      "\u001b[32mSaved DistanceMatrix to: ./Qiime_input_data/rs210Pan_Filt7575/deicode_distance_Broad_WGS_PT.qza\u001b[0m\n",
      "\u001b[0m"
     ]
    }
   ],
   "source": [
    "!qiime deicode rpca \\\n",
    "    --i-table ./Qiime_input_data/rs210Pan_Filt7575/countData_Broad_WGS_PT.qza \\\n",
    "    --o-biplot ./Qiime_input_data/rs210Pan_Filt7575/deicode_ordination_Broad_WGS_PT.qza \\\n",
    "    --p-min-sample-count 100 \\\n",
    "    --o-distance-matrix ./Qiime_input_data/rs210Pan_Filt7575/deicode_distance_Broad_WGS_PT.qza"
   ]
  },
  {
   "cell_type": "code",
   "execution_count": 27,
   "metadata": {},
   "outputs": [
    {
     "name": "stdout",
     "output_type": "stream",
     "text": [
      "\u001b[32mSaved Visualization to: ./Qiime_input_data/rs210Pan_Filt7575/deicode_biplot_Broad_WGS_PT.qzv\u001b[0m\r\n",
      "\u001b[0m"
     ]
    }
   ],
   "source": [
    "!qiime emperor biplot \\\n",
    "    --i-biplot ./Qiime_input_data/rs210Pan_Filt7575/deicode_ordination_Broad_WGS_PT.qza \\\n",
    "    --m-sample-metadata-file ./Qiime_input_data/rs210Pan_Filt7575/metaData_Broad_WGS_PT.txt \\\n",
    "    --m-feature-metadata-file rs210Taxonomy.qza \\\n",
    "    --o-visualization ./Qiime_input_data/rs210Pan_Filt7575/deicode_biplot_Broad_WGS_PT.qzv \\\n",
    "    --p-number-of-features 1"
   ]
  },
  {
   "cell_type": "code",
   "execution_count": 28,
   "metadata": {},
   "outputs": [
    {
     "name": "stdout",
     "output_type": "stream",
     "text": [
      "\u001b[32mSaved Visualization to: ./Qiime_input_data/rs210Pan_Filt7575/deicode_adonis_Broad_WGS_PT.qzv\u001b[0m\n",
      "\u001b[0m"
     ]
    }
   ],
   "source": [
    "!qiime diversity adonis \\\n",
    "    --i-distance-matrix ./Qiime_input_data/rs210Pan_Filt7575/deicode_distance_Broad_WGS_PT.qza \\\n",
    "    --m-metadata-file ./Qiime_input_data/rs210Pan_Filt7575/metaData_Broad_WGS_PT.txt \\\n",
    "    --p-formula \"investigation\" \\\n",
    "    --p-n-jobs 8 \\\n",
    "    --o-visualization ./Qiime_input_data/rs210Pan_Filt7575/deicode_adonis_Broad_WGS_PT.qzv"
   ]
  },
  {
   "cell_type": "markdown",
   "metadata": {},
   "source": [
    "### University of North Carolina (UNC)\n",
    "Note: Filt7575 data only has KIRC -- so cannot compute cancer type specificity with adonis"
   ]
  },
  {
   "cell_type": "code",
   "execution_count": 29,
   "metadata": {},
   "outputs": [
    {
     "name": "stdout",
     "output_type": "stream",
     "text": [
      "\u001b[32mSaved PCoAResults % Properties('biplot') to: ./Qiime_input_data/rs210Pan_Filt7575/deicode_ordination_UNC_PT.qza\u001b[0m\n",
      "\u001b[32mSaved DistanceMatrix to: ./Qiime_input_data/rs210Pan_Filt7575/deicode_distance_UNC_PT.qza\u001b[0m\n",
      "\u001b[0m"
     ]
    }
   ],
   "source": [
    "!qiime deicode rpca \\\n",
    "    --i-table ./Qiime_input_data/rs210Pan_Filt7575/countData_UNC_PT.qza \\\n",
    "    --o-biplot ./Qiime_input_data/rs210Pan_Filt7575/deicode_ordination_UNC_PT.qza \\\n",
    "    --p-min-sample-count 25 \\\n",
    "    --o-distance-matrix ./Qiime_input_data/rs210Pan_Filt7575/deicode_distance_UNC_PT.qza"
   ]
  },
  {
   "cell_type": "code",
   "execution_count": 30,
   "metadata": {},
   "outputs": [
    {
     "name": "stdout",
     "output_type": "stream",
     "text": [
      "\u001b[32mSaved Visualization to: ./Qiime_input_data/rs210Pan_Filt7575/deicode_biplot_UNC_PT.qzv\u001b[0m\r\n",
      "\u001b[0m"
     ]
    }
   ],
   "source": [
    "!qiime emperor biplot \\\n",
    "    --i-biplot ./Qiime_input_data/rs210Pan_Filt7575/deicode_ordination_UNC_PT.qza \\\n",
    "    --m-sample-metadata-file ./Qiime_input_data/rs210Pan_Filt7575/metaData_UNC_PT.txt \\\n",
    "    --m-feature-metadata-file rs210Taxonomy.qza \\\n",
    "    --o-visualization ./Qiime_input_data/rs210Pan_Filt7575/deicode_biplot_UNC_PT.qzv \\\n",
    "    --p-number-of-features 1"
   ]
  },
  {
   "cell_type": "code",
   "execution_count": 31,
   "metadata": {},
   "outputs": [
    {
     "name": "stdout",
     "output_type": "stream",
     "text": [
      "Running external command line application. This may print messages to stdout and/or stderr.\n",
      "The command being run is below. This command cannot be manually re-run as it will depend on temporary files that no longer exist.\n",
      "\n",
      "Command: run_adonis.R /var/folders/db/18t2_m7d13l30r8qj875qdm80000gn/T/tmpgza00dhb/dm.tsv /var/folders/db/18t2_m7d13l30r8qj875qdm80000gn/T/tmpgza00dhb/md.tsv investigation 999 8 /var/folders/db/18t2_m7d13l30r8qj875qdm80000gn/T/qiime2-temp-bnu61r4z/adonis.tsv\n",
      "\n",
      "R version 4.1.3 (2022-03-10) \n",
      "Loading required package: permute\n",
      "Loading required package: lattice\n",
      "This is vegan 2.6-2\n",
      "'adonis' will be deprecated: use 'adonis2' instead\n",
      "Error in `contrasts<-`(`*tmp*`, value = contr.funs[1 + isOF[nn]]) : \n",
      "  contrasts can be applied only to factors with 2 or more levels\n",
      "Calls: adonis ... model.matrix -> model.matrix.default -> contrasts<-\n",
      "Execution halted\n",
      "Traceback (most recent call last):\n",
      "  File \"/Users/gregpoore/opt/anaconda3/envs/qiime2-2022.2/lib/python3.8/site-packages/q2cli/commands.py\", line 339, in __call__\n",
      "    results = action(**arguments)\n",
      "  File \"<decorator-gen-204>\", line 2, in adonis\n",
      "  File \"/Users/gregpoore/opt/anaconda3/envs/qiime2-2022.2/lib/python3.8/site-packages/qiime2/sdk/action.py\", line 245, in bound_callable\n",
      "    outputs = self._callable_executor_(scope, callable_args,\n",
      "  File \"/Users/gregpoore/opt/anaconda3/envs/qiime2-2022.2/lib/python3.8/site-packages/qiime2/sdk/action.py\", line 453, in _callable_executor_\n",
      "    ret_val = self._callable(output_dir=temp_dir, **view_args)\n",
      "  File \"/Users/gregpoore/opt/anaconda3/envs/qiime2-2022.2/lib/python3.8/site-packages/q2_diversity/_beta/_visualizer.py\", line 382, in adonis\n",
      "    _run_command(cmd)\n",
      "  File \"/Users/gregpoore/opt/anaconda3/envs/qiime2-2022.2/lib/python3.8/site-packages/q2_diversity/_beta/_visualizer.py\", line 408, in _run_command\n",
      "    subprocess.run(cmd, check=True)\n",
      "  File \"/Users/gregpoore/opt/anaconda3/envs/qiime2-2022.2/lib/python3.8/subprocess.py\", line 516, in run\n",
      "    raise CalledProcessError(retcode, process.args,\n",
      "subprocess.CalledProcessError: Command '['run_adonis.R', '/var/folders/db/18t2_m7d13l30r8qj875qdm80000gn/T/tmpgza00dhb/dm.tsv', '/var/folders/db/18t2_m7d13l30r8qj875qdm80000gn/T/tmpgza00dhb/md.tsv', 'investigation', '999', '8', '/var/folders/db/18t2_m7d13l30r8qj875qdm80000gn/T/qiime2-temp-bnu61r4z/adonis.tsv']' returned non-zero exit status 1.\n",
      "\n",
      "\u001b[31m\u001b[1mPlugin error from diversity:\n",
      "\n",
      "  Command '['run_adonis.R', '/var/folders/db/18t2_m7d13l30r8qj875qdm80000gn/T/tmpgza00dhb/dm.tsv', '/var/folders/db/18t2_m7d13l30r8qj875qdm80000gn/T/tmpgza00dhb/md.tsv', 'investigation', '999', '8', '/var/folders/db/18t2_m7d13l30r8qj875qdm80000gn/T/qiime2-temp-bnu61r4z/adonis.tsv']' returned non-zero exit status 1.\n",
      "\n",
      "See above for debug info.\u001b[0m\n",
      "\u001b[0m"
     ]
    }
   ],
   "source": [
    "!qiime diversity adonis \\\n",
    "    --i-distance-matrix ./Qiime_input_data/rs210Pan_Filt7575/deicode_distance_UNC_PT.qza \\\n",
    "    --m-metadata-file ./Qiime_input_data/rs210Pan_Filt7575/metaData_UNC_PT.txt \\\n",
    "    --p-formula \"investigation\" \\\n",
    "    --p-n-jobs 8 \\\n",
    "    --verbose \\\n",
    "    --o-visualization ./Qiime_input_data/rs210Pan_Filt7575/deicode_adonis_UNC_PT.qzv"
   ]
  },
  {
   "cell_type": "markdown",
   "metadata": {},
   "source": [
    "### Canada's Michael Smith Genome Sciences Centre (CMS)"
   ]
  },
  {
   "cell_type": "code",
   "execution_count": 32,
   "metadata": {},
   "outputs": [
    {
     "name": "stdout",
     "output_type": "stream",
     "text": [
      "\u001b[32mSaved PCoAResults % Properties('biplot') to: ./Qiime_input_data/rs210Pan_Filt7575/deicode_ordination_CMS_PT.qza\u001b[0m\n",
      "\u001b[32mSaved DistanceMatrix to: ./Qiime_input_data/rs210Pan_Filt7575/deicode_distance_CMS_PT.qza\u001b[0m\n",
      "\u001b[0m"
     ]
    }
   ],
   "source": [
    "!qiime deicode rpca \\\n",
    "    --i-table ./Qiime_input_data/rs210Pan_Filt7575/countData_CMS_PT.qza \\\n",
    "    --o-biplot ./Qiime_input_data/rs210Pan_Filt7575/deicode_ordination_CMS_PT.qza \\\n",
    "    --p-min-sample-count 100 \\\n",
    "    --o-distance-matrix ./Qiime_input_data/rs210Pan_Filt7575/deicode_distance_CMS_PT.qza"
   ]
  },
  {
   "cell_type": "code",
   "execution_count": 33,
   "metadata": {},
   "outputs": [
    {
     "name": "stdout",
     "output_type": "stream",
     "text": [
      "\u001b[32mSaved Visualization to: ./Qiime_input_data/rs210Pan_Filt7575/deicode_biplot_CMS_PT.qzv\u001b[0m\n",
      "\u001b[0m"
     ]
    }
   ],
   "source": [
    "!qiime emperor biplot \\\n",
    "    --i-biplot ./Qiime_input_data/rs210Pan_Filt7575/deicode_ordination_CMS_PT.qza \\\n",
    "    --m-sample-metadata-file ./Qiime_input_data/rs210Pan_Filt7575/metaData_CMS_PT.txt \\\n",
    "    --m-feature-metadata-file rs210Taxonomy.qza \\\n",
    "    --o-visualization ./Qiime_input_data/rs210Pan_Filt7575/deicode_biplot_CMS_PT.qzv \\\n",
    "    --p-number-of-features 1"
   ]
  },
  {
   "cell_type": "code",
   "execution_count": 34,
   "metadata": {},
   "outputs": [
    {
     "name": "stdout",
     "output_type": "stream",
     "text": [
      "\u001b[32mSaved Visualization to: ./Qiime_input_data/rs210Pan_Filt7575/deicode_adonis_CMS_PT.qzv\u001b[0m\n",
      "\u001b[0m"
     ]
    }
   ],
   "source": [
    "!qiime diversity adonis \\\n",
    "    --i-distance-matrix ./Qiime_input_data/rs210Pan_Filt7575/deicode_distance_CMS_PT.qza \\\n",
    "    --m-metadata-file ./Qiime_input_data/rs210Pan_Filt7575/metaData_CMS_PT.txt \\\n",
    "    --p-formula \"investigation\" \\\n",
    "    --p-n-jobs 8 \\\n",
    "    --o-visualization ./Qiime_input_data/rs210Pan_Filt7575/deicode_adonis_CMS_PT.qzv"
   ]
  },
  {
   "cell_type": "markdown",
   "metadata": {},
   "source": [
    "# Deicode for BDN (beta diversity that does not require rarefaction)\n",
    "\n",
    "Martino et al. 2019. mSystems. See the following links:\n",
    "- https://journals.asm.org/doi/10.1128/mSystems.00016-19\n",
    "- https://forum.qiime2.org/t/robust-aitchison-pca-beta-diversity-with-deicode/8333"
   ]
  },
  {
   "cell_type": "markdown",
   "metadata": {},
   "source": [
    "### Harvard Medical School (HMS)"
   ]
  },
  {
   "cell_type": "code",
   "execution_count": 35,
   "metadata": {},
   "outputs": [
    {
     "name": "stdout",
     "output_type": "stream",
     "text": [
      "\u001b[32mSaved PCoAResults % Properties('biplot') to: ./Qiime_input_data/rs210Pan_Filt7575/deicode_ordination_HMS_BDN.qza\u001b[0m\n",
      "\u001b[32mSaved DistanceMatrix to: ./Qiime_input_data/rs210Pan_Filt7575/deicode_distance_HMS_BDN.qza\u001b[0m\n",
      "\u001b[0m"
     ]
    }
   ],
   "source": [
    "!qiime deicode rpca \\\n",
    "    --i-table ./Qiime_input_data/rs210Pan_Filt7575/countData_HMS_BDN.qza \\\n",
    "    --o-biplot ./Qiime_input_data/rs210Pan_Filt7575/deicode_ordination_HMS_BDN.qza \\\n",
    "    --p-min-sample-count 100 \\\n",
    "    --o-distance-matrix ./Qiime_input_data/rs210Pan_Filt7575/deicode_distance_HMS_BDN.qza"
   ]
  },
  {
   "cell_type": "code",
   "execution_count": 36,
   "metadata": {},
   "outputs": [
    {
     "name": "stdout",
     "output_type": "stream",
     "text": [
      "\u001b[32mSaved Visualization to: ./Qiime_input_data/rs210Pan_Filt7575/deicode_biplot_HMS_BDN.qzv\u001b[0m\r\n",
      "\u001b[0m"
     ]
    }
   ],
   "source": [
    "!qiime emperor biplot \\\n",
    "    --i-biplot ./Qiime_input_data/rs210Pan_Filt7575/deicode_ordination_HMS_BDN.qza \\\n",
    "    --m-sample-metadata-file ./Qiime_input_data/rs210Pan_Filt7575/metaData_HMS_BDN.txt \\\n",
    "    --m-feature-metadata-file rs210Taxonomy.qza \\\n",
    "    --o-visualization ./Qiime_input_data/rs210Pan_Filt7575/deicode_biplot_HMS_BDN.qzv \\\n",
    "    --p-number-of-features 1"
   ]
  },
  {
   "cell_type": "code",
   "execution_count": 37,
   "metadata": {},
   "outputs": [
    {
     "name": "stdout",
     "output_type": "stream",
     "text": [
      "\u001b[32mSaved Visualization to: ./Qiime_input_data/rs210Pan_Filt7575/deicode_adonis_HMS_BDN.qzv\u001b[0m\r\n",
      "\u001b[0m"
     ]
    }
   ],
   "source": [
    "!qiime diversity adonis \\\n",
    "    --i-distance-matrix ./Qiime_input_data/rs210Pan_Filt7575/deicode_distance_HMS_BDN.qza \\\n",
    "    --m-metadata-file ./Qiime_input_data/rs210Pan_Filt7575/metaData_HMS_BDN.txt \\\n",
    "    --p-formula \"investigation\" \\\n",
    "    --p-n-jobs 8 \\\n",
    "    --o-visualization ./Qiime_input_data/rs210Pan_Filt7575/deicode_adonis_HMS_BDN.qzv"
   ]
  },
  {
   "cell_type": "markdown",
   "metadata": {},
   "source": [
    "### Baylor College of Medicine (BCM)"
   ]
  },
  {
   "cell_type": "code",
   "execution_count": 38,
   "metadata": {},
   "outputs": [
    {
     "name": "stdout",
     "output_type": "stream",
     "text": [
      "\u001b[32mSaved PCoAResults % Properties('biplot') to: ./Qiime_input_data/rs210Pan_Filt7575/deicode_ordination_BCM_BDN.qza\u001b[0m\n",
      "\u001b[32mSaved DistanceMatrix to: ./Qiime_input_data/rs210Pan_Filt7575/deicode_distance_BCM_BDN.qza\u001b[0m\n",
      "\u001b[0m"
     ]
    }
   ],
   "source": [
    "!qiime deicode rpca \\\n",
    "    --i-table ./Qiime_input_data/rs210Pan_Filt7575/countData_BCM_BDN.qza \\\n",
    "    --o-biplot ./Qiime_input_data/rs210Pan_Filt7575/deicode_ordination_BCM_BDN.qza \\\n",
    "    --p-min-sample-count 100 \\\n",
    "    --o-distance-matrix ./Qiime_input_data/rs210Pan_Filt7575/deicode_distance_BCM_BDN.qza"
   ]
  },
  {
   "cell_type": "code",
   "execution_count": 39,
   "metadata": {},
   "outputs": [
    {
     "name": "stdout",
     "output_type": "stream",
     "text": [
      "\u001b[32mSaved Visualization to: ./Qiime_input_data/rs210Pan_Filt7575/deicode_biplot_BCM_BDN.qzv\u001b[0m\r\n",
      "\u001b[0m"
     ]
    }
   ],
   "source": [
    "!qiime emperor biplot \\\n",
    "    --i-biplot ./Qiime_input_data/rs210Pan_Filt7575/deicode_ordination_BCM_BDN.qza \\\n",
    "    --m-sample-metadata-file ./Qiime_input_data/rs210Pan_Filt7575/metaData_BCM_BDN.txt \\\n",
    "    --m-feature-metadata-file rs210Taxonomy.qza \\\n",
    "    --o-visualization ./Qiime_input_data/rs210Pan_Filt7575/deicode_biplot_BCM_BDN.qzv \\\n",
    "    --p-number-of-features 1"
   ]
  },
  {
   "cell_type": "code",
   "execution_count": 40,
   "metadata": {},
   "outputs": [
    {
     "name": "stdout",
     "output_type": "stream",
     "text": [
      "\u001b[32mSaved Visualization to: ./Qiime_input_data/rs210Pan_Filt7575/deicode_adonis_BCM_BDN.qzv\u001b[0m\r\n",
      "\u001b[0m"
     ]
    }
   ],
   "source": [
    "!qiime diversity adonis \\\n",
    "    --i-distance-matrix ./Qiime_input_data/rs210Pan_Filt7575/deicode_distance_BCM_BDN.qza \\\n",
    "    --m-metadata-file ./Qiime_input_data/rs210Pan_Filt7575/metaData_BCM_BDN.txt \\\n",
    "    --p-formula \"investigation\" \\\n",
    "    --p-n-jobs 8 \\\n",
    "    --o-visualization ./Qiime_input_data/rs210Pan_Filt7575/deicode_adonis_BCM_BDN.qzv"
   ]
  },
  {
   "cell_type": "markdown",
   "metadata": {},
   "source": [
    "### MD Anderson (MDA)"
   ]
  },
  {
   "cell_type": "code",
   "execution_count": 41,
   "metadata": {},
   "outputs": [
    {
     "name": "stdout",
     "output_type": "stream",
     "text": [
      "\u001b[32mSaved PCoAResults % Properties('biplot') to: ./Qiime_input_data/rs210Pan_Filt7575/deicode_ordination_MDA_BDN.qza\u001b[0m\r\n",
      "\u001b[32mSaved DistanceMatrix to: ./Qiime_input_data/rs210Pan_Filt7575/deicode_distance_MDA_BDN.qza\u001b[0m\r\n",
      "\u001b[0m"
     ]
    }
   ],
   "source": [
    "!qiime deicode rpca \\\n",
    "    --i-table ./Qiime_input_data/rs210Pan_Filt7575/countData_MDA_BDN.qza \\\n",
    "    --o-biplot ./Qiime_input_data/rs210Pan_Filt7575/deicode_ordination_MDA_BDN.qza \\\n",
    "    --p-min-sample-count 25 \\\n",
    "    --o-distance-matrix ./Qiime_input_data/rs210Pan_Filt7575/deicode_distance_MDA_BDN.qza"
   ]
  },
  {
   "cell_type": "code",
   "execution_count": 42,
   "metadata": {},
   "outputs": [
    {
     "name": "stdout",
     "output_type": "stream",
     "text": [
      "\u001b[32mSaved Visualization to: ./Qiime_input_data/rs210Pan_Filt7575/deicode_biplot_MDA_BDN.qzv\u001b[0m\r\n",
      "\u001b[0m"
     ]
    }
   ],
   "source": [
    "!qiime emperor biplot \\\n",
    "    --i-biplot ./Qiime_input_data/rs210Pan_Filt7575/deicode_ordination_MDA_BDN.qza \\\n",
    "    --m-sample-metadata-file ./Qiime_input_data/rs210Pan_Filt7575/metaData_MDA_BDN.txt \\\n",
    "    --m-feature-metadata-file rs210Taxonomy.qza \\\n",
    "    --o-visualization ./Qiime_input_data/rs210Pan_Filt7575/deicode_biplot_MDA_BDN.qzv \\\n",
    "    --p-number-of-features 1"
   ]
  },
  {
   "cell_type": "code",
   "execution_count": 43,
   "metadata": {},
   "outputs": [
    {
     "name": "stdout",
     "output_type": "stream",
     "text": [
      "\u001b[32mSaved Visualization to: ./Qiime_input_data/rs210Pan_Filt7575/deicode_adonis_MDA_BDN.qzv\u001b[0m\r\n",
      "\u001b[0m"
     ]
    }
   ],
   "source": [
    "!qiime diversity adonis \\\n",
    "    --i-distance-matrix ./Qiime_input_data/rs210Pan_Filt7575/deicode_distance_MDA_BDN.qza \\\n",
    "    --m-metadata-file ./Qiime_input_data/rs210Pan_Filt7575/metaData_MDA_BDN.txt \\\n",
    "    --p-formula \"investigation\" \\\n",
    "    --p-n-jobs 8 \\\n",
    "    --o-visualization ./Qiime_input_data/rs210Pan_Filt7575/deicode_adonis_MDA_BDN.qzv"
   ]
  },
  {
   "cell_type": "markdown",
   "metadata": {},
   "source": [
    "### Washington University (WashU)"
   ]
  },
  {
   "cell_type": "code",
   "execution_count": 44,
   "metadata": {},
   "outputs": [
    {
     "name": "stdout",
     "output_type": "stream",
     "text": [
      "\u001b[32mSaved PCoAResults % Properties('biplot') to: ./Qiime_input_data/rs210Pan_Filt7575/deicode_ordination_WashU_BDN.qza\u001b[0m\n",
      "\u001b[32mSaved DistanceMatrix to: ./Qiime_input_data/rs210Pan_Filt7575/deicode_distance_WashU_BDN.qza\u001b[0m\n",
      "\u001b[0m"
     ]
    }
   ],
   "source": [
    "!qiime deicode rpca \\\n",
    "    --i-table ./Qiime_input_data/rs210Pan_Filt7575/countData_WashU_BDN.qza \\\n",
    "    --o-biplot ./Qiime_input_data/rs210Pan_Filt7575/deicode_ordination_WashU_BDN.qza \\\n",
    "    --p-min-sample-count 100 \\\n",
    "    --o-distance-matrix ./Qiime_input_data/rs210Pan_Filt7575/deicode_distance_WashU_BDN.qza"
   ]
  },
  {
   "cell_type": "code",
   "execution_count": 45,
   "metadata": {},
   "outputs": [
    {
     "name": "stdout",
     "output_type": "stream",
     "text": [
      "\u001b[32mSaved Visualization to: ./Qiime_input_data/rs210Pan_Filt7575/deicode_biplot_WashU_BDN.qzv\u001b[0m\r\n",
      "\u001b[0m"
     ]
    }
   ],
   "source": [
    "!qiime emperor biplot \\\n",
    "    --i-biplot ./Qiime_input_data/rs210Pan_Filt7575/deicode_ordination_WashU_BDN.qza \\\n",
    "    --m-sample-metadata-file ./Qiime_input_data/rs210Pan_Filt7575/metaData_WashU_BDN.txt \\\n",
    "    --m-feature-metadata-file rs210Taxonomy.qza \\\n",
    "    --o-visualization ./Qiime_input_data/rs210Pan_Filt7575/deicode_biplot_WashU_BDN.qzv \\\n",
    "    --p-number-of-features 1"
   ]
  },
  {
   "cell_type": "code",
   "execution_count": 46,
   "metadata": {},
   "outputs": [
    {
     "name": "stdout",
     "output_type": "stream",
     "text": [
      "\u001b[32mSaved Visualization to: ./Qiime_input_data/rs210Pan_Filt7575/deicode_adonis_WashU_BDN.qzv\u001b[0m\n",
      "\u001b[0m"
     ]
    }
   ],
   "source": [
    "!qiime diversity adonis \\\n",
    "    --i-distance-matrix ./Qiime_input_data/rs210Pan_Filt7575/deicode_distance_WashU_BDN.qza \\\n",
    "    --m-metadata-file ./Qiime_input_data/rs210Pan_Filt7575/metaData_WashU_BDN.txt \\\n",
    "    --p-formula \"investigation\" \\\n",
    "    --p-n-jobs 8 \\\n",
    "    --o-visualization ./Qiime_input_data/rs210Pan_Filt7575/deicode_adonis_WashU_BDN.qzv"
   ]
  },
  {
   "cell_type": "markdown",
   "metadata": {},
   "source": [
    "### Broad Institute WGS (Broad_WGS)"
   ]
  },
  {
   "cell_type": "code",
   "execution_count": 47,
   "metadata": {},
   "outputs": [
    {
     "name": "stdout",
     "output_type": "stream",
     "text": [
      "\u001b[32mSaved PCoAResults % Properties('biplot') to: ./Qiime_input_data/rs210Pan_Filt7575/deicode_ordination_Broad_WGS_BDN.qza\u001b[0m\n",
      "\u001b[32mSaved DistanceMatrix to: ./Qiime_input_data/rs210Pan_Filt7575/deicode_distance_Broad_WGS_BDN.qza\u001b[0m\n",
      "\u001b[0m"
     ]
    }
   ],
   "source": [
    "!qiime deicode rpca \\\n",
    "    --i-table ./Qiime_input_data/rs210Pan_Filt7575/countData_Broad_WGS_BDN.qza \\\n",
    "    --o-biplot ./Qiime_input_data/rs210Pan_Filt7575/deicode_ordination_Broad_WGS_BDN.qza \\\n",
    "    --p-min-sample-count 100 \\\n",
    "    --o-distance-matrix ./Qiime_input_data/rs210Pan_Filt7575/deicode_distance_Broad_WGS_BDN.qza"
   ]
  },
  {
   "cell_type": "code",
   "execution_count": 48,
   "metadata": {},
   "outputs": [
    {
     "name": "stdout",
     "output_type": "stream",
     "text": [
      "\u001b[32mSaved Visualization to: ./Qiime_input_data/rs210Pan_Filt7575/deicode_biplot_Broad_WGS_BDN.qzv\u001b[0m\r\n",
      "\u001b[0m"
     ]
    }
   ],
   "source": [
    "!qiime emperor biplot \\\n",
    "    --i-biplot ./Qiime_input_data/rs210Pan_Filt7575/deicode_ordination_Broad_WGS_BDN.qza \\\n",
    "    --m-sample-metadata-file ./Qiime_input_data/rs210Pan_Filt7575/metaData_Broad_WGS_BDN.txt \\\n",
    "    --m-feature-metadata-file rs210Taxonomy.qza \\\n",
    "    --o-visualization ./Qiime_input_data/rs210Pan_Filt7575/deicode_biplot_Broad_WGS_BDN.qzv \\\n",
    "    --p-number-of-features 1"
   ]
  },
  {
   "cell_type": "code",
   "execution_count": 49,
   "metadata": {},
   "outputs": [
    {
     "name": "stdout",
     "output_type": "stream",
     "text": [
      "\u001b[32mSaved Visualization to: ./Qiime_input_data/rs210Pan_Filt7575/deicode_adonis_Broad_WGS_BDN.qzv\u001b[0m\n",
      "\u001b[0m"
     ]
    }
   ],
   "source": [
    "!qiime diversity adonis \\\n",
    "    --i-distance-matrix ./Qiime_input_data/rs210Pan_Filt7575/deicode_distance_Broad_WGS_BDN.qza \\\n",
    "    --m-metadata-file ./Qiime_input_data/rs210Pan_Filt7575/metaData_Broad_WGS_BDN.txt \\\n",
    "    --p-formula \"investigation\" \\\n",
    "    --p-n-jobs 8 \\\n",
    "    --o-visualization ./Qiime_input_data/rs210Pan_Filt7575/deicode_adonis_Broad_WGS_BDN.qzv"
   ]
  },
  {
   "cell_type": "markdown",
   "metadata": {},
   "source": [
    "# Qiime 2 Core Metrics - PT\n",
    "Note: Since beta diversity was calculated above using DEICODE above, we are mostly interested in the alpha diversity results."
   ]
  },
  {
   "cell_type": "markdown",
   "metadata": {},
   "source": [
    "### Harvard Medical School (HMS)\n",
    "Note the following sample read distribution from R:\n",
    "```\n",
    "[1] \"HMS\"\n",
    "   Min. 1st Qu.  Median    Mean 3rd Qu.    Max. \n",
    "      1      13      82   24642    2681 2761757\n",
    "```"
   ]
  },
  {
   "cell_type": "code",
   "execution_count": 50,
   "metadata": {},
   "outputs": [
    {
     "name": "stdout",
     "output_type": "stream",
     "text": [
      "\u001b[32mSaved FeatureTable[Frequency] to: ./core_metrics/rs210Pan_Filt7575/pt_hms_R25/rarefied_table.qza\u001b[0m\n",
      "\u001b[32mSaved SampleData[AlphaDiversity] to: ./core_metrics/rs210Pan_Filt7575/pt_hms_R25/observed_features_vector.qza\u001b[0m\n",
      "\u001b[32mSaved SampleData[AlphaDiversity] to: ./core_metrics/rs210Pan_Filt7575/pt_hms_R25/shannon_vector.qza\u001b[0m\n",
      "\u001b[32mSaved SampleData[AlphaDiversity] to: ./core_metrics/rs210Pan_Filt7575/pt_hms_R25/evenness_vector.qza\u001b[0m\n",
      "\u001b[32mSaved DistanceMatrix to: ./core_metrics/rs210Pan_Filt7575/pt_hms_R25/jaccard_distance_matrix.qza\u001b[0m\n",
      "\u001b[32mSaved DistanceMatrix to: ./core_metrics/rs210Pan_Filt7575/pt_hms_R25/bray_curtis_distance_matrix.qza\u001b[0m\n",
      "\u001b[32mSaved PCoAResults to: ./core_metrics/rs210Pan_Filt7575/pt_hms_R25/jaccard_pcoa_results.qza\u001b[0m\n",
      "\u001b[32mSaved PCoAResults to: ./core_metrics/rs210Pan_Filt7575/pt_hms_R25/bray_curtis_pcoa_results.qza\u001b[0m\n",
      "\u001b[32mSaved Visualization to: ./core_metrics/rs210Pan_Filt7575/pt_hms_R25/jaccard_emperor.qzv\u001b[0m\n",
      "\u001b[32mSaved Visualization to: ./core_metrics/rs210Pan_Filt7575/pt_hms_R25/bray_curtis_emperor.qzv\u001b[0m\n",
      "\u001b[0m"
     ]
    }
   ],
   "source": [
    "!qiime diversity core-metrics \\\n",
    "--i-table ./Qiime_input_data/rs210Pan_Filt7575/countData_HMS_PT.qza \\\n",
    "--p-sampling-depth 25 \\\n",
    "--m-metadata-file ./Qiime_input_data/rs210Pan_Filt7575/metaData_HMS_PT.txt \\\n",
    "--output-dir ./core_metrics/rs210Pan_Filt7575/pt_hms_R25/"
   ]
  },
  {
   "cell_type": "code",
   "execution_count": 51,
   "metadata": {},
   "outputs": [
    {
     "name": "stdout",
     "output_type": "stream",
     "text": [
      "\u001b[32mSaved Visualization to: ./core_metrics/rs210Pan_Filt7575/pt_hms_R25/observed_features_vector_significance.qzv\u001b[0m\n",
      "\u001b[0m\u001b[32mSaved Visualization to: ./core_metrics/rs210Pan_Filt7575/pt_hms_R25/shannon_vector_significance.qzv\u001b[0m\n",
      "\u001b[0m"
     ]
    }
   ],
   "source": [
    "!qiime diversity alpha-group-significance \\\n",
    "--i-alpha-diversity ./core_metrics/rs210Pan_Filt7575/pt_hms_R25/observed_features_vector.qza \\\n",
    "--m-metadata-file ./Qiime_input_data/rs210Pan_Filt7575/metaData_HMS_PT.txt \\\n",
    "--o-visualization ./core_metrics/rs210Pan_Filt7575/pt_hms_R25/observed_features_vector_significance.qzv\n",
    "\n",
    "!qiime diversity alpha-group-significance \\\n",
    "--i-alpha-diversity ./core_metrics/rs210Pan_Filt7575/pt_hms_R25/shannon_vector.qza \\\n",
    "--m-metadata-file ./Qiime_input_data/rs210Pan_Filt7575/metaData_HMS_PT.txt \\\n",
    "--o-visualization ./core_metrics/rs210Pan_Filt7575/pt_hms_R25/shannon_vector_significance.qzv"
   ]
  },
  {
   "cell_type": "code",
   "execution_count": 52,
   "metadata": {},
   "outputs": [
    {
     "name": "stdout",
     "output_type": "stream",
     "text": [
      "\u001b[32mSaved Visualization to: ./core_metrics/rs210Pan_Filt7575/pt_hms_R25/jaccard_distance_matrix_significance.qzv\u001b[0m\n",
      "\u001b[0m\u001b[32mSaved Visualization to: ./core_metrics/rs210Pan_Filt7575/pt_hms_R25/bray_curtis_distance_matrix_significance.qzv\u001b[0m\n",
      "\u001b[0m"
     ]
    }
   ],
   "source": [
    "!qiime diversity beta-group-significance \\\n",
    "--i-distance-matrix ./core_metrics/rs210Pan_Filt7575/pt_hms_R25/jaccard_distance_matrix.qza \\\n",
    "--m-metadata-file ./Qiime_input_data/rs210Pan_Filt7575/metaData_HMS_PT.txt \\\n",
    "--m-metadata-column investigation \\\n",
    "--o-visualization ./core_metrics/rs210Pan_Filt7575/pt_hms_R25/jaccard_distance_matrix_significance.qzv\n",
    "\n",
    "!qiime diversity beta-group-significance \\\n",
    "--i-distance-matrix ./core_metrics/rs210Pan_Filt7575/pt_hms_R25/bray_curtis_distance_matrix.qza \\\n",
    "--m-metadata-file ./Qiime_input_data/rs210Pan_Filt7575/metaData_HMS_PT.txt \\\n",
    "--m-metadata-column investigation \\\n",
    "--o-visualization ./core_metrics/rs210Pan_Filt7575/pt_hms_R25/bray_curtis_distance_matrix_significance.qzv"
   ]
  },
  {
   "cell_type": "markdown",
   "metadata": {},
   "source": [
    "### Baylor College of Medicine (BCM)\n",
    "Note the following sample read distribution from R:\n",
    "```\n",
    "[1] \"BCM\"\n",
    "   Min. 1st Qu.  Median    Mean 3rd Qu.    Max. \n",
    "   3205   13440   27149  155235   68953 9298230\n",
    "```"
   ]
  },
  {
   "cell_type": "code",
   "execution_count": 53,
   "metadata": {},
   "outputs": [
    {
     "name": "stdout",
     "output_type": "stream",
     "text": [
      "\u001b[32mSaved FeatureTable[Frequency] to: ./core_metrics/rs210Pan_Filt7575/pt_bcm_R13k/rarefied_table.qza\u001b[0m\n",
      "\u001b[32mSaved SampleData[AlphaDiversity] to: ./core_metrics/rs210Pan_Filt7575/pt_bcm_R13k/observed_features_vector.qza\u001b[0m\n",
      "\u001b[32mSaved SampleData[AlphaDiversity] to: ./core_metrics/rs210Pan_Filt7575/pt_bcm_R13k/shannon_vector.qza\u001b[0m\n",
      "\u001b[32mSaved SampleData[AlphaDiversity] to: ./core_metrics/rs210Pan_Filt7575/pt_bcm_R13k/evenness_vector.qza\u001b[0m\n",
      "\u001b[32mSaved DistanceMatrix to: ./core_metrics/rs210Pan_Filt7575/pt_bcm_R13k/jaccard_distance_matrix.qza\u001b[0m\n",
      "\u001b[32mSaved DistanceMatrix to: ./core_metrics/rs210Pan_Filt7575/pt_bcm_R13k/bray_curtis_distance_matrix.qza\u001b[0m\n",
      "\u001b[32mSaved PCoAResults to: ./core_metrics/rs210Pan_Filt7575/pt_bcm_R13k/jaccard_pcoa_results.qza\u001b[0m\n",
      "\u001b[32mSaved PCoAResults to: ./core_metrics/rs210Pan_Filt7575/pt_bcm_R13k/bray_curtis_pcoa_results.qza\u001b[0m\n",
      "\u001b[32mSaved Visualization to: ./core_metrics/rs210Pan_Filt7575/pt_bcm_R13k/jaccard_emperor.qzv\u001b[0m\n",
      "\u001b[32mSaved Visualization to: ./core_metrics/rs210Pan_Filt7575/pt_bcm_R13k/bray_curtis_emperor.qzv\u001b[0m\n",
      "\u001b[0m"
     ]
    }
   ],
   "source": [
    "!qiime diversity core-metrics \\\n",
    "--i-table ./Qiime_input_data/rs210Pan_Filt7575/countData_BCM_PT.qza \\\n",
    "--p-sampling-depth 13000 \\\n",
    "--m-metadata-file ./Qiime_input_data/rs210Pan_Filt7575/metaData_BCM_PT.txt \\\n",
    "--output-dir ./core_metrics/rs210Pan_Filt7575/pt_bcm_R13k"
   ]
  },
  {
   "cell_type": "code",
   "execution_count": 54,
   "metadata": {},
   "outputs": [
    {
     "name": "stdout",
     "output_type": "stream",
     "text": [
      "\u001b[32mSaved Visualization to: ./core_metrics/rs210Pan_Filt7575/pt_bcm_R13k/observed_features_vector_significance.qzv\u001b[0m\n",
      "\u001b[0m\u001b[32mSaved Visualization to: ./core_metrics/rs210Pan_Filt7575/pt_bcm_R13k/shannon_vector_significance.qzv\u001b[0m\n",
      "\u001b[0m"
     ]
    }
   ],
   "source": [
    "!qiime diversity alpha-group-significance \\\n",
    "--i-alpha-diversity ./core_metrics/rs210Pan_Filt7575/pt_bcm_R13k/observed_features_vector.qza \\\n",
    "--m-metadata-file ./Qiime_input_data/rs210Pan_Filt7575/metaData_BCM_PT.txt \\\n",
    "--o-visualization ./core_metrics/rs210Pan_Filt7575/pt_bcm_R13k/observed_features_vector_significance.qzv\n",
    "\n",
    "!qiime diversity alpha-group-significance \\\n",
    "--i-alpha-diversity ./core_metrics/rs210Pan_Filt7575/pt_bcm_R13k/shannon_vector.qza \\\n",
    "--m-metadata-file ./Qiime_input_data/rs210Pan_Filt7575/metaData_BCM_PT.txt \\\n",
    "--o-visualization ./core_metrics/rs210Pan_Filt7575/pt_bcm_R13k/shannon_vector_significance.qzv"
   ]
  },
  {
   "cell_type": "code",
   "execution_count": 55,
   "metadata": {},
   "outputs": [
    {
     "name": "stdout",
     "output_type": "stream",
     "text": [
      "\u001b[32mSaved Visualization to: ./core_metrics/rs210Pan_Filt7575/pt_bcm_R13k/jaccard_distance_matrix_significance.qzv\u001b[0m\n",
      "\u001b[0m\u001b[32mSaved Visualization to: ./core_metrics/rs210Pan_Filt7575/pt_bcm_R13k/bray_curtis_distance_matrix_significance.qzv\u001b[0m\n",
      "\u001b[0m"
     ]
    }
   ],
   "source": [
    "!qiime diversity beta-group-significance \\\n",
    "--i-distance-matrix ./core_metrics/rs210Pan_Filt7575/pt_bcm_R13k/jaccard_distance_matrix.qza \\\n",
    "--m-metadata-file ./Qiime_input_data/rs210Pan_Filt7575/metaData_BCM_PT.txt \\\n",
    "--m-metadata-column investigation \\\n",
    "--o-visualization ./core_metrics/rs210Pan_Filt7575/pt_bcm_R13k/jaccard_distance_matrix_significance.qzv\n",
    "\n",
    "!qiime diversity beta-group-significance \\\n",
    "--i-distance-matrix ./core_metrics/rs210Pan_Filt7575/pt_bcm_R13k/bray_curtis_distance_matrix.qza \\\n",
    "--m-metadata-file ./Qiime_input_data/rs210Pan_Filt7575/metaData_BCM_PT.txt \\\n",
    "--m-metadata-column investigation \\\n",
    "--o-visualization ./core_metrics/rs210Pan_Filt7575/pt_bcm_R13k/bray_curtis_distance_matrix_significance.qzv"
   ]
  },
  {
   "cell_type": "markdown",
   "metadata": {},
   "source": [
    "### MD Anderson (MDA)\n",
    "Note the following sample read distribution from R:\n",
    "```\n",
    "[1] \"MDA\"\n",
    "   Min. 1st Qu.  Median    Mean 3rd Qu.    Max. \n",
    "      1       6      56   24534    1059 1374228 \n",
    "```"
   ]
  },
  {
   "cell_type": "code",
   "execution_count": 56,
   "metadata": {},
   "outputs": [
    {
     "name": "stdout",
     "output_type": "stream",
     "text": [
      "\u001b[32mSaved FeatureTable[Frequency] to: ./core_metrics/rs210Pan_Filt7575/pt_mda_R25/rarefied_table.qza\u001b[0m\n",
      "\u001b[32mSaved SampleData[AlphaDiversity] to: ./core_metrics/rs210Pan_Filt7575/pt_mda_R25/observed_features_vector.qza\u001b[0m\n",
      "\u001b[32mSaved SampleData[AlphaDiversity] to: ./core_metrics/rs210Pan_Filt7575/pt_mda_R25/shannon_vector.qza\u001b[0m\n",
      "\u001b[32mSaved SampleData[AlphaDiversity] to: ./core_metrics/rs210Pan_Filt7575/pt_mda_R25/evenness_vector.qza\u001b[0m\n",
      "\u001b[32mSaved DistanceMatrix to: ./core_metrics/rs210Pan_Filt7575/pt_mda_R25/jaccard_distance_matrix.qza\u001b[0m\n",
      "\u001b[32mSaved DistanceMatrix to: ./core_metrics/rs210Pan_Filt7575/pt_mda_R25/bray_curtis_distance_matrix.qza\u001b[0m\n",
      "\u001b[32mSaved PCoAResults to: ./core_metrics/rs210Pan_Filt7575/pt_mda_R25/jaccard_pcoa_results.qza\u001b[0m\n",
      "\u001b[32mSaved PCoAResults to: ./core_metrics/rs210Pan_Filt7575/pt_mda_R25/bray_curtis_pcoa_results.qza\u001b[0m\n",
      "\u001b[32mSaved Visualization to: ./core_metrics/rs210Pan_Filt7575/pt_mda_R25/jaccard_emperor.qzv\u001b[0m\n",
      "\u001b[32mSaved Visualization to: ./core_metrics/rs210Pan_Filt7575/pt_mda_R25/bray_curtis_emperor.qzv\u001b[0m\n",
      "\u001b[0m"
     ]
    }
   ],
   "source": [
    "!qiime diversity core-metrics \\\n",
    "--i-table ./Qiime_input_data/rs210Pan_Filt7575/countData_MDA_PT.qza \\\n",
    "--p-sampling-depth 25 \\\n",
    "--m-metadata-file ./Qiime_input_data/rs210Pan_Filt7575/metaData_MDA_PT.txt \\\n",
    "--output-dir ./core_metrics/rs210Pan_Filt7575/pt_mda_R25/"
   ]
  },
  {
   "cell_type": "code",
   "execution_count": 57,
   "metadata": {},
   "outputs": [
    {
     "name": "stdout",
     "output_type": "stream",
     "text": [
      "\u001b[32mSaved Visualization to: ./core_metrics/rs210Pan_Filt7575/pt_mda_R25/observed_features_vector_significance.qzv\u001b[0m\n",
      "\u001b[0m\u001b[32mSaved Visualization to: ./core_metrics/rs210Pan_Filt7575/pt_mda_R25/shannon_vector_significance.qzv\u001b[0m\n",
      "\u001b[0m"
     ]
    }
   ],
   "source": [
    "!qiime diversity alpha-group-significance \\\n",
    "--i-alpha-diversity ./core_metrics/rs210Pan_Filt7575/pt_mda_R25/observed_features_vector.qza \\\n",
    "--m-metadata-file ./Qiime_input_data/rs210Pan_Filt7575/metaData_MDA_PT.txt \\\n",
    "--o-visualization ./core_metrics/rs210Pan_Filt7575/pt_mda_R25/observed_features_vector_significance.qzv\n",
    "\n",
    "!qiime diversity alpha-group-significance \\\n",
    "--i-alpha-diversity ./core_metrics/rs210Pan_Filt7575/pt_mda_R25/shannon_vector.qza \\\n",
    "--m-metadata-file ./Qiime_input_data/rs210Pan_Filt7575/metaData_MDA_PT.txt \\\n",
    "--o-visualization ./core_metrics/rs210Pan_Filt7575/pt_mda_R25/shannon_vector_significance.qzv"
   ]
  },
  {
   "cell_type": "code",
   "execution_count": 58,
   "metadata": {},
   "outputs": [
    {
     "name": "stdout",
     "output_type": "stream",
     "text": [
      "\u001b[32mSaved Visualization to: ./core_metrics/rs210Pan_Filt7575/pt_mda_R25/jaccard_distance_matrix_significance.qzv\u001b[0m\n",
      "\u001b[0m\u001b[32mSaved Visualization to: ./core_metrics/rs210Pan_Filt7575/pt_mda_R25/bray_curtis_distance_matrix_significance.qzv\u001b[0m\n",
      "\u001b[0m"
     ]
    }
   ],
   "source": [
    "!qiime diversity beta-group-significance \\\n",
    "--i-distance-matrix ./core_metrics/rs210Pan_Filt7575/pt_mda_R25/jaccard_distance_matrix.qza \\\n",
    "--m-metadata-file ./Qiime_input_data/rs210Pan_Filt7575/metaData_MDA_PT.txt \\\n",
    "--m-metadata-column investigation \\\n",
    "--o-visualization ./core_metrics/rs210Pan_Filt7575/pt_mda_R25/jaccard_distance_matrix_significance.qzv\n",
    "\n",
    "!qiime diversity beta-group-significance \\\n",
    "--i-distance-matrix ./core_metrics/rs210Pan_Filt7575/pt_mda_R25/bray_curtis_distance_matrix.qza \\\n",
    "--m-metadata-file ./Qiime_input_data/rs210Pan_Filt7575/metaData_MDA_PT.txt \\\n",
    "--m-metadata-column investigation \\\n",
    "--o-visualization ./core_metrics/rs210Pan_Filt7575/pt_mda_R25/bray_curtis_distance_matrix_significance.qzv"
   ]
  },
  {
   "cell_type": "markdown",
   "metadata": {},
   "source": [
    "### Washington University (WashU)\n",
    "Note the following sample read distribution from R:\n",
    "```\n",
    "[1] \"WashU\"\n",
    "   Min. 1st Qu.  Median    Mean 3rd Qu.    Max. \n",
    "    353    8879   13598   96904   24782 6741014 \n",
    "```"
   ]
  },
  {
   "cell_type": "code",
   "execution_count": 59,
   "metadata": {},
   "outputs": [
    {
     "name": "stdout",
     "output_type": "stream",
     "text": [
      "\u001b[32mSaved FeatureTable[Frequency] to: ./core_metrics/rs210Pan_Filt7575/pt_mda_R8900/rarefied_table.qza\u001b[0m\n",
      "\u001b[32mSaved SampleData[AlphaDiversity] to: ./core_metrics/rs210Pan_Filt7575/pt_mda_R8900/observed_features_vector.qza\u001b[0m\n",
      "\u001b[32mSaved SampleData[AlphaDiversity] to: ./core_metrics/rs210Pan_Filt7575/pt_mda_R8900/shannon_vector.qza\u001b[0m\n",
      "\u001b[32mSaved SampleData[AlphaDiversity] to: ./core_metrics/rs210Pan_Filt7575/pt_mda_R8900/evenness_vector.qza\u001b[0m\n",
      "\u001b[32mSaved DistanceMatrix to: ./core_metrics/rs210Pan_Filt7575/pt_mda_R8900/jaccard_distance_matrix.qza\u001b[0m\n",
      "\u001b[32mSaved DistanceMatrix to: ./core_metrics/rs210Pan_Filt7575/pt_mda_R8900/bray_curtis_distance_matrix.qza\u001b[0m\n",
      "\u001b[32mSaved PCoAResults to: ./core_metrics/rs210Pan_Filt7575/pt_mda_R8900/jaccard_pcoa_results.qza\u001b[0m\n",
      "\u001b[32mSaved PCoAResults to: ./core_metrics/rs210Pan_Filt7575/pt_mda_R8900/bray_curtis_pcoa_results.qza\u001b[0m\n",
      "\u001b[32mSaved Visualization to: ./core_metrics/rs210Pan_Filt7575/pt_mda_R8900/jaccard_emperor.qzv\u001b[0m\n",
      "\u001b[32mSaved Visualization to: ./core_metrics/rs210Pan_Filt7575/pt_mda_R8900/bray_curtis_emperor.qzv\u001b[0m\n",
      "\u001b[0m"
     ]
    }
   ],
   "source": [
    "!qiime diversity core-metrics \\\n",
    "--i-table ./Qiime_input_data/rs210Pan_Filt7575/countData_WashU_PT.qza \\\n",
    "--p-sampling-depth 8900 \\\n",
    "--m-metadata-file ./Qiime_input_data/rs210Pan_Filt7575/metaData_WashU_PT.txt \\\n",
    "--output-dir ./core_metrics/rs210Pan_Filt7575/pt_mda_R8900/"
   ]
  },
  {
   "cell_type": "code",
   "execution_count": 60,
   "metadata": {},
   "outputs": [
    {
     "name": "stdout",
     "output_type": "stream",
     "text": [
      "\u001b[32mSaved Visualization to: ./core_metrics/rs210Pan_Filt7575/pt_mda_R8900/observed_features_vector_significance.qzv\u001b[0m\n",
      "\u001b[0m\u001b[32mSaved Visualization to: ./core_metrics/rs210Pan_Filt7575/pt_mda_R8900/shannon_vector_significance.qzv\u001b[0m\n",
      "\u001b[0m"
     ]
    }
   ],
   "source": [
    "!qiime diversity alpha-group-significance \\\n",
    "--i-alpha-diversity ./core_metrics/rs210Pan_Filt7575/pt_mda_R8900/observed_features_vector.qza \\\n",
    "--m-metadata-file ./Qiime_input_data/rs210Pan_Filt7575/metaData_WashU_PT.txt \\\n",
    "--o-visualization ./core_metrics/rs210Pan_Filt7575/pt_mda_R8900/observed_features_vector_significance.qzv\n",
    "\n",
    "!qiime diversity alpha-group-significance \\\n",
    "--i-alpha-diversity ./core_metrics/rs210Pan_Filt7575/pt_mda_R8900/shannon_vector.qza \\\n",
    "--m-metadata-file ./Qiime_input_data/rs210Pan_Filt7575/metaData_WashU_PT.txt \\\n",
    "--o-visualization ./core_metrics/rs210Pan_Filt7575/pt_mda_R8900/shannon_vector_significance.qzv"
   ]
  },
  {
   "cell_type": "code",
   "execution_count": 61,
   "metadata": {},
   "outputs": [
    {
     "name": "stdout",
     "output_type": "stream",
     "text": [
      "\u001b[32mSaved Visualization to: ./core_metrics/rs210Pan_Filt7575/pt_mda_R8900/jaccard_distance_matrix_significance.qzv\u001b[0m\n",
      "\u001b[0m\u001b[32mSaved Visualization to: ./core_metrics/rs210Pan_Filt7575/pt_mda_R8900/bray_curtis_distance_matrix_significance.qzv\u001b[0m\n",
      "\u001b[0m"
     ]
    }
   ],
   "source": [
    "!qiime diversity beta-group-significance \\\n",
    "--i-distance-matrix ./core_metrics/rs210Pan_Filt7575/pt_mda_R8900/jaccard_distance_matrix.qza \\\n",
    "--m-metadata-file ./Qiime_input_data/rs210Pan_Filt7575/metaData_WashU_PT.txt \\\n",
    "--m-metadata-column investigation \\\n",
    "--o-visualization ./core_metrics/rs210Pan_Filt7575/pt_mda_R8900/jaccard_distance_matrix_significance.qzv\n",
    "\n",
    "!qiime diversity beta-group-significance \\\n",
    "--i-distance-matrix ./core_metrics/rs210Pan_Filt7575/pt_mda_R8900/bray_curtis_distance_matrix.qza \\\n",
    "--m-metadata-file ./Qiime_input_data/rs210Pan_Filt7575/metaData_WashU_PT.txt \\\n",
    "--m-metadata-column investigation \\\n",
    "--o-visualization ./core_metrics/rs210Pan_Filt7575/pt_mda_R8900/bray_curtis_distance_matrix_significance.qzv"
   ]
  },
  {
   "cell_type": "markdown",
   "metadata": {},
   "source": [
    "### Broad Institute WGS only (Broad WGS)\n",
    "Note the following sample read distribution from R (it is lower than the other seq centers):\n",
    "```\n",
    "[1] \"Broad_WGS\"\n",
    "   Min. 1st Qu.  Median    Mean 3rd Qu.    Max. \n",
    "      6     120     322   44628    1329 9799070 \n",
    "```"
   ]
  },
  {
   "cell_type": "code",
   "execution_count": 62,
   "metadata": {},
   "outputs": [
    {
     "name": "stdout",
     "output_type": "stream",
     "text": [
      "\u001b[32mSaved FeatureTable[Frequency] to: ./core_metrics/rs210Pan_Filt7575/pt_broad_wgs_R120/rarefied_table.qza\u001b[0m\n",
      "\u001b[32mSaved SampleData[AlphaDiversity] to: ./core_metrics/rs210Pan_Filt7575/pt_broad_wgs_R120/observed_features_vector.qza\u001b[0m\n",
      "\u001b[32mSaved SampleData[AlphaDiversity] to: ./core_metrics/rs210Pan_Filt7575/pt_broad_wgs_R120/shannon_vector.qza\u001b[0m\n",
      "\u001b[32mSaved SampleData[AlphaDiversity] to: ./core_metrics/rs210Pan_Filt7575/pt_broad_wgs_R120/evenness_vector.qza\u001b[0m\n",
      "\u001b[32mSaved DistanceMatrix to: ./core_metrics/rs210Pan_Filt7575/pt_broad_wgs_R120/jaccard_distance_matrix.qza\u001b[0m\n",
      "\u001b[32mSaved DistanceMatrix to: ./core_metrics/rs210Pan_Filt7575/pt_broad_wgs_R120/bray_curtis_distance_matrix.qza\u001b[0m\n",
      "\u001b[32mSaved PCoAResults to: ./core_metrics/rs210Pan_Filt7575/pt_broad_wgs_R120/jaccard_pcoa_results.qza\u001b[0m\n",
      "\u001b[32mSaved PCoAResults to: ./core_metrics/rs210Pan_Filt7575/pt_broad_wgs_R120/bray_curtis_pcoa_results.qza\u001b[0m\n",
      "\u001b[32mSaved Visualization to: ./core_metrics/rs210Pan_Filt7575/pt_broad_wgs_R120/jaccard_emperor.qzv\u001b[0m\n",
      "\u001b[32mSaved Visualization to: ./core_metrics/rs210Pan_Filt7575/pt_broad_wgs_R120/bray_curtis_emperor.qzv\u001b[0m\n",
      "\u001b[0m"
     ]
    }
   ],
   "source": [
    "!qiime diversity core-metrics \\\n",
    "--i-table ./Qiime_input_data/rs210Pan_Filt7575/countData_Broad_WGS_PT.qza \\\n",
    "--p-sampling-depth 120 \\\n",
    "--m-metadata-file ./Qiime_input_data/rs210Pan_Filt7575/metaData_Broad_WGS_PT.txt \\\n",
    "--output-dir ./core_metrics/rs210Pan_Filt7575/pt_broad_wgs_R120/"
   ]
  },
  {
   "cell_type": "code",
   "execution_count": 63,
   "metadata": {},
   "outputs": [
    {
     "name": "stdout",
     "output_type": "stream",
     "text": [
      "\u001b[32mSaved Visualization to: ./core_metrics/rs210Pan_Filt7575/pt_broad_wgs_R120/observed_features_vector_significance.qzv\u001b[0m\n",
      "\u001b[0m\u001b[32mSaved Visualization to: ./core_metrics/rs210Pan_Filt7575/pt_broad_wgs_R120/shannon_vector_significance.qzv\u001b[0m\n",
      "\u001b[0m"
     ]
    }
   ],
   "source": [
    "!qiime diversity alpha-group-significance \\\n",
    "--i-alpha-diversity ./core_metrics/rs210Pan_Filt7575/pt_broad_wgs_R120/observed_features_vector.qza \\\n",
    "--m-metadata-file ./Qiime_input_data/rs210Pan_Filt7575/metaData_Broad_WGS_PT.txt \\\n",
    "--o-visualization ./core_metrics/rs210Pan_Filt7575/pt_broad_wgs_R120/observed_features_vector_significance.qzv\n",
    "\n",
    "!qiime diversity alpha-group-significance \\\n",
    "--i-alpha-diversity ./core_metrics/rs210Pan_Filt7575/pt_broad_wgs_R120/shannon_vector.qza \\\n",
    "--m-metadata-file ./Qiime_input_data/rs210Pan_Filt7575/metaData_Broad_WGS_PT.txt \\\n",
    "--o-visualization ./core_metrics/rs210Pan_Filt7575/pt_broad_wgs_R120/shannon_vector_significance.qzv"
   ]
  },
  {
   "cell_type": "code",
   "execution_count": 64,
   "metadata": {},
   "outputs": [
    {
     "name": "stdout",
     "output_type": "stream",
     "text": [
      "\u001b[32mSaved Visualization to: ./core_metrics/rs210Pan_Filt7575/pt_broad_wgs_R120/jaccard_distance_matrix_significance.qzv\u001b[0m\n",
      "\u001b[0m\u001b[32mSaved Visualization to: ./core_metrics/rs210Pan_Filt7575/pt_broad_wgs_R120/bray_curtis_distance_matrix_significance.qzv\u001b[0m\n",
      "\u001b[0m"
     ]
    }
   ],
   "source": [
    "!qiime diversity beta-group-significance \\\n",
    "--i-distance-matrix ./core_metrics/rs210Pan_Filt7575/pt_broad_wgs_R120/jaccard_distance_matrix.qza \\\n",
    "--m-metadata-file ./Qiime_input_data/rs210Pan_Filt7575/metaData_Broad_WGS_PT.txt \\\n",
    "--m-metadata-column investigation \\\n",
    "--o-visualization ./core_metrics/rs210Pan_Filt7575/pt_broad_wgs_R120/jaccard_distance_matrix_significance.qzv\n",
    "\n",
    "!qiime diversity beta-group-significance \\\n",
    "--i-distance-matrix ./core_metrics/rs210Pan_Filt7575/pt_broad_wgs_R120/bray_curtis_distance_matrix.qza \\\n",
    "--m-metadata-file ./Qiime_input_data/rs210Pan_Filt7575/metaData_Broad_WGS_PT.txt \\\n",
    "--m-metadata-column investigation \\\n",
    "--o-visualization ./core_metrics/rs210Pan_Filt7575/pt_broad_wgs_R120/bray_curtis_distance_matrix_significance.qzv"
   ]
  },
  {
   "cell_type": "markdown",
   "metadata": {},
   "source": [
    "### University of North Carolina (UNC)\n",
    "Note the following sample read distribution from R:\n",
    "```\n",
    "[1] \"UNC\"\n",
    "   Min. 1st Qu.  Median    Mean 3rd Qu.    Max. \n",
    "      1    1193    2057    2873    3021   55153 \n",
    "```"
   ]
  },
  {
   "cell_type": "code",
   "execution_count": 65,
   "metadata": {},
   "outputs": [
    {
     "name": "stdout",
     "output_type": "stream",
     "text": [
      "\u001b[32mSaved FeatureTable[Frequency] to: ./core_metrics/rs210Pan_Filt7575/pt_unc_R1200/rarefied_table.qza\u001b[0m\n",
      "\u001b[32mSaved SampleData[AlphaDiversity] to: ./core_metrics/rs210Pan_Filt7575/pt_unc_R1200/observed_features_vector.qza\u001b[0m\n",
      "\u001b[32mSaved SampleData[AlphaDiversity] to: ./core_metrics/rs210Pan_Filt7575/pt_unc_R1200/shannon_vector.qza\u001b[0m\n",
      "\u001b[32mSaved SampleData[AlphaDiversity] to: ./core_metrics/rs210Pan_Filt7575/pt_unc_R1200/evenness_vector.qza\u001b[0m\n",
      "\u001b[32mSaved DistanceMatrix to: ./core_metrics/rs210Pan_Filt7575/pt_unc_R1200/jaccard_distance_matrix.qza\u001b[0m\n",
      "\u001b[32mSaved DistanceMatrix to: ./core_metrics/rs210Pan_Filt7575/pt_unc_R1200/bray_curtis_distance_matrix.qza\u001b[0m\n",
      "\u001b[32mSaved PCoAResults to: ./core_metrics/rs210Pan_Filt7575/pt_unc_R1200/jaccard_pcoa_results.qza\u001b[0m\n",
      "\u001b[32mSaved PCoAResults to: ./core_metrics/rs210Pan_Filt7575/pt_unc_R1200/bray_curtis_pcoa_results.qza\u001b[0m\n",
      "\u001b[32mSaved Visualization to: ./core_metrics/rs210Pan_Filt7575/pt_unc_R1200/jaccard_emperor.qzv\u001b[0m\n",
      "\u001b[32mSaved Visualization to: ./core_metrics/rs210Pan_Filt7575/pt_unc_R1200/bray_curtis_emperor.qzv\u001b[0m\n",
      "\u001b[0m"
     ]
    }
   ],
   "source": [
    "!qiime diversity core-metrics \\\n",
    "--i-table ./Qiime_input_data/rs210Pan_Filt7575/countData_UNC_PT.qza \\\n",
    "--p-sampling-depth 1200 \\\n",
    "--m-metadata-file ./Qiime_input_data/rs210Pan_Filt7575/metaData_UNC_PT.txt \\\n",
    "--output-dir ./core_metrics/rs210Pan_Filt7575/pt_unc_R1200/"
   ]
  },
  {
   "cell_type": "code",
   "execution_count": 66,
   "metadata": {},
   "outputs": [
    {
     "name": "stdout",
     "output_type": "stream",
     "text": [
      "\u001b[31m\u001b[1mPlugin error from diversity:\n",
      "\n",
      "  Metadata does not contain any columns that satisfy this visualizer's requirements. There must be at least one metadata column that contains categorical data, isn't empty, doesn't consist of unique values, and doesn't consist of exactly one value.\n",
      "\n",
      "Debug info has been saved to /var/folders/db/18t2_m7d13l30r8qj875qdm80000gn/T/qiime2-q2cli-err-cr2z3n1_.log\u001b[0m\n",
      "\u001b[0m\u001b[31m\u001b[1mPlugin error from diversity:\n",
      "\n",
      "  Metadata does not contain any columns that satisfy this visualizer's requirements. There must be at least one metadata column that contains categorical data, isn't empty, doesn't consist of unique values, and doesn't consist of exactly one value.\n",
      "\n",
      "Debug info has been saved to /var/folders/db/18t2_m7d13l30r8qj875qdm80000gn/T/qiime2-q2cli-err-nghog_f7.log\u001b[0m\n",
      "\u001b[0m"
     ]
    }
   ],
   "source": [
    "!qiime diversity alpha-group-significance \\\n",
    "--i-alpha-diversity ./core_metrics/rs210Pan_Filt7575/pt_unc_R1200/observed_features_vector.qza \\\n",
    "--m-metadata-file ./Qiime_input_data/rs210Pan_Filt7575/metaData_UNC_PT.txt \\\n",
    "--o-visualization ./core_metrics/rs210Pan_Filt7575/pt_unc_R1200/observed_features_vector_significance.qzv\n",
    "\n",
    "!qiime diversity alpha-group-significance \\\n",
    "--i-alpha-diversity ./core_metrics/rs210Pan_Filt7575/pt_unc_R1200/shannon_vector.qza \\\n",
    "--m-metadata-file ./Qiime_input_data/rs210Pan_Filt7575/metaData_UNC_PT.txt \\\n",
    "--o-visualization ./core_metrics/rs210Pan_Filt7575/pt_unc_R1200/shannon_vector_significance.qzv"
   ]
  },
  {
   "cell_type": "code",
   "execution_count": 67,
   "metadata": {},
   "outputs": [
    {
     "name": "stdout",
     "output_type": "stream",
     "text": [
      "\u001b[31m\u001b[1mPlugin error from diversity:\n",
      "\n",
      "  All values in the grouping vector are the same. This method cannot operate on a grouping vector with only a single group of objects (e.g., there are no 'between' distances because there is only a single group).\n",
      "\n",
      "Debug info has been saved to /var/folders/db/18t2_m7d13l30r8qj875qdm80000gn/T/qiime2-q2cli-err-hvnzx7gz.log\u001b[0m\n",
      "\u001b[0m\u001b[31m\u001b[1mPlugin error from diversity:\n",
      "\n",
      "  All values in the grouping vector are the same. This method cannot operate on a grouping vector with only a single group of objects (e.g., there are no 'between' distances because there is only a single group).\n",
      "\n",
      "Debug info has been saved to /var/folders/db/18t2_m7d13l30r8qj875qdm80000gn/T/qiime2-q2cli-err-sm1dkfxo.log\u001b[0m\n",
      "\u001b[0m"
     ]
    }
   ],
   "source": [
    "!qiime diversity beta-group-significance \\\n",
    "--i-distance-matrix ./core_metrics/rs210Pan_Filt7575/pt_unc_R1200/jaccard_distance_matrix.qza \\\n",
    "--m-metadata-file ./Qiime_input_data/rs210Pan_Filt7575/metaData_UNC_PT.txt \\\n",
    "--m-metadata-column investigation \\\n",
    "--o-visualization ./core_metrics/rs210Pan_Filt7575/pt_unc_R1200/jaccard_distance_matrix_significance.qzv\n",
    "\n",
    "!qiime diversity beta-group-significance \\\n",
    "--i-distance-matrix ./core_metrics/rs210Pan_Filt7575/pt_unc_R1200/bray_curtis_distance_matrix.qza \\\n",
    "--m-metadata-file ./Qiime_input_data/rs210Pan_Filt7575/metaData_UNC_PT.txt \\\n",
    "--m-metadata-column investigation \\\n",
    "--o-visualization ./core_metrics/rs210Pan_Filt7575/pt_unc_R1200/bray_curtis_distance_matrix_significance.qzv"
   ]
  },
  {
   "cell_type": "markdown",
   "metadata": {},
   "source": [
    "### Canada's Michael Smith Genome Sciences Centre (CMS)\n",
    "Note the following sample read distribution from R:\n",
    "```\n",
    "[1] \"CMS\"\n",
    "   Min. 1st Qu.  Median    Mean 3rd Qu.    Max. \n",
    "      5    1100    3322   30660   10310 1688173 \n",
    "```"
   ]
  },
  {
   "cell_type": "code",
   "execution_count": 68,
   "metadata": {},
   "outputs": [
    {
     "name": "stdout",
     "output_type": "stream",
     "text": [
      "\u001b[32mSaved FeatureTable[Frequency] to: ./core_metrics/rs210Pan_Filt7575/pt_cms_R1100/rarefied_table.qza\u001b[0m\n",
      "\u001b[32mSaved SampleData[AlphaDiversity] to: ./core_metrics/rs210Pan_Filt7575/pt_cms_R1100/observed_features_vector.qza\u001b[0m\n",
      "\u001b[32mSaved SampleData[AlphaDiversity] to: ./core_metrics/rs210Pan_Filt7575/pt_cms_R1100/shannon_vector.qza\u001b[0m\n",
      "\u001b[32mSaved SampleData[AlphaDiversity] to: ./core_metrics/rs210Pan_Filt7575/pt_cms_R1100/evenness_vector.qza\u001b[0m\n",
      "\u001b[32mSaved DistanceMatrix to: ./core_metrics/rs210Pan_Filt7575/pt_cms_R1100/jaccard_distance_matrix.qza\u001b[0m\n",
      "\u001b[32mSaved DistanceMatrix to: ./core_metrics/rs210Pan_Filt7575/pt_cms_R1100/bray_curtis_distance_matrix.qza\u001b[0m\n",
      "\u001b[32mSaved PCoAResults to: ./core_metrics/rs210Pan_Filt7575/pt_cms_R1100/jaccard_pcoa_results.qza\u001b[0m\n",
      "\u001b[32mSaved PCoAResults to: ./core_metrics/rs210Pan_Filt7575/pt_cms_R1100/bray_curtis_pcoa_results.qza\u001b[0m\n",
      "\u001b[32mSaved Visualization to: ./core_metrics/rs210Pan_Filt7575/pt_cms_R1100/jaccard_emperor.qzv\u001b[0m\n",
      "\u001b[32mSaved Visualization to: ./core_metrics/rs210Pan_Filt7575/pt_cms_R1100/bray_curtis_emperor.qzv\u001b[0m\n",
      "\u001b[0m"
     ]
    }
   ],
   "source": [
    "!qiime diversity core-metrics \\\n",
    "--i-table ./Qiime_input_data/rs210Pan_Filt7575/countData_CMS_PT.qza \\\n",
    "--p-sampling-depth 1100 \\\n",
    "--m-metadata-file ./Qiime_input_data/rs210Pan_Filt7575/metaData_CMS_PT.txt \\\n",
    "--output-dir ./core_metrics/rs210Pan_Filt7575/pt_cms_R1100/"
   ]
  },
  {
   "cell_type": "code",
   "execution_count": 69,
   "metadata": {},
   "outputs": [
    {
     "name": "stdout",
     "output_type": "stream",
     "text": [
      "\u001b[32mSaved Visualization to: ./core_metrics/rs210Pan_Filt7575/pt_cms_R1100/observed_features_vector_significance.qzv\u001b[0m\n",
      "\u001b[0m\u001b[32mSaved Visualization to: ./core_metrics/rs210Pan_Filt7575/pt_cms_R1100/shannon_vector_significance.qzv\u001b[0m\n",
      "\u001b[0m"
     ]
    }
   ],
   "source": [
    "!qiime diversity alpha-group-significance \\\n",
    "--i-alpha-diversity ./core_metrics/rs210Pan_Filt7575/pt_cms_R1100/observed_features_vector.qza \\\n",
    "--m-metadata-file ./Qiime_input_data/rs210Pan_Filt7575/metaData_CMS_PT.txt \\\n",
    "--o-visualization ./core_metrics/rs210Pan_Filt7575/pt_cms_R1100/observed_features_vector_significance.qzv\n",
    "\n",
    "!qiime diversity alpha-group-significance \\\n",
    "--i-alpha-diversity ./core_metrics/rs210Pan_Filt7575/pt_cms_R1100/shannon_vector.qza \\\n",
    "--m-metadata-file ./Qiime_input_data/rs210Pan_Filt7575/metaData_CMS_PT.txt \\\n",
    "--o-visualization ./core_metrics/rs210Pan_Filt7575/pt_cms_R1100/shannon_vector_significance.qzv"
   ]
  },
  {
   "cell_type": "code",
   "execution_count": 70,
   "metadata": {},
   "outputs": [
    {
     "name": "stdout",
     "output_type": "stream",
     "text": [
      "\u001b[32mSaved Visualization to: ./core_metrics/rs210Pan_Filt7575/pt_cms_R1100/jaccard_distance_matrix_significance.qzv\u001b[0m\n",
      "\u001b[0m\u001b[32mSaved Visualization to: ./core_metrics/rs210Pan_Filt7575/pt_cms_R1100/bray_curtis_distance_matrix_significance.qzv\u001b[0m\n",
      "\u001b[0m"
     ]
    }
   ],
   "source": [
    "!qiime diversity beta-group-significance \\\n",
    "--i-distance-matrix ./core_metrics/rs210Pan_Filt7575/pt_cms_R1100/jaccard_distance_matrix.qza \\\n",
    "--m-metadata-file ./Qiime_input_data/rs210Pan_Filt7575/metaData_CMS_PT.txt \\\n",
    "--m-metadata-column investigation \\\n",
    "--o-visualization ./core_metrics/rs210Pan_Filt7575/pt_cms_R1100/jaccard_distance_matrix_significance.qzv\n",
    "\n",
    "!qiime diversity beta-group-significance \\\n",
    "--i-distance-matrix ./core_metrics/rs210Pan_Filt7575/pt_cms_R1100/bray_curtis_distance_matrix.qza \\\n",
    "--m-metadata-file ./Qiime_input_data/rs210Pan_Filt7575/metaData_CMS_PT.txt \\\n",
    "--m-metadata-column investigation \\\n",
    "--o-visualization ./core_metrics/rs210Pan_Filt7575/pt_cms_R1100/bray_curtis_distance_matrix_significance.qzv"
   ]
  },
  {
   "cell_type": "markdown",
   "metadata": {},
   "source": [
    "# Qiime 2 Core Metrics - BDN\n",
    "Note: Since beta diversity was calculated above using DEICODE above, we are mostly interested in the alpha diversity results."
   ]
  },
  {
   "cell_type": "markdown",
   "metadata": {},
   "source": [
    "### Harvard Medical School (HMS)\n",
    "Note the following sample read distribution from R:\n",
    "```\n",
    "[1] \"HMS\"\n",
    "     Min.   1st Qu.    Median      Mean   3rd Qu.      Max. \n",
    "        1        19        75    137647       522 109446580 \n",
    "```"
   ]
  },
  {
   "cell_type": "code",
   "execution_count": 71,
   "metadata": {},
   "outputs": [
    {
     "name": "stdout",
     "output_type": "stream",
     "text": [
      "\u001b[32mSaved FeatureTable[Frequency] to: ./core_metrics/rs210Pan_Filt7575/bdn_hms_R25/rarefied_table.qza\u001b[0m\n",
      "\u001b[32mSaved SampleData[AlphaDiversity] to: ./core_metrics/rs210Pan_Filt7575/bdn_hms_R25/observed_features_vector.qza\u001b[0m\n",
      "\u001b[32mSaved SampleData[AlphaDiversity] to: ./core_metrics/rs210Pan_Filt7575/bdn_hms_R25/shannon_vector.qza\u001b[0m\n",
      "\u001b[32mSaved SampleData[AlphaDiversity] to: ./core_metrics/rs210Pan_Filt7575/bdn_hms_R25/evenness_vector.qza\u001b[0m\n",
      "\u001b[32mSaved DistanceMatrix to: ./core_metrics/rs210Pan_Filt7575/bdn_hms_R25/jaccard_distance_matrix.qza\u001b[0m\n",
      "\u001b[32mSaved DistanceMatrix to: ./core_metrics/rs210Pan_Filt7575/bdn_hms_R25/bray_curtis_distance_matrix.qza\u001b[0m\n",
      "\u001b[32mSaved PCoAResults to: ./core_metrics/rs210Pan_Filt7575/bdn_hms_R25/jaccard_pcoa_results.qza\u001b[0m\n",
      "\u001b[32mSaved PCoAResults to: ./core_metrics/rs210Pan_Filt7575/bdn_hms_R25/bray_curtis_pcoa_results.qza\u001b[0m\n",
      "\u001b[32mSaved Visualization to: ./core_metrics/rs210Pan_Filt7575/bdn_hms_R25/jaccard_emperor.qzv\u001b[0m\n",
      "\u001b[32mSaved Visualization to: ./core_metrics/rs210Pan_Filt7575/bdn_hms_R25/bray_curtis_emperor.qzv\u001b[0m\n",
      "\u001b[0m"
     ]
    }
   ],
   "source": [
    "!qiime diversity core-metrics \\\n",
    "--i-table ./Qiime_input_data/rs210Pan_Filt7575/countData_HMS_BDN.qza \\\n",
    "--p-sampling-depth 25 \\\n",
    "--m-metadata-file ./Qiime_input_data/rs210Pan_Filt7575/metaData_HMS_BDN.txt \\\n",
    "--output-dir ./core_metrics/rs210Pan_Filt7575/bdn_hms_R25/"
   ]
  },
  {
   "cell_type": "code",
   "execution_count": 72,
   "metadata": {},
   "outputs": [
    {
     "name": "stdout",
     "output_type": "stream",
     "text": [
      "\u001b[32mSaved Visualization to: ./core_metrics/rs210Pan_Filt7575/bdn_hms_R25/observed_features_vector_significance.qzv\u001b[0m\n",
      "\u001b[0m\u001b[32mSaved Visualization to: ./core_metrics/rs210Pan_Filt7575/bdn_hms_R25/shannon_vector_significance.qzv\u001b[0m\n",
      "\u001b[0m"
     ]
    }
   ],
   "source": [
    "!qiime diversity alpha-group-significance \\\n",
    "--i-alpha-diversity ./core_metrics/rs210Pan_Filt7575/bdn_hms_R25/observed_features_vector.qza \\\n",
    "--m-metadata-file ./Qiime_input_data/rs210Pan_Filt7575/metaData_HMS_BDN.txt \\\n",
    "--o-visualization ./core_metrics/rs210Pan_Filt7575/bdn_hms_R25/observed_features_vector_significance.qzv\n",
    "\n",
    "!qiime diversity alpha-group-significance \\\n",
    "--i-alpha-diversity ./core_metrics/rs210Pan_Filt7575/bdn_hms_R25/shannon_vector.qza \\\n",
    "--m-metadata-file ./Qiime_input_data/rs210Pan_Filt7575/metaData_HMS_BDN.txt \\\n",
    "--o-visualization ./core_metrics/rs210Pan_Filt7575/bdn_hms_R25/shannon_vector_significance.qzv"
   ]
  },
  {
   "cell_type": "code",
   "execution_count": 73,
   "metadata": {},
   "outputs": [
    {
     "name": "stdout",
     "output_type": "stream",
     "text": [
      "\u001b[32mSaved Visualization to: ./core_metrics/rs210Pan_Filt7575/bdn_hms_R25/jaccard_distance_matrix_significance.qzv\u001b[0m\n",
      "\u001b[0m\u001b[32mSaved Visualization to: ./core_metrics/rs210Pan_Filt7575/bdn_hms_R25/bray_curtis_distance_matrix_significance.qzv\u001b[0m\n",
      "\u001b[0m"
     ]
    }
   ],
   "source": [
    "!qiime diversity beta-group-significance \\\n",
    "--i-distance-matrix ./core_metrics/rs210Pan_Filt7575/bdn_hms_R25/jaccard_distance_matrix.qza \\\n",
    "--m-metadata-file ./Qiime_input_data/rs210Pan_Filt7575/metaData_HMS_BDN.txt \\\n",
    "--m-metadata-column investigation \\\n",
    "--o-visualization ./core_metrics/rs210Pan_Filt7575/bdn_hms_R25/jaccard_distance_matrix_significance.qzv\n",
    "\n",
    "!qiime diversity beta-group-significance \\\n",
    "--i-distance-matrix ./core_metrics/rs210Pan_Filt7575/bdn_hms_R25/bray_curtis_distance_matrix.qza \\\n",
    "--m-metadata-file ./Qiime_input_data/rs210Pan_Filt7575/metaData_HMS_BDN.txt \\\n",
    "--m-metadata-column investigation \\\n",
    "--o-visualization ./core_metrics/rs210Pan_Filt7575/bdn_hms_R25/bray_curtis_distance_matrix_significance.qzv"
   ]
  },
  {
   "cell_type": "markdown",
   "metadata": {},
   "source": [
    "### Baylor College of Medicine (BCM)\n",
    "Note the following sample read distribution from R:\n",
    "```\n",
    "[1] \"BCM\"\n",
    "   Min. 1st Qu.  Median    Mean 3rd Qu.    Max. \n",
    "    118    5707   11944   18058   17756  498222 \n",
    "```"
   ]
  },
  {
   "cell_type": "code",
   "execution_count": 74,
   "metadata": {},
   "outputs": [
    {
     "name": "stdout",
     "output_type": "stream",
     "text": [
      "\u001b[32mSaved FeatureTable[Frequency] to: ./core_metrics/rs210Pan_Filt7575/bdn_bcm_R5700/rarefied_table.qza\u001b[0m\n",
      "\u001b[32mSaved SampleData[AlphaDiversity] to: ./core_metrics/rs210Pan_Filt7575/bdn_bcm_R5700/observed_features_vector.qza\u001b[0m\n",
      "\u001b[32mSaved SampleData[AlphaDiversity] to: ./core_metrics/rs210Pan_Filt7575/bdn_bcm_R5700/shannon_vector.qza\u001b[0m\n",
      "\u001b[32mSaved SampleData[AlphaDiversity] to: ./core_metrics/rs210Pan_Filt7575/bdn_bcm_R5700/evenness_vector.qza\u001b[0m\n",
      "\u001b[32mSaved DistanceMatrix to: ./core_metrics/rs210Pan_Filt7575/bdn_bcm_R5700/jaccard_distance_matrix.qza\u001b[0m\n",
      "\u001b[32mSaved DistanceMatrix to: ./core_metrics/rs210Pan_Filt7575/bdn_bcm_R5700/bray_curtis_distance_matrix.qza\u001b[0m\n",
      "\u001b[32mSaved PCoAResults to: ./core_metrics/rs210Pan_Filt7575/bdn_bcm_R5700/jaccard_pcoa_results.qza\u001b[0m\n",
      "\u001b[32mSaved PCoAResults to: ./core_metrics/rs210Pan_Filt7575/bdn_bcm_R5700/bray_curtis_pcoa_results.qza\u001b[0m\n",
      "\u001b[32mSaved Visualization to: ./core_metrics/rs210Pan_Filt7575/bdn_bcm_R5700/jaccard_emperor.qzv\u001b[0m\n",
      "\u001b[32mSaved Visualization to: ./core_metrics/rs210Pan_Filt7575/bdn_bcm_R5700/bray_curtis_emperor.qzv\u001b[0m\n",
      "\u001b[0m"
     ]
    }
   ],
   "source": [
    "!qiime diversity core-metrics \\\n",
    "--i-table ./Qiime_input_data/rs210Pan_Filt7575/countData_BCM_BDN.qza \\\n",
    "--p-sampling-depth 5700 \\\n",
    "--m-metadata-file ./Qiime_input_data/rs210Pan_Filt7575/metaData_BCM_BDN.txt \\\n",
    "--output-dir ./core_metrics/rs210Pan_Filt7575/bdn_bcm_R5700/"
   ]
  },
  {
   "cell_type": "code",
   "execution_count": 75,
   "metadata": {},
   "outputs": [
    {
     "name": "stdout",
     "output_type": "stream",
     "text": [
      "\u001b[32mSaved Visualization to: ./core_metrics/rs210Pan_Filt7575/bdn_bcm_R5700/observed_features_vector_significance.qzv\u001b[0m\n",
      "\u001b[0m\u001b[32mSaved Visualization to: ./core_metrics/rs210Pan_Filt7575/bdn_bcm_R5700/shannon_vector_significance.qzv\u001b[0m\n",
      "\u001b[0m"
     ]
    }
   ],
   "source": [
    "!qiime diversity alpha-group-significance \\\n",
    "--i-alpha-diversity ./core_metrics/rs210Pan_Filt7575/bdn_bcm_R5700/observed_features_vector.qza \\\n",
    "--m-metadata-file ./Qiime_input_data/rs210Pan_Filt7575/metaData_BCM_BDN.txt \\\n",
    "--o-visualization ./core_metrics/rs210Pan_Filt7575/bdn_bcm_R5700/observed_features_vector_significance.qzv\n",
    "\n",
    "!qiime diversity alpha-group-significance \\\n",
    "--i-alpha-diversity ./core_metrics/rs210Pan_Filt7575/bdn_bcm_R5700/shannon_vector.qza \\\n",
    "--m-metadata-file ./Qiime_input_data/rs210Pan_Filt7575/metaData_BCM_BDN.txt \\\n",
    "--o-visualization ./core_metrics/rs210Pan_Filt7575/bdn_bcm_R5700/shannon_vector_significance.qzv"
   ]
  },
  {
   "cell_type": "code",
   "execution_count": 76,
   "metadata": {},
   "outputs": [
    {
     "name": "stdout",
     "output_type": "stream",
     "text": [
      "\u001b[32mSaved Visualization to: ./core_metrics/rs210Pan_Filt7575/bdn_bcm_R5700/jaccard_distance_matrix_significance.qzv\u001b[0m\n",
      "\u001b[0m\u001b[32mSaved Visualization to: ./core_metrics/rs210Pan_Filt7575/bdn_bcm_R5700/bray_curtis_distance_matrix_significance.qzv\u001b[0m\n",
      "\u001b[0m"
     ]
    }
   ],
   "source": [
    "!qiime diversity beta-group-significance \\\n",
    "--i-distance-matrix ./core_metrics/rs210Pan_Filt7575/bdn_bcm_R5700/jaccard_distance_matrix.qza \\\n",
    "--m-metadata-file ./Qiime_input_data/rs210Pan_Filt7575/metaData_BCM_BDN.txt \\\n",
    "--m-metadata-column investigation \\\n",
    "--o-visualization ./core_metrics/rs210Pan_Filt7575/bdn_bcm_R5700/jaccard_distance_matrix_significance.qzv\n",
    "\n",
    "!qiime diversity beta-group-significance \\\n",
    "--i-distance-matrix ./core_metrics/rs210Pan_Filt7575/bdn_bcm_R5700/bray_curtis_distance_matrix.qza \\\n",
    "--m-metadata-file ./Qiime_input_data/rs210Pan_Filt7575/metaData_BCM_BDN.txt \\\n",
    "--m-metadata-column investigation \\\n",
    "--o-visualization ./core_metrics/rs210Pan_Filt7575/bdn_bcm_R5700/bray_curtis_distance_matrix_significance.qzv"
   ]
  },
  {
   "cell_type": "markdown",
   "metadata": {},
   "source": [
    "### MD Anderson (MDA)\n",
    "Note the following sample read distribution from R:\n",
    "```\n",
    "[1] \"MDA\"\n",
    "   Min. 1st Qu.  Median    Mean 3rd Qu.    Max. \n",
    "   1.00    7.00   16.50  154.00   64.25 9307.00 \n",
    "```"
   ]
  },
  {
   "cell_type": "code",
   "execution_count": 77,
   "metadata": {},
   "outputs": [
    {
     "name": "stdout",
     "output_type": "stream",
     "text": [
      "\u001b[32mSaved FeatureTable[Frequency] to: ./core_metrics/rs210Pan_Filt7575/bdn_mda_R25/rarefied_table.qza\u001b[0m\n",
      "\u001b[32mSaved SampleData[AlphaDiversity] to: ./core_metrics/rs210Pan_Filt7575/bdn_mda_R25/observed_features_vector.qza\u001b[0m\n",
      "\u001b[32mSaved SampleData[AlphaDiversity] to: ./core_metrics/rs210Pan_Filt7575/bdn_mda_R25/shannon_vector.qza\u001b[0m\n",
      "\u001b[32mSaved SampleData[AlphaDiversity] to: ./core_metrics/rs210Pan_Filt7575/bdn_mda_R25/evenness_vector.qza\u001b[0m\n",
      "\u001b[32mSaved DistanceMatrix to: ./core_metrics/rs210Pan_Filt7575/bdn_mda_R25/jaccard_distance_matrix.qza\u001b[0m\n",
      "\u001b[32mSaved DistanceMatrix to: ./core_metrics/rs210Pan_Filt7575/bdn_mda_R25/bray_curtis_distance_matrix.qza\u001b[0m\n",
      "\u001b[32mSaved PCoAResults to: ./core_metrics/rs210Pan_Filt7575/bdn_mda_R25/jaccard_pcoa_results.qza\u001b[0m\n",
      "\u001b[32mSaved PCoAResults to: ./core_metrics/rs210Pan_Filt7575/bdn_mda_R25/bray_curtis_pcoa_results.qza\u001b[0m\n",
      "\u001b[32mSaved Visualization to: ./core_metrics/rs210Pan_Filt7575/bdn_mda_R25/jaccard_emperor.qzv\u001b[0m\n",
      "\u001b[32mSaved Visualization to: ./core_metrics/rs210Pan_Filt7575/bdn_mda_R25/bray_curtis_emperor.qzv\u001b[0m\n",
      "\u001b[0m"
     ]
    }
   ],
   "source": [
    "!qiime diversity core-metrics \\\n",
    "--i-table ./Qiime_input_data/rs210Pan_Filt7575/countData_MDA_BDN.qza \\\n",
    "--p-sampling-depth 25 \\\n",
    "--m-metadata-file ./Qiime_input_data/rs210Pan_Filt7575/metaData_MDA_BDN.txt \\\n",
    "--output-dir ./core_metrics/rs210Pan_Filt7575/bdn_mda_R25/"
   ]
  },
  {
   "cell_type": "code",
   "execution_count": 78,
   "metadata": {},
   "outputs": [
    {
     "name": "stdout",
     "output_type": "stream",
     "text": [
      "\u001b[32mSaved Visualization to: ./core_metrics/rs210Pan_Filt7575/bdn_mda_R25/observed_features_vector_significance.qzv\u001b[0m\n",
      "\u001b[0m\u001b[32mSaved Visualization to: ./core_metrics/rs210Pan_Filt7575/bdn_mda_R25/shannon_vector_significance.qzv\u001b[0m\n",
      "\u001b[0m"
     ]
    }
   ],
   "source": [
    "!qiime diversity alpha-group-significance \\\n",
    "--i-alpha-diversity ./core_metrics/rs210Pan_Filt7575/bdn_mda_R25/observed_features_vector.qza \\\n",
    "--m-metadata-file ./Qiime_input_data/rs210Pan_Filt7575/metaData_MDA_BDN.txt \\\n",
    "--o-visualization ./core_metrics/rs210Pan_Filt7575/bdn_mda_R25/observed_features_vector_significance.qzv\n",
    "\n",
    "!qiime diversity alpha-group-significance \\\n",
    "--i-alpha-diversity ./core_metrics/rs210Pan_Filt7575/bdn_mda_R25/shannon_vector.qza \\\n",
    "--m-metadata-file ./Qiime_input_data/rs210Pan_Filt7575/metaData_MDA_BDN.txt \\\n",
    "--o-visualization ./core_metrics/rs210Pan_Filt7575/bdn_mda_R25/shannon_vector_significance.qzv"
   ]
  },
  {
   "cell_type": "code",
   "execution_count": 79,
   "metadata": {},
   "outputs": [
    {
     "name": "stdout",
     "output_type": "stream",
     "text": [
      "\u001b[32mSaved Visualization to: ./core_metrics/rs210Pan_Filt7575/bdn_mda_R25/jaccard_distance_matrix_significance.qzv\u001b[0m\n",
      "\u001b[0m\u001b[32mSaved Visualization to: ./core_metrics/rs210Pan_Filt7575/bdn_mda_R25/bray_curtis_distance_matrix_significance.qzv\u001b[0m\n",
      "\u001b[0m"
     ]
    }
   ],
   "source": [
    "!qiime diversity beta-group-significance \\\n",
    "--i-distance-matrix ./core_metrics/rs210Pan_Filt7575/bdn_mda_R25/jaccard_distance_matrix.qza \\\n",
    "--m-metadata-file ./Qiime_input_data/rs210Pan_Filt7575/metaData_MDA_BDN.txt \\\n",
    "--m-metadata-column investigation \\\n",
    "--o-visualization ./core_metrics/rs210Pan_Filt7575/bdn_mda_R25/jaccard_distance_matrix_significance.qzv\n",
    "\n",
    "!qiime diversity beta-group-significance \\\n",
    "--i-distance-matrix ./core_metrics/rs210Pan_Filt7575/bdn_mda_R25/bray_curtis_distance_matrix.qza \\\n",
    "--m-metadata-file ./Qiime_input_data/rs210Pan_Filt7575/metaData_MDA_BDN.txt \\\n",
    "--m-metadata-column investigation \\\n",
    "--o-visualization ./core_metrics/rs210Pan_Filt7575/bdn_mda_R25/bray_curtis_distance_matrix_significance.qzv"
   ]
  },
  {
   "cell_type": "markdown",
   "metadata": {},
   "source": [
    "### Washington University (WashU)\n",
    "Note the following sample read distribution from R:\n",
    "```\n",
    "[1] \"WashU\"\n",
    "    Min.  1st Qu.   Median     Mean  3rd Qu.     Max. \n",
    "     564     6512     9571   423855    18237 59802910 \n",
    "```"
   ]
  },
  {
   "cell_type": "code",
   "execution_count": 80,
   "metadata": {},
   "outputs": [
    {
     "name": "stdout",
     "output_type": "stream",
     "text": [
      "\u001b[32mSaved FeatureTable[Frequency] to: ./core_metrics/rs210Pan_Filt7575/bdn_washu_R6500/rarefied_table.qza\u001b[0m\n",
      "\u001b[32mSaved SampleData[AlphaDiversity] to: ./core_metrics/rs210Pan_Filt7575/bdn_washu_R6500/observed_features_vector.qza\u001b[0m\n",
      "\u001b[32mSaved SampleData[AlphaDiversity] to: ./core_metrics/rs210Pan_Filt7575/bdn_washu_R6500/shannon_vector.qza\u001b[0m\n",
      "\u001b[32mSaved SampleData[AlphaDiversity] to: ./core_metrics/rs210Pan_Filt7575/bdn_washu_R6500/evenness_vector.qza\u001b[0m\n",
      "\u001b[32mSaved DistanceMatrix to: ./core_metrics/rs210Pan_Filt7575/bdn_washu_R6500/jaccard_distance_matrix.qza\u001b[0m\n",
      "\u001b[32mSaved DistanceMatrix to: ./core_metrics/rs210Pan_Filt7575/bdn_washu_R6500/bray_curtis_distance_matrix.qza\u001b[0m\n",
      "\u001b[32mSaved PCoAResults to: ./core_metrics/rs210Pan_Filt7575/bdn_washu_R6500/jaccard_pcoa_results.qza\u001b[0m\n",
      "\u001b[32mSaved PCoAResults to: ./core_metrics/rs210Pan_Filt7575/bdn_washu_R6500/bray_curtis_pcoa_results.qza\u001b[0m\n",
      "\u001b[32mSaved Visualization to: ./core_metrics/rs210Pan_Filt7575/bdn_washu_R6500/jaccard_emperor.qzv\u001b[0m\n",
      "\u001b[32mSaved Visualization to: ./core_metrics/rs210Pan_Filt7575/bdn_washu_R6500/bray_curtis_emperor.qzv\u001b[0m\n",
      "\u001b[0m"
     ]
    }
   ],
   "source": [
    "!qiime diversity core-metrics \\\n",
    "--i-table ./Qiime_input_data/rs210Pan_Filt7575/countData_WashU_BDN.qza \\\n",
    "--p-sampling-depth 6500 \\\n",
    "--m-metadata-file ./Qiime_input_data/rs210Pan_Filt7575/metaData_WashU_BDN.txt \\\n",
    "--output-dir ./core_metrics/rs210Pan_Filt7575/bdn_washu_R6500/"
   ]
  },
  {
   "cell_type": "code",
   "execution_count": 81,
   "metadata": {},
   "outputs": [
    {
     "name": "stdout",
     "output_type": "stream",
     "text": [
      "\u001b[32mSaved Visualization to: ./core_metrics/rs210Pan_Filt7575/bdn_washu_R6500/observed_features_vector_significance.qzv\u001b[0m\n",
      "\u001b[0m\u001b[32mSaved Visualization to: ./core_metrics/rs210Pan_Filt7575/bdn_washu_R6500/shannon_vector_significance.qzv\u001b[0m\n",
      "\u001b[0m"
     ]
    }
   ],
   "source": [
    "!qiime diversity alpha-group-significance \\\n",
    "--i-alpha-diversity ./core_metrics/rs210Pan_Filt7575/bdn_washu_R6500/observed_features_vector.qza \\\n",
    "--m-metadata-file ./Qiime_input_data/rs210Pan_Filt7575/metaData_WashU_BDN.txt \\\n",
    "--o-visualization ./core_metrics/rs210Pan_Filt7575/bdn_washu_R6500/observed_features_vector_significance.qzv\n",
    "\n",
    "!qiime diversity alpha-group-significance \\\n",
    "--i-alpha-diversity ./core_metrics/rs210Pan_Filt7575/bdn_washu_R6500/shannon_vector.qza \\\n",
    "--m-metadata-file ./Qiime_input_data/rs210Pan_Filt7575/metaData_WashU_BDN.txt \\\n",
    "--o-visualization ./core_metrics/rs210Pan_Filt7575/bdn_washu_R6500/shannon_vector_significance.qzv"
   ]
  },
  {
   "cell_type": "code",
   "execution_count": 82,
   "metadata": {},
   "outputs": [
    {
     "name": "stdout",
     "output_type": "stream",
     "text": [
      "\u001b[32mSaved Visualization to: ./core_metrics/rs210Pan_Filt7575/bdn_washu_R6500/jaccard_distance_matrix_significance.qzv\u001b[0m\n",
      "\u001b[0m\u001b[32mSaved Visualization to: ./core_metrics/rs210Pan_Filt7575/bdn_washu_R6500/bray_curtis_distance_matrix_significance.qzv\u001b[0m\n",
      "\u001b[0m"
     ]
    }
   ],
   "source": [
    "!qiime diversity beta-group-significance \\\n",
    "--i-distance-matrix ./core_metrics/rs210Pan_Filt7575/bdn_washu_R6500/jaccard_distance_matrix.qza \\\n",
    "--m-metadata-file ./Qiime_input_data/rs210Pan_Filt7575/metaData_WashU_BDN.txt \\\n",
    "--m-metadata-column investigation \\\n",
    "--o-visualization ./core_metrics/rs210Pan_Filt7575/bdn_washu_R6500/jaccard_distance_matrix_significance.qzv\n",
    "\n",
    "!qiime diversity beta-group-significance \\\n",
    "--i-distance-matrix ./core_metrics/rs210Pan_Filt7575/bdn_washu_R6500/bray_curtis_distance_matrix.qza \\\n",
    "--m-metadata-file ./Qiime_input_data/rs210Pan_Filt7575/metaData_WashU_BDN.txt \\\n",
    "--m-metadata-column investigation \\\n",
    "--o-visualization ./core_metrics/rs210Pan_Filt7575/bdn_washu_R6500/bray_curtis_distance_matrix_significance.qzv"
   ]
  },
  {
   "cell_type": "markdown",
   "metadata": {},
   "source": [
    "### Broad Institute WGS only (Broad WGS)\n",
    "Note the following sample read distribution from R:\n",
    "```\n",
    "[1] \"Broad_WGS\"\n",
    "    Min.  1st Qu.   Median     Mean  3rd Qu.     Max. \n",
    "    6.00    99.75   233.50  2658.80   914.25 71940.00 \n",
    "```"
   ]
  },
  {
   "cell_type": "code",
   "execution_count": 83,
   "metadata": {},
   "outputs": [
    {
     "name": "stdout",
     "output_type": "stream",
     "text": [
      "\u001b[32mSaved FeatureTable[Frequency] to: ./core_metrics/rs210Pan_Filt7575/bdn_broad_wgs_R100/rarefied_table.qza\u001b[0m\n",
      "\u001b[32mSaved SampleData[AlphaDiversity] to: ./core_metrics/rs210Pan_Filt7575/bdn_broad_wgs_R100/observed_features_vector.qza\u001b[0m\n",
      "\u001b[32mSaved SampleData[AlphaDiversity] to: ./core_metrics/rs210Pan_Filt7575/bdn_broad_wgs_R100/shannon_vector.qza\u001b[0m\n",
      "\u001b[32mSaved SampleData[AlphaDiversity] to: ./core_metrics/rs210Pan_Filt7575/bdn_broad_wgs_R100/evenness_vector.qza\u001b[0m\n",
      "\u001b[32mSaved DistanceMatrix to: ./core_metrics/rs210Pan_Filt7575/bdn_broad_wgs_R100/jaccard_distance_matrix.qza\u001b[0m\n",
      "\u001b[32mSaved DistanceMatrix to: ./core_metrics/rs210Pan_Filt7575/bdn_broad_wgs_R100/bray_curtis_distance_matrix.qza\u001b[0m\n",
      "\u001b[32mSaved PCoAResults to: ./core_metrics/rs210Pan_Filt7575/bdn_broad_wgs_R100/jaccard_pcoa_results.qza\u001b[0m\n",
      "\u001b[32mSaved PCoAResults to: ./core_metrics/rs210Pan_Filt7575/bdn_broad_wgs_R100/bray_curtis_pcoa_results.qza\u001b[0m\n",
      "\u001b[32mSaved Visualization to: ./core_metrics/rs210Pan_Filt7575/bdn_broad_wgs_R100/jaccard_emperor.qzv\u001b[0m\n",
      "\u001b[32mSaved Visualization to: ./core_metrics/rs210Pan_Filt7575/bdn_broad_wgs_R100/bray_curtis_emperor.qzv\u001b[0m\n",
      "\u001b[0m"
     ]
    }
   ],
   "source": [
    "!qiime diversity core-metrics \\\n",
    "--i-table ./Qiime_input_data/rs210Pan_Filt7575/countData_Broad_WGS_BDN.qza \\\n",
    "--p-sampling-depth 100 \\\n",
    "--m-metadata-file ./Qiime_input_data/rs210Pan_Filt7575/metaData_Broad_WGS_BDN.txt \\\n",
    "--output-dir ./core_metrics/rs210Pan_Filt7575/bdn_broad_wgs_R100/"
   ]
  },
  {
   "cell_type": "code",
   "execution_count": 84,
   "metadata": {},
   "outputs": [
    {
     "name": "stdout",
     "output_type": "stream",
     "text": [
      "\u001b[32mSaved Visualization to: ./core_metrics/rs210Pan_Filt7575/bdn_broad_wgs_R100/observed_features_vector_significance.qzv\u001b[0m\n",
      "\u001b[0m\u001b[32mSaved Visualization to: ./core_metrics/rs210Pan_Filt7575/bdn_broad_wgs_R100/shannon_vector_significance.qzv\u001b[0m\n",
      "\u001b[0m"
     ]
    }
   ],
   "source": [
    "!qiime diversity alpha-group-significance \\\n",
    "--i-alpha-diversity ./core_metrics/rs210Pan_Filt7575/bdn_broad_wgs_R100/observed_features_vector.qza \\\n",
    "--m-metadata-file ./Qiime_input_data/rs210Pan_Filt7575/metaData_Broad_WGS_BDN.txt \\\n",
    "--o-visualization ./core_metrics/rs210Pan_Filt7575/bdn_broad_wgs_R100/observed_features_vector_significance.qzv\n",
    "\n",
    "!qiime diversity alpha-group-significance \\\n",
    "--i-alpha-diversity ./core_metrics/rs210Pan_Filt7575/bdn_broad_wgs_R100/shannon_vector.qza \\\n",
    "--m-metadata-file ./Qiime_input_data/rs210Pan_Filt7575/metaData_Broad_WGS_BDN.txt \\\n",
    "--o-visualization ./core_metrics/rs210Pan_Filt7575/bdn_broad_wgs_R100/shannon_vector_significance.qzv"
   ]
  },
  {
   "cell_type": "code",
   "execution_count": 85,
   "metadata": {},
   "outputs": [
    {
     "name": "stdout",
     "output_type": "stream",
     "text": [
      "\u001b[32mSaved Visualization to: ./core_metrics/rs210Pan_Filt7575/bdn_broad_wgs_R100/jaccard_distance_matrix_significance.qzv\u001b[0m\n",
      "\u001b[0m\u001b[32mSaved Visualization to: ./core_metrics/rs210Pan_Filt7575/bdn_broad_wgs_R100/bray_curtis_distance_matrix_significance.qzv\u001b[0m\n",
      "\u001b[0m"
     ]
    }
   ],
   "source": [
    "!qiime diversity beta-group-significance \\\n",
    "--i-distance-matrix ./core_metrics/rs210Pan_Filt7575/bdn_broad_wgs_R100/jaccard_distance_matrix.qza \\\n",
    "--m-metadata-file ./Qiime_input_data/rs210Pan_Filt7575/metaData_Broad_WGS_BDN.txt \\\n",
    "--m-metadata-column investigation \\\n",
    "--o-visualization ./core_metrics/rs210Pan_Filt7575/bdn_broad_wgs_R100/jaccard_distance_matrix_significance.qzv\n",
    "\n",
    "!qiime diversity beta-group-significance \\\n",
    "--i-distance-matrix ./core_metrics/rs210Pan_Filt7575/bdn_broad_wgs_R100/bray_curtis_distance_matrix.qza \\\n",
    "--m-metadata-file ./Qiime_input_data/rs210Pan_Filt7575/metaData_Broad_WGS_BDN.txt \\\n",
    "--m-metadata-column investigation \\\n",
    "--o-visualization ./core_metrics/rs210Pan_Filt7575/bdn_broad_wgs_R100/bray_curtis_distance_matrix_significance.qzv"
   ]
  },
  {
   "cell_type": "markdown",
   "metadata": {},
   "source": [
    "# Figures for the paper\n",
    "\n",
    "- Emperor (https://biocore.github.io/emperor/) will be used to view the beta diversity PCoA plots (again using https://view.qiime2.org/) and capture screenshots for the PCoA figures"
   ]
  },
  {
   "cell_type": "code",
   "execution_count": null,
   "metadata": {},
   "outputs": [],
   "source": []
  }
 ],
 "metadata": {
  "kernelspec": {
   "display_name": "Python 3 (ipykernel)",
   "language": "python",
   "name": "python3"
  },
  "language_info": {
   "codemirror_mode": {
    "name": "ipython",
    "version": 3
   },
   "file_extension": ".py",
   "mimetype": "text/x-python",
   "name": "python",
   "nbconvert_exporter": "python",
   "pygments_lexer": "ipython3",
   "version": "3.8.13"
  }
 },
 "nbformat": 4,
 "nbformat_minor": 2
}
