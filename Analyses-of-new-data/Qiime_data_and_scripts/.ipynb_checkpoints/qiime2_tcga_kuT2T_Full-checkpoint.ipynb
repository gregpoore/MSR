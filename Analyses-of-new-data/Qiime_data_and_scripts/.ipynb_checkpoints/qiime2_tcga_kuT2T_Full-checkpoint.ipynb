{
 "cells": [
  {
   "cell_type": "markdown",
   "metadata": {},
   "source": [
    "The following conda environment for Qiime 2 was used for these analyses:\n",
    "\n",
    ">qiime2-2022.2\n",
    "\n",
    "The following commands were run using the command line interface (CLI) of Qiime 2."
   ]
  },
  {
   "cell_type": "markdown",
   "metadata": {},
   "source": [
    "# Import Taxa table"
   ]
  },
  {
   "cell_type": "code",
   "execution_count": 1,
   "metadata": {},
   "outputs": [
    {
     "name": "stdout",
     "output_type": "stream",
     "text": [
      "\u001b[32mImported ./Qiime_input_data/ku-taxa.txt as TSVTaxonomyDirectoryFormat to kuTaxonomy.qza\u001b[0m\r\n",
      "\u001b[0m"
     ]
    }
   ],
   "source": [
    "!qiime tools import \\\n",
    " --type 'FeatureData[Taxonomy]' \\\n",
    " --input-path ./Qiime_input_data/ku-taxa.txt \\\n",
    " --output-path kuTaxonomy.qza"
   ]
  },
  {
   "cell_type": "markdown",
   "metadata": {},
   "source": [
    "# Import PT data"
   ]
  },
  {
   "cell_type": "code",
   "execution_count": 2,
   "metadata": {},
   "outputs": [
    {
     "name": "stdout",
     "output_type": "stream",
     "text": [
      "\u001b[32mImported ./Qiime_input_data/kuT2T_Full/countData_HMS_PT.biom as BIOMV100Format to ./Qiime_input_data/kuT2T_Full/countData_HMS_PT.qza\u001b[0m\n",
      "\u001b[0m"
     ]
    }
   ],
   "source": [
    "!qiime tools import \\\n",
    "--type 'FeatureTable[Frequency]' \\\n",
    "--input-path ./Qiime_input_data/kuT2T_Full/countData_HMS_PT.biom \\\n",
    "--input-format BIOMV100Format \\\n",
    "--output-path ./Qiime_input_data/kuT2T_Full/countData_HMS_PT.qza"
   ]
  },
  {
   "cell_type": "code",
   "execution_count": 3,
   "metadata": {},
   "outputs": [
    {
     "name": "stdout",
     "output_type": "stream",
     "text": [
      "\u001b[32mImported ./Qiime_input_data/kuT2T_Full/countData_BCM_PT.biom as BIOMV100Format to ./Qiime_input_data/kuT2T_Full/countData_BCM_PT.qza\u001b[0m\r\n",
      "\u001b[0m"
     ]
    }
   ],
   "source": [
    "!qiime tools import \\\n",
    "--type 'FeatureTable[Frequency]' \\\n",
    "--input-path ./Qiime_input_data/kuT2T_Full/countData_BCM_PT.biom \\\n",
    "--input-format BIOMV100Format \\\n",
    "--output-path ./Qiime_input_data/kuT2T_Full/countData_BCM_PT.qza"
   ]
  },
  {
   "cell_type": "code",
   "execution_count": 4,
   "metadata": {},
   "outputs": [
    {
     "name": "stdout",
     "output_type": "stream",
     "text": [
      "\u001b[32mImported ./Qiime_input_data/kuT2T_Full/countData_MDA_PT.biom as BIOMV100Format to ./Qiime_input_data/kuT2T_Full/countData_MDA_PT.qza\u001b[0m\r\n",
      "\u001b[0m"
     ]
    }
   ],
   "source": [
    "!qiime tools import \\\n",
    "--type 'FeatureTable[Frequency]' \\\n",
    "--input-path ./Qiime_input_data/kuT2T_Full/countData_MDA_PT.biom \\\n",
    "--input-format BIOMV100Format \\\n",
    "--output-path ./Qiime_input_data/kuT2T_Full/countData_MDA_PT.qza"
   ]
  },
  {
   "cell_type": "code",
   "execution_count": 5,
   "metadata": {},
   "outputs": [
    {
     "name": "stdout",
     "output_type": "stream",
     "text": [
      "\u001b[32mImported ./Qiime_input_data/kuT2T_Full/countData_WashU_PT.biom as BIOMV100Format to ./Qiime_input_data/kuT2T_Full/countData_WashU_PT.qza\u001b[0m\r\n",
      "\u001b[0m"
     ]
    }
   ],
   "source": [
    "!qiime tools import \\\n",
    "--type 'FeatureTable[Frequency]' \\\n",
    "--input-path ./Qiime_input_data/kuT2T_Full/countData_WashU_PT.biom \\\n",
    "--input-format BIOMV100Format \\\n",
    "--output-path ./Qiime_input_data/kuT2T_Full/countData_WashU_PT.qza"
   ]
  },
  {
   "cell_type": "code",
   "execution_count": 6,
   "metadata": {},
   "outputs": [
    {
     "name": "stdout",
     "output_type": "stream",
     "text": [
      "\u001b[32mImported ./Qiime_input_data/kuT2T_Full/countData_Broad_WGS_PT.biom as BIOMV100Format to ./Qiime_input_data/kuT2T_Full/countData_Broad_WGS_PT.qza\u001b[0m\r\n",
      "\u001b[0m"
     ]
    }
   ],
   "source": [
    "!qiime tools import \\\n",
    "--type 'FeatureTable[Frequency]' \\\n",
    "--input-path ./Qiime_input_data/kuT2T_Full/countData_Broad_WGS_PT.biom \\\n",
    "--input-format BIOMV100Format \\\n",
    "--output-path ./Qiime_input_data/kuT2T_Full/countData_Broad_WGS_PT.qza"
   ]
  },
  {
   "cell_type": "code",
   "execution_count": 7,
   "metadata": {},
   "outputs": [
    {
     "name": "stdout",
     "output_type": "stream",
     "text": [
      "\u001b[32mImported ./Qiime_input_data/kuT2T_Full/countData_UNC_PT.biom as BIOMV100Format to ./Qiime_input_data/kuT2T_Full/countData_UNC_PT.qza\u001b[0m\r\n",
      "\u001b[0m"
     ]
    }
   ],
   "source": [
    "!qiime tools import \\\n",
    "--type 'FeatureTable[Frequency]' \\\n",
    "--input-path ./Qiime_input_data/kuT2T_Full/countData_UNC_PT.biom \\\n",
    "--input-format BIOMV100Format \\\n",
    "--output-path ./Qiime_input_data/kuT2T_Full/countData_UNC_PT.qza"
   ]
  },
  {
   "cell_type": "code",
   "execution_count": 8,
   "metadata": {},
   "outputs": [
    {
     "name": "stdout",
     "output_type": "stream",
     "text": [
      "\u001b[32mImported ./Qiime_input_data/kuT2T_Full/countData_CMS_PT.biom as BIOMV100Format to ./Qiime_input_data/kuT2T_Full/countData_CMS_PT.qza\u001b[0m\n",
      "\u001b[0m"
     ]
    }
   ],
   "source": [
    "!qiime tools import \\\n",
    "--type 'FeatureTable[Frequency]' \\\n",
    "--input-path ./Qiime_input_data/kuT2T_Full/countData_CMS_PT.biom \\\n",
    "--input-format BIOMV100Format \\\n",
    "--output-path ./Qiime_input_data/kuT2T_Full/countData_CMS_PT.qza"
   ]
  },
  {
   "cell_type": "markdown",
   "metadata": {},
   "source": [
    "# Import BDN data"
   ]
  },
  {
   "cell_type": "code",
   "execution_count": 9,
   "metadata": {},
   "outputs": [
    {
     "name": "stdout",
     "output_type": "stream",
     "text": [
      "\u001b[32mImported ./Qiime_input_data/kuT2T_Full/countData_HMS_BDN.biom as BIOMV100Format to ./Qiime_input_data/kuT2T_Full/countData_HMS_BDN.qza\u001b[0m\r\n",
      "\u001b[0m"
     ]
    }
   ],
   "source": [
    "!qiime tools import \\\n",
    "--type 'FeatureTable[Frequency]' \\\n",
    "--input-path ./Qiime_input_data/kuT2T_Full/countData_HMS_BDN.biom \\\n",
    "--input-format BIOMV100Format \\\n",
    "--output-path ./Qiime_input_data/kuT2T_Full/countData_HMS_BDN.qza"
   ]
  },
  {
   "cell_type": "code",
   "execution_count": 10,
   "metadata": {},
   "outputs": [
    {
     "name": "stdout",
     "output_type": "stream",
     "text": [
      "\u001b[32mImported ./Qiime_input_data/kuT2T_Full/countData_BCM_BDN.biom as BIOMV100Format to ./Qiime_input_data/kuT2T_Full/countData_BCM_BDN.qza\u001b[0m\r\n",
      "\u001b[0m"
     ]
    }
   ],
   "source": [
    "!qiime tools import \\\n",
    "--type 'FeatureTable[Frequency]' \\\n",
    "--input-path ./Qiime_input_data/kuT2T_Full/countData_BCM_BDN.biom \\\n",
    "--input-format BIOMV100Format \\\n",
    "--output-path ./Qiime_input_data/kuT2T_Full/countData_BCM_BDN.qza"
   ]
  },
  {
   "cell_type": "code",
   "execution_count": 11,
   "metadata": {},
   "outputs": [
    {
     "name": "stdout",
     "output_type": "stream",
     "text": [
      "\u001b[32mImported ./Qiime_input_data/kuT2T_Full/countData_MDA_BDN.biom as BIOMV100Format to ./Qiime_input_data/kuT2T_Full/countData_MDA_BDN.qza\u001b[0m\r\n",
      "\u001b[0m"
     ]
    }
   ],
   "source": [
    "!qiime tools import \\\n",
    "--type 'FeatureTable[Frequency]' \\\n",
    "--input-path ./Qiime_input_data/kuT2T_Full/countData_MDA_BDN.biom \\\n",
    "--input-format BIOMV100Format \\\n",
    "--output-path ./Qiime_input_data/kuT2T_Full/countData_MDA_BDN.qza"
   ]
  },
  {
   "cell_type": "code",
   "execution_count": 12,
   "metadata": {},
   "outputs": [
    {
     "name": "stdout",
     "output_type": "stream",
     "text": [
      "\u001b[32mImported ./Qiime_input_data/kuT2T_Full/countData_WashU_BDN.biom as BIOMV100Format to ./Qiime_input_data/kuT2T_Full/countData_WashU_BDN.qza\u001b[0m\r\n",
      "\u001b[0m"
     ]
    }
   ],
   "source": [
    "!qiime tools import \\\n",
    "--type 'FeatureTable[Frequency]' \\\n",
    "--input-path ./Qiime_input_data/kuT2T_Full/countData_WashU_BDN.biom \\\n",
    "--input-format BIOMV100Format \\\n",
    "--output-path ./Qiime_input_data/kuT2T_Full/countData_WashU_BDN.qza"
   ]
  },
  {
   "cell_type": "code",
   "execution_count": 13,
   "metadata": {
    "scrolled": true
   },
   "outputs": [
    {
     "name": "stdout",
     "output_type": "stream",
     "text": [
      "\u001b[32mImported ./Qiime_input_data/kuT2T_Full/countData_Broad_WGS_BDN.biom as BIOMV100Format to ./Qiime_input_data/kuT2T_Full/countData_Broad_WGS_BDN.qza\u001b[0m\r\n",
      "\u001b[0m"
     ]
    }
   ],
   "source": [
    "!qiime tools import \\\n",
    "--type 'FeatureTable[Frequency]' \\\n",
    "--input-path ./Qiime_input_data/kuT2T_Full/countData_Broad_WGS_BDN.biom \\\n",
    "--input-format BIOMV100Format \\\n",
    "--output-path ./Qiime_input_data/kuT2T_Full/countData_Broad_WGS_BDN.qza"
   ]
  },
  {
   "cell_type": "markdown",
   "metadata": {},
   "source": [
    "# Deicode for PT (beta diversity that does not require rarefaction)\n",
    "\n",
    "Martino et al. 2019. mSystems. See the following links:\n",
    "- https://journals.asm.org/doi/10.1128/mSystems.00016-19\n",
    "- https://forum.qiime2.org/t/robust-aitchison-pca-beta-diversity-with-deicode/8333"
   ]
  },
  {
   "cell_type": "markdown",
   "metadata": {},
   "source": [
    "### Harvard Medical School (HMS)"
   ]
  },
  {
   "cell_type": "code",
   "execution_count": 14,
   "metadata": {
    "scrolled": true
   },
   "outputs": [
    {
     "name": "stdout",
     "output_type": "stream",
     "text": [
      "\u001b[32mSaved PCoAResults % Properties('biplot') to: ./Qiime_input_data/kuT2T_Full/deicode_ordination_HMS_PT.qza\u001b[0m\n",
      "\u001b[32mSaved DistanceMatrix to: ./Qiime_input_data/kuT2T_Full/deicode_distance_HMS_PT.qza\u001b[0m\n",
      "\u001b[0m"
     ]
    }
   ],
   "source": [
    "!qiime deicode rpca \\\n",
    "    --i-table ./Qiime_input_data/kuT2T_Full/countData_HMS_PT.qza \\\n",
    "    --o-biplot ./Qiime_input_data/kuT2T_Full/deicode_ordination_HMS_PT.qza \\\n",
    "    --p-min-sample-count 100 \\\n",
    "    --o-distance-matrix ./Qiime_input_data/kuT2T_Full/deicode_distance_HMS_PT.qza"
   ]
  },
  {
   "cell_type": "code",
   "execution_count": 15,
   "metadata": {},
   "outputs": [
    {
     "name": "stdout",
     "output_type": "stream",
     "text": [
      "\u001b[32mSaved Visualization to: ./Qiime_input_data/kuT2T_Full/deicode_biplot_HMS_PT.qzv\u001b[0m\r\n",
      "\u001b[0m"
     ]
    }
   ],
   "source": [
    "!qiime emperor biplot \\\n",
    "    --i-biplot ./Qiime_input_data/kuT2T_Full/deicode_ordination_HMS_PT.qza \\\n",
    "    --m-sample-metadata-file ./Qiime_input_data/kuT2T_Full/metaData_HMS_PT.txt \\\n",
    "    --m-feature-metadata-file kuTaxonomy.qza \\\n",
    "    --o-visualization ./Qiime_input_data/kuT2T_Full/deicode_biplot_HMS_PT.qzv \\\n",
    "    --p-number-of-features 1"
   ]
  },
  {
   "cell_type": "code",
   "execution_count": 16,
   "metadata": {},
   "outputs": [
    {
     "name": "stdout",
     "output_type": "stream",
     "text": [
      "\u001b[32mSaved Visualization to: ./Qiime_input_data/kuT2T_Full/deicode_adonis_HMS_PT.qzv\u001b[0m\r\n",
      "\u001b[0m"
     ]
    }
   ],
   "source": [
    "!qiime diversity adonis \\\n",
    "--i-distance-matrix ./Qiime_input_data/kuT2T_Full/deicode_distance_HMS_PT.qza \\\n",
    "--m-metadata-file ./Qiime_input_data/kuT2T_Full/metaData_HMS_PT.txt \\\n",
    "--p-formula \"investigation\" \\\n",
    "--p-n-jobs 8 \\\n",
    "--o-visualization ./Qiime_input_data/kuT2T_Full/deicode_adonis_HMS_PT.qzv"
   ]
  },
  {
   "cell_type": "markdown",
   "metadata": {},
   "source": [
    "### Baylor College of Medicine (BCM)"
   ]
  },
  {
   "cell_type": "code",
   "execution_count": 17,
   "metadata": {},
   "outputs": [
    {
     "name": "stdout",
     "output_type": "stream",
     "text": [
      "\u001b[32mSaved PCoAResults % Properties('biplot') to: ./Qiime_input_data/kuT2T_Full/deicode_ordination_BCM_PT.qza\u001b[0m\n",
      "\u001b[32mSaved DistanceMatrix to: ./Qiime_input_data/kuT2T_Full/deicode_distance_BCM_PT.qza\u001b[0m\n",
      "\u001b[0m"
     ]
    }
   ],
   "source": [
    "!qiime deicode rpca \\\n",
    "    --i-table ./Qiime_input_data/kuT2T_Full/countData_BCM_PT.qza \\\n",
    "    --o-biplot ./Qiime_input_data/kuT2T_Full/deicode_ordination_BCM_PT.qza \\\n",
    "    --p-min-sample-count 100 \\\n",
    "    --o-distance-matrix ./Qiime_input_data/kuT2T_Full/deicode_distance_BCM_PT.qza"
   ]
  },
  {
   "cell_type": "code",
   "execution_count": 18,
   "metadata": {},
   "outputs": [
    {
     "name": "stdout",
     "output_type": "stream",
     "text": [
      "\u001b[32mSaved Visualization to: ./Qiime_input_data/kuT2T_Full/deicode_biplot_BCM_PT.qzv\u001b[0m\r\n",
      "\u001b[0m"
     ]
    }
   ],
   "source": [
    "!qiime emperor biplot \\\n",
    "    --i-biplot ./Qiime_input_data/kuT2T_Full/deicode_ordination_BCM_PT.qza \\\n",
    "    --m-sample-metadata-file ./Qiime_input_data/kuT2T_Full/metaData_BCM_PT.txt \\\n",
    "    --m-feature-metadata-file kuTaxonomy.qza \\\n",
    "    --o-visualization ./Qiime_input_data/kuT2T_Full/deicode_biplot_BCM_PT.qzv \\\n",
    "    --p-number-of-features 1"
   ]
  },
  {
   "cell_type": "code",
   "execution_count": 19,
   "metadata": {},
   "outputs": [
    {
     "name": "stdout",
     "output_type": "stream",
     "text": [
      "\u001b[32mSaved Visualization to: ./Qiime_input_data/kuT2T_Full/deicode_adonis_BCM_PT.qzv\u001b[0m\r\n",
      "\u001b[0m"
     ]
    }
   ],
   "source": [
    "!qiime diversity adonis \\\n",
    "--i-distance-matrix ./Qiime_input_data/kuT2T_Full/deicode_distance_BCM_PT.qza \\\n",
    "--m-metadata-file ./Qiime_input_data/kuT2T_Full/metaData_BCM_PT.txt \\\n",
    "--p-formula \"investigation\" \\\n",
    "--p-n-jobs 8 \\\n",
    "--o-visualization ./Qiime_input_data/kuT2T_Full/deicode_adonis_BCM_PT.qzv"
   ]
  },
  {
   "cell_type": "markdown",
   "metadata": {},
   "source": [
    "### MD Anderson (MDA)"
   ]
  },
  {
   "cell_type": "code",
   "execution_count": 20,
   "metadata": {},
   "outputs": [
    {
     "name": "stdout",
     "output_type": "stream",
     "text": [
      "\u001b[32mSaved PCoAResults % Properties('biplot') to: ./Qiime_input_data/kuT2T_Full/deicode_ordination_MDA_PT.qza\u001b[0m\n",
      "\u001b[32mSaved DistanceMatrix to: ./Qiime_input_data/kuT2T_Full/deicode_distance_MDA_PT.qza\u001b[0m\n",
      "\u001b[0m"
     ]
    }
   ],
   "source": [
    "!qiime deicode rpca \\\n",
    "    --i-table ./Qiime_input_data/kuT2T_Full/countData_MDA_PT.qza \\\n",
    "    --o-biplot ./Qiime_input_data/kuT2T_Full/deicode_ordination_MDA_PT.qza \\\n",
    "    --p-min-sample-count 25 \\\n",
    "    --o-distance-matrix ./Qiime_input_data/kuT2T_Full/deicode_distance_MDA_PT.qza"
   ]
  },
  {
   "cell_type": "code",
   "execution_count": 21,
   "metadata": {},
   "outputs": [
    {
     "name": "stdout",
     "output_type": "stream",
     "text": [
      "\u001b[32mSaved Visualization to: ./Qiime_input_data/kuT2T_Full/deicode_biplot_MDA_PT.qzv\u001b[0m\r\n",
      "\u001b[0m"
     ]
    }
   ],
   "source": [
    "!qiime emperor biplot \\\n",
    "    --i-biplot ./Qiime_input_data/kuT2T_Full/deicode_ordination_MDA_PT.qza \\\n",
    "    --m-sample-metadata-file ./Qiime_input_data/kuT2T_Full/metaData_MDA_PT.txt \\\n",
    "    --m-feature-metadata-file kuTaxonomy.qza \\\n",
    "    --o-visualization ./Qiime_input_data/kuT2T_Full/deicode_biplot_MDA_PT.qzv \\\n",
    "    --p-number-of-features 1"
   ]
  },
  {
   "cell_type": "code",
   "execution_count": 22,
   "metadata": {},
   "outputs": [
    {
     "name": "stdout",
     "output_type": "stream",
     "text": [
      "\u001b[32mSaved Visualization to: ./Qiime_input_data/kuT2T_Full/deicode_adonis_MDA_PT.qzv\u001b[0m\r\n",
      "\u001b[0m"
     ]
    }
   ],
   "source": [
    "!qiime diversity adonis \\\n",
    "    --i-distance-matrix ./Qiime_input_data/kuT2T_Full/deicode_distance_MDA_PT.qza \\\n",
    "    --m-metadata-file ./Qiime_input_data/kuT2T_Full/metaData_MDA_PT.txt \\\n",
    "    --p-formula \"investigation\" \\\n",
    "    --p-n-jobs 8 \\\n",
    "    --o-visualization ./Qiime_input_data/kuT2T_Full/deicode_adonis_MDA_PT.qzv"
   ]
  },
  {
   "cell_type": "markdown",
   "metadata": {},
   "source": [
    "### Washington University (WashU)"
   ]
  },
  {
   "cell_type": "code",
   "execution_count": 23,
   "metadata": {},
   "outputs": [
    {
     "name": "stdout",
     "output_type": "stream",
     "text": [
      "\u001b[32mSaved PCoAResults % Properties('biplot') to: ./Qiime_input_data/kuT2T_Full/deicode_ordination_WashU_PT.qza\u001b[0m\n",
      "\u001b[32mSaved DistanceMatrix to: ./Qiime_input_data/kuT2T_Full/deicode_distance_WashU_PT.qza\u001b[0m\n",
      "\u001b[0m"
     ]
    }
   ],
   "source": [
    "!qiime deicode rpca \\\n",
    "    --i-table ./Qiime_input_data/kuT2T_Full/countData_WashU_PT.qza \\\n",
    "    --o-biplot ./Qiime_input_data/kuT2T_Full/deicode_ordination_WashU_PT.qza \\\n",
    "    --p-min-sample-count 100 \\\n",
    "    --o-distance-matrix ./Qiime_input_data/kuT2T_Full/deicode_distance_WashU_PT.qza"
   ]
  },
  {
   "cell_type": "code",
   "execution_count": 24,
   "metadata": {},
   "outputs": [
    {
     "name": "stdout",
     "output_type": "stream",
     "text": [
      "\u001b[32mSaved Visualization to: ./Qiime_input_data/kuT2T_Full/deicode_biplot_WashU_PT.qzv\u001b[0m\r\n",
      "\u001b[0m"
     ]
    }
   ],
   "source": [
    "!qiime emperor biplot \\\n",
    "    --i-biplot ./Qiime_input_data/kuT2T_Full/deicode_ordination_WashU_PT.qza \\\n",
    "    --m-sample-metadata-file ./Qiime_input_data/kuT2T_Full/metaData_WashU_PT.txt \\\n",
    "    --m-feature-metadata-file kuTaxonomy.qza \\\n",
    "    --o-visualization ./Qiime_input_data/kuT2T_Full/deicode_biplot_WashU_PT.qzv \\\n",
    "    --p-number-of-features 1"
   ]
  },
  {
   "cell_type": "code",
   "execution_count": 25,
   "metadata": {},
   "outputs": [
    {
     "name": "stdout",
     "output_type": "stream",
     "text": [
      "\u001b[32mSaved Visualization to: ./Qiime_input_data/kuT2T_Full/deicode_adonis_WashU_PT.qzv\u001b[0m\n",
      "\u001b[0m"
     ]
    }
   ],
   "source": [
    "!qiime diversity adonis \\\n",
    "    --i-distance-matrix ./Qiime_input_data/kuT2T_Full/deicode_distance_WashU_PT.qza \\\n",
    "    --m-metadata-file ./Qiime_input_data/kuT2T_Full/metaData_WashU_PT.txt \\\n",
    "    --p-formula \"investigation\" \\\n",
    "    --p-n-jobs 8 \\\n",
    "    --o-visualization ./Qiime_input_data/kuT2T_Full/deicode_adonis_WashU_PT.qzv"
   ]
  },
  {
   "cell_type": "markdown",
   "metadata": {},
   "source": [
    "### Broad Institute WGS (Broad_WGS)"
   ]
  },
  {
   "cell_type": "code",
   "execution_count": 26,
   "metadata": {},
   "outputs": [
    {
     "name": "stdout",
     "output_type": "stream",
     "text": [
      "\u001b[32mSaved PCoAResults % Properties('biplot') to: ./Qiime_input_data/kuT2T_Full/deicode_ordination_Broad_WGS_PT.qza\u001b[0m\n",
      "\u001b[32mSaved DistanceMatrix to: ./Qiime_input_data/kuT2T_Full/deicode_distance_Broad_WGS_PT.qza\u001b[0m\n",
      "\u001b[0m"
     ]
    }
   ],
   "source": [
    "!qiime deicode rpca \\\n",
    "    --i-table ./Qiime_input_data/kuT2T_Full/countData_Broad_WGS_PT.qza \\\n",
    "    --o-biplot ./Qiime_input_data/kuT2T_Full/deicode_ordination_Broad_WGS_PT.qza \\\n",
    "    --p-min-sample-count 100 \\\n",
    "    --o-distance-matrix ./Qiime_input_data/kuT2T_Full/deicode_distance_Broad_WGS_PT.qza"
   ]
  },
  {
   "cell_type": "code",
   "execution_count": 27,
   "metadata": {},
   "outputs": [
    {
     "name": "stdout",
     "output_type": "stream",
     "text": [
      "\u001b[32mSaved Visualization to: ./Qiime_input_data/kuT2T_Full/deicode_biplot_Broad_WGS_PT.qzv\u001b[0m\r\n",
      "\u001b[0m"
     ]
    }
   ],
   "source": [
    "!qiime emperor biplot \\\n",
    "    --i-biplot ./Qiime_input_data/kuT2T_Full/deicode_ordination_Broad_WGS_PT.qza \\\n",
    "    --m-sample-metadata-file ./Qiime_input_data/kuT2T_Full/metaData_Broad_WGS_PT.txt \\\n",
    "    --m-feature-metadata-file kuTaxonomy.qza \\\n",
    "    --o-visualization ./Qiime_input_data/kuT2T_Full/deicode_biplot_Broad_WGS_PT.qzv \\\n",
    "    --p-number-of-features 1"
   ]
  },
  {
   "cell_type": "code",
   "execution_count": 28,
   "metadata": {},
   "outputs": [
    {
     "name": "stdout",
     "output_type": "stream",
     "text": [
      "\u001b[32mSaved Visualization to: ./Qiime_input_data/kuT2T_Full/deicode_adonis_Broad_WGS_PT.qzv\u001b[0m\r\n",
      "\u001b[0m"
     ]
    }
   ],
   "source": [
    "!qiime diversity adonis \\\n",
    "    --i-distance-matrix ./Qiime_input_data/kuT2T_Full/deicode_distance_Broad_WGS_PT.qza \\\n",
    "    --m-metadata-file ./Qiime_input_data/kuT2T_Full/metaData_Broad_WGS_PT.txt \\\n",
    "    --p-formula \"investigation\" \\\n",
    "    --p-n-jobs 8 \\\n",
    "    --o-visualization ./Qiime_input_data/kuT2T_Full/deicode_adonis_Broad_WGS_PT.qzv"
   ]
  },
  {
   "cell_type": "markdown",
   "metadata": {},
   "source": [
    "### University of North Carolina (UNC)\n",
    "Note: Filt7575 data only has KIRC -- so cannot compute cancer type specificity with adonis"
   ]
  },
  {
   "cell_type": "code",
   "execution_count": 29,
   "metadata": {},
   "outputs": [
    {
     "name": "stdout",
     "output_type": "stream",
     "text": [
      "\u001b[32mSaved PCoAResults % Properties('biplot') to: ./Qiime_input_data/kuT2T_Full/deicode_ordination_UNC_PT.qza\u001b[0m\n",
      "\u001b[32mSaved DistanceMatrix to: ./Qiime_input_data/kuT2T_Full/deicode_distance_UNC_PT.qza\u001b[0m\n",
      "\u001b[0m"
     ]
    }
   ],
   "source": [
    "!qiime deicode rpca \\\n",
    "    --i-table ./Qiime_input_data/kuT2T_Full/countData_UNC_PT.qza \\\n",
    "    --o-biplot ./Qiime_input_data/kuT2T_Full/deicode_ordination_UNC_PT.qza \\\n",
    "    --p-min-sample-count 25 \\\n",
    "    --o-distance-matrix ./Qiime_input_data/kuT2T_Full/deicode_distance_UNC_PT.qza"
   ]
  },
  {
   "cell_type": "code",
   "execution_count": 30,
   "metadata": {},
   "outputs": [
    {
     "name": "stdout",
     "output_type": "stream",
     "text": [
      "\u001b[32mSaved Visualization to: ./Qiime_input_data/kuT2T_Full/deicode_biplot_UNC_PT.qzv\u001b[0m\r\n",
      "\u001b[0m"
     ]
    }
   ],
   "source": [
    "!qiime emperor biplot \\\n",
    "    --i-biplot ./Qiime_input_data/kuT2T_Full/deicode_ordination_UNC_PT.qza \\\n",
    "    --m-sample-metadata-file ./Qiime_input_data/kuT2T_Full/metaData_UNC_PT.txt \\\n",
    "    --m-feature-metadata-file kuTaxonomy.qza \\\n",
    "    --o-visualization ./Qiime_input_data/kuT2T_Full/deicode_biplot_UNC_PT.qzv \\\n",
    "    --p-number-of-features 1"
   ]
  },
  {
   "cell_type": "code",
   "execution_count": 31,
   "metadata": {},
   "outputs": [
    {
     "name": "stdout",
     "output_type": "stream",
     "text": [
      "Running external command line application. This may print messages to stdout and/or stderr.\n",
      "The command being run is below. This command cannot be manually re-run as it will depend on temporary files that no longer exist.\n",
      "\n",
      "Command: run_adonis.R /var/folders/db/18t2_m7d13l30r8qj875qdm80000gn/T/tmpx2wo2ly8/dm.tsv /var/folders/db/18t2_m7d13l30r8qj875qdm80000gn/T/tmpx2wo2ly8/md.tsv investigation 999 8 /var/folders/db/18t2_m7d13l30r8qj875qdm80000gn/T/qiime2-temp-eez62t96/adonis.tsv\n",
      "\n",
      "R version 4.1.3 (2022-03-10) \n",
      "Loading required package: permute\n",
      "Loading required package: lattice\n",
      "This is vegan 2.6-2\n",
      "'adonis' will be deprecated: use 'adonis2' instead\n",
      "\u001b[32mSaved Visualization to: ./Qiime_input_data/kuT2T_Full/deicode_adonis_UNC_PT.qzv\u001b[0m\n",
      "\u001b[0m"
     ]
    }
   ],
   "source": [
    "!qiime diversity adonis \\\n",
    "    --i-distance-matrix ./Qiime_input_data/kuT2T_Full/deicode_distance_UNC_PT.qza \\\n",
    "    --m-metadata-file ./Qiime_input_data/kuT2T_Full/metaData_UNC_PT.txt \\\n",
    "    --p-formula \"investigation\" \\\n",
    "    --p-n-jobs 8 \\\n",
    "    --verbose \\\n",
    "    --o-visualization ./Qiime_input_data/kuT2T_Full/deicode_adonis_UNC_PT.qzv"
   ]
  },
  {
   "cell_type": "markdown",
   "metadata": {},
   "source": [
    "### Canada's Michael Smith Genome Sciences Centre (CMS)"
   ]
  },
  {
   "cell_type": "code",
   "execution_count": null,
   "metadata": {},
   "outputs": [
    {
     "name": "stdout",
     "output_type": "stream",
     "text": [
      "\u001b[32mSaved PCoAResults % Properties('biplot') to: ./Qiime_input_data/kuT2T_Full/deicode_ordination_CMS_PT.qza\u001b[0m\r\n"
     ]
    }
   ],
   "source": [
    "!qiime deicode rpca \\\n",
    "    --i-table ./Qiime_input_data/kuT2T_Full/countData_CMS_PT.qza \\\n",
    "    --o-biplot ./Qiime_input_data/kuT2T_Full/deicode_ordination_CMS_PT.qza \\\n",
    "    --p-min-sample-count 100 \\\n",
    "    --o-distance-matrix ./Qiime_input_data/kuT2T_Full/deicode_distance_CMS_PT.qza"
   ]
  },
  {
   "cell_type": "code",
   "execution_count": null,
   "metadata": {},
   "outputs": [],
   "source": [
    "!qiime emperor biplot \\\n",
    "    --i-biplot ./Qiime_input_data/kuT2T_Full/deicode_ordination_CMS_PT.qza \\\n",
    "    --m-sample-metadata-file ./Qiime_input_data/kuT2T_Full/metaData_CMS_PT.txt \\\n",
    "    --m-feature-metadata-file kuTaxonomy.qza \\\n",
    "    --o-visualization ./Qiime_input_data/kuT2T_Full/deicode_biplot_CMS_PT.qzv \\\n",
    "    --p-number-of-features 1"
   ]
  },
  {
   "cell_type": "code",
   "execution_count": null,
   "metadata": {},
   "outputs": [],
   "source": [
    "!qiime diversity adonis \\\n",
    "    --i-distance-matrix ./Qiime_input_data/kuT2T_Full/deicode_distance_CMS_PT.qza \\\n",
    "    --m-metadata-file ./Qiime_input_data/kuT2T_Full/metaData_CMS_PT.txt \\\n",
    "    --p-formula \"investigation\" \\\n",
    "    --p-n-jobs 8 \\\n",
    "    --o-visualization ./Qiime_input_data/kuT2T_Full/deicode_adonis_CMS_PT.qzv"
   ]
  },
  {
   "cell_type": "markdown",
   "metadata": {},
   "source": [
    "# Deicode for BDN (beta diversity that does not require rarefaction)\n",
    "\n",
    "Martino et al. 2019. mSystems. See the following links:\n",
    "- https://journals.asm.org/doi/10.1128/mSystems.00016-19\n",
    "- https://forum.qiime2.org/t/robust-aitchison-pca-beta-diversity-with-deicode/8333"
   ]
  },
  {
   "cell_type": "markdown",
   "metadata": {},
   "source": [
    "### Harvard Medical School (HMS)"
   ]
  },
  {
   "cell_type": "code",
   "execution_count": null,
   "metadata": {},
   "outputs": [],
   "source": [
    "!qiime deicode rpca \\\n",
    "    --i-table ./Qiime_input_data/kuT2T_Full/countData_HMS_BDN.qza \\\n",
    "    --o-biplot ./Qiime_input_data/kuT2T_Full/deicode_ordination_HMS_BDN.qza \\\n",
    "    --p-min-sample-count 100 \\\n",
    "    --o-distance-matrix ./Qiime_input_data/kuT2T_Full/deicode_distance_HMS_BDN.qza"
   ]
  },
  {
   "cell_type": "code",
   "execution_count": null,
   "metadata": {},
   "outputs": [],
   "source": [
    "!qiime emperor biplot \\\n",
    "    --i-biplot ./Qiime_input_data/kuT2T_Full/deicode_ordination_HMS_BDN.qza \\\n",
    "    --m-sample-metadata-file ./Qiime_input_data/kuT2T_Full/metaData_HMS_BDN.txt \\\n",
    "    --m-feature-metadata-file kuTaxonomy.qza \\\n",
    "    --o-visualization ./Qiime_input_data/kuT2T_Full/deicode_biplot_HMS_BDN.qzv \\\n",
    "    --p-number-of-features 1"
   ]
  },
  {
   "cell_type": "code",
   "execution_count": null,
   "metadata": {},
   "outputs": [],
   "source": [
    "!qiime diversity adonis \\\n",
    "    --i-distance-matrix ./Qiime_input_data/kuT2T_Full/deicode_distance_HMS_BDN.qza \\\n",
    "    --m-metadata-file ./Qiime_input_data/kuT2T_Full/metaData_HMS_BDN.txt \\\n",
    "    --p-formula \"investigation\" \\\n",
    "    --p-n-jobs 8 \\\n",
    "    --o-visualization ./Qiime_input_data/kuT2T_Full/deicode_adonis_HMS_BDN.qzv"
   ]
  },
  {
   "cell_type": "markdown",
   "metadata": {},
   "source": [
    "### Baylor College of Medicine (BCM)"
   ]
  },
  {
   "cell_type": "code",
   "execution_count": null,
   "metadata": {},
   "outputs": [],
   "source": [
    "!qiime deicode rpca \\\n",
    "    --i-table ./Qiime_input_data/kuT2T_Full/countData_BCM_BDN.qza \\\n",
    "    --o-biplot ./Qiime_input_data/kuT2T_Full/deicode_ordination_BCM_BDN.qza \\\n",
    "    --p-min-sample-count 100 \\\n",
    "    --o-distance-matrix ./Qiime_input_data/kuT2T_Full/deicode_distance_BCM_BDN.qza"
   ]
  },
  {
   "cell_type": "code",
   "execution_count": null,
   "metadata": {},
   "outputs": [],
   "source": [
    "!qiime emperor biplot \\\n",
    "    --i-biplot ./Qiime_input_data/kuT2T_Full/deicode_ordination_BCM_BDN.qza \\\n",
    "    --m-sample-metadata-file ./Qiime_input_data/kuT2T_Full/metaData_BCM_BDN.txt \\\n",
    "    --m-feature-metadata-file kuTaxonomy.qza \\\n",
    "    --o-visualization ./Qiime_input_data/kuT2T_Full/deicode_biplot_BCM_BDN.qzv \\\n",
    "    --p-number-of-features 1"
   ]
  },
  {
   "cell_type": "code",
   "execution_count": null,
   "metadata": {},
   "outputs": [],
   "source": [
    "!qiime diversity adonis \\\n",
    "    --i-distance-matrix ./Qiime_input_data/kuT2T_Full/deicode_distance_BCM_BDN.qza \\\n",
    "    --m-metadata-file ./Qiime_input_data/kuT2T_Full/metaData_BCM_BDN.txt \\\n",
    "    --p-formula \"investigation\" \\\n",
    "    --p-n-jobs 8 \\\n",
    "    --o-visualization ./Qiime_input_data/kuT2T_Full/deicode_adonis_BCM_BDN.qzv"
   ]
  },
  {
   "cell_type": "markdown",
   "metadata": {},
   "source": [
    "### MD Anderson (MDA)"
   ]
  },
  {
   "cell_type": "code",
   "execution_count": null,
   "metadata": {},
   "outputs": [],
   "source": [
    "!qiime deicode rpca \\\n",
    "    --i-table ./Qiime_input_data/kuT2T_Full/countData_MDA_BDN.qza \\\n",
    "    --o-biplot ./Qiime_input_data/kuT2T_Full/deicode_ordination_MDA_BDN.qza \\\n",
    "    --p-min-sample-count 25 \\\n",
    "    --o-distance-matrix ./Qiime_input_data/kuT2T_Full/deicode_distance_MDA_BDN.qza"
   ]
  },
  {
   "cell_type": "code",
   "execution_count": null,
   "metadata": {},
   "outputs": [],
   "source": [
    "!qiime emperor biplot \\\n",
    "    --i-biplot ./Qiime_input_data/kuT2T_Full/deicode_ordination_MDA_BDN.qza \\\n",
    "    --m-sample-metadata-file ./Qiime_input_data/kuT2T_Full/metaData_MDA_BDN.txt \\\n",
    "    --m-feature-metadata-file kuTaxonomy.qza \\\n",
    "    --o-visualization ./Qiime_input_data/kuT2T_Full/deicode_biplot_MDA_BDN.qzv \\\n",
    "    --p-number-of-features 1"
   ]
  },
  {
   "cell_type": "code",
   "execution_count": null,
   "metadata": {},
   "outputs": [],
   "source": [
    "!qiime diversity adonis \\\n",
    "    --i-distance-matrix ./Qiime_input_data/kuT2T_Full/deicode_distance_MDA_BDN.qza \\\n",
    "    --m-metadata-file ./Qiime_input_data/kuT2T_Full/metaData_MDA_BDN.txt \\\n",
    "    --p-formula \"investigation\" \\\n",
    "    --p-n-jobs 8 \\\n",
    "    --o-visualization ./Qiime_input_data/kuT2T_Full/deicode_adonis_MDA_BDN.qzv"
   ]
  },
  {
   "cell_type": "markdown",
   "metadata": {},
   "source": [
    "### Washington University (WashU)"
   ]
  },
  {
   "cell_type": "code",
   "execution_count": null,
   "metadata": {},
   "outputs": [],
   "source": [
    "!qiime deicode rpca \\\n",
    "    --i-table ./Qiime_input_data/kuT2T_Full/countData_WashU_BDN.qza \\\n",
    "    --o-biplot ./Qiime_input_data/kuT2T_Full/deicode_ordination_WashU_BDN.qza \\\n",
    "    --p-min-sample-count 100 \\\n",
    "    --o-distance-matrix ./Qiime_input_data/kuT2T_Full/deicode_distance_WashU_BDN.qza"
   ]
  },
  {
   "cell_type": "code",
   "execution_count": null,
   "metadata": {},
   "outputs": [],
   "source": [
    "!qiime emperor biplot \\\n",
    "    --i-biplot ./Qiime_input_data/kuT2T_Full/deicode_ordination_WashU_BDN.qza \\\n",
    "    --m-sample-metadata-file ./Qiime_input_data/kuT2T_Full/metaData_WashU_BDN.txt \\\n",
    "    --m-feature-metadata-file kuTaxonomy.qza \\\n",
    "    --o-visualization ./Qiime_input_data/kuT2T_Full/deicode_biplot_WashU_BDN.qzv \\\n",
    "    --p-number-of-features 1"
   ]
  },
  {
   "cell_type": "code",
   "execution_count": null,
   "metadata": {},
   "outputs": [],
   "source": [
    "!qiime diversity adonis \\\n",
    "    --i-distance-matrix ./Qiime_input_data/kuT2T_Full/deicode_distance_WashU_BDN.qza \\\n",
    "    --m-metadata-file ./Qiime_input_data/kuT2T_Full/metaData_WashU_BDN.txt \\\n",
    "    --p-formula \"investigation\" \\\n",
    "    --p-n-jobs 8 \\\n",
    "    --o-visualization ./Qiime_input_data/kuT2T_Full/deicode_adonis_WashU_BDN.qzv"
   ]
  },
  {
   "cell_type": "markdown",
   "metadata": {},
   "source": [
    "### Broad Institute WGS (Broad_WGS)"
   ]
  },
  {
   "cell_type": "code",
   "execution_count": null,
   "metadata": {},
   "outputs": [],
   "source": [
    "!qiime deicode rpca \\\n",
    "    --i-table ./Qiime_input_data/kuT2T_Full/countData_Broad_WGS_BDN.qza \\\n",
    "    --o-biplot ./Qiime_input_data/kuT2T_Full/deicode_ordination_Broad_WGS_BDN.qza \\\n",
    "    --p-min-sample-count 100 \\\n",
    "    --o-distance-matrix ./Qiime_input_data/kuT2T_Full/deicode_distance_Broad_WGS_BDN.qza"
   ]
  },
  {
   "cell_type": "code",
   "execution_count": null,
   "metadata": {},
   "outputs": [],
   "source": [
    "!qiime emperor biplot \\\n",
    "    --i-biplot ./Qiime_input_data/kuT2T_Full/deicode_ordination_Broad_WGS_BDN.qza \\\n",
    "    --m-sample-metadata-file ./Qiime_input_data/kuT2T_Full/metaData_Broad_WGS_BDN.txt \\\n",
    "    --m-feature-metadata-file kuTaxonomy.qza \\\n",
    "    --o-visualization ./Qiime_input_data/kuT2T_Full/deicode_biplot_Broad_WGS_BDN.qzv \\\n",
    "    --p-number-of-features 1"
   ]
  },
  {
   "cell_type": "code",
   "execution_count": null,
   "metadata": {},
   "outputs": [],
   "source": [
    "!qiime diversity adonis \\\n",
    "    --i-distance-matrix ./Qiime_input_data/kuT2T_Full/deicode_distance_Broad_WGS_BDN.qza \\\n",
    "    --m-metadata-file ./Qiime_input_data/kuT2T_Full/metaData_Broad_WGS_BDN.txt \\\n",
    "    --p-formula \"investigation\" \\\n",
    "    --p-n-jobs 8 \\\n",
    "    --o-visualization ./Qiime_input_data/kuT2T_Full/deicode_adonis_Broad_WGS_BDN.qzv"
   ]
  },
  {
   "cell_type": "markdown",
   "metadata": {},
   "source": [
    "# Qiime 2 Core Metrics - PT\n",
    "Note: Since beta diversity was calculated above using DEICODE above, we are mostly interested in the alpha diversity results."
   ]
  },
  {
   "cell_type": "markdown",
   "metadata": {},
   "source": [
    "### Harvard Medical School (HMS)\n",
    "Note the following sample read distribution from R:\n",
    "```\n",
    "[1] \"HMS\"\n",
    "     Min.   1st Qu.    Median      Mean   3rd Qu.      Max. \n",
    "      2.0     189.5     580.0   16398.7    4290.0 1789603.0 \n",
    "```"
   ]
  },
  {
   "cell_type": "code",
   "execution_count": null,
   "metadata": {},
   "outputs": [],
   "source": [
    "!qiime diversity core-metrics \\\n",
    "--i-table ./Qiime_input_data/kuT2T_Full/countData_HMS_PT.qza \\\n",
    "--p-sampling-depth 200 \\\n",
    "--m-metadata-file ./Qiime_input_data/kuT2T_Full/metaData_HMS_PT.txt \\\n",
    "--output-dir ./core_metrics/kuT2T_Full/pt_hms_R200/"
   ]
  },
  {
   "cell_type": "code",
   "execution_count": null,
   "metadata": {},
   "outputs": [],
   "source": [
    "!qiime diversity alpha-group-significance \\\n",
    "--i-alpha-diversity ./core_metrics/kuT2T_Full/pt_hms_R200/observed_features_vector.qza \\\n",
    "--m-metadata-file ./Qiime_input_data/kuT2T_Full/metaData_HMS_PT.txt \\\n",
    "--o-visualization ./core_metrics/kuT2T_Full/pt_hms_R200/observed_features_vector_significance.qzv\n",
    "\n",
    "!qiime diversity alpha-group-significance \\\n",
    "--i-alpha-diversity ./core_metrics/kuT2T_Full/pt_hms_R200/shannon_vector.qza \\\n",
    "--m-metadata-file ./Qiime_input_data/kuT2T_Full/metaData_HMS_PT.txt \\\n",
    "--o-visualization ./core_metrics/kuT2T_Full/pt_hms_R200/shannon_vector_significance.qzv"
   ]
  },
  {
   "cell_type": "code",
   "execution_count": null,
   "metadata": {},
   "outputs": [],
   "source": [
    "!qiime diversity beta-group-significance \\\n",
    "--i-distance-matrix ./core_metrics/kuT2T_Full/pt_hms_R200/jaccard_distance_matrix.qza \\\n",
    "--m-metadata-file ./Qiime_input_data/kuT2T_Full/metaData_HMS_PT.txt \\\n",
    "--m-metadata-column investigation \\\n",
    "--o-visualization ./core_metrics/kuT2T_Full/pt_hms_R200/jaccard_distance_matrix_significance.qzv\n",
    "\n",
    "!qiime diversity beta-group-significance \\\n",
    "--i-distance-matrix ./core_metrics/kuT2T_Full/pt_hms_R200/bray_curtis_distance_matrix.qza \\\n",
    "--m-metadata-file ./Qiime_input_data/kuT2T_Full/metaData_HMS_PT.txt \\\n",
    "--m-metadata-column investigation \\\n",
    "--o-visualization ./core_metrics/kuT2T_Full/pt_hms_R200/bray_curtis_distance_matrix_significance.qzv"
   ]
  },
  {
   "cell_type": "markdown",
   "metadata": {},
   "source": [
    "### Baylor College of Medicine (BCM)\n",
    "Note the following sample read distribution from R:\n",
    "```\n",
    "[1] \"BCM\"\n",
    "   Min. 1st Qu.  Median    Mean 3rd Qu.    Max. \n",
    "    981    3482    5654  105716   33968 9888937 \n",
    "```"
   ]
  },
  {
   "cell_type": "code",
   "execution_count": null,
   "metadata": {},
   "outputs": [],
   "source": [
    "!qiime diversity core-metrics \\\n",
    "--i-table ./Qiime_input_data/kuT2T_Full/countData_BCM_PT.qza \\\n",
    "--p-sampling-depth 3500 \\\n",
    "--m-metadata-file ./Qiime_input_data/kuT2T_Full/metaData_BCM_PT.txt \\\n",
    "--output-dir ./core_metrics/kuT2T_Full/pt_bcm_R3500"
   ]
  },
  {
   "cell_type": "code",
   "execution_count": null,
   "metadata": {},
   "outputs": [],
   "source": [
    "!qiime diversity alpha-group-significance \\\n",
    "--i-alpha-diversity ./core_metrics/kuT2T_Full/pt_bcm_R3500/observed_features_vector.qza \\\n",
    "--m-metadata-file ./Qiime_input_data/kuT2T_Full/metaData_BCM_PT.txt \\\n",
    "--o-visualization ./core_metrics/kuT2T_Full/pt_bcm_R3500/observed_features_vector_significance.qzv\n",
    "\n",
    "!qiime diversity alpha-group-significance \\\n",
    "--i-alpha-diversity ./core_metrics/kuT2T_Full/pt_bcm_R3500/shannon_vector.qza \\\n",
    "--m-metadata-file ./Qiime_input_data/kuT2T_Full/metaData_BCM_PT.txt \\\n",
    "--o-visualization ./core_metrics/kuT2T_Full/pt_bcm_R3500/shannon_vector_significance.qzv"
   ]
  },
  {
   "cell_type": "code",
   "execution_count": null,
   "metadata": {},
   "outputs": [],
   "source": [
    "!qiime diversity beta-group-significance \\\n",
    "--i-distance-matrix ./core_metrics/kuT2T_Full/pt_bcm_R3500/jaccard_distance_matrix.qza \\\n",
    "--m-metadata-file ./Qiime_input_data/kuT2T_Full/metaData_BCM_PT.txt \\\n",
    "--m-metadata-column investigation \\\n",
    "--o-visualization ./core_metrics/kuT2T_Full/pt_bcm_R3500/jaccard_distance_matrix_significance.qzv\n",
    "\n",
    "!qiime diversity beta-group-significance \\\n",
    "--i-distance-matrix ./core_metrics/kuT2T_Full/pt_bcm_R3500/bray_curtis_distance_matrix.qza \\\n",
    "--m-metadata-file ./Qiime_input_data/kuT2T_Full/metaData_BCM_PT.txt \\\n",
    "--m-metadata-column investigation \\\n",
    "--o-visualization ./core_metrics/kuT2T_Full/pt_bcm_R3500/bray_curtis_distance_matrix_significance.qzv"
   ]
  },
  {
   "cell_type": "markdown",
   "metadata": {},
   "source": [
    "### MD Anderson (MDA)\n",
    "Note the following sample read distribution from R:\n",
    "```\n",
    "[1] \"MDA\"\n",
    "   Min. 1st Qu.  Median    Mean 3rd Qu.    Max. \n",
    "      2      38     232   11023     621  727646 \n",
    "```"
   ]
  },
  {
   "cell_type": "code",
   "execution_count": null,
   "metadata": {},
   "outputs": [],
   "source": [
    "!qiime diversity core-metrics \\\n",
    "--i-table ./Qiime_input_data/kuT2T_Full/countData_MDA_PT.qza \\\n",
    "--p-sampling-depth 40 \\\n",
    "--m-metadata-file ./Qiime_input_data/kuT2T_Full/metaData_MDA_PT.txt \\\n",
    "--output-dir ./core_metrics/kuT2T_Full/pt_mda_R40/"
   ]
  },
  {
   "cell_type": "code",
   "execution_count": null,
   "metadata": {},
   "outputs": [],
   "source": [
    "!qiime diversity alpha-group-significance \\\n",
    "--i-alpha-diversity ./core_metrics/kuT2T_Full/pt_mda_R40/observed_features_vector.qza \\\n",
    "--m-metadata-file ./Qiime_input_data/kuT2T_Full/metaData_MDA_PT.txt \\\n",
    "--o-visualization ./core_metrics/kuT2T_Full/pt_mda_R40/observed_features_vector_significance.qzv\n",
    "\n",
    "!qiime diversity alpha-group-significance \\\n",
    "--i-alpha-diversity ./core_metrics/kuT2T_Full/pt_mda_R40/shannon_vector.qza \\\n",
    "--m-metadata-file ./Qiime_input_data/kuT2T_Full/metaData_MDA_PT.txt \\\n",
    "--o-visualization ./core_metrics/kuT2T_Full/pt_mda_R40/shannon_vector_significance.qzv"
   ]
  },
  {
   "cell_type": "code",
   "execution_count": null,
   "metadata": {},
   "outputs": [],
   "source": [
    "!qiime diversity beta-group-significance \\\n",
    "--i-distance-matrix ./core_metrics/kuT2T_Full/pt_mda_R40/jaccard_distance_matrix.qza \\\n",
    "--m-metadata-file ./Qiime_input_data/kuT2T_Full/metaData_MDA_PT.txt \\\n",
    "--m-metadata-column investigation \\\n",
    "--o-visualization ./core_metrics/kuT2T_Full/pt_mda_R40/jaccard_distance_matrix_significance.qzv\n",
    "\n",
    "!qiime diversity beta-group-significance \\\n",
    "--i-distance-matrix ./core_metrics/kuT2T_Full/pt_mda_R40/bray_curtis_distance_matrix.qza \\\n",
    "--m-metadata-file ./Qiime_input_data/kuT2T_Full/metaData_MDA_PT.txt \\\n",
    "--m-metadata-column investigation \\\n",
    "--o-visualization ./core_metrics/kuT2T_Full/pt_mda_R40/bray_curtis_distance_matrix_significance.qzv"
   ]
  },
  {
   "cell_type": "markdown",
   "metadata": {},
   "source": [
    "### Washington University (WashU)\n",
    "Note the following sample read distribution from R:\n",
    "```\n",
    "[1] \"WashU\"\n",
    "   Min. 1st Qu.  Median    Mean 3rd Qu.    Max. \n",
    "    231    2788    4608   61766   10278 5598789 \n",
    "```"
   ]
  },
  {
   "cell_type": "code",
   "execution_count": null,
   "metadata": {},
   "outputs": [],
   "source": [
    "!qiime diversity core-metrics \\\n",
    "--i-table ./Qiime_input_data/kuT2T_Full/countData_WashU_PT.qza \\\n",
    "--p-sampling-depth 2800 \\\n",
    "--m-metadata-file ./Qiime_input_data/kuT2T_Full/metaData_WashU_PT.txt \\\n",
    "--output-dir ./core_metrics/kuT2T_Full/pt_mda_R2800/"
   ]
  },
  {
   "cell_type": "code",
   "execution_count": null,
   "metadata": {},
   "outputs": [],
   "source": [
    "!qiime diversity alpha-group-significance \\\n",
    "--i-alpha-diversity ./core_metrics/kuT2T_Full/pt_mda_R2800/observed_features_vector.qza \\\n",
    "--m-metadata-file ./Qiime_input_data/kuT2T_Full/metaData_WashU_PT.txt \\\n",
    "--o-visualization ./core_metrics/kuT2T_Full/pt_mda_R2800/observed_features_vector_significance.qzv\n",
    "\n",
    "!qiime diversity alpha-group-significance \\\n",
    "--i-alpha-diversity ./core_metrics/kuT2T_Full/pt_mda_R2800/shannon_vector.qza \\\n",
    "--m-metadata-file ./Qiime_input_data/kuT2T_Full/metaData_WashU_PT.txt \\\n",
    "--o-visualization ./core_metrics/kuT2T_Full/pt_mda_R2800/shannon_vector_significance.qzv"
   ]
  },
  {
   "cell_type": "code",
   "execution_count": null,
   "metadata": {},
   "outputs": [],
   "source": [
    "!qiime diversity beta-group-significance \\\n",
    "--i-distance-matrix ./core_metrics/kuT2T_Full/pt_mda_R2800/jaccard_distance_matrix.qza \\\n",
    "--m-metadata-file ./Qiime_input_data/kuT2T_Full/metaData_WashU_PT.txt \\\n",
    "--m-metadata-column investigation \\\n",
    "--o-visualization ./core_metrics/kuT2T_Full/pt_mda_R2800/jaccard_distance_matrix_significance.qzv\n",
    "\n",
    "!qiime diversity beta-group-significance \\\n",
    "--i-distance-matrix ./core_metrics/kuT2T_Full/pt_mda_R2800/bray_curtis_distance_matrix.qza \\\n",
    "--m-metadata-file ./Qiime_input_data/kuT2T_Full/metaData_WashU_PT.txt \\\n",
    "--m-metadata-column investigation \\\n",
    "--o-visualization ./core_metrics/kuT2T_Full/pt_mda_R2800/bray_curtis_distance_matrix_significance.qzv"
   ]
  },
  {
   "cell_type": "markdown",
   "metadata": {},
   "source": [
    "### Broad Institute WGS only (Broad WGS)\n",
    "Note the following sample read distribution from R (it is lower than the other seq centers):\n",
    "```\n",
    "[1] \"Broad_WGS\"\n",
    "   Min. 1st Qu.  Median    Mean 3rd Qu.    Max. \n",
    "     85     623    1335   36709    6391 5473191 \n",
    "```"
   ]
  },
  {
   "cell_type": "code",
   "execution_count": null,
   "metadata": {},
   "outputs": [],
   "source": [
    "!qiime diversity core-metrics \\\n",
    "--i-table ./Qiime_input_data/kuT2T_Full/countData_Broad_WGS_PT.qza \\\n",
    "--p-sampling-depth 600 \\\n",
    "--m-metadata-file ./Qiime_input_data/kuT2T_Full/metaData_Broad_WGS_PT.txt \\\n",
    "--output-dir ./core_metrics/kuT2T_Full/pt_broad_wgs_R600/"
   ]
  },
  {
   "cell_type": "code",
   "execution_count": null,
   "metadata": {},
   "outputs": [],
   "source": [
    "!qiime diversity alpha-group-significance \\\n",
    "--i-alpha-diversity ./core_metrics/kuT2T_Full/pt_broad_wgs_R600/observed_features_vector.qza \\\n",
    "--m-metadata-file ./Qiime_input_data/kuT2T_Full/metaData_Broad_WGS_PT.txt \\\n",
    "--o-visualization ./core_metrics/kuT2T_Full/pt_broad_wgs_R600/observed_features_vector_significance.qzv\n",
    "\n",
    "!qiime diversity alpha-group-significance \\\n",
    "--i-alpha-diversity ./core_metrics/kuT2T_Full/pt_broad_wgs_R600/shannon_vector.qza \\\n",
    "--m-metadata-file ./Qiime_input_data/kuT2T_Full/metaData_Broad_WGS_PT.txt \\\n",
    "--o-visualization ./core_metrics/kuT2T_Full/pt_broad_wgs_R600/shannon_vector_significance.qzv"
   ]
  },
  {
   "cell_type": "code",
   "execution_count": null,
   "metadata": {},
   "outputs": [],
   "source": [
    "!qiime diversity beta-group-significance \\\n",
    "--i-distance-matrix ./core_metrics/kuT2T_Full/pt_broad_wgs_R600/jaccard_distance_matrix.qza \\\n",
    "--m-metadata-file ./Qiime_input_data/kuT2T_Full/metaData_Broad_WGS_PT.txt \\\n",
    "--m-metadata-column investigation \\\n",
    "--o-visualization ./core_metrics/kuT2T_Full/pt_broad_wgs_R600/jaccard_distance_matrix_significance.qzv\n",
    "\n",
    "!qiime diversity beta-group-significance \\\n",
    "--i-distance-matrix ./core_metrics/kuT2T_Full/pt_broad_wgs_R600/bray_curtis_distance_matrix.qza \\\n",
    "--m-metadata-file ./Qiime_input_data/kuT2T_Full/metaData_Broad_WGS_PT.txt \\\n",
    "--m-metadata-column investigation \\\n",
    "--o-visualization ./core_metrics/kuT2T_Full/pt_broad_wgs_R600/bray_curtis_distance_matrix_significance.qzv"
   ]
  },
  {
   "cell_type": "markdown",
   "metadata": {},
   "source": [
    "### University of North Carolina (UNC)\n",
    "Note the following sample read distribution from R:\n",
    "```\n",
    "[1] \"UNC\"\n",
    "   Min. 1st Qu.  Median    Mean 3rd Qu.    Max. \n",
    "      1       1       2    2046    1411  316850 \n",
    "```"
   ]
  },
  {
   "cell_type": "code",
   "execution_count": null,
   "metadata": {},
   "outputs": [],
   "source": [
    "!qiime diversity core-metrics \\\n",
    "--i-table ./Qiime_input_data/kuT2T_Full/countData_UNC_PT.qza \\\n",
    "--p-sampling-depth 25 \\\n",
    "--m-metadata-file ./Qiime_input_data/kuT2T_Full/metaData_UNC_PT.txt \\\n",
    "--output-dir ./core_metrics/kuT2T_Full/pt_unc_R25/"
   ]
  },
  {
   "cell_type": "code",
   "execution_count": null,
   "metadata": {},
   "outputs": [],
   "source": [
    "!qiime diversity alpha-group-significance \\\n",
    "--i-alpha-diversity ./core_metrics/kuT2T_Full/pt_unc_R25/observed_features_vector.qza \\\n",
    "--m-metadata-file ./Qiime_input_data/kuT2T_Full/metaData_UNC_PT.txt \\\n",
    "--o-visualization ./core_metrics/kuT2T_Full/pt_unc_R25/observed_features_vector_significance.qzv\n",
    "\n",
    "!qiime diversity alpha-group-significance \\\n",
    "--i-alpha-diversity ./core_metrics/kuT2T_Full/pt_unc_R25/shannon_vector.qza \\\n",
    "--m-metadata-file ./Qiime_input_data/kuT2T_Full/metaData_UNC_PT.txt \\\n",
    "--o-visualization ./core_metrics/kuT2T_Full/pt_unc_R25/shannon_vector_significance.qzv"
   ]
  },
  {
   "cell_type": "code",
   "execution_count": null,
   "metadata": {},
   "outputs": [],
   "source": [
    "!qiime diversity beta-group-significance \\\n",
    "--i-distance-matrix ./core_metrics/kuT2T_Full/pt_unc_R25/jaccard_distance_matrix.qza \\\n",
    "--m-metadata-file ./Qiime_input_data/kuT2T_Full/metaData_UNC_PT.txt \\\n",
    "--m-metadata-column investigation \\\n",
    "--o-visualization ./core_metrics/kuT2T_Full/pt_unc_R25/jaccard_distance_matrix_significance.qzv\n",
    "\n",
    "!qiime diversity beta-group-significance \\\n",
    "--i-distance-matrix ./core_metrics/kuT2T_Full/pt_unc_R25/bray_curtis_distance_matrix.qza \\\n",
    "--m-metadata-file ./Qiime_input_data/kuT2T_Full/metaData_UNC_PT.txt \\\n",
    "--m-metadata-column investigation \\\n",
    "--o-visualization ./core_metrics/kuT2T_Full/pt_unc_R25/bray_curtis_distance_matrix_significance.qzv"
   ]
  },
  {
   "cell_type": "markdown",
   "metadata": {},
   "source": [
    "### Canada's Michael Smith Genome Sciences Centre (CMS)\n",
    "Note the following sample read distribution from R:\n",
    "```\n",
    "[1] \"CMS\"\n",
    "   Min. 1st Qu.  Median    Mean 3rd Qu.    Max. \n",
    "     69    5271   17209  145305   54268 5704792 \n",
    "```"
   ]
  },
  {
   "cell_type": "code",
   "execution_count": null,
   "metadata": {},
   "outputs": [],
   "source": [
    "!qiime diversity core-metrics \\\n",
    "--i-table ./Qiime_input_data/kuT2T_Full/countData_CMS_PT.qza \\\n",
    "--p-sampling-depth 5000 \\\n",
    "--m-metadata-file ./Qiime_input_data/kuT2T_Full/metaData_CMS_PT.txt \\\n",
    "--output-dir ./core_metrics/kuT2T_Full/pt_cms_R5k/"
   ]
  },
  {
   "cell_type": "code",
   "execution_count": null,
   "metadata": {},
   "outputs": [],
   "source": [
    "!qiime diversity alpha-group-significance \\\n",
    "--i-alpha-diversity ./core_metrics/kuT2T_Full/pt_cms_R5k/observed_features_vector.qza \\\n",
    "--m-metadata-file ./Qiime_input_data/kuT2T_Full/metaData_CMS_PT.txt \\\n",
    "--o-visualization ./core_metrics/kuT2T_Full/pt_cms_R5k/observed_features_vector_significance.qzv\n",
    "\n",
    "!qiime diversity alpha-group-significance \\\n",
    "--i-alpha-diversity ./core_metrics/kuT2T_Full/pt_cms_R5k/shannon_vector.qza \\\n",
    "--m-metadata-file ./Qiime_input_data/kuT2T_Full/metaData_CMS_PT.txt \\\n",
    "--o-visualization ./core_metrics/kuT2T_Full/pt_cms_R5k/shannon_vector_significance.qzv"
   ]
  },
  {
   "cell_type": "code",
   "execution_count": null,
   "metadata": {},
   "outputs": [],
   "source": [
    "!qiime diversity beta-group-significance \\\n",
    "--i-distance-matrix ./core_metrics/kuT2T_Full/pt_cms_R5k/jaccard_distance_matrix.qza \\\n",
    "--m-metadata-file ./Qiime_input_data/kuT2T_Full/metaData_CMS_PT.txt \\\n",
    "--m-metadata-column investigation \\\n",
    "--o-visualization ./core_metrics/kuT2T_Full/pt_cms_R5k/jaccard_distance_matrix_significance.qzv\n",
    "\n",
    "!qiime diversity beta-group-significance \\\n",
    "--i-distance-matrix ./core_metrics/kuT2T_Full/pt_cms_R5k/bray_curtis_distance_matrix.qza \\\n",
    "--m-metadata-file ./Qiime_input_data/kuT2T_Full/metaData_CMS_PT.txt \\\n",
    "--m-metadata-column investigation \\\n",
    "--o-visualization ./core_metrics/kuT2T_Full/pt_cms_R5k/bray_curtis_distance_matrix_significance.qzv"
   ]
  },
  {
   "cell_type": "markdown",
   "metadata": {},
   "source": [
    "# Qiime 2 Core Metrics - BDN\n",
    "Note: Since beta diversity was calculated above using DEICODE above, we are mostly interested in the alpha diversity results."
   ]
  },
  {
   "cell_type": "markdown",
   "metadata": {},
   "source": [
    "### Harvard Medical School (HMS)\n",
    "Note the following sample read distribution from R:\n",
    "```\n",
    "[1] \"HMS\"\n",
    "    Min.  1st Qu.   Median     Mean  3rd Qu.     Max. \n",
    "       2      250      636    84084     2232 64769938 \n",
    "```"
   ]
  },
  {
   "cell_type": "code",
   "execution_count": null,
   "metadata": {},
   "outputs": [],
   "source": [
    "!qiime diversity core-metrics \\\n",
    "--i-table ./Qiime_input_data/kuT2T_Full/countData_HMS_BDN.qza \\\n",
    "--p-sampling-depth 250 \\\n",
    "--m-metadata-file ./Qiime_input_data/kuT2T_Full/metaData_HMS_BDN.txt \\\n",
    "--output-dir ./core_metrics/kuT2T_Full/bdn_hms_R250/"
   ]
  },
  {
   "cell_type": "code",
   "execution_count": null,
   "metadata": {},
   "outputs": [],
   "source": [
    "!qiime diversity alpha-group-significance \\\n",
    "--i-alpha-diversity ./core_metrics/kuT2T_Full/bdn_hms_R250/observed_features_vector.qza \\\n",
    "--m-metadata-file ./Qiime_input_data/kuT2T_Full/metaData_HMS_BDN.txt \\\n",
    "--o-visualization ./core_metrics/kuT2T_Full/bdn_hms_R250/observed_features_vector_significance.qzv\n",
    "\n",
    "!qiime diversity alpha-group-significance \\\n",
    "--i-alpha-diversity ./core_metrics/kuT2T_Full/bdn_hms_R250/shannon_vector.qza \\\n",
    "--m-metadata-file ./Qiime_input_data/kuT2T_Full/metaData_HMS_BDN.txt \\\n",
    "--o-visualization ./core_metrics/kuT2T_Full/bdn_hms_R250/shannon_vector_significance.qzv"
   ]
  },
  {
   "cell_type": "code",
   "execution_count": null,
   "metadata": {},
   "outputs": [],
   "source": [
    "!qiime diversity beta-group-significance \\\n",
    "--i-distance-matrix ./core_metrics/kuT2T_Full/bdn_hms_R250/jaccard_distance_matrix.qza \\\n",
    "--m-metadata-file ./Qiime_input_data/kuT2T_Full/metaData_HMS_BDN.txt \\\n",
    "--m-metadata-column investigation \\\n",
    "--o-visualization ./core_metrics/kuT2T_Full/bdn_hms_R250/jaccard_distance_matrix_significance.qzv\n",
    "\n",
    "!qiime diversity beta-group-significance \\\n",
    "--i-distance-matrix ./core_metrics/kuT2T_Full/bdn_hms_R250/bray_curtis_distance_matrix.qza \\\n",
    "--m-metadata-file ./Qiime_input_data/kuT2T_Full/metaData_HMS_BDN.txt \\\n",
    "--m-metadata-column investigation \\\n",
    "--o-visualization ./core_metrics/kuT2T_Full/bdn_hms_R250/bray_curtis_distance_matrix_significance.qzv"
   ]
  },
  {
   "cell_type": "markdown",
   "metadata": {},
   "source": [
    "### Baylor College of Medicine (BCM)\n",
    "Note the following sample read distribution from R:\n",
    "```\n",
    "[1] \"BCM\"\n",
    "   Min. 1st Qu.  Median    Mean 3rd Qu.    Max. \n",
    "    625    1922    2711    8860    4931  263542 \n",
    "```"
   ]
  },
  {
   "cell_type": "code",
   "execution_count": null,
   "metadata": {},
   "outputs": [],
   "source": [
    "!qiime diversity core-metrics \\\n",
    "--i-table ./Qiime_input_data/kuT2T_Full/countData_BCM_BDN.qza \\\n",
    "--p-sampling-depth 1900 \\\n",
    "--m-metadata-file ./Qiime_input_data/kuT2T_Full/metaData_BCM_BDN.txt \\\n",
    "--output-dir ./core_metrics/kuT2T_Full/bdn_bcm_R1900/"
   ]
  },
  {
   "cell_type": "code",
   "execution_count": null,
   "metadata": {},
   "outputs": [],
   "source": [
    "!qiime diversity alpha-group-significance \\\n",
    "--i-alpha-diversity ./core_metrics/kuT2T_Full/bdn_bcm_R1900/observed_features_vector.qza \\\n",
    "--m-metadata-file ./Qiime_input_data/kuT2T_Full/metaData_BCM_BDN.txt \\\n",
    "--o-visualization ./core_metrics/kuT2T_Full/bdn_bcm_R1900/observed_features_vector_significance.qzv\n",
    "\n",
    "!qiime diversity alpha-group-significance \\\n",
    "--i-alpha-diversity ./core_metrics/kuT2T_Full/bdn_bcm_R1900/shannon_vector.qza \\\n",
    "--m-metadata-file ./Qiime_input_data/kuT2T_Full/metaData_BCM_BDN.txt \\\n",
    "--o-visualization ./core_metrics/kuT2T_Full/bdn_bcm_R1900/shannon_vector_significance.qzv"
   ]
  },
  {
   "cell_type": "code",
   "execution_count": null,
   "metadata": {},
   "outputs": [],
   "source": [
    "!qiime diversity beta-group-significance \\\n",
    "--i-distance-matrix ./core_metrics/kuT2T_Full/bdn_bcm_R1900/jaccard_distance_matrix.qza \\\n",
    "--m-metadata-file ./Qiime_input_data/kuT2T_Full/metaData_BCM_BDN.txt \\\n",
    "--m-metadata-column investigation \\\n",
    "--o-visualization ./core_metrics/kuT2T_Full/bdn_bcm_R1900/jaccard_distance_matrix_significance.qzv\n",
    "\n",
    "!qiime diversity beta-group-significance \\\n",
    "--i-distance-matrix ./core_metrics/kuT2T_Full/bdn_bcm_R1900/bray_curtis_distance_matrix.qza \\\n",
    "--m-metadata-file ./Qiime_input_data/kuT2T_Full/metaData_BCM_BDN.txt \\\n",
    "--m-metadata-column investigation \\\n",
    "--o-visualization ./core_metrics/kuT2T_Full/bdn_bcm_R1900/bray_curtis_distance_matrix_significance.qzv"
   ]
  },
  {
   "cell_type": "markdown",
   "metadata": {},
   "source": [
    "### MD Anderson (MDA)\n",
    "Note the following sample read distribution from R:\n",
    "```\n",
    "[1] \"MDA\"\n",
    "    Min.  1st Qu.   Median     Mean  3rd Qu.     Max. \n",
    "     5.0     62.5    211.0   1593.0    348.0 166284.0 \n",
    "```"
   ]
  },
  {
   "cell_type": "code",
   "execution_count": null,
   "metadata": {},
   "outputs": [],
   "source": [
    "!qiime diversity core-metrics \\\n",
    "--i-table ./Qiime_input_data/kuT2T_Full/countData_MDA_BDN.qza \\\n",
    "--p-sampling-depth 60 \\\n",
    "--m-metadata-file ./Qiime_input_data/kuT2T_Full/metaData_MDA_BDN.txt \\\n",
    "--output-dir ./core_metrics/kuT2T_Full/bdn_mda_R60/"
   ]
  },
  {
   "cell_type": "code",
   "execution_count": null,
   "metadata": {},
   "outputs": [],
   "source": [
    "!qiime diversity alpha-group-significance \\\n",
    "--i-alpha-diversity ./core_metrics/kuT2T_Full/bdn_mda_R60/observed_features_vector.qza \\\n",
    "--m-metadata-file ./Qiime_input_data/kuT2T_Full/metaData_MDA_BDN.txt \\\n",
    "--o-visualization ./core_metrics/kuT2T_Full/bdn_mda_R60/observed_features_vector_significance.qzv\n",
    "\n",
    "!qiime diversity alpha-group-significance \\\n",
    "--i-alpha-diversity ./core_metrics/kuT2T_Full/bdn_mda_R60/shannon_vector.qza \\\n",
    "--m-metadata-file ./Qiime_input_data/kuT2T_Full/metaData_MDA_BDN.txt \\\n",
    "--o-visualization ./core_metrics/kuT2T_Full/bdn_mda_R60/shannon_vector_significance.qzv"
   ]
  },
  {
   "cell_type": "code",
   "execution_count": null,
   "metadata": {},
   "outputs": [],
   "source": [
    "!qiime diversity beta-group-significance \\\n",
    "--i-distance-matrix ./core_metrics/kuT2T_Full/bdn_mda_R60/jaccard_distance_matrix.qza \\\n",
    "--m-metadata-file ./Qiime_input_data/kuT2T_Full/metaData_MDA_BDN.txt \\\n",
    "--m-metadata-column investigation \\\n",
    "--o-visualization ./core_metrics/kuT2T_Full/bdn_mda_R60/jaccard_distance_matrix_significance.qzv\n",
    "\n",
    "!qiime diversity beta-group-significance \\\n",
    "--i-distance-matrix ./core_metrics/kuT2T_Full/bdn_mda_R60/bray_curtis_distance_matrix.qza \\\n",
    "--m-metadata-file ./Qiime_input_data/kuT2T_Full/metaData_MDA_BDN.txt \\\n",
    "--m-metadata-column investigation \\\n",
    "--o-visualization ./core_metrics/kuT2T_Full/bdn_mda_R60/bray_curtis_distance_matrix_significance.qzv"
   ]
  },
  {
   "cell_type": "markdown",
   "metadata": {},
   "source": [
    "### Washington University (WashU)\n",
    "Note the following sample read distribution from R:\n",
    "```\n",
    "[1] \"WashU\"\n",
    "    Min.  1st Qu.   Median     Mean  3rd Qu.     Max. \n",
    "     394     2516     4663   322195     9287 45666104 \n",
    "```"
   ]
  },
  {
   "cell_type": "code",
   "execution_count": null,
   "metadata": {},
   "outputs": [],
   "source": [
    "!qiime diversity core-metrics \\\n",
    "--i-table ./Qiime_input_data/kuT2T_Full/countData_WashU_BDN.qza \\\n",
    "--p-sampling-depth 2500 \\\n",
    "--m-metadata-file ./Qiime_input_data/kuT2T_Full/metaData_WashU_BDN.txt \\\n",
    "--output-dir ./core_metrics/kuT2T_Full/bdn_washu_R2500/"
   ]
  },
  {
   "cell_type": "code",
   "execution_count": null,
   "metadata": {},
   "outputs": [],
   "source": [
    "!qiime diversity alpha-group-significance \\\n",
    "--i-alpha-diversity ./core_metrics/kuT2T_Full/bdn_washu_R2500/observed_features_vector.qza \\\n",
    "--m-metadata-file ./Qiime_input_data/kuT2T_Full/metaData_WashU_BDN.txt \\\n",
    "--o-visualization ./core_metrics/kuT2T_Full/bdn_washu_R2500/observed_features_vector_significance.qzv\n",
    "\n",
    "!qiime diversity alpha-group-significance \\\n",
    "--i-alpha-diversity ./core_metrics/kuT2T_Full/bdn_washu_R2500/shannon_vector.qza \\\n",
    "--m-metadata-file ./Qiime_input_data/kuT2T_Full/metaData_WashU_BDN.txt \\\n",
    "--o-visualization ./core_metrics/kuT2T_Full/bdn_washu_R2500/shannon_vector_significance.qzv"
   ]
  },
  {
   "cell_type": "code",
   "execution_count": null,
   "metadata": {},
   "outputs": [],
   "source": [
    "!qiime diversity beta-group-significance \\\n",
    "--i-distance-matrix ./core_metrics/kuT2T_Full/bdn_washu_R2500/jaccard_distance_matrix.qza \\\n",
    "--m-metadata-file ./Qiime_input_data/kuT2T_Full/metaData_WashU_BDN.txt \\\n",
    "--m-metadata-column investigation \\\n",
    "--o-visualization ./core_metrics/kuT2T_Full/bdn_washu_R2500/jaccard_distance_matrix_significance.qzv\n",
    "\n",
    "!qiime diversity beta-group-significance \\\n",
    "--i-distance-matrix ./core_metrics/kuT2T_Full/bdn_washu_R2500/bray_curtis_distance_matrix.qza \\\n",
    "--m-metadata-file ./Qiime_input_data/kuT2T_Full/metaData_WashU_BDN.txt \\\n",
    "--m-metadata-column investigation \\\n",
    "--o-visualization ./core_metrics/kuT2T_Full/bdn_washu_R2500/bray_curtis_distance_matrix_significance.qzv"
   ]
  },
  {
   "cell_type": "markdown",
   "metadata": {},
   "source": [
    "### Broad Institute WGS only (Broad WGS)\n",
    "Note the following sample read distribution from R:\n",
    "```\n",
    "[1] \"Broad_WGS\"\n",
    "    Min.  1st Qu.   Median     Mean  3rd Qu.     Max. \n",
    "      77      707     1418    59645     5756 13145319 \n",
    "```"
   ]
  },
  {
   "cell_type": "code",
   "execution_count": null,
   "metadata": {},
   "outputs": [],
   "source": [
    "!qiime diversity core-metrics \\\n",
    "--i-table ./Qiime_input_data/kuT2T_Full/countData_Broad_WGS_BDN.qza \\\n",
    "--p-sampling-depth 700 \\\n",
    "--m-metadata-file ./Qiime_input_data/kuT2T_Full/metaData_Broad_WGS_BDN.txt \\\n",
    "--output-dir ./core_metrics/kuT2T_Full/bdn_broad_wgs_R700/"
   ]
  },
  {
   "cell_type": "code",
   "execution_count": null,
   "metadata": {},
   "outputs": [],
   "source": [
    "!qiime diversity alpha-group-significance \\\n",
    "--i-alpha-diversity ./core_metrics/kuT2T_Full/bdn_broad_wgs_R700/observed_features_vector.qza \\\n",
    "--m-metadata-file ./Qiime_input_data/kuT2T_Full/metaData_Broad_WGS_BDN.txt \\\n",
    "--o-visualization ./core_metrics/kuT2T_Full/bdn_broad_wgs_R700/observed_features_vector_significance.qzv\n",
    "\n",
    "!qiime diversity alpha-group-significance \\\n",
    "--i-alpha-diversity ./core_metrics/kuT2T_Full/bdn_broad_wgs_R700/shannon_vector.qza \\\n",
    "--m-metadata-file ./Qiime_input_data/kuT2T_Full/metaData_Broad_WGS_BDN.txt \\\n",
    "--o-visualization ./core_metrics/kuT2T_Full/bdn_broad_wgs_R700/shannon_vector_significance.qzv"
   ]
  },
  {
   "cell_type": "code",
   "execution_count": null,
   "metadata": {},
   "outputs": [],
   "source": [
    "!qiime diversity beta-group-significance \\\n",
    "--i-distance-matrix ./core_metrics/kuT2T_Full/bdn_broad_wgs_R700/jaccard_distance_matrix.qza \\\n",
    "--m-metadata-file ./Qiime_input_data/kuT2T_Full/metaData_Broad_WGS_BDN.txt \\\n",
    "--m-metadata-column investigation \\\n",
    "--o-visualization ./core_metrics/kuT2T_Full/bdn_broad_wgs_R700/jaccard_distance_matrix_significance.qzv\n",
    "\n",
    "!qiime diversity beta-group-significance \\\n",
    "--i-distance-matrix ./core_metrics/kuT2T_Full/bdn_broad_wgs_R700/bray_curtis_distance_matrix.qza \\\n",
    "--m-metadata-file ./Qiime_input_data/kuT2T_Full/metaData_Broad_WGS_BDN.txt \\\n",
    "--m-metadata-column investigation \\\n",
    "--o-visualization ./core_metrics/kuT2T_Full/bdn_broad_wgs_R700/bray_curtis_distance_matrix_significance.qzv"
   ]
  },
  {
   "cell_type": "markdown",
   "metadata": {},
   "source": [
    "# Figures for the paper\n",
    "\n",
    "- Emperor (https://biocore.github.io/emperor/) will be used to view the beta diversity PCoA plots (again using https://view.qiime2.org/) and capture screenshots for the PCoA figures"
   ]
  },
  {
   "cell_type": "code",
   "execution_count": null,
   "metadata": {},
   "outputs": [],
   "source": []
  }
 ],
 "metadata": {
  "kernelspec": {
   "display_name": "Python 3 (ipykernel)",
   "language": "python",
   "name": "python3"
  },
  "language_info": {
   "codemirror_mode": {
    "name": "ipython",
    "version": 3
   },
   "file_extension": ".py",
   "mimetype": "text/x-python",
   "name": "python",
   "nbconvert_exporter": "python",
   "pygments_lexer": "ipython3",
   "version": "3.8.13"
  }
 },
 "nbformat": 4,
 "nbformat_minor": 2
}
